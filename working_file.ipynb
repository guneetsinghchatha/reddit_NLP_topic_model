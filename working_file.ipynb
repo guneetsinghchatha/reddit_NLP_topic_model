{
 "cells": [
  {
   "cell_type": "markdown",
   "metadata": {},
   "source": [
    "# Understanding the pharmacogenics of microdosing using Topic Modelling"
   ]
  },
  {
   "cell_type": "markdown",
   "metadata": {},
   "source": [
    "# Data Collection and Cleaning "
   ]
  },
  {
   "cell_type": "markdown",
   "metadata": {},
   "source": [
    "For data collection the pushshift api was utilised to download all posts and comments from the subreddit r/microdosing . Both files were downloaded as separate json files"
   ]
  },
  {
   "cell_type": "markdown",
   "metadata": {},
   "source": [
    "The following script was created to download the posts - https://github.com/guneetsinghchatha/subreddit_downloader"
   ]
  },
  {
   "cell_type": "markdown",
   "metadata": {},
   "source": [
    "# For Reddit Posts"
   ]
  },
  {
   "cell_type": "markdown",
   "metadata": {},
   "source": [
    "**Importing the libraries**"
   ]
  },
  {
   "cell_type": "code",
   "execution_count": 1,
   "metadata": {},
   "outputs": [],
   "source": [
    "import pandas as pd\n",
    "import numpy as np"
   ]
  },
  {
   "cell_type": "markdown",
   "metadata": {},
   "source": [
    "**Leading the file**"
   ]
  },
  {
   "cell_type": "code",
   "execution_count": 93,
   "metadata": {},
   "outputs": [],
   "source": [
    "df = pd.read_json('/Users/guneetsingh/Desktop/Python/Git_Projects/Topics_Microdosing/Posts.JSON',lines = True)"
   ]
  },
  {
   "cell_type": "markdown",
   "metadata": {},
   "source": [
    "**Displaying all the columns**"
   ]
  },
  {
   "cell_type": "code",
   "execution_count": null,
   "metadata": {},
   "outputs": [
    {
     "data": {
      "text/plain": [
       "['all_awardings',\n",
       " 'allow_live_comments',\n",
       " 'author',\n",
       " 'author_flair_css_class',\n",
       " 'author_flair_richtext',\n",
       " 'author_flair_text',\n",
       " 'author_flair_type',\n",
       " 'author_fullname',\n",
       " 'author_is_blocked',\n",
       " 'author_patreon_flair',\n",
       " 'author_premium',\n",
       " 'awarders',\n",
       " 'can_mod_post',\n",
       " 'contest_mode',\n",
       " 'created_utc',\n",
       " 'domain',\n",
       " 'full_link',\n",
       " 'gildings',\n",
       " 'id',\n",
       " 'is_created_from_ads_ui',\n",
       " 'is_crosspostable',\n",
       " 'is_meta',\n",
       " 'is_original_content',\n",
       " 'is_reddit_media_domain',\n",
       " 'is_robot_indexable',\n",
       " 'is_self',\n",
       " 'is_video',\n",
       " 'link_flair_background_color',\n",
       " 'link_flair_richtext',\n",
       " 'link_flair_template_id',\n",
       " 'link_flair_text',\n",
       " 'link_flair_text_color',\n",
       " 'link_flair_type',\n",
       " 'locked',\n",
       " 'media_only',\n",
       " 'no_follow',\n",
       " 'num_comments',\n",
       " 'num_crossposts',\n",
       " 'over_18',\n",
       " 'parent_whitelist_status',\n",
       " 'permalink',\n",
       " 'pinned',\n",
       " 'pwls',\n",
       " 'retrieved_on',\n",
       " 'score',\n",
       " 'selftext',\n",
       " 'send_replies',\n",
       " 'spoiler',\n",
       " 'stickied',\n",
       " 'subreddit',\n",
       " 'subreddit_id',\n",
       " 'subreddit_subscribers',\n",
       " 'subreddit_type',\n",
       " 'suggested_sort',\n",
       " 'thumbnail',\n",
       " 'title',\n",
       " 'total_awards_received',\n",
       " 'treatment_tags',\n",
       " 'upvote_ratio',\n",
       " 'url',\n",
       " 'whitelist_status',\n",
       " 'wls',\n",
       " 'poll_data',\n",
       " 'post_hint',\n",
       " 'preview',\n",
       " 'thumbnail_height',\n",
       " 'thumbnail_width',\n",
       " 'url_overridden_by_dest',\n",
       " 'removed_by_category',\n",
       " 'media',\n",
       " 'media_embed',\n",
       " 'secure_media',\n",
       " 'secure_media_embed',\n",
       " 'crosspost_parent',\n",
       " 'crosspost_parent_list',\n",
       " 'gallery_data',\n",
       " 'is_gallery',\n",
       " 'media_metadata',\n",
       " 'author_cakeday',\n",
       " 'distinguished',\n",
       " 'author_flair_background_color',\n",
       " 'author_flair_text_color',\n",
       " 'edited',\n",
       " 'banned_by',\n",
       " 'collections',\n",
       " 'gilded',\n",
       " 'discussion_type',\n",
       " 'steward_reports',\n",
       " 'removed_by',\n",
       " 'updated_utc',\n",
       " 'og_description',\n",
       " 'og_title',\n",
       " 'rte_mode',\n",
       " 'author_id',\n",
       " 'previous_visits',\n",
       " 'brand_safe',\n",
       " 'approved_at_utc',\n",
       " 'banned_at_utc',\n",
       " 'view_count',\n",
       " 'author_created_utc']"
      ]
     },
     "metadata": {},
     "output_type": "display_data"
    }
   ],
   "source": [
    "df.columns.tolist()"
   ]
  },
  {
   "cell_type": "markdown",
   "metadata": {},
   "source": [
    "**Keeping only the selected columns**"
   ]
  },
  {
   "cell_type": "code",
   "execution_count": null,
   "metadata": {},
   "outputs": [],
   "source": [
    "list = ['id','selftext','title','link_flair_text','created_utc']"
   ]
  },
  {
   "cell_type": "code",
   "execution_count": null,
   "metadata": {},
   "outputs": [],
   "source": [
    "df2 = df[list]"
   ]
  },
  {
   "cell_type": "markdown",
   "metadata": {},
   "source": [
    "**Converting all text data to strings**"
   ]
  },
  {
   "cell_type": "code",
   "execution_count": null,
   "metadata": {},
   "outputs": [
    {
     "name": "stderr",
     "output_type": "stream",
     "text": [
      "/var/folders/2y/cb61b6kn4q917mgql1yd1w5w0000gn/T/ipykernel_1291/1091482382.py:1: SettingWithCopyWarning: \n",
      "A value is trying to be set on a copy of a slice from a DataFrame.\n",
      "Try using .loc[row_indexer,col_indexer] = value instead\n",
      "\n",
      "See the caveats in the documentation: https://pandas.pydata.org/pandas-docs/stable/user_guide/indexing.html#returning-a-view-versus-a-copy\n",
      "  df2['selftext'] = df2['selftext'].apply(str)\n",
      "/var/folders/2y/cb61b6kn4q917mgql1yd1w5w0000gn/T/ipykernel_1291/1091482382.py:2: SettingWithCopyWarning: \n",
      "A value is trying to be set on a copy of a slice from a DataFrame.\n",
      "Try using .loc[row_indexer,col_indexer] = value instead\n",
      "\n",
      "See the caveats in the documentation: https://pandas.pydata.org/pandas-docs/stable/user_guide/indexing.html#returning-a-view-versus-a-copy\n",
      "  df2['title'] = df2['title'].apply(str)\n",
      "/var/folders/2y/cb61b6kn4q917mgql1yd1w5w0000gn/T/ipykernel_1291/1091482382.py:3: SettingWithCopyWarning: \n",
      "A value is trying to be set on a copy of a slice from a DataFrame.\n",
      "Try using .loc[row_indexer,col_indexer] = value instead\n",
      "\n",
      "See the caveats in the documentation: https://pandas.pydata.org/pandas-docs/stable/user_guide/indexing.html#returning-a-view-versus-a-copy\n",
      "  df2['link_flair_text'] = df2['link_flair_text'].apply(str)\n"
     ]
    }
   ],
   "source": [
    "df2['selftext'] = df2['selftext'].apply(str)\n",
    "df2['title'] = df2['title'].apply(str)\n",
    "df2['link_flair_text'] = df2['link_flair_text'].apply(str)"
   ]
  },
  {
   "cell_type": "markdown",
   "metadata": {},
   "source": [
    "**Merging the post title and post content into one column and removing other columns**"
   ]
  },
  {
   "cell_type": "code",
   "execution_count": null,
   "metadata": {},
   "outputs": [
    {
     "name": "stderr",
     "output_type": "stream",
     "text": [
      "/var/folders/2y/cb61b6kn4q917mgql1yd1w5w0000gn/T/ipykernel_1291/1815562346.py:1: SettingWithCopyWarning: \n",
      "A value is trying to be set on a copy of a slice from a DataFrame.\n",
      "Try using .loc[row_indexer,col_indexer] = value instead\n",
      "\n",
      "See the caveats in the documentation: https://pandas.pydata.org/pandas-docs/stable/user_guide/indexing.html#returning-a-view-versus-a-copy\n",
      "  df2['paper_text'] = df2['title'] + \" \" + df2['selftext']\n"
     ]
    }
   ],
   "source": [
    "df2['paper_text'] = df2['title'] + \" \" + df2['selftext']"
   ]
  },
  {
   "cell_type": "code",
   "execution_count": null,
   "metadata": {},
   "outputs": [],
   "source": [
    "final_headers = ['id','paper_text','link_flair_text','created_utc']"
   ]
  },
  {
   "cell_type": "code",
   "execution_count": null,
   "metadata": {},
   "outputs": [],
   "source": [
    "df3 = df2[final_headers]"
   ]
  },
  {
   "cell_type": "markdown",
   "metadata": {},
   "source": [
    "**Converting UTC time format for our analysis**"
   ]
  },
  {
   "cell_type": "code",
   "execution_count": null,
   "metadata": {},
   "outputs": [
    {
     "name": "stderr",
     "output_type": "stream",
     "text": [
      "/var/folders/2y/cb61b6kn4q917mgql1yd1w5w0000gn/T/ipykernel_1291/1701387166.py:1: SettingWithCopyWarning: \n",
      "A value is trying to be set on a copy of a slice from a DataFrame.\n",
      "Try using .loc[row_indexer,col_indexer] = value instead\n",
      "\n",
      "See the caveats in the documentation: https://pandas.pydata.org/pandas-docs/stable/user_guide/indexing.html#returning-a-view-versus-a-copy\n",
      "  df3['created_utc'] = pd.to_datetime(df3['created_utc'],  unit='s')\n",
      "/var/folders/2y/cb61b6kn4q917mgql1yd1w5w0000gn/T/ipykernel_1291/1701387166.py:2: SettingWithCopyWarning: \n",
      "A value is trying to be set on a copy of a slice from a DataFrame.\n",
      "Try using .loc[row_indexer,col_indexer] = value instead\n",
      "\n",
      "See the caveats in the documentation: https://pandas.pydata.org/pandas-docs/stable/user_guide/indexing.html#returning-a-view-versus-a-copy\n",
      "  df3['created_utc_str'] = df3['created_utc'].dt.strftime('%Y-%m-%d')\n"
     ]
    }
   ],
   "source": [
    "df3['created_utc'] = pd.to_datetime(df3['created_utc'],  unit='s')\n",
    "df3['created_utc_str'] = df3['created_utc'].dt.strftime('%Y-%m-%d')"
   ]
  },
  {
   "cell_type": "markdown",
   "metadata": {},
   "source": [
    "**Adding prefix t3 as we will require this as an index for our join with comments**"
   ]
  },
  {
   "cell_type": "code",
   "execution_count": null,
   "metadata": {},
   "outputs": [],
   "source": [
    "df3['link_id'] = \"t3_\" + df3['id']"
   ]
  },
  {
   "cell_type": "markdown",
   "metadata": {},
   "source": [
    "**Final Dataframe**"
   ]
  },
  {
   "cell_type": "code",
   "execution_count": null,
   "metadata": {},
   "outputs": [
    {
     "data": {
      "text/html": [
       "<div>\n",
       "<style scoped>\n",
       "    .dataframe tbody tr th:only-of-type {\n",
       "        vertical-align: middle;\n",
       "    }\n",
       "\n",
       "    .dataframe tbody tr th {\n",
       "        vertical-align: top;\n",
       "    }\n",
       "\n",
       "    .dataframe thead th {\n",
       "        text-align: right;\n",
       "    }\n",
       "</style>\n",
       "<table border=\"1\" class=\"dataframe\">\n",
       "  <thead>\n",
       "    <tr style=\"text-align: right;\">\n",
       "      <th></th>\n",
       "      <th>id</th>\n",
       "      <th>paper_text</th>\n",
       "      <th>link_flair_text</th>\n",
       "      <th>created_utc</th>\n",
       "      <th>created_utc_str</th>\n",
       "      <th>link_id</th>\n",
       "    </tr>\n",
       "  </thead>\n",
       "  <tbody>\n",
       "    <tr>\n",
       "      <th>0</th>\n",
       "      <td>qic2l7</td>\n",
       "      <td>Dosage liverty caps Probbly a common question....</td>\n",
       "      <td>Question: Psilocybin</td>\n",
       "      <td>2021-10-29 12:49:15</td>\n",
       "      <td>2021-10-29</td>\n",
       "      <td>t3_qic2l7</td>\n",
       "    </tr>\n",
       "    <tr>\n",
       "      <th>1</th>\n",
       "      <td>qibj5e</td>\n",
       "      <td>Psilocybin mushroom How do you find out if mic...</td>\n",
       "      <td>Getting Started/Newbie Question</td>\n",
       "      <td>2021-10-29 12:19:02</td>\n",
       "      <td>2021-10-29</td>\n",
       "      <td>t3_qibj5e</td>\n",
       "    </tr>\n",
       "    <tr>\n",
       "      <th>2</th>\n",
       "      <td>qibifv</td>\n",
       "      <td>Can Truffles change their effects after they g...</td>\n",
       "      <td>Question: Psilocybin</td>\n",
       "      <td>2021-10-29 12:17:47</td>\n",
       "      <td>2021-10-29</td>\n",
       "      <td>t3_qibifv</td>\n",
       "    </tr>\n",
       "    <tr>\n",
       "      <th>3</th>\n",
       "      <td>qiahat</td>\n",
       "      <td>Microdosing to stop overconsuming cannabis I a...</td>\n",
       "      <td>Question: LSD</td>\n",
       "      <td>2021-10-29 11:15:55</td>\n",
       "      <td>2021-10-29</td>\n",
       "      <td>t3_qiahat</td>\n",
       "    </tr>\n",
       "    <tr>\n",
       "      <th>4</th>\n",
       "      <td>qi8zia</td>\n",
       "      <td>How to start microdosing ? Hi, everyone,\\n\\nI'...</td>\n",
       "      <td>Getting Started/Newbie Question</td>\n",
       "      <td>2021-10-29 09:33:24</td>\n",
       "      <td>2021-10-29</td>\n",
       "      <td>t3_qi8zia</td>\n",
       "    </tr>\n",
       "    <tr>\n",
       "      <th>...</th>\n",
       "      <td>...</td>\n",
       "      <td>...</td>\n",
       "      <td>...</td>\n",
       "      <td>...</td>\n",
       "      <td>...</td>\n",
       "      <td>...</td>\n",
       "    </tr>\n",
       "    <tr>\n",
       "      <th>30955</th>\n",
       "      <td>1xojbz</td>\n",
       "      <td>Perks of microdosing LSD? Whats to gain from i...</td>\n",
       "      <td>nan</td>\n",
       "      <td>2014-02-12 04:30:05</td>\n",
       "      <td>2014-02-12</td>\n",
       "      <td>t3_1xojbz</td>\n",
       "    </tr>\n",
       "    <tr>\n",
       "      <th>30956</th>\n",
       "      <td>1wwiaq</td>\n",
       "      <td>question about microdosing and booze... hey fr...</td>\n",
       "      <td>nan</td>\n",
       "      <td>2014-02-03 16:41:34</td>\n",
       "      <td>2014-02-03</td>\n",
       "      <td>t3_1wwiaq</td>\n",
       "    </tr>\n",
       "    <tr>\n",
       "      <th>30957</th>\n",
       "      <td>1wj566</td>\n",
       "      <td>Is it possible to \"microdose\" marijuana ? If t...</td>\n",
       "      <td>nan</td>\n",
       "      <td>2014-01-30 04:39:49</td>\n",
       "      <td>2014-01-30</td>\n",
       "      <td>t3_1wj566</td>\n",
       "    </tr>\n",
       "    <tr>\n",
       "      <th>30958</th>\n",
       "      <td>1wdj63</td>\n",
       "      <td>Advice on microdosing mushrooms? Throughout my...</td>\n",
       "      <td>nan</td>\n",
       "      <td>2014-01-28 15:36:34</td>\n",
       "      <td>2014-01-28</td>\n",
       "      <td>t3_1wdj63</td>\n",
       "    </tr>\n",
       "    <tr>\n",
       "      <th>30959</th>\n",
       "      <td>1um2qz</td>\n",
       "      <td>Welcome to the #microdosing IRC channel on the...</td>\n",
       "      <td>nan</td>\n",
       "      <td>2014-01-07 08:51:29</td>\n",
       "      <td>2014-01-07</td>\n",
       "      <td>t3_1um2qz</td>\n",
       "    </tr>\n",
       "  </tbody>\n",
       "</table>\n",
       "<p>30960 rows × 6 columns</p>\n",
       "</div>"
      ],
      "text/plain": [
       "           id                                         paper_text  \\\n",
       "0      qic2l7  Dosage liverty caps Probbly a common question....   \n",
       "1      qibj5e  Psilocybin mushroom How do you find out if mic...   \n",
       "2      qibifv  Can Truffles change their effects after they g...   \n",
       "3      qiahat  Microdosing to stop overconsuming cannabis I a...   \n",
       "4      qi8zia  How to start microdosing ? Hi, everyone,\\n\\nI'...   \n",
       "...       ...                                                ...   \n",
       "30955  1xojbz  Perks of microdosing LSD? Whats to gain from i...   \n",
       "30956  1wwiaq  question about microdosing and booze... hey fr...   \n",
       "30957  1wj566  Is it possible to \"microdose\" marijuana ? If t...   \n",
       "30958  1wdj63  Advice on microdosing mushrooms? Throughout my...   \n",
       "30959  1um2qz  Welcome to the #microdosing IRC channel on the...   \n",
       "\n",
       "                       link_flair_text         created_utc created_utc_str  \\\n",
       "0                 Question: Psilocybin 2021-10-29 12:49:15      2021-10-29   \n",
       "1      Getting Started/Newbie Question 2021-10-29 12:19:02      2021-10-29   \n",
       "2                 Question: Psilocybin 2021-10-29 12:17:47      2021-10-29   \n",
       "3                        Question: LSD 2021-10-29 11:15:55      2021-10-29   \n",
       "4      Getting Started/Newbie Question 2021-10-29 09:33:24      2021-10-29   \n",
       "...                                ...                 ...             ...   \n",
       "30955                              nan 2014-02-12 04:30:05      2014-02-12   \n",
       "30956                              nan 2014-02-03 16:41:34      2014-02-03   \n",
       "30957                              nan 2014-01-30 04:39:49      2014-01-30   \n",
       "30958                              nan 2014-01-28 15:36:34      2014-01-28   \n",
       "30959                              nan 2014-01-07 08:51:29      2014-01-07   \n",
       "\n",
       "         link_id  \n",
       "0      t3_qic2l7  \n",
       "1      t3_qibj5e  \n",
       "2      t3_qibifv  \n",
       "3      t3_qiahat  \n",
       "4      t3_qi8zia  \n",
       "...          ...  \n",
       "30955  t3_1xojbz  \n",
       "30956  t3_1wwiaq  \n",
       "30957  t3_1wj566  \n",
       "30958  t3_1wdj63  \n",
       "30959  t3_1um2qz  \n",
       "\n",
       "[30960 rows x 6 columns]"
      ]
     },
     "metadata": {},
     "output_type": "display_data"
    }
   ],
   "source": [
    "df3"
   ]
  },
  {
   "cell_type": "markdown",
   "metadata": {},
   "source": [
    "# For Comments"
   ]
  },
  {
   "cell_type": "code",
   "execution_count": null,
   "metadata": {},
   "outputs": [],
   "source": [
    "df_comments  = pd.read_json('/Users/guneetsingh/Desktop/Python/Git_Projects/Topics_Microdosing/mComments.JSON',lines=True)"
   ]
  },
  {
   "cell_type": "code",
   "execution_count": null,
   "metadata": {},
   "outputs": [
    {
     "data": {
      "text/html": [
       "<div>\n",
       "<style scoped>\n",
       "    .dataframe tbody tr th:only-of-type {\n",
       "        vertical-align: middle;\n",
       "    }\n",
       "\n",
       "    .dataframe tbody tr th {\n",
       "        vertical-align: top;\n",
       "    }\n",
       "\n",
       "    .dataframe thead th {\n",
       "        text-align: right;\n",
       "    }\n",
       "</style>\n",
       "<table border=\"1\" class=\"dataframe\">\n",
       "  <thead>\n",
       "    <tr style=\"text-align: right;\">\n",
       "      <th></th>\n",
       "      <th>all_awardings</th>\n",
       "      <th>archived</th>\n",
       "      <th>associated_award</th>\n",
       "      <th>author</th>\n",
       "      <th>author_flair_background_color</th>\n",
       "      <th>author_flair_css_class</th>\n",
       "      <th>author_flair_richtext</th>\n",
       "      <th>author_flair_template_id</th>\n",
       "      <th>author_flair_text</th>\n",
       "      <th>author_flair_text_color</th>\n",
       "      <th>...</th>\n",
       "      <th>editable</th>\n",
       "      <th>steward_reports</th>\n",
       "      <th>updated_utc</th>\n",
       "      <th>author_created_utc</th>\n",
       "      <th>nest_level</th>\n",
       "      <th>reply_delay</th>\n",
       "      <th>user_removed</th>\n",
       "      <th>mod_removed</th>\n",
       "      <th>rte_mode</th>\n",
       "      <th>permalink_url</th>\n",
       "    </tr>\n",
       "  </thead>\n",
       "  <tbody>\n",
       "    <tr>\n",
       "      <th>0</th>\n",
       "      <td>[]</td>\n",
       "      <td>0.0</td>\n",
       "      <td>NaN</td>\n",
       "      <td>Ramstang95</td>\n",
       "      <td>None</td>\n",
       "      <td>NaN</td>\n",
       "      <td>[]</td>\n",
       "      <td>None</td>\n",
       "      <td>None</td>\n",
       "      <td>None</td>\n",
       "      <td>...</td>\n",
       "      <td>NaN</td>\n",
       "      <td>NaN</td>\n",
       "      <td>NaN</td>\n",
       "      <td>NaN</td>\n",
       "      <td>NaN</td>\n",
       "      <td>NaN</td>\n",
       "      <td>NaN</td>\n",
       "      <td>NaN</td>\n",
       "      <td>NaN</td>\n",
       "      <td>NaN</td>\n",
       "    </tr>\n",
       "    <tr>\n",
       "      <th>1</th>\n",
       "      <td>[]</td>\n",
       "      <td>0.0</td>\n",
       "      <td>NaN</td>\n",
       "      <td>Bodacious_Chad</td>\n",
       "      <td>None</td>\n",
       "      <td>NaN</td>\n",
       "      <td>[]</td>\n",
       "      <td>None</td>\n",
       "      <td>None</td>\n",
       "      <td>None</td>\n",
       "      <td>...</td>\n",
       "      <td>NaN</td>\n",
       "      <td>NaN</td>\n",
       "      <td>NaN</td>\n",
       "      <td>NaN</td>\n",
       "      <td>NaN</td>\n",
       "      <td>NaN</td>\n",
       "      <td>NaN</td>\n",
       "      <td>NaN</td>\n",
       "      <td>NaN</td>\n",
       "      <td>NaN</td>\n",
       "    </tr>\n",
       "    <tr>\n",
       "      <th>2</th>\n",
       "      <td>[]</td>\n",
       "      <td>0.0</td>\n",
       "      <td>NaN</td>\n",
       "      <td>NeuronsToNirvana</td>\n",
       "      <td>None</td>\n",
       "      <td>NaN</td>\n",
       "      <td>[]</td>\n",
       "      <td>None</td>\n",
       "      <td>None</td>\n",
       "      <td>None</td>\n",
       "      <td>...</td>\n",
       "      <td>NaN</td>\n",
       "      <td>NaN</td>\n",
       "      <td>NaN</td>\n",
       "      <td>NaN</td>\n",
       "      <td>NaN</td>\n",
       "      <td>NaN</td>\n",
       "      <td>NaN</td>\n",
       "      <td>NaN</td>\n",
       "      <td>NaN</td>\n",
       "      <td>NaN</td>\n",
       "    </tr>\n",
       "    <tr>\n",
       "      <th>3</th>\n",
       "      <td>[]</td>\n",
       "      <td>0.0</td>\n",
       "      <td>NaN</td>\n",
       "      <td>nonicknamenelly</td>\n",
       "      <td>None</td>\n",
       "      <td>NaN</td>\n",
       "      <td>[]</td>\n",
       "      <td>None</td>\n",
       "      <td>None</td>\n",
       "      <td>None</td>\n",
       "      <td>...</td>\n",
       "      <td>NaN</td>\n",
       "      <td>NaN</td>\n",
       "      <td>NaN</td>\n",
       "      <td>NaN</td>\n",
       "      <td>NaN</td>\n",
       "      <td>NaN</td>\n",
       "      <td>NaN</td>\n",
       "      <td>NaN</td>\n",
       "      <td>NaN</td>\n",
       "      <td>NaN</td>\n",
       "    </tr>\n",
       "    <tr>\n",
       "      <th>4</th>\n",
       "      <td>[]</td>\n",
       "      <td>0.0</td>\n",
       "      <td>NaN</td>\n",
       "      <td>Cacti_92</td>\n",
       "      <td>None</td>\n",
       "      <td>NaN</td>\n",
       "      <td>[]</td>\n",
       "      <td>None</td>\n",
       "      <td>None</td>\n",
       "      <td>None</td>\n",
       "      <td>...</td>\n",
       "      <td>NaN</td>\n",
       "      <td>NaN</td>\n",
       "      <td>NaN</td>\n",
       "      <td>NaN</td>\n",
       "      <td>NaN</td>\n",
       "      <td>NaN</td>\n",
       "      <td>NaN</td>\n",
       "      <td>NaN</td>\n",
       "      <td>NaN</td>\n",
       "      <td>NaN</td>\n",
       "    </tr>\n",
       "    <tr>\n",
       "      <th>...</th>\n",
       "      <td>...</td>\n",
       "      <td>...</td>\n",
       "      <td>...</td>\n",
       "      <td>...</td>\n",
       "      <td>...</td>\n",
       "      <td>...</td>\n",
       "      <td>...</td>\n",
       "      <td>...</td>\n",
       "      <td>...</td>\n",
       "      <td>...</td>\n",
       "      <td>...</td>\n",
       "      <td>...</td>\n",
       "      <td>...</td>\n",
       "      <td>...</td>\n",
       "      <td>...</td>\n",
       "      <td>...</td>\n",
       "      <td>...</td>\n",
       "      <td>...</td>\n",
       "      <td>...</td>\n",
       "      <td>...</td>\n",
       "      <td>...</td>\n",
       "    </tr>\n",
       "    <tr>\n",
       "      <th>340830</th>\n",
       "      <td>NaN</td>\n",
       "      <td>NaN</td>\n",
       "      <td>NaN</td>\n",
       "      <td>ruseweek</td>\n",
       "      <td>NaN</td>\n",
       "      <td>NaN</td>\n",
       "      <td>NaN</td>\n",
       "      <td>NaN</td>\n",
       "      <td>NaN</td>\n",
       "      <td>NaN</td>\n",
       "      <td>...</td>\n",
       "      <td>NaN</td>\n",
       "      <td>NaN</td>\n",
       "      <td>NaN</td>\n",
       "      <td>1.308161e+09</td>\n",
       "      <td>4.0</td>\n",
       "      <td>2629.0</td>\n",
       "      <td>NaN</td>\n",
       "      <td>NaN</td>\n",
       "      <td>NaN</td>\n",
       "      <td>NaN</td>\n",
       "    </tr>\n",
       "    <tr>\n",
       "      <th>340831</th>\n",
       "      <td>NaN</td>\n",
       "      <td>NaN</td>\n",
       "      <td>NaN</td>\n",
       "      <td>jedisjumphigh</td>\n",
       "      <td>NaN</td>\n",
       "      <td>NaN</td>\n",
       "      <td>NaN</td>\n",
       "      <td>NaN</td>\n",
       "      <td>NaN</td>\n",
       "      <td>NaN</td>\n",
       "      <td>...</td>\n",
       "      <td>NaN</td>\n",
       "      <td>NaN</td>\n",
       "      <td>NaN</td>\n",
       "      <td>1.305510e+09</td>\n",
       "      <td>3.0</td>\n",
       "      <td>1824.0</td>\n",
       "      <td>NaN</td>\n",
       "      <td>NaN</td>\n",
       "      <td>NaN</td>\n",
       "      <td>NaN</td>\n",
       "    </tr>\n",
       "    <tr>\n",
       "      <th>340832</th>\n",
       "      <td>NaN</td>\n",
       "      <td>NaN</td>\n",
       "      <td>NaN</td>\n",
       "      <td>ruseweek</td>\n",
       "      <td>NaN</td>\n",
       "      <td>NaN</td>\n",
       "      <td>NaN</td>\n",
       "      <td>NaN</td>\n",
       "      <td>NaN</td>\n",
       "      <td>NaN</td>\n",
       "      <td>...</td>\n",
       "      <td>NaN</td>\n",
       "      <td>NaN</td>\n",
       "      <td>NaN</td>\n",
       "      <td>1.308161e+09</td>\n",
       "      <td>2.0</td>\n",
       "      <td>444.0</td>\n",
       "      <td>NaN</td>\n",
       "      <td>NaN</td>\n",
       "      <td>NaN</td>\n",
       "      <td>NaN</td>\n",
       "    </tr>\n",
       "    <tr>\n",
       "      <th>340833</th>\n",
       "      <td>NaN</td>\n",
       "      <td>NaN</td>\n",
       "      <td>NaN</td>\n",
       "      <td>[deleted]</td>\n",
       "      <td>NaN</td>\n",
       "      <td>NaN</td>\n",
       "      <td>NaN</td>\n",
       "      <td>NaN</td>\n",
       "      <td>NaN</td>\n",
       "      <td>NaN</td>\n",
       "      <td>...</td>\n",
       "      <td>NaN</td>\n",
       "      <td>NaN</td>\n",
       "      <td>NaN</td>\n",
       "      <td>NaN</td>\n",
       "      <td>1.0</td>\n",
       "      <td>1736.0</td>\n",
       "      <td>1.0</td>\n",
       "      <td>NaN</td>\n",
       "      <td>NaN</td>\n",
       "      <td>NaN</td>\n",
       "    </tr>\n",
       "    <tr>\n",
       "      <th>340834</th>\n",
       "      <td>NaN</td>\n",
       "      <td>NaN</td>\n",
       "      <td>NaN</td>\n",
       "      <td>jedisjumphigh</td>\n",
       "      <td>NaN</td>\n",
       "      <td>NaN</td>\n",
       "      <td>NaN</td>\n",
       "      <td>NaN</td>\n",
       "      <td>NaN</td>\n",
       "      <td>NaN</td>\n",
       "      <td>...</td>\n",
       "      <td>NaN</td>\n",
       "      <td>NaN</td>\n",
       "      <td>NaN</td>\n",
       "      <td>1.305510e+09</td>\n",
       "      <td>1.0</td>\n",
       "      <td>1361.0</td>\n",
       "      <td>NaN</td>\n",
       "      <td>NaN</td>\n",
       "      <td>NaN</td>\n",
       "      <td>NaN</td>\n",
       "    </tr>\n",
       "  </tbody>\n",
       "</table>\n",
       "<p>340835 rows × 61 columns</p>\n",
       "</div>"
      ],
      "text/plain": [
       "       all_awardings  archived  associated_award            author  \\\n",
       "0                 []       0.0               NaN        Ramstang95   \n",
       "1                 []       0.0               NaN    Bodacious_Chad   \n",
       "2                 []       0.0               NaN  NeuronsToNirvana   \n",
       "3                 []       0.0               NaN   nonicknamenelly   \n",
       "4                 []       0.0               NaN          Cacti_92   \n",
       "...              ...       ...               ...               ...   \n",
       "340830           NaN       NaN               NaN          ruseweek   \n",
       "340831           NaN       NaN               NaN     jedisjumphigh   \n",
       "340832           NaN       NaN               NaN          ruseweek   \n",
       "340833           NaN       NaN               NaN         [deleted]   \n",
       "340834           NaN       NaN               NaN     jedisjumphigh   \n",
       "\n",
       "       author_flair_background_color  author_flair_css_class  \\\n",
       "0                               None                     NaN   \n",
       "1                               None                     NaN   \n",
       "2                               None                     NaN   \n",
       "3                               None                     NaN   \n",
       "4                               None                     NaN   \n",
       "...                              ...                     ...   \n",
       "340830                           NaN                     NaN   \n",
       "340831                           NaN                     NaN   \n",
       "340832                           NaN                     NaN   \n",
       "340833                           NaN                     NaN   \n",
       "340834                           NaN                     NaN   \n",
       "\n",
       "       author_flair_richtext author_flair_template_id author_flair_text  \\\n",
       "0                         []                     None              None   \n",
       "1                         []                     None              None   \n",
       "2                         []                     None              None   \n",
       "3                         []                     None              None   \n",
       "4                         []                     None              None   \n",
       "...                      ...                      ...               ...   \n",
       "340830                   NaN                      NaN               NaN   \n",
       "340831                   NaN                      NaN               NaN   \n",
       "340832                   NaN                      NaN               NaN   \n",
       "340833                   NaN                      NaN               NaN   \n",
       "340834                   NaN                      NaN               NaN   \n",
       "\n",
       "       author_flair_text_color  ... editable steward_reports  updated_utc  \\\n",
       "0                         None  ...      NaN             NaN          NaN   \n",
       "1                         None  ...      NaN             NaN          NaN   \n",
       "2                         None  ...      NaN             NaN          NaN   \n",
       "3                         None  ...      NaN             NaN          NaN   \n",
       "4                         None  ...      NaN             NaN          NaN   \n",
       "...                        ...  ...      ...             ...          ...   \n",
       "340830                     NaN  ...      NaN             NaN          NaN   \n",
       "340831                     NaN  ...      NaN             NaN          NaN   \n",
       "340832                     NaN  ...      NaN             NaN          NaN   \n",
       "340833                     NaN  ...      NaN             NaN          NaN   \n",
       "340834                     NaN  ...      NaN             NaN          NaN   \n",
       "\n",
       "        author_created_utc nest_level reply_delay  user_removed  mod_removed  \\\n",
       "0                      NaN        NaN         NaN           NaN          NaN   \n",
       "1                      NaN        NaN         NaN           NaN          NaN   \n",
       "2                      NaN        NaN         NaN           NaN          NaN   \n",
       "3                      NaN        NaN         NaN           NaN          NaN   \n",
       "4                      NaN        NaN         NaN           NaN          NaN   \n",
       "...                    ...        ...         ...           ...          ...   \n",
       "340830        1.308161e+09        4.0      2629.0           NaN          NaN   \n",
       "340831        1.305510e+09        3.0      1824.0           NaN          NaN   \n",
       "340832        1.308161e+09        2.0       444.0           NaN          NaN   \n",
       "340833                 NaN        1.0      1736.0           1.0          NaN   \n",
       "340834        1.305510e+09        1.0      1361.0           NaN          NaN   \n",
       "\n",
       "        rte_mode permalink_url  \n",
       "0            NaN           NaN  \n",
       "1            NaN           NaN  \n",
       "2            NaN           NaN  \n",
       "3            NaN           NaN  \n",
       "4            NaN           NaN  \n",
       "...          ...           ...  \n",
       "340830       NaN           NaN  \n",
       "340831       NaN           NaN  \n",
       "340832       NaN           NaN  \n",
       "340833       NaN           NaN  \n",
       "340834       NaN           NaN  \n",
       "\n",
       "[340835 rows x 61 columns]"
      ]
     },
     "metadata": {},
     "output_type": "display_data"
    }
   ],
   "source": [
    "df_comments "
   ]
  },
  {
   "cell_type": "code",
   "execution_count": null,
   "metadata": {},
   "outputs": [
    {
     "data": {
      "text/plain": [
       "['all_awardings',\n",
       " 'archived',\n",
       " 'associated_award',\n",
       " 'author',\n",
       " 'author_flair_background_color',\n",
       " 'author_flair_css_class',\n",
       " 'author_flair_richtext',\n",
       " 'author_flair_template_id',\n",
       " 'author_flair_text',\n",
       " 'author_flair_text_color',\n",
       " 'author_flair_type',\n",
       " 'author_fullname',\n",
       " 'author_patreon_flair',\n",
       " 'author_premium',\n",
       " 'body',\n",
       " 'body_sha1',\n",
       " 'can_gild',\n",
       " 'collapsed',\n",
       " 'collapsed_because_crowd_control',\n",
       " 'collapsed_reason',\n",
       " 'collapsed_reason_code',\n",
       " 'comment_type',\n",
       " 'controversiality',\n",
       " 'created_utc',\n",
       " 'distinguished',\n",
       " 'gilded',\n",
       " 'gildings',\n",
       " 'id',\n",
       " 'is_submitter',\n",
       " 'link_id',\n",
       " 'locked',\n",
       " 'no_follow',\n",
       " 'parent_id',\n",
       " 'permalink',\n",
       " 'retrieved_utc',\n",
       " 'score',\n",
       " 'score_hidden',\n",
       " 'send_replies',\n",
       " 'stickied',\n",
       " 'subreddit',\n",
       " 'subreddit_id',\n",
       " 'subreddit_name_prefixed',\n",
       " 'subreddit_type',\n",
       " 'top_awarded_type',\n",
       " 'total_awards_received',\n",
       " 'treatment_tags',\n",
       " 'unrepliable_reason',\n",
       " 'awarders',\n",
       " 'retrieved_on',\n",
       " 'author_cakeday',\n",
       " 'edited',\n",
       " 'editable',\n",
       " 'steward_reports',\n",
       " 'updated_utc',\n",
       " 'author_created_utc',\n",
       " 'nest_level',\n",
       " 'reply_delay',\n",
       " 'user_removed',\n",
       " 'mod_removed',\n",
       " 'rte_mode',\n",
       " 'permalink_url']"
      ]
     },
     "metadata": {},
     "output_type": "display_data"
    }
   ],
   "source": [
    "df_comments.columns.to_list()"
   ]
  },
  {
   "cell_type": "markdown",
   "metadata": {},
   "source": [
    "**Creating an index for the columns we need for our analysis and removing all un-necessary columns**"
   ]
  },
  {
   "cell_type": "code",
   "execution_count": null,
   "metadata": {},
   "outputs": [],
   "source": [
    "index_comments = ['parent_id','id','link_id','body','author']"
   ]
  },
  {
   "cell_type": "code",
   "execution_count": null,
   "metadata": {},
   "outputs": [],
   "source": [
    "dfc = df_comments[index_comments]"
   ]
  },
  {
   "cell_type": "code",
   "execution_count": null,
   "metadata": {},
   "outputs": [
    {
     "data": {
      "text/html": [
       "<div>\n",
       "<style scoped>\n",
       "    .dataframe tbody tr th:only-of-type {\n",
       "        vertical-align: middle;\n",
       "    }\n",
       "\n",
       "    .dataframe tbody tr th {\n",
       "        vertical-align: top;\n",
       "    }\n",
       "\n",
       "    .dataframe thead th {\n",
       "        text-align: right;\n",
       "    }\n",
       "</style>\n",
       "<table border=\"1\" class=\"dataframe\">\n",
       "  <thead>\n",
       "    <tr style=\"text-align: right;\">\n",
       "      <th></th>\n",
       "      <th>parent_id</th>\n",
       "      <th>id</th>\n",
       "      <th>link_id</th>\n",
       "      <th>body</th>\n",
       "      <th>author</th>\n",
       "    </tr>\n",
       "  </thead>\n",
       "  <tbody>\n",
       "    <tr>\n",
       "      <th>0</th>\n",
       "      <td>t1_hihyv9r</td>\n",
       "      <td>hiii1xy</td>\n",
       "      <td>t3_qhqhj1</td>\n",
       "      <td>This is all good but do you cycle m.d.'ing  fo...</td>\n",
       "      <td>Ramstang95</td>\n",
       "    </tr>\n",
       "    <tr>\n",
       "      <th>1</th>\n",
       "      <td>t1_hii3r64</td>\n",
       "      <td>hiigkf1</td>\n",
       "      <td>t3_qi5td0</td>\n",
       "      <td>That 1oz has to be fresh. Dried mushrooms lose...</td>\n",
       "      <td>Bodacious_Chad</td>\n",
       "    </tr>\n",
       "    <tr>\n",
       "      <th>2</th>\n",
       "      <td>t1_hihejey</td>\n",
       "      <td>hiievkr</td>\n",
       "      <td>t3_qhlcdz</td>\n",
       "      <td>Psychedelics did show great promise for mental...</td>\n",
       "      <td>NeuronsToNirvana</td>\n",
       "    </tr>\n",
       "    <tr>\n",
       "      <th>3</th>\n",
       "      <td>t3_qhqhj1</td>\n",
       "      <td>hiid0mq</td>\n",
       "      <td>t3_qhqhj1</td>\n",
       "      <td>I wouldn’t necessarily say it is the placebo e...</td>\n",
       "      <td>nonicknamenelly</td>\n",
       "    </tr>\n",
       "    <tr>\n",
       "      <th>4</th>\n",
       "      <td>t1_hiiaijm</td>\n",
       "      <td>hiibo5e</td>\n",
       "      <td>t3_qibj5e</td>\n",
       "      <td>I’m not trying to prove them wrong, the answer...</td>\n",
       "      <td>Cacti_92</td>\n",
       "    </tr>\n",
       "    <tr>\n",
       "      <th>...</th>\n",
       "      <td>...</td>\n",
       "      <td>...</td>\n",
       "      <td>...</td>\n",
       "      <td>...</td>\n",
       "      <td>...</td>\n",
       "    </tr>\n",
       "    <tr>\n",
       "      <th>340830</th>\n",
       "      <td>t1_cct17iw</td>\n",
       "      <td>cct2ac9</td>\n",
       "      <td>t3_1ol4sl</td>\n",
       "      <td>.1 to .4 grams. At the low end, you're below t...</td>\n",
       "      <td>ruseweek</td>\n",
       "    </tr>\n",
       "    <tr>\n",
       "      <th>340831</th>\n",
       "      <td>t1_cct0g5g</td>\n",
       "      <td>cct17iw</td>\n",
       "      <td>t3_1ol4sl</td>\n",
       "      <td>That's fine I'm still wondering how much 100-4...</td>\n",
       "      <td>jedisjumphigh</td>\n",
       "    </tr>\n",
       "    <tr>\n",
       "      <th>340832</th>\n",
       "      <td>t1_cct09pk</td>\n",
       "      <td>cct0g5g</td>\n",
       "      <td>t3_1ol4sl</td>\n",
       "      <td>I was referring to the psilocin/psilocybin alk...</td>\n",
       "      <td>ruseweek</td>\n",
       "    </tr>\n",
       "    <tr>\n",
       "      <th>340833</th>\n",
       "      <td>t3_1ol4sl</td>\n",
       "      <td>cct0f52</td>\n",
       "      <td>t3_1ol4sl</td>\n",
       "      <td>[deleted]</td>\n",
       "      <td>[deleted]</td>\n",
       "    </tr>\n",
       "    <tr>\n",
       "      <th>340834</th>\n",
       "      <td>t3_1ol4sl</td>\n",
       "      <td>cct09pk</td>\n",
       "      <td>t3_1ol4sl</td>\n",
       "      <td>How can one determine the mg of psilocybin in ...</td>\n",
       "      <td>jedisjumphigh</td>\n",
       "    </tr>\n",
       "  </tbody>\n",
       "</table>\n",
       "<p>340835 rows × 5 columns</p>\n",
       "</div>"
      ],
      "text/plain": [
       "         parent_id       id    link_id  \\\n",
       "0       t1_hihyv9r  hiii1xy  t3_qhqhj1   \n",
       "1       t1_hii3r64  hiigkf1  t3_qi5td0   \n",
       "2       t1_hihejey  hiievkr  t3_qhlcdz   \n",
       "3        t3_qhqhj1  hiid0mq  t3_qhqhj1   \n",
       "4       t1_hiiaijm  hiibo5e  t3_qibj5e   \n",
       "...            ...      ...        ...   \n",
       "340830  t1_cct17iw  cct2ac9  t3_1ol4sl   \n",
       "340831  t1_cct0g5g  cct17iw  t3_1ol4sl   \n",
       "340832  t1_cct09pk  cct0g5g  t3_1ol4sl   \n",
       "340833   t3_1ol4sl  cct0f52  t3_1ol4sl   \n",
       "340834   t3_1ol4sl  cct09pk  t3_1ol4sl   \n",
       "\n",
       "                                                     body            author  \n",
       "0       This is all good but do you cycle m.d.'ing  fo...        Ramstang95  \n",
       "1       That 1oz has to be fresh. Dried mushrooms lose...    Bodacious_Chad  \n",
       "2       Psychedelics did show great promise for mental...  NeuronsToNirvana  \n",
       "3       I wouldn’t necessarily say it is the placebo e...   nonicknamenelly  \n",
       "4       I’m not trying to prove them wrong, the answer...          Cacti_92  \n",
       "...                                                   ...               ...  \n",
       "340830  .1 to .4 grams. At the low end, you're below t...          ruseweek  \n",
       "340831  That's fine I'm still wondering how much 100-4...     jedisjumphigh  \n",
       "340832  I was referring to the psilocin/psilocybin alk...          ruseweek  \n",
       "340833                                          [deleted]         [deleted]  \n",
       "340834  How can one determine the mg of psilocybin in ...     jedisjumphigh  \n",
       "\n",
       "[340835 rows x 5 columns]"
      ]
     },
     "metadata": {},
     "output_type": "display_data"
    }
   ],
   "source": [
    "dfc"
   ]
  },
  {
   "cell_type": "markdown",
   "metadata": {},
   "source": [
    "**Converting body to string**"
   ]
  },
  {
   "cell_type": "code",
   "execution_count": null,
   "metadata": {},
   "outputs": [
    {
     "name": "stderr",
     "output_type": "stream",
     "text": [
      "/var/folders/2y/cb61b6kn4q917mgql1yd1w5w0000gn/T/ipykernel_1291/9555378.py:1: SettingWithCopyWarning: \n",
      "A value is trying to be set on a copy of a slice from a DataFrame.\n",
      "Try using .loc[row_indexer,col_indexer] = value instead\n",
      "\n",
      "See the caveats in the documentation: https://pandas.pydata.org/pandas-docs/stable/user_guide/indexing.html#returning-a-view-versus-a-copy\n",
      "  dfc['body'] = dfc['body'].apply(str)\n"
     ]
    }
   ],
   "source": [
    "dfc['body'] = dfc['body'].apply(str)"
   ]
  },
  {
   "cell_type": "code",
   "execution_count": null,
   "metadata": {},
   "outputs": [
    {
     "data": {
      "text/html": [
       "<div>\n",
       "<style scoped>\n",
       "    .dataframe tbody tr th:only-of-type {\n",
       "        vertical-align: middle;\n",
       "    }\n",
       "\n",
       "    .dataframe tbody tr th {\n",
       "        vertical-align: top;\n",
       "    }\n",
       "\n",
       "    .dataframe thead th {\n",
       "        text-align: right;\n",
       "    }\n",
       "</style>\n",
       "<table border=\"1\" class=\"dataframe\">\n",
       "  <thead>\n",
       "    <tr style=\"text-align: right;\">\n",
       "      <th></th>\n",
       "      <th>parent_id</th>\n",
       "      <th>id</th>\n",
       "      <th>link_id</th>\n",
       "      <th>body</th>\n",
       "      <th>author</th>\n",
       "    </tr>\n",
       "  </thead>\n",
       "  <tbody>\n",
       "    <tr>\n",
       "      <th>0</th>\n",
       "      <td>t1_hihyv9r</td>\n",
       "      <td>hiii1xy</td>\n",
       "      <td>t3_qhqhj1</td>\n",
       "      <td>This is all good but do you cycle m.d.'ing  fo...</td>\n",
       "      <td>Ramstang95</td>\n",
       "    </tr>\n",
       "    <tr>\n",
       "      <th>1</th>\n",
       "      <td>t1_hii3r64</td>\n",
       "      <td>hiigkf1</td>\n",
       "      <td>t3_qi5td0</td>\n",
       "      <td>That 1oz has to be fresh. Dried mushrooms lose...</td>\n",
       "      <td>Bodacious_Chad</td>\n",
       "    </tr>\n",
       "    <tr>\n",
       "      <th>2</th>\n",
       "      <td>t1_hihejey</td>\n",
       "      <td>hiievkr</td>\n",
       "      <td>t3_qhlcdz</td>\n",
       "      <td>Psychedelics did show great promise for mental...</td>\n",
       "      <td>NeuronsToNirvana</td>\n",
       "    </tr>\n",
       "    <tr>\n",
       "      <th>3</th>\n",
       "      <td>t3_qhqhj1</td>\n",
       "      <td>hiid0mq</td>\n",
       "      <td>t3_qhqhj1</td>\n",
       "      <td>I wouldn’t necessarily say it is the placebo e...</td>\n",
       "      <td>nonicknamenelly</td>\n",
       "    </tr>\n",
       "    <tr>\n",
       "      <th>4</th>\n",
       "      <td>t1_hiiaijm</td>\n",
       "      <td>hiibo5e</td>\n",
       "      <td>t3_qibj5e</td>\n",
       "      <td>I’m not trying to prove them wrong, the answer...</td>\n",
       "      <td>Cacti_92</td>\n",
       "    </tr>\n",
       "    <tr>\n",
       "      <th>...</th>\n",
       "      <td>...</td>\n",
       "      <td>...</td>\n",
       "      <td>...</td>\n",
       "      <td>...</td>\n",
       "      <td>...</td>\n",
       "    </tr>\n",
       "    <tr>\n",
       "      <th>340830</th>\n",
       "      <td>t1_cct17iw</td>\n",
       "      <td>cct2ac9</td>\n",
       "      <td>t3_1ol4sl</td>\n",
       "      <td>.1 to .4 grams. At the low end, you're below t...</td>\n",
       "      <td>ruseweek</td>\n",
       "    </tr>\n",
       "    <tr>\n",
       "      <th>340831</th>\n",
       "      <td>t1_cct0g5g</td>\n",
       "      <td>cct17iw</td>\n",
       "      <td>t3_1ol4sl</td>\n",
       "      <td>That's fine I'm still wondering how much 100-4...</td>\n",
       "      <td>jedisjumphigh</td>\n",
       "    </tr>\n",
       "    <tr>\n",
       "      <th>340832</th>\n",
       "      <td>t1_cct09pk</td>\n",
       "      <td>cct0g5g</td>\n",
       "      <td>t3_1ol4sl</td>\n",
       "      <td>I was referring to the psilocin/psilocybin alk...</td>\n",
       "      <td>ruseweek</td>\n",
       "    </tr>\n",
       "    <tr>\n",
       "      <th>340833</th>\n",
       "      <td>t3_1ol4sl</td>\n",
       "      <td>cct0f52</td>\n",
       "      <td>t3_1ol4sl</td>\n",
       "      <td>[deleted]</td>\n",
       "      <td>[deleted]</td>\n",
       "    </tr>\n",
       "    <tr>\n",
       "      <th>340834</th>\n",
       "      <td>t3_1ol4sl</td>\n",
       "      <td>cct09pk</td>\n",
       "      <td>t3_1ol4sl</td>\n",
       "      <td>How can one determine the mg of psilocybin in ...</td>\n",
       "      <td>jedisjumphigh</td>\n",
       "    </tr>\n",
       "  </tbody>\n",
       "</table>\n",
       "<p>340835 rows × 5 columns</p>\n",
       "</div>"
      ],
      "text/plain": [
       "         parent_id       id    link_id  \\\n",
       "0       t1_hihyv9r  hiii1xy  t3_qhqhj1   \n",
       "1       t1_hii3r64  hiigkf1  t3_qi5td0   \n",
       "2       t1_hihejey  hiievkr  t3_qhlcdz   \n",
       "3        t3_qhqhj1  hiid0mq  t3_qhqhj1   \n",
       "4       t1_hiiaijm  hiibo5e  t3_qibj5e   \n",
       "...            ...      ...        ...   \n",
       "340830  t1_cct17iw  cct2ac9  t3_1ol4sl   \n",
       "340831  t1_cct0g5g  cct17iw  t3_1ol4sl   \n",
       "340832  t1_cct09pk  cct0g5g  t3_1ol4sl   \n",
       "340833   t3_1ol4sl  cct0f52  t3_1ol4sl   \n",
       "340834   t3_1ol4sl  cct09pk  t3_1ol4sl   \n",
       "\n",
       "                                                     body            author  \n",
       "0       This is all good but do you cycle m.d.'ing  fo...        Ramstang95  \n",
       "1       That 1oz has to be fresh. Dried mushrooms lose...    Bodacious_Chad  \n",
       "2       Psychedelics did show great promise for mental...  NeuronsToNirvana  \n",
       "3       I wouldn’t necessarily say it is the placebo e...   nonicknamenelly  \n",
       "4       I’m not trying to prove them wrong, the answer...          Cacti_92  \n",
       "...                                                   ...               ...  \n",
       "340830  .1 to .4 grams. At the low end, you're below t...          ruseweek  \n",
       "340831  That's fine I'm still wondering how much 100-4...     jedisjumphigh  \n",
       "340832  I was referring to the psilocin/psilocybin alk...          ruseweek  \n",
       "340833                                          [deleted]         [deleted]  \n",
       "340834  How can one determine the mg of psilocybin in ...     jedisjumphigh  \n",
       "\n",
       "[340835 rows x 5 columns]"
      ]
     },
     "metadata": {},
     "output_type": "display_data"
    }
   ],
   "source": [
    "dfc"
   ]
  },
  {
   "cell_type": "markdown",
   "metadata": {},
   "source": [
    "**Removing all Automoderator posts**"
   ]
  },
  {
   "cell_type": "code",
   "execution_count": null,
   "metadata": {},
   "outputs": [],
   "source": [
    "to_drop = ['AutoModerator']\n",
    "dfd = dfc[~dfc['author'].isin(to_drop)]"
   ]
  },
  {
   "cell_type": "markdown",
   "metadata": {},
   "source": [
    "**Merging all comments to master comment tree**"
   ]
  },
  {
   "cell_type": "code",
   "execution_count": null,
   "metadata": {},
   "outputs": [],
   "source": [
    "dfc2 = dfd.groupby(['parent_id', 'link_id'])['body'].apply(' '.join).reset_index()"
   ]
  },
  {
   "cell_type": "markdown",
   "metadata": {},
   "source": [
    "**Merging comment tree to top level comment**"
   ]
  },
  {
   "cell_type": "code",
   "execution_count": null,
   "metadata": {},
   "outputs": [],
   "source": [
    "dfc3 = dfc2.groupby(['link_id'])['body'].apply(' '.join).reset_index()"
   ]
  },
  {
   "cell_type": "code",
   "execution_count": null,
   "metadata": {},
   "outputs": [
    {
     "data": {
      "text/html": [
       "<div>\n",
       "<style scoped>\n",
       "    .dataframe tbody tr th:only-of-type {\n",
       "        vertical-align: middle;\n",
       "    }\n",
       "\n",
       "    .dataframe tbody tr th {\n",
       "        vertical-align: top;\n",
       "    }\n",
       "\n",
       "    .dataframe thead th {\n",
       "        text-align: right;\n",
       "    }\n",
       "</style>\n",
       "<table border=\"1\" class=\"dataframe\">\n",
       "  <thead>\n",
       "    <tr style=\"text-align: right;\">\n",
       "      <th></th>\n",
       "      <th>link_id</th>\n",
       "      <th>body</th>\n",
       "    </tr>\n",
       "  </thead>\n",
       "  <tbody>\n",
       "    <tr>\n",
       "      <th>0</th>\n",
       "      <td>t3_1ol4sl</td>\n",
       "      <td>I was referring to the psilocin/psilocybin alk...</td>\n",
       "    </tr>\n",
       "    <tr>\n",
       "      <th>1</th>\n",
       "      <td>t3_1olxep</td>\n",
       "      <td>I get nausea a lot from psychedelics and latel...</td>\n",
       "    </tr>\n",
       "    <tr>\n",
       "      <th>2</th>\n",
       "      <td>t3_1oqjdw</td>\n",
       "      <td>I personally only take them for specific situa...</td>\n",
       "    </tr>\n",
       "    <tr>\n",
       "      <th>3</th>\n",
       "      <td>t3_1oqzcu</td>\n",
       "      <td>Most report that it has a dysphoric side to it...</td>\n",
       "    </tr>\n",
       "    <tr>\n",
       "      <th>4</th>\n",
       "      <td>t3_1oxco2</td>\n",
       "      <td>[deleted] My advice is to carefully ask around...</td>\n",
       "    </tr>\n",
       "    <tr>\n",
       "      <th>...</th>\n",
       "      <td>...</td>\n",
       "      <td>...</td>\n",
       "    </tr>\n",
       "    <tr>\n",
       "      <th>30934</th>\n",
       "      <td>t3_qi7ev2</td>\n",
       "      <td>Which do you pick if you are 30 or 40 years ol...</td>\n",
       "    </tr>\n",
       "    <tr>\n",
       "      <th>30935</th>\n",
       "      <td>t3_qi8zia</td>\n",
       "      <td>Please read our Wiki and other links in the au...</td>\n",
       "    </tr>\n",
       "    <tr>\n",
       "      <th>30936</th>\n",
       "      <td>t3_qiahat</td>\n",
       "      <td>Not md but I know someone who quit smoking wee...</td>\n",
       "    </tr>\n",
       "    <tr>\n",
       "      <th>30937</th>\n",
       "      <td>t3_qibifv</td>\n",
       "      <td>Yes, **fresh** mushrooms/[truffles](https://ww...</td>\n",
       "    </tr>\n",
       "    <tr>\n",
       "      <th>30938</th>\n",
       "      <td>t3_qibj5e</td>\n",
       "      <td>I’m not trying to prove them wrong, the answer...</td>\n",
       "    </tr>\n",
       "  </tbody>\n",
       "</table>\n",
       "<p>30939 rows × 2 columns</p>\n",
       "</div>"
      ],
      "text/plain": [
       "         link_id                                               body\n",
       "0      t3_1ol4sl  I was referring to the psilocin/psilocybin alk...\n",
       "1      t3_1olxep  I get nausea a lot from psychedelics and latel...\n",
       "2      t3_1oqjdw  I personally only take them for specific situa...\n",
       "3      t3_1oqzcu  Most report that it has a dysphoric side to it...\n",
       "4      t3_1oxco2  [deleted] My advice is to carefully ask around...\n",
       "...          ...                                                ...\n",
       "30934  t3_qi7ev2  Which do you pick if you are 30 or 40 years ol...\n",
       "30935  t3_qi8zia  Please read our Wiki and other links in the au...\n",
       "30936  t3_qiahat  Not md but I know someone who quit smoking wee...\n",
       "30937  t3_qibifv  Yes, **fresh** mushrooms/[truffles](https://ww...\n",
       "30938  t3_qibj5e  I’m not trying to prove them wrong, the answer...\n",
       "\n",
       "[30939 rows x 2 columns]"
      ]
     },
     "metadata": {},
     "output_type": "display_data"
    }
   ],
   "source": [
    "dfc3"
   ]
  },
  {
   "cell_type": "markdown",
   "metadata": {},
   "source": [
    "# Merging posts and comments"
   ]
  },
  {
   "cell_type": "code",
   "execution_count": null,
   "metadata": {},
   "outputs": [],
   "source": [
    "pandc = pd.merge(df3, dfc3, on=\"link_id\", how= 'left')"
   ]
  },
  {
   "cell_type": "code",
   "execution_count": null,
   "metadata": {},
   "outputs": [
    {
     "data": {
      "text/html": [
       "<div>\n",
       "<style scoped>\n",
       "    .dataframe tbody tr th:only-of-type {\n",
       "        vertical-align: middle;\n",
       "    }\n",
       "\n",
       "    .dataframe tbody tr th {\n",
       "        vertical-align: top;\n",
       "    }\n",
       "\n",
       "    .dataframe thead th {\n",
       "        text-align: right;\n",
       "    }\n",
       "</style>\n",
       "<table border=\"1\" class=\"dataframe\">\n",
       "  <thead>\n",
       "    <tr style=\"text-align: right;\">\n",
       "      <th></th>\n",
       "      <th>id</th>\n",
       "      <th>paper_text</th>\n",
       "      <th>link_flair_text</th>\n",
       "      <th>created_utc</th>\n",
       "      <th>created_utc_str</th>\n",
       "      <th>link_id</th>\n",
       "      <th>body</th>\n",
       "    </tr>\n",
       "  </thead>\n",
       "  <tbody>\n",
       "    <tr>\n",
       "      <th>0</th>\n",
       "      <td>qic2l7</td>\n",
       "      <td>Dosage liverty caps Probbly a common question....</td>\n",
       "      <td>Question: Psilocybin</td>\n",
       "      <td>2021-10-29 12:49:15</td>\n",
       "      <td>2021-10-29</td>\n",
       "      <td>t3_qic2l7</td>\n",
       "      <td>NaN</td>\n",
       "    </tr>\n",
       "    <tr>\n",
       "      <th>1</th>\n",
       "      <td>qibj5e</td>\n",
       "      <td>Psilocybin mushroom How do you find out if mic...</td>\n",
       "      <td>Getting Started/Newbie Question</td>\n",
       "      <td>2021-10-29 12:19:02</td>\n",
       "      <td>2021-10-29</td>\n",
       "      <td>t3_qibj5e</td>\n",
       "      <td>I’m not trying to prove them wrong, the answer...</td>\n",
       "    </tr>\n",
       "    <tr>\n",
       "      <th>2</th>\n",
       "      <td>qibifv</td>\n",
       "      <td>Can Truffles change their effects after they g...</td>\n",
       "      <td>Question: Psilocybin</td>\n",
       "      <td>2021-10-29 12:17:47</td>\n",
       "      <td>2021-10-29</td>\n",
       "      <td>t3_qibifv</td>\n",
       "      <td>Yes, **fresh** mushrooms/[truffles](https://ww...</td>\n",
       "    </tr>\n",
       "    <tr>\n",
       "      <th>3</th>\n",
       "      <td>qiahat</td>\n",
       "      <td>Microdosing to stop overconsuming cannabis I a...</td>\n",
       "      <td>Question: LSD</td>\n",
       "      <td>2021-10-29 11:15:55</td>\n",
       "      <td>2021-10-29</td>\n",
       "      <td>t3_qiahat</td>\n",
       "      <td>Not md but I know someone who quit smoking wee...</td>\n",
       "    </tr>\n",
       "    <tr>\n",
       "      <th>4</th>\n",
       "      <td>qi8zia</td>\n",
       "      <td>How to start microdosing ? Hi, everyone,\\n\\nI'...</td>\n",
       "      <td>Getting Started/Newbie Question</td>\n",
       "      <td>2021-10-29 09:33:24</td>\n",
       "      <td>2021-10-29</td>\n",
       "      <td>t3_qi8zia</td>\n",
       "      <td>Please read our Wiki and other links in the au...</td>\n",
       "    </tr>\n",
       "    <tr>\n",
       "      <th>...</th>\n",
       "      <td>...</td>\n",
       "      <td>...</td>\n",
       "      <td>...</td>\n",
       "      <td>...</td>\n",
       "      <td>...</td>\n",
       "      <td>...</td>\n",
       "      <td>...</td>\n",
       "    </tr>\n",
       "    <tr>\n",
       "      <th>30955</th>\n",
       "      <td>1xojbz</td>\n",
       "      <td>Perks of microdosing LSD? Whats to gain from i...</td>\n",
       "      <td>nan</td>\n",
       "      <td>2014-02-12 04:30:05</td>\n",
       "      <td>2014-02-12</td>\n",
       "      <td>t3_1xojbz</td>\n",
       "      <td>[deleted] Apart from studying psych (I study c...</td>\n",
       "    </tr>\n",
       "    <tr>\n",
       "      <th>30956</th>\n",
       "      <td>1wwiaq</td>\n",
       "      <td>question about microdosing and booze... hey fr...</td>\n",
       "      <td>nan</td>\n",
       "      <td>2014-02-03 16:41:34</td>\n",
       "      <td>2014-02-03</td>\n",
       "      <td>t3_1wwiaq</td>\n",
       "      <td>[deleted] well since you are combining drinkin...</td>\n",
       "    </tr>\n",
       "    <tr>\n",
       "      <th>30957</th>\n",
       "      <td>1wj566</td>\n",
       "      <td>Is it possible to \"microdose\" marijuana ? If t...</td>\n",
       "      <td>nan</td>\n",
       "      <td>2014-01-30 04:39:49</td>\n",
       "      <td>2014-01-30</td>\n",
       "      <td>t3_1wj566</td>\n",
       "      <td>Any source for this? &amp;gt; Any source\\n\\nNot on...</td>\n",
       "    </tr>\n",
       "    <tr>\n",
       "      <th>30958</th>\n",
       "      <td>1wdj63</td>\n",
       "      <td>Advice on microdosing mushrooms? Throughout my...</td>\n",
       "      <td>nan</td>\n",
       "      <td>2014-01-28 15:36:34</td>\n",
       "      <td>2014-01-28</td>\n",
       "      <td>t3_1wdj63</td>\n",
       "      <td>When I microdosed 600mg of regular cubensis on...</td>\n",
       "    </tr>\n",
       "    <tr>\n",
       "      <th>30959</th>\n",
       "      <td>1um2qz</td>\n",
       "      <td>Welcome to the #microdosing IRC channel on the...</td>\n",
       "      <td>nan</td>\n",
       "      <td>2014-01-07 08:51:29</td>\n",
       "      <td>2014-01-07</td>\n",
       "      <td>t3_1um2qz</td>\n",
       "      <td>NaN</td>\n",
       "    </tr>\n",
       "  </tbody>\n",
       "</table>\n",
       "<p>30960 rows × 7 columns</p>\n",
       "</div>"
      ],
      "text/plain": [
       "           id                                         paper_text  \\\n",
       "0      qic2l7  Dosage liverty caps Probbly a common question....   \n",
       "1      qibj5e  Psilocybin mushroom How do you find out if mic...   \n",
       "2      qibifv  Can Truffles change their effects after they g...   \n",
       "3      qiahat  Microdosing to stop overconsuming cannabis I a...   \n",
       "4      qi8zia  How to start microdosing ? Hi, everyone,\\n\\nI'...   \n",
       "...       ...                                                ...   \n",
       "30955  1xojbz  Perks of microdosing LSD? Whats to gain from i...   \n",
       "30956  1wwiaq  question about microdosing and booze... hey fr...   \n",
       "30957  1wj566  Is it possible to \"microdose\" marijuana ? If t...   \n",
       "30958  1wdj63  Advice on microdosing mushrooms? Throughout my...   \n",
       "30959  1um2qz  Welcome to the #microdosing IRC channel on the...   \n",
       "\n",
       "                       link_flair_text         created_utc created_utc_str  \\\n",
       "0                 Question: Psilocybin 2021-10-29 12:49:15      2021-10-29   \n",
       "1      Getting Started/Newbie Question 2021-10-29 12:19:02      2021-10-29   \n",
       "2                 Question: Psilocybin 2021-10-29 12:17:47      2021-10-29   \n",
       "3                        Question: LSD 2021-10-29 11:15:55      2021-10-29   \n",
       "4      Getting Started/Newbie Question 2021-10-29 09:33:24      2021-10-29   \n",
       "...                                ...                 ...             ...   \n",
       "30955                              nan 2014-02-12 04:30:05      2014-02-12   \n",
       "30956                              nan 2014-02-03 16:41:34      2014-02-03   \n",
       "30957                              nan 2014-01-30 04:39:49      2014-01-30   \n",
       "30958                              nan 2014-01-28 15:36:34      2014-01-28   \n",
       "30959                              nan 2014-01-07 08:51:29      2014-01-07   \n",
       "\n",
       "         link_id                                               body  \n",
       "0      t3_qic2l7                                                NaN  \n",
       "1      t3_qibj5e  I’m not trying to prove them wrong, the answer...  \n",
       "2      t3_qibifv  Yes, **fresh** mushrooms/[truffles](https://ww...  \n",
       "3      t3_qiahat  Not md but I know someone who quit smoking wee...  \n",
       "4      t3_qi8zia  Please read our Wiki and other links in the au...  \n",
       "...          ...                                                ...  \n",
       "30955  t3_1xojbz  [deleted] Apart from studying psych (I study c...  \n",
       "30956  t3_1wwiaq  [deleted] well since you are combining drinkin...  \n",
       "30957  t3_1wj566  Any source for this? &gt; Any source\\n\\nNot on...  \n",
       "30958  t3_1wdj63  When I microdosed 600mg of regular cubensis on...  \n",
       "30959  t3_1um2qz                                                NaN  \n",
       "\n",
       "[30960 rows x 7 columns]"
      ]
     },
     "metadata": {},
     "output_type": "display_data"
    }
   ],
   "source": [
    "pandc"
   ]
  },
  {
   "cell_type": "markdown",
   "metadata": {},
   "source": [
    "**Removing all na columns**"
   ]
  },
  {
   "cell_type": "code",
   "execution_count": null,
   "metadata": {},
   "outputs": [],
   "source": [
    "pandc = pandc.fillna('')"
   ]
  },
  {
   "cell_type": "markdown",
   "metadata": {},
   "source": [
    "**Merging comment master to posts**"
   ]
  },
  {
   "cell_type": "code",
   "execution_count": null,
   "metadata": {},
   "outputs": [],
   "source": [
    "pandc[\"posts\"] = pandc[\"paper_text\"] + \" \" + pandc[\"body\"]"
   ]
  },
  {
   "cell_type": "markdown",
   "metadata": {},
   "source": [
    "**Keeping only the required columns**"
   ]
  },
  {
   "cell_type": "code",
   "execution_count": null,
   "metadata": {},
   "outputs": [],
   "source": [
    "merged_headers = ['link_id','created_utc','created_utc_str','posts','link_flair_text']"
   ]
  },
  {
   "cell_type": "code",
   "execution_count": null,
   "metadata": {},
   "outputs": [],
   "source": [
    "dataset = pandc[merged_headers]"
   ]
  },
  {
   "cell_type": "code",
   "execution_count": null,
   "metadata": {},
   "outputs": [
    {
     "data": {
      "text/html": [
       "<div>\n",
       "<style scoped>\n",
       "    .dataframe tbody tr th:only-of-type {\n",
       "        vertical-align: middle;\n",
       "    }\n",
       "\n",
       "    .dataframe tbody tr th {\n",
       "        vertical-align: top;\n",
       "    }\n",
       "\n",
       "    .dataframe thead th {\n",
       "        text-align: right;\n",
       "    }\n",
       "</style>\n",
       "<table border=\"1\" class=\"dataframe\">\n",
       "  <thead>\n",
       "    <tr style=\"text-align: right;\">\n",
       "      <th></th>\n",
       "      <th>link_id</th>\n",
       "      <th>created_utc</th>\n",
       "      <th>created_utc_str</th>\n",
       "      <th>posts</th>\n",
       "      <th>link_flair_text</th>\n",
       "    </tr>\n",
       "  </thead>\n",
       "  <tbody>\n",
       "    <tr>\n",
       "      <th>0</th>\n",
       "      <td>t3_qic2l7</td>\n",
       "      <td>2021-10-29 12:49:15</td>\n",
       "      <td>2021-10-29</td>\n",
       "      <td>Dosage liverty caps Probbly a common question....</td>\n",
       "      <td>Question: Psilocybin</td>\n",
       "    </tr>\n",
       "    <tr>\n",
       "      <th>1</th>\n",
       "      <td>t3_qibj5e</td>\n",
       "      <td>2021-10-29 12:19:02</td>\n",
       "      <td>2021-10-29</td>\n",
       "      <td>Psilocybin mushroom How do you find out if mic...</td>\n",
       "      <td>Getting Started/Newbie Question</td>\n",
       "    </tr>\n",
       "    <tr>\n",
       "      <th>2</th>\n",
       "      <td>t3_qibifv</td>\n",
       "      <td>2021-10-29 12:17:47</td>\n",
       "      <td>2021-10-29</td>\n",
       "      <td>Can Truffles change their effects after they g...</td>\n",
       "      <td>Question: Psilocybin</td>\n",
       "    </tr>\n",
       "    <tr>\n",
       "      <th>3</th>\n",
       "      <td>t3_qiahat</td>\n",
       "      <td>2021-10-29 11:15:55</td>\n",
       "      <td>2021-10-29</td>\n",
       "      <td>Microdosing to stop overconsuming cannabis I a...</td>\n",
       "      <td>Question: LSD</td>\n",
       "    </tr>\n",
       "    <tr>\n",
       "      <th>4</th>\n",
       "      <td>t3_qi8zia</td>\n",
       "      <td>2021-10-29 09:33:24</td>\n",
       "      <td>2021-10-29</td>\n",
       "      <td>How to start microdosing ? Hi, everyone,\\n\\nI'...</td>\n",
       "      <td>Getting Started/Newbie Question</td>\n",
       "    </tr>\n",
       "    <tr>\n",
       "      <th>...</th>\n",
       "      <td>...</td>\n",
       "      <td>...</td>\n",
       "      <td>...</td>\n",
       "      <td>...</td>\n",
       "      <td>...</td>\n",
       "    </tr>\n",
       "    <tr>\n",
       "      <th>30955</th>\n",
       "      <td>t3_1xojbz</td>\n",
       "      <td>2014-02-12 04:30:05</td>\n",
       "      <td>2014-02-12</td>\n",
       "      <td>Perks of microdosing LSD? Whats to gain from i...</td>\n",
       "      <td>nan</td>\n",
       "    </tr>\n",
       "    <tr>\n",
       "      <th>30956</th>\n",
       "      <td>t3_1wwiaq</td>\n",
       "      <td>2014-02-03 16:41:34</td>\n",
       "      <td>2014-02-03</td>\n",
       "      <td>question about microdosing and booze... hey fr...</td>\n",
       "      <td>nan</td>\n",
       "    </tr>\n",
       "    <tr>\n",
       "      <th>30957</th>\n",
       "      <td>t3_1wj566</td>\n",
       "      <td>2014-01-30 04:39:49</td>\n",
       "      <td>2014-01-30</td>\n",
       "      <td>Is it possible to \"microdose\" marijuana ? If t...</td>\n",
       "      <td>nan</td>\n",
       "    </tr>\n",
       "    <tr>\n",
       "      <th>30958</th>\n",
       "      <td>t3_1wdj63</td>\n",
       "      <td>2014-01-28 15:36:34</td>\n",
       "      <td>2014-01-28</td>\n",
       "      <td>Advice on microdosing mushrooms? Throughout my...</td>\n",
       "      <td>nan</td>\n",
       "    </tr>\n",
       "    <tr>\n",
       "      <th>30959</th>\n",
       "      <td>t3_1um2qz</td>\n",
       "      <td>2014-01-07 08:51:29</td>\n",
       "      <td>2014-01-07</td>\n",
       "      <td>Welcome to the #microdosing IRC channel on the...</td>\n",
       "      <td>nan</td>\n",
       "    </tr>\n",
       "  </tbody>\n",
       "</table>\n",
       "<p>30960 rows × 5 columns</p>\n",
       "</div>"
      ],
      "text/plain": [
       "         link_id         created_utc created_utc_str  \\\n",
       "0      t3_qic2l7 2021-10-29 12:49:15      2021-10-29   \n",
       "1      t3_qibj5e 2021-10-29 12:19:02      2021-10-29   \n",
       "2      t3_qibifv 2021-10-29 12:17:47      2021-10-29   \n",
       "3      t3_qiahat 2021-10-29 11:15:55      2021-10-29   \n",
       "4      t3_qi8zia 2021-10-29 09:33:24      2021-10-29   \n",
       "...          ...                 ...             ...   \n",
       "30955  t3_1xojbz 2014-02-12 04:30:05      2014-02-12   \n",
       "30956  t3_1wwiaq 2014-02-03 16:41:34      2014-02-03   \n",
       "30957  t3_1wj566 2014-01-30 04:39:49      2014-01-30   \n",
       "30958  t3_1wdj63 2014-01-28 15:36:34      2014-01-28   \n",
       "30959  t3_1um2qz 2014-01-07 08:51:29      2014-01-07   \n",
       "\n",
       "                                                   posts  \\\n",
       "0      Dosage liverty caps Probbly a common question....   \n",
       "1      Psilocybin mushroom How do you find out if mic...   \n",
       "2      Can Truffles change their effects after they g...   \n",
       "3      Microdosing to stop overconsuming cannabis I a...   \n",
       "4      How to start microdosing ? Hi, everyone,\\n\\nI'...   \n",
       "...                                                  ...   \n",
       "30955  Perks of microdosing LSD? Whats to gain from i...   \n",
       "30956  question about microdosing and booze... hey fr...   \n",
       "30957  Is it possible to \"microdose\" marijuana ? If t...   \n",
       "30958  Advice on microdosing mushrooms? Throughout my...   \n",
       "30959  Welcome to the #microdosing IRC channel on the...   \n",
       "\n",
       "                       link_flair_text  \n",
       "0                 Question: Psilocybin  \n",
       "1      Getting Started/Newbie Question  \n",
       "2                 Question: Psilocybin  \n",
       "3                        Question: LSD  \n",
       "4      Getting Started/Newbie Question  \n",
       "...                                ...  \n",
       "30955                              nan  \n",
       "30956                              nan  \n",
       "30957                              nan  \n",
       "30958                              nan  \n",
       "30959                              nan  \n",
       "\n",
       "[30960 rows x 5 columns]"
      ]
     },
     "metadata": {},
     "output_type": "display_data"
    }
   ],
   "source": [
    "dataset"
   ]
  },
  {
   "cell_type": "markdown",
   "metadata": {},
   "source": [
    "**Saving to csv**"
   ]
  },
  {
   "cell_type": "code",
   "execution_count": null,
   "metadata": {},
   "outputs": [],
   "source": [
    "dataset.to_csv('/Users/guneetsingh/Desktop/Python/Git_Projects/Topics_Microdosing/MD_reports.csv')"
   ]
  },
  {
   "cell_type": "markdown",
   "metadata": {},
   "source": [
    "# Initialisation"
   ]
  },
  {
   "cell_type": "markdown",
   "metadata": {},
   "source": [
    "**Importing Libraries**"
   ]
  },
  {
   "cell_type": "code",
   "execution_count": 1,
   "metadata": {},
   "outputs": [
    {
     "name": "stderr",
     "output_type": "stream",
     "text": [
      "[nltk_data] Downloading package stopwords to\n",
      "[nltk_data]     /Users/guneetsingh/nltk_data...\n",
      "[nltk_data]   Package stopwords is already up-to-date!\n",
      "[nltk_data] Downloading package punkt to\n",
      "[nltk_data]     /Users/guneetsingh/nltk_data...\n",
      "[nltk_data]   Package punkt is already up-to-date!\n"
     ]
    },
    {
     "data": {
      "text/plain": "True"
     },
     "execution_count": 1,
     "metadata": {},
     "output_type": "execute_result"
    }
   ],
   "source": [
    "import numpy as np\n",
    "import pandas as pd\n",
    "import json\n",
    "import glob\n",
    "import gensim\n",
    "import gensim.corpora as corpora\n",
    "from gensim.utils import simple_preprocess\n",
    "from gensim.models import CoherenceModel\n",
    "import spacy\n",
    "import pyLDAvis\n",
    "import seaborn as sns\n",
    "import matplotlib as plt\n",
    "import pyLDAvis.gensim_models as gensimvis\n",
    "pyLDAvis.enable_notebook()\n",
    "import nltk\n",
    "from nltk.corpus import stopwords\n",
    "nltk.download('stopwords')\n",
    "import contractions\n",
    "import string\n",
    "import fasttext\n",
    "import contractions\n",
    "from nltk.tokenize import word_tokenize\n",
    "from nltk.corpus import stopwords, wordnet\n",
    "from nltk.stem import WordNetLemmatizer\n",
    "nltk.download('punkt')"
   ]
  },
  {
   "cell_type": "markdown",
   "metadata": {},
   "source": [
    "**Importing stopwords**"
   ]
  },
  {
   "cell_type": "code",
   "execution_count": 2,
   "metadata": {},
   "outputs": [],
   "source": [
    "stopwords = stopwords.words(\"english\")\n",
    "stopwords.extend(['https','microdosing','wwwredditcom','microdose'])"
   ]
  },
  {
   "cell_type": "markdown",
   "metadata": {},
   "source": [
    "**Importing File**"
   ]
  },
  {
   "cell_type": "code",
   "execution_count": 3,
   "metadata": {},
   "outputs": [],
   "source": [
    "papers = pd.read_csv('/Users/guneetsingh/Desktop/Python/Git_Projects/Topics_Microdosing/MD_reports.csv')"
   ]
  },
  {
   "cell_type": "code",
   "execution_count": 4,
   "metadata": {},
   "outputs": [
    {
     "data": {
      "text/html": [
       "<div>\n",
       "<style scoped>\n",
       "    .dataframe tbody tr th:only-of-type {\n",
       "        vertical-align: middle;\n",
       "    }\n",
       "\n",
       "    .dataframe tbody tr th {\n",
       "        vertical-align: top;\n",
       "    }\n",
       "\n",
       "    .dataframe thead th {\n",
       "        text-align: right;\n",
       "    }\n",
       "</style>\n",
       "<table border=\"1\" class=\"dataframe\">\n",
       "  <thead>\n",
       "    <tr style=\"text-align: right;\">\n",
       "      <th></th>\n",
       "      <th>Unnamed: 0</th>\n",
       "      <th>link_id</th>\n",
       "      <th>created_utc</th>\n",
       "      <th>created_utc_str</th>\n",
       "      <th>posts</th>\n",
       "      <th>link_flair_text</th>\n",
       "    </tr>\n",
       "  </thead>\n",
       "  <tbody>\n",
       "    <tr>\n",
       "      <th>0</th>\n",
       "      <td>0</td>\n",
       "      <td>t3_qic2l7</td>\n",
       "      <td>2021-10-29 12:49:15</td>\n",
       "      <td>2021-10-29</td>\n",
       "      <td>Dosage liverty caps Probbly a common question....</td>\n",
       "      <td>Question: Psilocybin</td>\n",
       "    </tr>\n",
       "    <tr>\n",
       "      <th>1</th>\n",
       "      <td>1</td>\n",
       "      <td>t3_qibj5e</td>\n",
       "      <td>2021-10-29 12:19:02</td>\n",
       "      <td>2021-10-29</td>\n",
       "      <td>Psilocybin mushroom How do you find out if mic...</td>\n",
       "      <td>Getting Started/Newbie Question</td>\n",
       "    </tr>\n",
       "    <tr>\n",
       "      <th>2</th>\n",
       "      <td>2</td>\n",
       "      <td>t3_qibifv</td>\n",
       "      <td>2021-10-29 12:17:47</td>\n",
       "      <td>2021-10-29</td>\n",
       "      <td>Can Truffles change their effects after they g...</td>\n",
       "      <td>Question: Psilocybin</td>\n",
       "    </tr>\n",
       "    <tr>\n",
       "      <th>3</th>\n",
       "      <td>3</td>\n",
       "      <td>t3_qiahat</td>\n",
       "      <td>2021-10-29 11:15:55</td>\n",
       "      <td>2021-10-29</td>\n",
       "      <td>Microdosing to stop overconsuming cannabis I a...</td>\n",
       "      <td>Question: LSD</td>\n",
       "    </tr>\n",
       "    <tr>\n",
       "      <th>4</th>\n",
       "      <td>4</td>\n",
       "      <td>t3_qi8zia</td>\n",
       "      <td>2021-10-29 09:33:24</td>\n",
       "      <td>2021-10-29</td>\n",
       "      <td>How to start microdosing ? Hi, everyone,\\n\\nI'...</td>\n",
       "      <td>Getting Started/Newbie Question</td>\n",
       "    </tr>\n",
       "    <tr>\n",
       "      <th>...</th>\n",
       "      <td>...</td>\n",
       "      <td>...</td>\n",
       "      <td>...</td>\n",
       "      <td>...</td>\n",
       "      <td>...</td>\n",
       "      <td>...</td>\n",
       "    </tr>\n",
       "    <tr>\n",
       "      <th>30955</th>\n",
       "      <td>30955</td>\n",
       "      <td>t3_1xojbz</td>\n",
       "      <td>2014-02-12 04:30:05</td>\n",
       "      <td>2014-02-12</td>\n",
       "      <td>Perks of microdosing LSD? Whats to gain from i...</td>\n",
       "      <td>NaN</td>\n",
       "    </tr>\n",
       "    <tr>\n",
       "      <th>30956</th>\n",
       "      <td>30956</td>\n",
       "      <td>t3_1wwiaq</td>\n",
       "      <td>2014-02-03 16:41:34</td>\n",
       "      <td>2014-02-03</td>\n",
       "      <td>question about microdosing and booze... hey fr...</td>\n",
       "      <td>NaN</td>\n",
       "    </tr>\n",
       "    <tr>\n",
       "      <th>30957</th>\n",
       "      <td>30957</td>\n",
       "      <td>t3_1wj566</td>\n",
       "      <td>2014-01-30 04:39:49</td>\n",
       "      <td>2014-01-30</td>\n",
       "      <td>Is it possible to \"microdose\" marijuana ? If t...</td>\n",
       "      <td>NaN</td>\n",
       "    </tr>\n",
       "    <tr>\n",
       "      <th>30958</th>\n",
       "      <td>30958</td>\n",
       "      <td>t3_1wdj63</td>\n",
       "      <td>2014-01-28 15:36:34</td>\n",
       "      <td>2014-01-28</td>\n",
       "      <td>Advice on microdosing mushrooms? Throughout my...</td>\n",
       "      <td>NaN</td>\n",
       "    </tr>\n",
       "    <tr>\n",
       "      <th>30959</th>\n",
       "      <td>30959</td>\n",
       "      <td>t3_1um2qz</td>\n",
       "      <td>2014-01-07 08:51:29</td>\n",
       "      <td>2014-01-07</td>\n",
       "      <td>Welcome to the #microdosing IRC channel on the...</td>\n",
       "      <td>NaN</td>\n",
       "    </tr>\n",
       "  </tbody>\n",
       "</table>\n",
       "<p>30960 rows × 6 columns</p>\n",
       "</div>"
      ],
      "text/plain": [
       "       Unnamed: 0    link_id          created_utc created_utc_str  \\\n",
       "0               0  t3_qic2l7  2021-10-29 12:49:15      2021-10-29   \n",
       "1               1  t3_qibj5e  2021-10-29 12:19:02      2021-10-29   \n",
       "2               2  t3_qibifv  2021-10-29 12:17:47      2021-10-29   \n",
       "3               3  t3_qiahat  2021-10-29 11:15:55      2021-10-29   \n",
       "4               4  t3_qi8zia  2021-10-29 09:33:24      2021-10-29   \n",
       "...           ...        ...                  ...             ...   \n",
       "30955       30955  t3_1xojbz  2014-02-12 04:30:05      2014-02-12   \n",
       "30956       30956  t3_1wwiaq  2014-02-03 16:41:34      2014-02-03   \n",
       "30957       30957  t3_1wj566  2014-01-30 04:39:49      2014-01-30   \n",
       "30958       30958  t3_1wdj63  2014-01-28 15:36:34      2014-01-28   \n",
       "30959       30959  t3_1um2qz  2014-01-07 08:51:29      2014-01-07   \n",
       "\n",
       "                                                   posts  \\\n",
       "0      Dosage liverty caps Probbly a common question....   \n",
       "1      Psilocybin mushroom How do you find out if mic...   \n",
       "2      Can Truffles change their effects after they g...   \n",
       "3      Microdosing to stop overconsuming cannabis I a...   \n",
       "4      How to start microdosing ? Hi, everyone,\\n\\nI'...   \n",
       "...                                                  ...   \n",
       "30955  Perks of microdosing LSD? Whats to gain from i...   \n",
       "30956  question about microdosing and booze... hey fr...   \n",
       "30957  Is it possible to \"microdose\" marijuana ? If t...   \n",
       "30958  Advice on microdosing mushrooms? Throughout my...   \n",
       "30959  Welcome to the #microdosing IRC channel on the...   \n",
       "\n",
       "                       link_flair_text  \n",
       "0                 Question: Psilocybin  \n",
       "1      Getting Started/Newbie Question  \n",
       "2                 Question: Psilocybin  \n",
       "3                        Question: LSD  \n",
       "4      Getting Started/Newbie Question  \n",
       "...                                ...  \n",
       "30955                              NaN  \n",
       "30956                              NaN  \n",
       "30957                              NaN  \n",
       "30958                              NaN  \n",
       "30959                              NaN  \n",
       "\n",
       "[30960 rows x 6 columns]"
      ]
     },
     "execution_count": 4,
     "metadata": {},
     "output_type": "execute_result"
    }
   ],
   "source": [
    "papers"
   ]
  },
  {
   "cell_type": "markdown",
   "metadata": {},
   "source": [
    "# Text pre-processing"
   ]
  },
  {
   "cell_type": "markdown",
   "metadata": {},
   "source": [
    "**Expanding Contractions**"
   ]
  },
  {
   "cell_type": "code",
   "execution_count": 46,
   "metadata": {},
   "outputs": [
    {
     "name": "stderr",
     "output_type": "stream",
     "text": [
      "<>:2: DeprecationWarning:\n",
      "\n",
      "invalid escape sequence \\/\n",
      "\n",
      "<>:2: DeprecationWarning:\n",
      "\n",
      "invalid escape sequence \\/\n",
      "\n",
      "/var/folders/2y/cb61b6kn4q917mgql1yd1w5w0000gn/T/ipykernel_3064/1903124241.py:2: DeprecationWarning:\n",
      "\n",
      "invalid escape sequence \\/\n",
      "\n"
     ]
    }
   ],
   "source": [
    "import re\n",
    "papers['nolinks'] = papers['posts'].apply(lambda x: re.split('https:\\/\\/.*', str(x)))"
   ]
  },
  {
   "cell_type": "code",
   "execution_count": 7,
   "metadata": {},
   "outputs": [
    {
     "data": {
      "text/html": [
       "<div>\n",
       "<style scoped>\n",
       "    .dataframe tbody tr th:only-of-type {\n",
       "        vertical-align: middle;\n",
       "    }\n",
       "\n",
       "    .dataframe tbody tr th {\n",
       "        vertical-align: top;\n",
       "    }\n",
       "\n",
       "    .dataframe thead th {\n",
       "        text-align: right;\n",
       "    }\n",
       "</style>\n",
       "<table border=\"1\" class=\"dataframe\">\n",
       "  <thead>\n",
       "    <tr style=\"text-align: right;\">\n",
       "      <th></th>\n",
       "      <th>Unnamed: 0</th>\n",
       "      <th>link_id</th>\n",
       "      <th>created_utc</th>\n",
       "      <th>created_utc_str</th>\n",
       "      <th>posts</th>\n",
       "      <th>link_flair_text</th>\n",
       "      <th>nolinks</th>\n",
       "      <th>no_contract</th>\n",
       "    </tr>\n",
       "  </thead>\n",
       "  <tbody>\n",
       "    <tr>\n",
       "      <th>0</th>\n",
       "      <td>0</td>\n",
       "      <td>t3_qic2l7</td>\n",
       "      <td>2021-10-29 12:49:15</td>\n",
       "      <td>2021-10-29</td>\n",
       "      <td>Dosage liverty caps Probbly a common question....</td>\n",
       "      <td>Question: Psilocybin</td>\n",
       "      <td>Dosage liverty caps Probbly a common question....</td>\n",
       "      <td>[Dosage, liverty, caps, Probbly, a, common, qu...</td>\n",
       "    </tr>\n",
       "    <tr>\n",
       "      <th>1</th>\n",
       "      <td>1</td>\n",
       "      <td>t3_qibj5e</td>\n",
       "      <td>2021-10-29 12:19:02</td>\n",
       "      <td>2021-10-29</td>\n",
       "      <td>Psilocybin mushroom How do you find out if mic...</td>\n",
       "      <td>Getting Started/Newbie Question</td>\n",
       "      <td>Psilocybin mushroom How do you find out if mic...</td>\n",
       "      <td>[Psilocybin, mushroom, How, do, you, find, out...</td>\n",
       "    </tr>\n",
       "    <tr>\n",
       "      <th>2</th>\n",
       "      <td>2</td>\n",
       "      <td>t3_qibifv</td>\n",
       "      <td>2021-10-29 12:17:47</td>\n",
       "      <td>2021-10-29</td>\n",
       "      <td>Can Truffles change their effects after they g...</td>\n",
       "      <td>Question: Psilocybin</td>\n",
       "      <td>Can Truffles change their effects after they g...</td>\n",
       "      <td>[Can, Truffles, change, their, effects, after,...</td>\n",
       "    </tr>\n",
       "    <tr>\n",
       "      <th>3</th>\n",
       "      <td>3</td>\n",
       "      <td>t3_qiahat</td>\n",
       "      <td>2021-10-29 11:15:55</td>\n",
       "      <td>2021-10-29</td>\n",
       "      <td>Microdosing to stop overconsuming cannabis I a...</td>\n",
       "      <td>Question: LSD</td>\n",
       "      <td>Microdosing to stop overconsuming cannabis I a...</td>\n",
       "      <td>[Microdosing, to, stop, overconsuming, cannabi...</td>\n",
       "    </tr>\n",
       "    <tr>\n",
       "      <th>4</th>\n",
       "      <td>4</td>\n",
       "      <td>t3_qi8zia</td>\n",
       "      <td>2021-10-29 09:33:24</td>\n",
       "      <td>2021-10-29</td>\n",
       "      <td>How to start microdosing ? Hi, everyone,\\n\\nI'...</td>\n",
       "      <td>Getting Started/Newbie Question</td>\n",
       "      <td>How to start microdosing ? Hi, everyone,\\n\\nI'...</td>\n",
       "      <td>[How, to, start, microdosing, ?, Hi,, everyone...</td>\n",
       "    </tr>\n",
       "  </tbody>\n",
       "</table>\n",
       "</div>"
      ],
      "text/plain": [
       "   Unnamed: 0    link_id          created_utc created_utc_str  \\\n",
       "0           0  t3_qic2l7  2021-10-29 12:49:15      2021-10-29   \n",
       "1           1  t3_qibj5e  2021-10-29 12:19:02      2021-10-29   \n",
       "2           2  t3_qibifv  2021-10-29 12:17:47      2021-10-29   \n",
       "3           3  t3_qiahat  2021-10-29 11:15:55      2021-10-29   \n",
       "4           4  t3_qi8zia  2021-10-29 09:33:24      2021-10-29   \n",
       "\n",
       "                                               posts  \\\n",
       "0  Dosage liverty caps Probbly a common question....   \n",
       "1  Psilocybin mushroom How do you find out if mic...   \n",
       "2  Can Truffles change their effects after they g...   \n",
       "3  Microdosing to stop overconsuming cannabis I a...   \n",
       "4  How to start microdosing ? Hi, everyone,\\n\\nI'...   \n",
       "\n",
       "                   link_flair_text  \\\n",
       "0             Question: Psilocybin   \n",
       "1  Getting Started/Newbie Question   \n",
       "2             Question: Psilocybin   \n",
       "3                    Question: LSD   \n",
       "4  Getting Started/Newbie Question   \n",
       "\n",
       "                                             nolinks  \\\n",
       "0  Dosage liverty caps Probbly a common question....   \n",
       "1  Psilocybin mushroom How do you find out if mic...   \n",
       "2  Can Truffles change their effects after they g...   \n",
       "3  Microdosing to stop overconsuming cannabis I a...   \n",
       "4  How to start microdosing ? Hi, everyone,\\n\\nI'...   \n",
       "\n",
       "                                         no_contract  \n",
       "0  [Dosage, liverty, caps, Probbly, a, common, qu...  \n",
       "1  [Psilocybin, mushroom, How, do, you, find, out...  \n",
       "2  [Can, Truffles, change, their, effects, after,...  \n",
       "3  [Microdosing, to, stop, overconsuming, cannabi...  \n",
       "4  [How, to, start, microdosing, ?, Hi,, everyone...  "
      ]
     },
     "execution_count": 7,
     "metadata": {},
     "output_type": "execute_result"
    }
   ],
   "source": [
    "papers['no_contract'] = papers['nolinks'].apply(lambda x: [contractions.fix(word) for word in x.split()])\n",
    "papers.head()"
   ]
  },
  {
   "cell_type": "code",
   "execution_count": 8,
   "metadata": {},
   "outputs": [
    {
     "data": {
      "text/html": [
       "<div>\n",
       "<style scoped>\n",
       "    .dataframe tbody tr th:only-of-type {\n",
       "        vertical-align: middle;\n",
       "    }\n",
       "\n",
       "    .dataframe tbody tr th {\n",
       "        vertical-align: top;\n",
       "    }\n",
       "\n",
       "    .dataframe thead th {\n",
       "        text-align: right;\n",
       "    }\n",
       "</style>\n",
       "<table border=\"1\" class=\"dataframe\">\n",
       "  <thead>\n",
       "    <tr style=\"text-align: right;\">\n",
       "      <th></th>\n",
       "      <th>Unnamed: 0</th>\n",
       "      <th>link_id</th>\n",
       "      <th>created_utc</th>\n",
       "      <th>created_utc_str</th>\n",
       "      <th>posts</th>\n",
       "      <th>link_flair_text</th>\n",
       "      <th>nolinks</th>\n",
       "      <th>no_contract</th>\n",
       "      <th>posts_str</th>\n",
       "    </tr>\n",
       "  </thead>\n",
       "  <tbody>\n",
       "    <tr>\n",
       "      <th>0</th>\n",
       "      <td>0</td>\n",
       "      <td>t3_qic2l7</td>\n",
       "      <td>2021-10-29 12:49:15</td>\n",
       "      <td>2021-10-29</td>\n",
       "      <td>Dosage liverty caps Probbly a common question....</td>\n",
       "      <td>Question: Psilocybin</td>\n",
       "      <td>Dosage liverty caps Probbly a common question....</td>\n",
       "      <td>[Dosage, liverty, caps, Probbly, a, common, qu...</td>\n",
       "      <td>Dosage liverty caps Probbly a common question....</td>\n",
       "    </tr>\n",
       "    <tr>\n",
       "      <th>1</th>\n",
       "      <td>1</td>\n",
       "      <td>t3_qibj5e</td>\n",
       "      <td>2021-10-29 12:19:02</td>\n",
       "      <td>2021-10-29</td>\n",
       "      <td>Psilocybin mushroom How do you find out if mic...</td>\n",
       "      <td>Getting Started/Newbie Question</td>\n",
       "      <td>Psilocybin mushroom How do you find out if mic...</td>\n",
       "      <td>[Psilocybin, mushroom, How, do, you, find, out...</td>\n",
       "      <td>Psilocybin mushroom How do you find out if mic...</td>\n",
       "    </tr>\n",
       "    <tr>\n",
       "      <th>2</th>\n",
       "      <td>2</td>\n",
       "      <td>t3_qibifv</td>\n",
       "      <td>2021-10-29 12:17:47</td>\n",
       "      <td>2021-10-29</td>\n",
       "      <td>Can Truffles change their effects after they g...</td>\n",
       "      <td>Question: Psilocybin</td>\n",
       "      <td>Can Truffles change their effects after they g...</td>\n",
       "      <td>[Can, Truffles, change, their, effects, after,...</td>\n",
       "      <td>Can Truffles change their effects after they g...</td>\n",
       "    </tr>\n",
       "    <tr>\n",
       "      <th>3</th>\n",
       "      <td>3</td>\n",
       "      <td>t3_qiahat</td>\n",
       "      <td>2021-10-29 11:15:55</td>\n",
       "      <td>2021-10-29</td>\n",
       "      <td>Microdosing to stop overconsuming cannabis I a...</td>\n",
       "      <td>Question: LSD</td>\n",
       "      <td>Microdosing to stop overconsuming cannabis I a...</td>\n",
       "      <td>[Microdosing, to, stop, overconsuming, cannabi...</td>\n",
       "      <td>Microdosing to stop overconsuming cannabis I a...</td>\n",
       "    </tr>\n",
       "    <tr>\n",
       "      <th>4</th>\n",
       "      <td>4</td>\n",
       "      <td>t3_qi8zia</td>\n",
       "      <td>2021-10-29 09:33:24</td>\n",
       "      <td>2021-10-29</td>\n",
       "      <td>How to start microdosing ? Hi, everyone,\\n\\nI'...</td>\n",
       "      <td>Getting Started/Newbie Question</td>\n",
       "      <td>How to start microdosing ? Hi, everyone,\\n\\nI'...</td>\n",
       "      <td>[How, to, start, microdosing, ?, Hi,, everyone...</td>\n",
       "      <td>How to start microdosing ? Hi, everyone, I am ...</td>\n",
       "    </tr>\n",
       "  </tbody>\n",
       "</table>\n",
       "</div>"
      ],
      "text/plain": [
       "   Unnamed: 0    link_id          created_utc created_utc_str  \\\n",
       "0           0  t3_qic2l7  2021-10-29 12:49:15      2021-10-29   \n",
       "1           1  t3_qibj5e  2021-10-29 12:19:02      2021-10-29   \n",
       "2           2  t3_qibifv  2021-10-29 12:17:47      2021-10-29   \n",
       "3           3  t3_qiahat  2021-10-29 11:15:55      2021-10-29   \n",
       "4           4  t3_qi8zia  2021-10-29 09:33:24      2021-10-29   \n",
       "\n",
       "                                               posts  \\\n",
       "0  Dosage liverty caps Probbly a common question....   \n",
       "1  Psilocybin mushroom How do you find out if mic...   \n",
       "2  Can Truffles change their effects after they g...   \n",
       "3  Microdosing to stop overconsuming cannabis I a...   \n",
       "4  How to start microdosing ? Hi, everyone,\\n\\nI'...   \n",
       "\n",
       "                   link_flair_text  \\\n",
       "0             Question: Psilocybin   \n",
       "1  Getting Started/Newbie Question   \n",
       "2             Question: Psilocybin   \n",
       "3                    Question: LSD   \n",
       "4  Getting Started/Newbie Question   \n",
       "\n",
       "                                             nolinks  \\\n",
       "0  Dosage liverty caps Probbly a common question....   \n",
       "1  Psilocybin mushroom How do you find out if mic...   \n",
       "2  Can Truffles change their effects after they g...   \n",
       "3  Microdosing to stop overconsuming cannabis I a...   \n",
       "4  How to start microdosing ? Hi, everyone,\\n\\nI'...   \n",
       "\n",
       "                                         no_contract  \\\n",
       "0  [Dosage, liverty, caps, Probbly, a, common, qu...   \n",
       "1  [Psilocybin, mushroom, How, do, you, find, out...   \n",
       "2  [Can, Truffles, change, their, effects, after,...   \n",
       "3  [Microdosing, to, stop, overconsuming, cannabi...   \n",
       "4  [How, to, start, microdosing, ?, Hi,, everyone...   \n",
       "\n",
       "                                           posts_str  \n",
       "0  Dosage liverty caps Probbly a common question....  \n",
       "1  Psilocybin mushroom How do you find out if mic...  \n",
       "2  Can Truffles change their effects after they g...  \n",
       "3  Microdosing to stop overconsuming cannabis I a...  \n",
       "4  How to start microdosing ? Hi, everyone, I am ...  "
      ]
     },
     "execution_count": 8,
     "metadata": {},
     "output_type": "execute_result"
    }
   ],
   "source": [
    "papers['posts_str'] = [' '.join(map(str, l)) for l in papers['no_contract']]\n",
    "papers.head()"
   ]
  },
  {
   "cell_type": "markdown",
   "metadata": {},
   "source": [
    "**Tokenizing our words**"
   ]
  },
  {
   "cell_type": "code",
   "execution_count": 9,
   "metadata": {},
   "outputs": [
    {
     "data": {
      "text/html": [
       "<div>\n",
       "<style scoped>\n",
       "    .dataframe tbody tr th:only-of-type {\n",
       "        vertical-align: middle;\n",
       "    }\n",
       "\n",
       "    .dataframe tbody tr th {\n",
       "        vertical-align: top;\n",
       "    }\n",
       "\n",
       "    .dataframe thead th {\n",
       "        text-align: right;\n",
       "    }\n",
       "</style>\n",
       "<table border=\"1\" class=\"dataframe\">\n",
       "  <thead>\n",
       "    <tr style=\"text-align: right;\">\n",
       "      <th></th>\n",
       "      <th>Unnamed: 0</th>\n",
       "      <th>link_id</th>\n",
       "      <th>created_utc</th>\n",
       "      <th>created_utc_str</th>\n",
       "      <th>posts</th>\n",
       "      <th>link_flair_text</th>\n",
       "      <th>nolinks</th>\n",
       "      <th>no_contract</th>\n",
       "      <th>posts_str</th>\n",
       "      <th>tokenized</th>\n",
       "    </tr>\n",
       "  </thead>\n",
       "  <tbody>\n",
       "    <tr>\n",
       "      <th>0</th>\n",
       "      <td>0</td>\n",
       "      <td>t3_qic2l7</td>\n",
       "      <td>2021-10-29 12:49:15</td>\n",
       "      <td>2021-10-29</td>\n",
       "      <td>Dosage liverty caps Probbly a common question....</td>\n",
       "      <td>Question: Psilocybin</td>\n",
       "      <td>Dosage liverty caps Probbly a common question....</td>\n",
       "      <td>[Dosage, liverty, caps, Probbly, a, common, qu...</td>\n",
       "      <td>Dosage liverty caps Probbly a common question....</td>\n",
       "      <td>[Dosage, liverty, caps, Probbly, a, common, qu...</td>\n",
       "    </tr>\n",
       "    <tr>\n",
       "      <th>1</th>\n",
       "      <td>1</td>\n",
       "      <td>t3_qibj5e</td>\n",
       "      <td>2021-10-29 12:19:02</td>\n",
       "      <td>2021-10-29</td>\n",
       "      <td>Psilocybin mushroom How do you find out if mic...</td>\n",
       "      <td>Getting Started/Newbie Question</td>\n",
       "      <td>Psilocybin mushroom How do you find out if mic...</td>\n",
       "      <td>[Psilocybin, mushroom, How, do, you, find, out...</td>\n",
       "      <td>Psilocybin mushroom How do you find out if mic...</td>\n",
       "      <td>[Psilocybin, mushroom, How, do, you, find, out...</td>\n",
       "    </tr>\n",
       "    <tr>\n",
       "      <th>2</th>\n",
       "      <td>2</td>\n",
       "      <td>t3_qibifv</td>\n",
       "      <td>2021-10-29 12:17:47</td>\n",
       "      <td>2021-10-29</td>\n",
       "      <td>Can Truffles change their effects after they g...</td>\n",
       "      <td>Question: Psilocybin</td>\n",
       "      <td>Can Truffles change their effects after they g...</td>\n",
       "      <td>[Can, Truffles, change, their, effects, after,...</td>\n",
       "      <td>Can Truffles change their effects after they g...</td>\n",
       "      <td>[Can, Truffles, change, their, effects, after,...</td>\n",
       "    </tr>\n",
       "    <tr>\n",
       "      <th>3</th>\n",
       "      <td>3</td>\n",
       "      <td>t3_qiahat</td>\n",
       "      <td>2021-10-29 11:15:55</td>\n",
       "      <td>2021-10-29</td>\n",
       "      <td>Microdosing to stop overconsuming cannabis I a...</td>\n",
       "      <td>Question: LSD</td>\n",
       "      <td>Microdosing to stop overconsuming cannabis I a...</td>\n",
       "      <td>[Microdosing, to, stop, overconsuming, cannabi...</td>\n",
       "      <td>Microdosing to stop overconsuming cannabis I a...</td>\n",
       "      <td>[Microdosing, to, stop, overconsuming, cannabi...</td>\n",
       "    </tr>\n",
       "    <tr>\n",
       "      <th>4</th>\n",
       "      <td>4</td>\n",
       "      <td>t3_qi8zia</td>\n",
       "      <td>2021-10-29 09:33:24</td>\n",
       "      <td>2021-10-29</td>\n",
       "      <td>How to start microdosing ? Hi, everyone,\\n\\nI'...</td>\n",
       "      <td>Getting Started/Newbie Question</td>\n",
       "      <td>How to start microdosing ? Hi, everyone,\\n\\nI'...</td>\n",
       "      <td>[How, to, start, microdosing, ?, Hi,, everyone...</td>\n",
       "      <td>How to start microdosing ? Hi, everyone, I am ...</td>\n",
       "      <td>[How, to, start, microdosing, ?, Hi, ,, everyo...</td>\n",
       "    </tr>\n",
       "  </tbody>\n",
       "</table>\n",
       "</div>"
      ],
      "text/plain": [
       "   Unnamed: 0    link_id          created_utc created_utc_str  \\\n",
       "0           0  t3_qic2l7  2021-10-29 12:49:15      2021-10-29   \n",
       "1           1  t3_qibj5e  2021-10-29 12:19:02      2021-10-29   \n",
       "2           2  t3_qibifv  2021-10-29 12:17:47      2021-10-29   \n",
       "3           3  t3_qiahat  2021-10-29 11:15:55      2021-10-29   \n",
       "4           4  t3_qi8zia  2021-10-29 09:33:24      2021-10-29   \n",
       "\n",
       "                                               posts  \\\n",
       "0  Dosage liverty caps Probbly a common question....   \n",
       "1  Psilocybin mushroom How do you find out if mic...   \n",
       "2  Can Truffles change their effects after they g...   \n",
       "3  Microdosing to stop overconsuming cannabis I a...   \n",
       "4  How to start microdosing ? Hi, everyone,\\n\\nI'...   \n",
       "\n",
       "                   link_flair_text  \\\n",
       "0             Question: Psilocybin   \n",
       "1  Getting Started/Newbie Question   \n",
       "2             Question: Psilocybin   \n",
       "3                    Question: LSD   \n",
       "4  Getting Started/Newbie Question   \n",
       "\n",
       "                                             nolinks  \\\n",
       "0  Dosage liverty caps Probbly a common question....   \n",
       "1  Psilocybin mushroom How do you find out if mic...   \n",
       "2  Can Truffles change their effects after they g...   \n",
       "3  Microdosing to stop overconsuming cannabis I a...   \n",
       "4  How to start microdosing ? Hi, everyone,\\n\\nI'...   \n",
       "\n",
       "                                         no_contract  \\\n",
       "0  [Dosage, liverty, caps, Probbly, a, common, qu...   \n",
       "1  [Psilocybin, mushroom, How, do, you, find, out...   \n",
       "2  [Can, Truffles, change, their, effects, after,...   \n",
       "3  [Microdosing, to, stop, overconsuming, cannabi...   \n",
       "4  [How, to, start, microdosing, ?, Hi,, everyone...   \n",
       "\n",
       "                                           posts_str  \\\n",
       "0  Dosage liverty caps Probbly a common question....   \n",
       "1  Psilocybin mushroom How do you find out if mic...   \n",
       "2  Can Truffles change their effects after they g...   \n",
       "3  Microdosing to stop overconsuming cannabis I a...   \n",
       "4  How to start microdosing ? Hi, everyone, I am ...   \n",
       "\n",
       "                                           tokenized  \n",
       "0  [Dosage, liverty, caps, Probbly, a, common, qu...  \n",
       "1  [Psilocybin, mushroom, How, do, you, find, out...  \n",
       "2  [Can, Truffles, change, their, effects, after,...  \n",
       "3  [Microdosing, to, stop, overconsuming, cannabi...  \n",
       "4  [How, to, start, microdosing, ?, Hi, ,, everyo...  "
      ]
     },
     "execution_count": 9,
     "metadata": {},
     "output_type": "execute_result"
    }
   ],
   "source": [
    "papers['tokenized'] = papers['posts_str'].apply(word_tokenize)\n",
    "papers.head()"
   ]
  },
  {
   "cell_type": "markdown",
   "metadata": {},
   "source": [
    "**Conversion to Lowercase**"
   ]
  },
  {
   "cell_type": "code",
   "execution_count": 10,
   "metadata": {},
   "outputs": [
    {
     "data": {
      "text/html": [
       "<div>\n",
       "<style scoped>\n",
       "    .dataframe tbody tr th:only-of-type {\n",
       "        vertical-align: middle;\n",
       "    }\n",
       "\n",
       "    .dataframe tbody tr th {\n",
       "        vertical-align: top;\n",
       "    }\n",
       "\n",
       "    .dataframe thead th {\n",
       "        text-align: right;\n",
       "    }\n",
       "</style>\n",
       "<table border=\"1\" class=\"dataframe\">\n",
       "  <thead>\n",
       "    <tr style=\"text-align: right;\">\n",
       "      <th></th>\n",
       "      <th>Unnamed: 0</th>\n",
       "      <th>link_id</th>\n",
       "      <th>created_utc</th>\n",
       "      <th>created_utc_str</th>\n",
       "      <th>posts</th>\n",
       "      <th>link_flair_text</th>\n",
       "      <th>nolinks</th>\n",
       "      <th>no_contract</th>\n",
       "      <th>posts_str</th>\n",
       "      <th>tokenized</th>\n",
       "      <th>lower</th>\n",
       "    </tr>\n",
       "  </thead>\n",
       "  <tbody>\n",
       "    <tr>\n",
       "      <th>0</th>\n",
       "      <td>0</td>\n",
       "      <td>t3_qic2l7</td>\n",
       "      <td>2021-10-29 12:49:15</td>\n",
       "      <td>2021-10-29</td>\n",
       "      <td>Dosage liverty caps Probbly a common question....</td>\n",
       "      <td>Question: Psilocybin</td>\n",
       "      <td>Dosage liverty caps Probbly a common question....</td>\n",
       "      <td>[Dosage, liverty, caps, Probbly, a, common, qu...</td>\n",
       "      <td>Dosage liverty caps Probbly a common question....</td>\n",
       "      <td>[Dosage, liverty, caps, Probbly, a, common, qu...</td>\n",
       "      <td>[dosage, liverty, caps, probbly, a, common, qu...</td>\n",
       "    </tr>\n",
       "    <tr>\n",
       "      <th>1</th>\n",
       "      <td>1</td>\n",
       "      <td>t3_qibj5e</td>\n",
       "      <td>2021-10-29 12:19:02</td>\n",
       "      <td>2021-10-29</td>\n",
       "      <td>Psilocybin mushroom How do you find out if mic...</td>\n",
       "      <td>Getting Started/Newbie Question</td>\n",
       "      <td>Psilocybin mushroom How do you find out if mic...</td>\n",
       "      <td>[Psilocybin, mushroom, How, do, you, find, out...</td>\n",
       "      <td>Psilocybin mushroom How do you find out if mic...</td>\n",
       "      <td>[Psilocybin, mushroom, How, do, you, find, out...</td>\n",
       "      <td>[psilocybin, mushroom, how, do, you, find, out...</td>\n",
       "    </tr>\n",
       "    <tr>\n",
       "      <th>2</th>\n",
       "      <td>2</td>\n",
       "      <td>t3_qibifv</td>\n",
       "      <td>2021-10-29 12:17:47</td>\n",
       "      <td>2021-10-29</td>\n",
       "      <td>Can Truffles change their effects after they g...</td>\n",
       "      <td>Question: Psilocybin</td>\n",
       "      <td>Can Truffles change their effects after they g...</td>\n",
       "      <td>[Can, Truffles, change, their, effects, after,...</td>\n",
       "      <td>Can Truffles change their effects after they g...</td>\n",
       "      <td>[Can, Truffles, change, their, effects, after,...</td>\n",
       "      <td>[can, truffles, change, their, effects, after,...</td>\n",
       "    </tr>\n",
       "    <tr>\n",
       "      <th>3</th>\n",
       "      <td>3</td>\n",
       "      <td>t3_qiahat</td>\n",
       "      <td>2021-10-29 11:15:55</td>\n",
       "      <td>2021-10-29</td>\n",
       "      <td>Microdosing to stop overconsuming cannabis I a...</td>\n",
       "      <td>Question: LSD</td>\n",
       "      <td>Microdosing to stop overconsuming cannabis I a...</td>\n",
       "      <td>[Microdosing, to, stop, overconsuming, cannabi...</td>\n",
       "      <td>Microdosing to stop overconsuming cannabis I a...</td>\n",
       "      <td>[Microdosing, to, stop, overconsuming, cannabi...</td>\n",
       "      <td>[microdosing, to, stop, overconsuming, cannabi...</td>\n",
       "    </tr>\n",
       "    <tr>\n",
       "      <th>4</th>\n",
       "      <td>4</td>\n",
       "      <td>t3_qi8zia</td>\n",
       "      <td>2021-10-29 09:33:24</td>\n",
       "      <td>2021-10-29</td>\n",
       "      <td>How to start microdosing ? Hi, everyone,\\n\\nI'...</td>\n",
       "      <td>Getting Started/Newbie Question</td>\n",
       "      <td>How to start microdosing ? Hi, everyone,\\n\\nI'...</td>\n",
       "      <td>[How, to, start, microdosing, ?, Hi,, everyone...</td>\n",
       "      <td>How to start microdosing ? Hi, everyone, I am ...</td>\n",
       "      <td>[How, to, start, microdosing, ?, Hi, ,, everyo...</td>\n",
       "      <td>[how, to, start, microdosing, ?, hi, ,, everyo...</td>\n",
       "    </tr>\n",
       "  </tbody>\n",
       "</table>\n",
       "</div>"
      ],
      "text/plain": [
       "   Unnamed: 0    link_id          created_utc created_utc_str  \\\n",
       "0           0  t3_qic2l7  2021-10-29 12:49:15      2021-10-29   \n",
       "1           1  t3_qibj5e  2021-10-29 12:19:02      2021-10-29   \n",
       "2           2  t3_qibifv  2021-10-29 12:17:47      2021-10-29   \n",
       "3           3  t3_qiahat  2021-10-29 11:15:55      2021-10-29   \n",
       "4           4  t3_qi8zia  2021-10-29 09:33:24      2021-10-29   \n",
       "\n",
       "                                               posts  \\\n",
       "0  Dosage liverty caps Probbly a common question....   \n",
       "1  Psilocybin mushroom How do you find out if mic...   \n",
       "2  Can Truffles change their effects after they g...   \n",
       "3  Microdosing to stop overconsuming cannabis I a...   \n",
       "4  How to start microdosing ? Hi, everyone,\\n\\nI'...   \n",
       "\n",
       "                   link_flair_text  \\\n",
       "0             Question: Psilocybin   \n",
       "1  Getting Started/Newbie Question   \n",
       "2             Question: Psilocybin   \n",
       "3                    Question: LSD   \n",
       "4  Getting Started/Newbie Question   \n",
       "\n",
       "                                             nolinks  \\\n",
       "0  Dosage liverty caps Probbly a common question....   \n",
       "1  Psilocybin mushroom How do you find out if mic...   \n",
       "2  Can Truffles change their effects after they g...   \n",
       "3  Microdosing to stop overconsuming cannabis I a...   \n",
       "4  How to start microdosing ? Hi, everyone,\\n\\nI'...   \n",
       "\n",
       "                                         no_contract  \\\n",
       "0  [Dosage, liverty, caps, Probbly, a, common, qu...   \n",
       "1  [Psilocybin, mushroom, How, do, you, find, out...   \n",
       "2  [Can, Truffles, change, their, effects, after,...   \n",
       "3  [Microdosing, to, stop, overconsuming, cannabi...   \n",
       "4  [How, to, start, microdosing, ?, Hi,, everyone...   \n",
       "\n",
       "                                           posts_str  \\\n",
       "0  Dosage liverty caps Probbly a common question....   \n",
       "1  Psilocybin mushroom How do you find out if mic...   \n",
       "2  Can Truffles change their effects after they g...   \n",
       "3  Microdosing to stop overconsuming cannabis I a...   \n",
       "4  How to start microdosing ? Hi, everyone, I am ...   \n",
       "\n",
       "                                           tokenized  \\\n",
       "0  [Dosage, liverty, caps, Probbly, a, common, qu...   \n",
       "1  [Psilocybin, mushroom, How, do, you, find, out...   \n",
       "2  [Can, Truffles, change, their, effects, after,...   \n",
       "3  [Microdosing, to, stop, overconsuming, cannabi...   \n",
       "4  [How, to, start, microdosing, ?, Hi, ,, everyo...   \n",
       "\n",
       "                                               lower  \n",
       "0  [dosage, liverty, caps, probbly, a, common, qu...  \n",
       "1  [psilocybin, mushroom, how, do, you, find, out...  \n",
       "2  [can, truffles, change, their, effects, after,...  \n",
       "3  [microdosing, to, stop, overconsuming, cannabi...  \n",
       "4  [how, to, start, microdosing, ?, hi, ,, everyo...  "
      ]
     },
     "execution_count": 10,
     "metadata": {},
     "output_type": "execute_result"
    }
   ],
   "source": [
    "papers['lower'] = papers['tokenized'].apply(lambda x: [word.lower() for word in x])\n",
    "papers.head()"
   ]
  },
  {
   "cell_type": "markdown",
   "metadata": {},
   "source": [
    "**Removing Punctuations**"
   ]
  },
  {
   "cell_type": "code",
   "execution_count": 11,
   "metadata": {},
   "outputs": [
    {
     "data": {
      "text/html": [
       "<div>\n",
       "<style scoped>\n",
       "    .dataframe tbody tr th:only-of-type {\n",
       "        vertical-align: middle;\n",
       "    }\n",
       "\n",
       "    .dataframe tbody tr th {\n",
       "        vertical-align: top;\n",
       "    }\n",
       "\n",
       "    .dataframe thead th {\n",
       "        text-align: right;\n",
       "    }\n",
       "</style>\n",
       "<table border=\"1\" class=\"dataframe\">\n",
       "  <thead>\n",
       "    <tr style=\"text-align: right;\">\n",
       "      <th></th>\n",
       "      <th>Unnamed: 0</th>\n",
       "      <th>link_id</th>\n",
       "      <th>created_utc</th>\n",
       "      <th>created_utc_str</th>\n",
       "      <th>posts</th>\n",
       "      <th>link_flair_text</th>\n",
       "      <th>nolinks</th>\n",
       "      <th>no_contract</th>\n",
       "      <th>posts_str</th>\n",
       "      <th>tokenized</th>\n",
       "      <th>lower</th>\n",
       "      <th>no_punc</th>\n",
       "    </tr>\n",
       "  </thead>\n",
       "  <tbody>\n",
       "    <tr>\n",
       "      <th>0</th>\n",
       "      <td>0</td>\n",
       "      <td>t3_qic2l7</td>\n",
       "      <td>2021-10-29 12:49:15</td>\n",
       "      <td>2021-10-29</td>\n",
       "      <td>Dosage liverty caps Probbly a common question....</td>\n",
       "      <td>Question: Psilocybin</td>\n",
       "      <td>Dosage liverty caps Probbly a common question....</td>\n",
       "      <td>[Dosage, liverty, caps, Probbly, a, common, qu...</td>\n",
       "      <td>Dosage liverty caps Probbly a common question....</td>\n",
       "      <td>[Dosage, liverty, caps, Probbly, a, common, qu...</td>\n",
       "      <td>[dosage, liverty, caps, probbly, a, common, qu...</td>\n",
       "      <td>[dosage, liverty, caps, probbly, a, common, qu...</td>\n",
       "    </tr>\n",
       "    <tr>\n",
       "      <th>1</th>\n",
       "      <td>1</td>\n",
       "      <td>t3_qibj5e</td>\n",
       "      <td>2021-10-29 12:19:02</td>\n",
       "      <td>2021-10-29</td>\n",
       "      <td>Psilocybin mushroom How do you find out if mic...</td>\n",
       "      <td>Getting Started/Newbie Question</td>\n",
       "      <td>Psilocybin mushroom How do you find out if mic...</td>\n",
       "      <td>[Psilocybin, mushroom, How, do, you, find, out...</td>\n",
       "      <td>Psilocybin mushroom How do you find out if mic...</td>\n",
       "      <td>[Psilocybin, mushroom, How, do, you, find, out...</td>\n",
       "      <td>[psilocybin, mushroom, how, do, you, find, out...</td>\n",
       "      <td>[psilocybin, mushroom, how, do, you, find, out...</td>\n",
       "    </tr>\n",
       "    <tr>\n",
       "      <th>2</th>\n",
       "      <td>2</td>\n",
       "      <td>t3_qibifv</td>\n",
       "      <td>2021-10-29 12:17:47</td>\n",
       "      <td>2021-10-29</td>\n",
       "      <td>Can Truffles change their effects after they g...</td>\n",
       "      <td>Question: Psilocybin</td>\n",
       "      <td>Can Truffles change their effects after they g...</td>\n",
       "      <td>[Can, Truffles, change, their, effects, after,...</td>\n",
       "      <td>Can Truffles change their effects after they g...</td>\n",
       "      <td>[Can, Truffles, change, their, effects, after,...</td>\n",
       "      <td>[can, truffles, change, their, effects, after,...</td>\n",
       "      <td>[can, truffles, change, their, effects, after,...</td>\n",
       "    </tr>\n",
       "    <tr>\n",
       "      <th>3</th>\n",
       "      <td>3</td>\n",
       "      <td>t3_qiahat</td>\n",
       "      <td>2021-10-29 11:15:55</td>\n",
       "      <td>2021-10-29</td>\n",
       "      <td>Microdosing to stop overconsuming cannabis I a...</td>\n",
       "      <td>Question: LSD</td>\n",
       "      <td>Microdosing to stop overconsuming cannabis I a...</td>\n",
       "      <td>[Microdosing, to, stop, overconsuming, cannabi...</td>\n",
       "      <td>Microdosing to stop overconsuming cannabis I a...</td>\n",
       "      <td>[Microdosing, to, stop, overconsuming, cannabi...</td>\n",
       "      <td>[microdosing, to, stop, overconsuming, cannabi...</td>\n",
       "      <td>[microdosing, to, stop, overconsuming, cannabi...</td>\n",
       "    </tr>\n",
       "    <tr>\n",
       "      <th>4</th>\n",
       "      <td>4</td>\n",
       "      <td>t3_qi8zia</td>\n",
       "      <td>2021-10-29 09:33:24</td>\n",
       "      <td>2021-10-29</td>\n",
       "      <td>How to start microdosing ? Hi, everyone,\\n\\nI'...</td>\n",
       "      <td>Getting Started/Newbie Question</td>\n",
       "      <td>How to start microdosing ? Hi, everyone,\\n\\nI'...</td>\n",
       "      <td>[How, to, start, microdosing, ?, Hi,, everyone...</td>\n",
       "      <td>How to start microdosing ? Hi, everyone, I am ...</td>\n",
       "      <td>[How, to, start, microdosing, ?, Hi, ,, everyo...</td>\n",
       "      <td>[how, to, start, microdosing, ?, hi, ,, everyo...</td>\n",
       "      <td>[how, to, start, microdosing, hi, everyone, i,...</td>\n",
       "    </tr>\n",
       "  </tbody>\n",
       "</table>\n",
       "</div>"
      ],
      "text/plain": [
       "   Unnamed: 0    link_id          created_utc created_utc_str  \\\n",
       "0           0  t3_qic2l7  2021-10-29 12:49:15      2021-10-29   \n",
       "1           1  t3_qibj5e  2021-10-29 12:19:02      2021-10-29   \n",
       "2           2  t3_qibifv  2021-10-29 12:17:47      2021-10-29   \n",
       "3           3  t3_qiahat  2021-10-29 11:15:55      2021-10-29   \n",
       "4           4  t3_qi8zia  2021-10-29 09:33:24      2021-10-29   \n",
       "\n",
       "                                               posts  \\\n",
       "0  Dosage liverty caps Probbly a common question....   \n",
       "1  Psilocybin mushroom How do you find out if mic...   \n",
       "2  Can Truffles change their effects after they g...   \n",
       "3  Microdosing to stop overconsuming cannabis I a...   \n",
       "4  How to start microdosing ? Hi, everyone,\\n\\nI'...   \n",
       "\n",
       "                   link_flair_text  \\\n",
       "0             Question: Psilocybin   \n",
       "1  Getting Started/Newbie Question   \n",
       "2             Question: Psilocybin   \n",
       "3                    Question: LSD   \n",
       "4  Getting Started/Newbie Question   \n",
       "\n",
       "                                             nolinks  \\\n",
       "0  Dosage liverty caps Probbly a common question....   \n",
       "1  Psilocybin mushroom How do you find out if mic...   \n",
       "2  Can Truffles change their effects after they g...   \n",
       "3  Microdosing to stop overconsuming cannabis I a...   \n",
       "4  How to start microdosing ? Hi, everyone,\\n\\nI'...   \n",
       "\n",
       "                                         no_contract  \\\n",
       "0  [Dosage, liverty, caps, Probbly, a, common, qu...   \n",
       "1  [Psilocybin, mushroom, How, do, you, find, out...   \n",
       "2  [Can, Truffles, change, their, effects, after,...   \n",
       "3  [Microdosing, to, stop, overconsuming, cannabi...   \n",
       "4  [How, to, start, microdosing, ?, Hi,, everyone...   \n",
       "\n",
       "                                           posts_str  \\\n",
       "0  Dosage liverty caps Probbly a common question....   \n",
       "1  Psilocybin mushroom How do you find out if mic...   \n",
       "2  Can Truffles change their effects after they g...   \n",
       "3  Microdosing to stop overconsuming cannabis I a...   \n",
       "4  How to start microdosing ? Hi, everyone, I am ...   \n",
       "\n",
       "                                           tokenized  \\\n",
       "0  [Dosage, liverty, caps, Probbly, a, common, qu...   \n",
       "1  [Psilocybin, mushroom, How, do, you, find, out...   \n",
       "2  [Can, Truffles, change, their, effects, after,...   \n",
       "3  [Microdosing, to, stop, overconsuming, cannabi...   \n",
       "4  [How, to, start, microdosing, ?, Hi, ,, everyo...   \n",
       "\n",
       "                                               lower  \\\n",
       "0  [dosage, liverty, caps, probbly, a, common, qu...   \n",
       "1  [psilocybin, mushroom, how, do, you, find, out...   \n",
       "2  [can, truffles, change, their, effects, after,...   \n",
       "3  [microdosing, to, stop, overconsuming, cannabi...   \n",
       "4  [how, to, start, microdosing, ?, hi, ,, everyo...   \n",
       "\n",
       "                                             no_punc  \n",
       "0  [dosage, liverty, caps, probbly, a, common, qu...  \n",
       "1  [psilocybin, mushroom, how, do, you, find, out...  \n",
       "2  [can, truffles, change, their, effects, after,...  \n",
       "3  [microdosing, to, stop, overconsuming, cannabi...  \n",
       "4  [how, to, start, microdosing, hi, everyone, i,...  "
      ]
     },
     "execution_count": 11,
     "metadata": {},
     "output_type": "execute_result"
    }
   ],
   "source": [
    "punc = string.punctuation\n",
    "papers['no_punc'] = papers['lower'].apply(lambda x: [word for word in x if word not in punc])\n",
    "papers.head()"
   ]
  },
  {
   "cell_type": "markdown",
   "metadata": {},
   "source": [
    "**Removing stopwords**"
   ]
  },
  {
   "cell_type": "code",
   "execution_count": 12,
   "metadata": {},
   "outputs": [
    {
     "name": "stderr",
     "output_type": "stream",
     "text": [
      "[nltk_data] Downloading package stopwords to\n",
      "[nltk_data]     /Users/guneetsingh/nltk_data...\n",
      "[nltk_data]   Package stopwords is already up-to-date!\n"
     ]
    }
   ],
   "source": [
    "import gensim\n",
    "from gensim.utils import simple_preprocess\n",
    "import nltk\n",
    "nltk.download('stopwords')\n",
    "from nltk.corpus import stopwords"
   ]
  },
  {
   "cell_type": "code",
   "execution_count": 13,
   "metadata": {},
   "outputs": [
    {
     "data": {
      "text/html": [
       "<div>\n",
       "<style scoped>\n",
       "    .dataframe tbody tr th:only-of-type {\n",
       "        vertical-align: middle;\n",
       "    }\n",
       "\n",
       "    .dataframe tbody tr th {\n",
       "        vertical-align: top;\n",
       "    }\n",
       "\n",
       "    .dataframe thead th {\n",
       "        text-align: right;\n",
       "    }\n",
       "</style>\n",
       "<table border=\"1\" class=\"dataframe\">\n",
       "  <thead>\n",
       "    <tr style=\"text-align: right;\">\n",
       "      <th></th>\n",
       "      <th>Unnamed: 0</th>\n",
       "      <th>link_id</th>\n",
       "      <th>created_utc</th>\n",
       "      <th>created_utc_str</th>\n",
       "      <th>posts</th>\n",
       "      <th>link_flair_text</th>\n",
       "      <th>nolinks</th>\n",
       "      <th>no_contract</th>\n",
       "      <th>posts_str</th>\n",
       "      <th>tokenized</th>\n",
       "      <th>lower</th>\n",
       "      <th>no_punc</th>\n",
       "      <th>stopwords_removed</th>\n",
       "    </tr>\n",
       "  </thead>\n",
       "  <tbody>\n",
       "    <tr>\n",
       "      <th>0</th>\n",
       "      <td>0</td>\n",
       "      <td>t3_qic2l7</td>\n",
       "      <td>2021-10-29 12:49:15</td>\n",
       "      <td>2021-10-29</td>\n",
       "      <td>Dosage liverty caps Probbly a common question....</td>\n",
       "      <td>Question: Psilocybin</td>\n",
       "      <td>Dosage liverty caps Probbly a common question....</td>\n",
       "      <td>[Dosage, liverty, caps, Probbly, a, common, qu...</td>\n",
       "      <td>Dosage liverty caps Probbly a common question....</td>\n",
       "      <td>[Dosage, liverty, caps, Probbly, a, common, qu...</td>\n",
       "      <td>[dosage, liverty, caps, probbly, a, common, qu...</td>\n",
       "      <td>[dosage, liverty, caps, probbly, a, common, qu...</td>\n",
       "      <td>[dosage, liverty, caps, probbly, common, quest...</td>\n",
       "    </tr>\n",
       "    <tr>\n",
       "      <th>1</th>\n",
       "      <td>1</td>\n",
       "      <td>t3_qibj5e</td>\n",
       "      <td>2021-10-29 12:19:02</td>\n",
       "      <td>2021-10-29</td>\n",
       "      <td>Psilocybin mushroom How do you find out if mic...</td>\n",
       "      <td>Getting Started/Newbie Question</td>\n",
       "      <td>Psilocybin mushroom How do you find out if mic...</td>\n",
       "      <td>[Psilocybin, mushroom, How, do, you, find, out...</td>\n",
       "      <td>Psilocybin mushroom How do you find out if mic...</td>\n",
       "      <td>[Psilocybin, mushroom, How, do, you, find, out...</td>\n",
       "      <td>[psilocybin, mushroom, how, do, you, find, out...</td>\n",
       "      <td>[psilocybin, mushroom, how, do, you, find, out...</td>\n",
       "      <td>[psilocybin, mushroom, find, micro, dosing, ac...</td>\n",
       "    </tr>\n",
       "    <tr>\n",
       "      <th>2</th>\n",
       "      <td>2</td>\n",
       "      <td>t3_qibifv</td>\n",
       "      <td>2021-10-29 12:17:47</td>\n",
       "      <td>2021-10-29</td>\n",
       "      <td>Can Truffles change their effects after they g...</td>\n",
       "      <td>Question: Psilocybin</td>\n",
       "      <td>Can Truffles change their effects after they g...</td>\n",
       "      <td>[Can, Truffles, change, their, effects, after,...</td>\n",
       "      <td>Can Truffles change their effects after they g...</td>\n",
       "      <td>[Can, Truffles, change, their, effects, after,...</td>\n",
       "      <td>[can, truffles, change, their, effects, after,...</td>\n",
       "      <td>[can, truffles, change, their, effects, after,...</td>\n",
       "      <td>[truffles, change, effects, got, mild, stood, ...</td>\n",
       "    </tr>\n",
       "    <tr>\n",
       "      <th>3</th>\n",
       "      <td>3</td>\n",
       "      <td>t3_qiahat</td>\n",
       "      <td>2021-10-29 11:15:55</td>\n",
       "      <td>2021-10-29</td>\n",
       "      <td>Microdosing to stop overconsuming cannabis I a...</td>\n",
       "      <td>Question: LSD</td>\n",
       "      <td>Microdosing to stop overconsuming cannabis I a...</td>\n",
       "      <td>[Microdosing, to, stop, overconsuming, cannabi...</td>\n",
       "      <td>Microdosing to stop overconsuming cannabis I a...</td>\n",
       "      <td>[Microdosing, to, stop, overconsuming, cannabi...</td>\n",
       "      <td>[microdosing, to, stop, overconsuming, cannabi...</td>\n",
       "      <td>[microdosing, to, stop, overconsuming, cannabi...</td>\n",
       "      <td>[microdosing, stop, overconsuming, cannabis, c...</td>\n",
       "    </tr>\n",
       "    <tr>\n",
       "      <th>4</th>\n",
       "      <td>4</td>\n",
       "      <td>t3_qi8zia</td>\n",
       "      <td>2021-10-29 09:33:24</td>\n",
       "      <td>2021-10-29</td>\n",
       "      <td>How to start microdosing ? Hi, everyone,\\n\\nI'...</td>\n",
       "      <td>Getting Started/Newbie Question</td>\n",
       "      <td>How to start microdosing ? Hi, everyone,\\n\\nI'...</td>\n",
       "      <td>[How, to, start, microdosing, ?, Hi,, everyone...</td>\n",
       "      <td>How to start microdosing ? Hi, everyone, I am ...</td>\n",
       "      <td>[How, to, start, microdosing, ?, Hi, ,, everyo...</td>\n",
       "      <td>[how, to, start, microdosing, ?, hi, ,, everyo...</td>\n",
       "      <td>[how, to, start, microdosing, hi, everyone, i,...</td>\n",
       "      <td>[start, microdosing, hi, everyone, curious, mi...</td>\n",
       "    </tr>\n",
       "  </tbody>\n",
       "</table>\n",
       "</div>"
      ],
      "text/plain": [
       "   Unnamed: 0    link_id          created_utc created_utc_str  \\\n",
       "0           0  t3_qic2l7  2021-10-29 12:49:15      2021-10-29   \n",
       "1           1  t3_qibj5e  2021-10-29 12:19:02      2021-10-29   \n",
       "2           2  t3_qibifv  2021-10-29 12:17:47      2021-10-29   \n",
       "3           3  t3_qiahat  2021-10-29 11:15:55      2021-10-29   \n",
       "4           4  t3_qi8zia  2021-10-29 09:33:24      2021-10-29   \n",
       "\n",
       "                                               posts  \\\n",
       "0  Dosage liverty caps Probbly a common question....   \n",
       "1  Psilocybin mushroom How do you find out if mic...   \n",
       "2  Can Truffles change their effects after they g...   \n",
       "3  Microdosing to stop overconsuming cannabis I a...   \n",
       "4  How to start microdosing ? Hi, everyone,\\n\\nI'...   \n",
       "\n",
       "                   link_flair_text  \\\n",
       "0             Question: Psilocybin   \n",
       "1  Getting Started/Newbie Question   \n",
       "2             Question: Psilocybin   \n",
       "3                    Question: LSD   \n",
       "4  Getting Started/Newbie Question   \n",
       "\n",
       "                                             nolinks  \\\n",
       "0  Dosage liverty caps Probbly a common question....   \n",
       "1  Psilocybin mushroom How do you find out if mic...   \n",
       "2  Can Truffles change their effects after they g...   \n",
       "3  Microdosing to stop overconsuming cannabis I a...   \n",
       "4  How to start microdosing ? Hi, everyone,\\n\\nI'...   \n",
       "\n",
       "                                         no_contract  \\\n",
       "0  [Dosage, liverty, caps, Probbly, a, common, qu...   \n",
       "1  [Psilocybin, mushroom, How, do, you, find, out...   \n",
       "2  [Can, Truffles, change, their, effects, after,...   \n",
       "3  [Microdosing, to, stop, overconsuming, cannabi...   \n",
       "4  [How, to, start, microdosing, ?, Hi,, everyone...   \n",
       "\n",
       "                                           posts_str  \\\n",
       "0  Dosage liverty caps Probbly a common question....   \n",
       "1  Psilocybin mushroom How do you find out if mic...   \n",
       "2  Can Truffles change their effects after they g...   \n",
       "3  Microdosing to stop overconsuming cannabis I a...   \n",
       "4  How to start microdosing ? Hi, everyone, I am ...   \n",
       "\n",
       "                                           tokenized  \\\n",
       "0  [Dosage, liverty, caps, Probbly, a, common, qu...   \n",
       "1  [Psilocybin, mushroom, How, do, you, find, out...   \n",
       "2  [Can, Truffles, change, their, effects, after,...   \n",
       "3  [Microdosing, to, stop, overconsuming, cannabi...   \n",
       "4  [How, to, start, microdosing, ?, Hi, ,, everyo...   \n",
       "\n",
       "                                               lower  \\\n",
       "0  [dosage, liverty, caps, probbly, a, common, qu...   \n",
       "1  [psilocybin, mushroom, how, do, you, find, out...   \n",
       "2  [can, truffles, change, their, effects, after,...   \n",
       "3  [microdosing, to, stop, overconsuming, cannabi...   \n",
       "4  [how, to, start, microdosing, ?, hi, ,, everyo...   \n",
       "\n",
       "                                             no_punc  \\\n",
       "0  [dosage, liverty, caps, probbly, a, common, qu...   \n",
       "1  [psilocybin, mushroom, how, do, you, find, out...   \n",
       "2  [can, truffles, change, their, effects, after,...   \n",
       "3  [microdosing, to, stop, overconsuming, cannabi...   \n",
       "4  [how, to, start, microdosing, hi, everyone, i,...   \n",
       "\n",
       "                                   stopwords_removed  \n",
       "0  [dosage, liverty, caps, probbly, common, quest...  \n",
       "1  [psilocybin, mushroom, find, micro, dosing, ac...  \n",
       "2  [truffles, change, effects, got, mild, stood, ...  \n",
       "3  [microdosing, stop, overconsuming, cannabis, c...  \n",
       "4  [start, microdosing, hi, everyone, curious, mi...  "
      ]
     },
     "execution_count": 13,
     "metadata": {},
     "output_type": "execute_result"
    }
   ],
   "source": [
    "stop_words = set(stopwords.words('english'))\n",
    "papers['stopwords_removed'] = papers['no_punc'].apply(lambda x: [word for word in x if word not in stop_words])\n",
    "papers.head()"
   ]
  },
  {
   "cell_type": "markdown",
   "metadata": {},
   "source": [
    "**Parts of speech tagging**"
   ]
  },
  {
   "cell_type": "code",
   "execution_count": 14,
   "metadata": {},
   "outputs": [
    {
     "name": "stderr",
     "output_type": "stream",
     "text": [
      "[nltk_data] Downloading package averaged_perceptron_tagger to\n",
      "[nltk_data]     /Users/guneetsingh/nltk_data...\n",
      "[nltk_data]   Package averaged_perceptron_tagger is already up-to-\n",
      "[nltk_data]       date!\n"
     ]
    },
    {
     "data": {
      "text/html": [
       "<div>\n",
       "<style scoped>\n",
       "    .dataframe tbody tr th:only-of-type {\n",
       "        vertical-align: middle;\n",
       "    }\n",
       "\n",
       "    .dataframe tbody tr th {\n",
       "        vertical-align: top;\n",
       "    }\n",
       "\n",
       "    .dataframe thead th {\n",
       "        text-align: right;\n",
       "    }\n",
       "</style>\n",
       "<table border=\"1\" class=\"dataframe\">\n",
       "  <thead>\n",
       "    <tr style=\"text-align: right;\">\n",
       "      <th></th>\n",
       "      <th>Unnamed: 0</th>\n",
       "      <th>link_id</th>\n",
       "      <th>created_utc</th>\n",
       "      <th>created_utc_str</th>\n",
       "      <th>posts</th>\n",
       "      <th>link_flair_text</th>\n",
       "      <th>nolinks</th>\n",
       "      <th>no_contract</th>\n",
       "      <th>posts_str</th>\n",
       "      <th>tokenized</th>\n",
       "      <th>lower</th>\n",
       "      <th>no_punc</th>\n",
       "      <th>stopwords_removed</th>\n",
       "      <th>pos_tags</th>\n",
       "    </tr>\n",
       "  </thead>\n",
       "  <tbody>\n",
       "    <tr>\n",
       "      <th>0</th>\n",
       "      <td>0</td>\n",
       "      <td>t3_qic2l7</td>\n",
       "      <td>2021-10-29 12:49:15</td>\n",
       "      <td>2021-10-29</td>\n",
       "      <td>Dosage liverty caps Probbly a common question....</td>\n",
       "      <td>Question: Psilocybin</td>\n",
       "      <td>Dosage liverty caps Probbly a common question....</td>\n",
       "      <td>[Dosage, liverty, caps, Probbly, a, common, qu...</td>\n",
       "      <td>Dosage liverty caps Probbly a common question....</td>\n",
       "      <td>[Dosage, liverty, caps, Probbly, a, common, qu...</td>\n",
       "      <td>[dosage, liverty, caps, probbly, a, common, qu...</td>\n",
       "      <td>[dosage, liverty, caps, probbly, a, common, qu...</td>\n",
       "      <td>[dosage, liverty, caps, probbly, common, quest...</td>\n",
       "      <td>[(dosage, NN), (liverty, NN), (caps, NN), (pro...</td>\n",
       "    </tr>\n",
       "    <tr>\n",
       "      <th>1</th>\n",
       "      <td>1</td>\n",
       "      <td>t3_qibj5e</td>\n",
       "      <td>2021-10-29 12:19:02</td>\n",
       "      <td>2021-10-29</td>\n",
       "      <td>Psilocybin mushroom How do you find out if mic...</td>\n",
       "      <td>Getting Started/Newbie Question</td>\n",
       "      <td>Psilocybin mushroom How do you find out if mic...</td>\n",
       "      <td>[Psilocybin, mushroom, How, do, you, find, out...</td>\n",
       "      <td>Psilocybin mushroom How do you find out if mic...</td>\n",
       "      <td>[Psilocybin, mushroom, How, do, you, find, out...</td>\n",
       "      <td>[psilocybin, mushroom, how, do, you, find, out...</td>\n",
       "      <td>[psilocybin, mushroom, how, do, you, find, out...</td>\n",
       "      <td>[psilocybin, mushroom, find, micro, dosing, ac...</td>\n",
       "      <td>[(psilocybin, NN), (mushroom, NN), (find, VBP)...</td>\n",
       "    </tr>\n",
       "    <tr>\n",
       "      <th>2</th>\n",
       "      <td>2</td>\n",
       "      <td>t3_qibifv</td>\n",
       "      <td>2021-10-29 12:17:47</td>\n",
       "      <td>2021-10-29</td>\n",
       "      <td>Can Truffles change their effects after they g...</td>\n",
       "      <td>Question: Psilocybin</td>\n",
       "      <td>Can Truffles change their effects after they g...</td>\n",
       "      <td>[Can, Truffles, change, their, effects, after,...</td>\n",
       "      <td>Can Truffles change their effects after they g...</td>\n",
       "      <td>[Can, Truffles, change, their, effects, after,...</td>\n",
       "      <td>[can, truffles, change, their, effects, after,...</td>\n",
       "      <td>[can, truffles, change, their, effects, after,...</td>\n",
       "      <td>[truffles, change, effects, got, mild, stood, ...</td>\n",
       "      <td>[(truffles, NNS), (change, VBP), (effects, NNS...</td>\n",
       "    </tr>\n",
       "    <tr>\n",
       "      <th>3</th>\n",
       "      <td>3</td>\n",
       "      <td>t3_qiahat</td>\n",
       "      <td>2021-10-29 11:15:55</td>\n",
       "      <td>2021-10-29</td>\n",
       "      <td>Microdosing to stop overconsuming cannabis I a...</td>\n",
       "      <td>Question: LSD</td>\n",
       "      <td>Microdosing to stop overconsuming cannabis I a...</td>\n",
       "      <td>[Microdosing, to, stop, overconsuming, cannabi...</td>\n",
       "      <td>Microdosing to stop overconsuming cannabis I a...</td>\n",
       "      <td>[Microdosing, to, stop, overconsuming, cannabi...</td>\n",
       "      <td>[microdosing, to, stop, overconsuming, cannabi...</td>\n",
       "      <td>[microdosing, to, stop, overconsuming, cannabi...</td>\n",
       "      <td>[microdosing, stop, overconsuming, cannabis, c...</td>\n",
       "      <td>[(microdosing, VBG), (stop, NN), (overconsumin...</td>\n",
       "    </tr>\n",
       "    <tr>\n",
       "      <th>4</th>\n",
       "      <td>4</td>\n",
       "      <td>t3_qi8zia</td>\n",
       "      <td>2021-10-29 09:33:24</td>\n",
       "      <td>2021-10-29</td>\n",
       "      <td>How to start microdosing ? Hi, everyone,\\n\\nI'...</td>\n",
       "      <td>Getting Started/Newbie Question</td>\n",
       "      <td>How to start microdosing ? Hi, everyone,\\n\\nI'...</td>\n",
       "      <td>[How, to, start, microdosing, ?, Hi,, everyone...</td>\n",
       "      <td>How to start microdosing ? Hi, everyone, I am ...</td>\n",
       "      <td>[How, to, start, microdosing, ?, Hi, ,, everyo...</td>\n",
       "      <td>[how, to, start, microdosing, ?, hi, ,, everyo...</td>\n",
       "      <td>[how, to, start, microdosing, hi, everyone, i,...</td>\n",
       "      <td>[start, microdosing, hi, everyone, curious, mi...</td>\n",
       "      <td>[(start, NN), (microdosing, VBG), (hi, NN), (e...</td>\n",
       "    </tr>\n",
       "  </tbody>\n",
       "</table>\n",
       "</div>"
      ],
      "text/plain": [
       "   Unnamed: 0    link_id          created_utc created_utc_str  \\\n",
       "0           0  t3_qic2l7  2021-10-29 12:49:15      2021-10-29   \n",
       "1           1  t3_qibj5e  2021-10-29 12:19:02      2021-10-29   \n",
       "2           2  t3_qibifv  2021-10-29 12:17:47      2021-10-29   \n",
       "3           3  t3_qiahat  2021-10-29 11:15:55      2021-10-29   \n",
       "4           4  t3_qi8zia  2021-10-29 09:33:24      2021-10-29   \n",
       "\n",
       "                                               posts  \\\n",
       "0  Dosage liverty caps Probbly a common question....   \n",
       "1  Psilocybin mushroom How do you find out if mic...   \n",
       "2  Can Truffles change their effects after they g...   \n",
       "3  Microdosing to stop overconsuming cannabis I a...   \n",
       "4  How to start microdosing ? Hi, everyone,\\n\\nI'...   \n",
       "\n",
       "                   link_flair_text  \\\n",
       "0             Question: Psilocybin   \n",
       "1  Getting Started/Newbie Question   \n",
       "2             Question: Psilocybin   \n",
       "3                    Question: LSD   \n",
       "4  Getting Started/Newbie Question   \n",
       "\n",
       "                                             nolinks  \\\n",
       "0  Dosage liverty caps Probbly a common question....   \n",
       "1  Psilocybin mushroom How do you find out if mic...   \n",
       "2  Can Truffles change their effects after they g...   \n",
       "3  Microdosing to stop overconsuming cannabis I a...   \n",
       "4  How to start microdosing ? Hi, everyone,\\n\\nI'...   \n",
       "\n",
       "                                         no_contract  \\\n",
       "0  [Dosage, liverty, caps, Probbly, a, common, qu...   \n",
       "1  [Psilocybin, mushroom, How, do, you, find, out...   \n",
       "2  [Can, Truffles, change, their, effects, after,...   \n",
       "3  [Microdosing, to, stop, overconsuming, cannabi...   \n",
       "4  [How, to, start, microdosing, ?, Hi,, everyone...   \n",
       "\n",
       "                                           posts_str  \\\n",
       "0  Dosage liverty caps Probbly a common question....   \n",
       "1  Psilocybin mushroom How do you find out if mic...   \n",
       "2  Can Truffles change their effects after they g...   \n",
       "3  Microdosing to stop overconsuming cannabis I a...   \n",
       "4  How to start microdosing ? Hi, everyone, I am ...   \n",
       "\n",
       "                                           tokenized  \\\n",
       "0  [Dosage, liverty, caps, Probbly, a, common, qu...   \n",
       "1  [Psilocybin, mushroom, How, do, you, find, out...   \n",
       "2  [Can, Truffles, change, their, effects, after,...   \n",
       "3  [Microdosing, to, stop, overconsuming, cannabi...   \n",
       "4  [How, to, start, microdosing, ?, Hi, ,, everyo...   \n",
       "\n",
       "                                               lower  \\\n",
       "0  [dosage, liverty, caps, probbly, a, common, qu...   \n",
       "1  [psilocybin, mushroom, how, do, you, find, out...   \n",
       "2  [can, truffles, change, their, effects, after,...   \n",
       "3  [microdosing, to, stop, overconsuming, cannabi...   \n",
       "4  [how, to, start, microdosing, ?, hi, ,, everyo...   \n",
       "\n",
       "                                             no_punc  \\\n",
       "0  [dosage, liverty, caps, probbly, a, common, qu...   \n",
       "1  [psilocybin, mushroom, how, do, you, find, out...   \n",
       "2  [can, truffles, change, their, effects, after,...   \n",
       "3  [microdosing, to, stop, overconsuming, cannabi...   \n",
       "4  [how, to, start, microdosing, hi, everyone, i,...   \n",
       "\n",
       "                                   stopwords_removed  \\\n",
       "0  [dosage, liverty, caps, probbly, common, quest...   \n",
       "1  [psilocybin, mushroom, find, micro, dosing, ac...   \n",
       "2  [truffles, change, effects, got, mild, stood, ...   \n",
       "3  [microdosing, stop, overconsuming, cannabis, c...   \n",
       "4  [start, microdosing, hi, everyone, curious, mi...   \n",
       "\n",
       "                                            pos_tags  \n",
       "0  [(dosage, NN), (liverty, NN), (caps, NN), (pro...  \n",
       "1  [(psilocybin, NN), (mushroom, NN), (find, VBP)...  \n",
       "2  [(truffles, NNS), (change, VBP), (effects, NNS...  \n",
       "3  [(microdosing, VBG), (stop, NN), (overconsumin...  \n",
       "4  [(start, NN), (microdosing, VBG), (hi, NN), (e...  "
      ]
     },
     "execution_count": 14,
     "metadata": {},
     "output_type": "execute_result"
    }
   ],
   "source": [
    "nltk.download('averaged_perceptron_tagger')\n",
    "papers['pos_tags'] = papers['stopwords_removed'].apply(nltk.tag.pos_tag)\n",
    "papers.head()"
   ]
  },
  {
   "cell_type": "markdown",
   "metadata": {},
   "source": [
    "**Lemmatizing Words**"
   ]
  },
  {
   "cell_type": "code",
   "execution_count": 15,
   "metadata": {},
   "outputs": [
    {
     "name": "stderr",
     "output_type": "stream",
     "text": [
      "[nltk_data] Downloading package wordnet to\n",
      "[nltk_data]     /Users/guneetsingh/nltk_data...\n",
      "[nltk_data]   Package wordnet is already up-to-date!\n"
     ]
    },
    {
     "data": {
      "text/html": [
       "<div>\n",
       "<style scoped>\n",
       "    .dataframe tbody tr th:only-of-type {\n",
       "        vertical-align: middle;\n",
       "    }\n",
       "\n",
       "    .dataframe tbody tr th {\n",
       "        vertical-align: top;\n",
       "    }\n",
       "\n",
       "    .dataframe thead th {\n",
       "        text-align: right;\n",
       "    }\n",
       "</style>\n",
       "<table border=\"1\" class=\"dataframe\">\n",
       "  <thead>\n",
       "    <tr style=\"text-align: right;\">\n",
       "      <th></th>\n",
       "      <th>Unnamed: 0</th>\n",
       "      <th>link_id</th>\n",
       "      <th>created_utc</th>\n",
       "      <th>created_utc_str</th>\n",
       "      <th>posts</th>\n",
       "      <th>link_flair_text</th>\n",
       "      <th>nolinks</th>\n",
       "      <th>no_contract</th>\n",
       "      <th>posts_str</th>\n",
       "      <th>tokenized</th>\n",
       "      <th>lower</th>\n",
       "      <th>no_punc</th>\n",
       "      <th>stopwords_removed</th>\n",
       "      <th>pos_tags</th>\n",
       "      <th>wordnet_pos</th>\n",
       "    </tr>\n",
       "  </thead>\n",
       "  <tbody>\n",
       "    <tr>\n",
       "      <th>0</th>\n",
       "      <td>0</td>\n",
       "      <td>t3_qic2l7</td>\n",
       "      <td>2021-10-29 12:49:15</td>\n",
       "      <td>2021-10-29</td>\n",
       "      <td>Dosage liverty caps Probbly a common question....</td>\n",
       "      <td>Question: Psilocybin</td>\n",
       "      <td>Dosage liverty caps Probbly a common question....</td>\n",
       "      <td>[Dosage, liverty, caps, Probbly, a, common, qu...</td>\n",
       "      <td>Dosage liverty caps Probbly a common question....</td>\n",
       "      <td>[Dosage, liverty, caps, Probbly, a, common, qu...</td>\n",
       "      <td>[dosage, liverty, caps, probbly, a, common, qu...</td>\n",
       "      <td>[dosage, liverty, caps, probbly, a, common, qu...</td>\n",
       "      <td>[dosage, liverty, caps, probbly, common, quest...</td>\n",
       "      <td>[(dosage, NN), (liverty, NN), (caps, NN), (pro...</td>\n",
       "      <td>[(dosage, n), (liverty, n), (caps, n), (probbl...</td>\n",
       "    </tr>\n",
       "    <tr>\n",
       "      <th>1</th>\n",
       "      <td>1</td>\n",
       "      <td>t3_qibj5e</td>\n",
       "      <td>2021-10-29 12:19:02</td>\n",
       "      <td>2021-10-29</td>\n",
       "      <td>Psilocybin mushroom How do you find out if mic...</td>\n",
       "      <td>Getting Started/Newbie Question</td>\n",
       "      <td>Psilocybin mushroom How do you find out if mic...</td>\n",
       "      <td>[Psilocybin, mushroom, How, do, you, find, out...</td>\n",
       "      <td>Psilocybin mushroom How do you find out if mic...</td>\n",
       "      <td>[Psilocybin, mushroom, How, do, you, find, out...</td>\n",
       "      <td>[psilocybin, mushroom, how, do, you, find, out...</td>\n",
       "      <td>[psilocybin, mushroom, how, do, you, find, out...</td>\n",
       "      <td>[psilocybin, mushroom, find, micro, dosing, ac...</td>\n",
       "      <td>[(psilocybin, NN), (mushroom, NN), (find, VBP)...</td>\n",
       "      <td>[(psilocybin, n), (mushroom, n), (find, v), (m...</td>\n",
       "    </tr>\n",
       "    <tr>\n",
       "      <th>2</th>\n",
       "      <td>2</td>\n",
       "      <td>t3_qibifv</td>\n",
       "      <td>2021-10-29 12:17:47</td>\n",
       "      <td>2021-10-29</td>\n",
       "      <td>Can Truffles change their effects after they g...</td>\n",
       "      <td>Question: Psilocybin</td>\n",
       "      <td>Can Truffles change their effects after they g...</td>\n",
       "      <td>[Can, Truffles, change, their, effects, after,...</td>\n",
       "      <td>Can Truffles change their effects after they g...</td>\n",
       "      <td>[Can, Truffles, change, their, effects, after,...</td>\n",
       "      <td>[can, truffles, change, their, effects, after,...</td>\n",
       "      <td>[can, truffles, change, their, effects, after,...</td>\n",
       "      <td>[truffles, change, effects, got, mild, stood, ...</td>\n",
       "      <td>[(truffles, NNS), (change, VBP), (effects, NNS...</td>\n",
       "      <td>[(truffles, n), (change, v), (effects, n), (go...</td>\n",
       "    </tr>\n",
       "    <tr>\n",
       "      <th>3</th>\n",
       "      <td>3</td>\n",
       "      <td>t3_qiahat</td>\n",
       "      <td>2021-10-29 11:15:55</td>\n",
       "      <td>2021-10-29</td>\n",
       "      <td>Microdosing to stop overconsuming cannabis I a...</td>\n",
       "      <td>Question: LSD</td>\n",
       "      <td>Microdosing to stop overconsuming cannabis I a...</td>\n",
       "      <td>[Microdosing, to, stop, overconsuming, cannabi...</td>\n",
       "      <td>Microdosing to stop overconsuming cannabis I a...</td>\n",
       "      <td>[Microdosing, to, stop, overconsuming, cannabi...</td>\n",
       "      <td>[microdosing, to, stop, overconsuming, cannabi...</td>\n",
       "      <td>[microdosing, to, stop, overconsuming, cannabi...</td>\n",
       "      <td>[microdosing, stop, overconsuming, cannabis, c...</td>\n",
       "      <td>[(microdosing, VBG), (stop, NN), (overconsumin...</td>\n",
       "      <td>[(microdosing, v), (stop, n), (overconsuming, ...</td>\n",
       "    </tr>\n",
       "    <tr>\n",
       "      <th>4</th>\n",
       "      <td>4</td>\n",
       "      <td>t3_qi8zia</td>\n",
       "      <td>2021-10-29 09:33:24</td>\n",
       "      <td>2021-10-29</td>\n",
       "      <td>How to start microdosing ? Hi, everyone,\\n\\nI'...</td>\n",
       "      <td>Getting Started/Newbie Question</td>\n",
       "      <td>How to start microdosing ? Hi, everyone,\\n\\nI'...</td>\n",
       "      <td>[How, to, start, microdosing, ?, Hi,, everyone...</td>\n",
       "      <td>How to start microdosing ? Hi, everyone, I am ...</td>\n",
       "      <td>[How, to, start, microdosing, ?, Hi, ,, everyo...</td>\n",
       "      <td>[how, to, start, microdosing, ?, hi, ,, everyo...</td>\n",
       "      <td>[how, to, start, microdosing, hi, everyone, i,...</td>\n",
       "      <td>[start, microdosing, hi, everyone, curious, mi...</td>\n",
       "      <td>[(start, NN), (microdosing, VBG), (hi, NN), (e...</td>\n",
       "      <td>[(start, n), (microdosing, v), (hi, n), (every...</td>\n",
       "    </tr>\n",
       "  </tbody>\n",
       "</table>\n",
       "</div>"
      ],
      "text/plain": [
       "   Unnamed: 0    link_id          created_utc created_utc_str  \\\n",
       "0           0  t3_qic2l7  2021-10-29 12:49:15      2021-10-29   \n",
       "1           1  t3_qibj5e  2021-10-29 12:19:02      2021-10-29   \n",
       "2           2  t3_qibifv  2021-10-29 12:17:47      2021-10-29   \n",
       "3           3  t3_qiahat  2021-10-29 11:15:55      2021-10-29   \n",
       "4           4  t3_qi8zia  2021-10-29 09:33:24      2021-10-29   \n",
       "\n",
       "                                               posts  \\\n",
       "0  Dosage liverty caps Probbly a common question....   \n",
       "1  Psilocybin mushroom How do you find out if mic...   \n",
       "2  Can Truffles change their effects after they g...   \n",
       "3  Microdosing to stop overconsuming cannabis I a...   \n",
       "4  How to start microdosing ? Hi, everyone,\\n\\nI'...   \n",
       "\n",
       "                   link_flair_text  \\\n",
       "0             Question: Psilocybin   \n",
       "1  Getting Started/Newbie Question   \n",
       "2             Question: Psilocybin   \n",
       "3                    Question: LSD   \n",
       "4  Getting Started/Newbie Question   \n",
       "\n",
       "                                             nolinks  \\\n",
       "0  Dosage liverty caps Probbly a common question....   \n",
       "1  Psilocybin mushroom How do you find out if mic...   \n",
       "2  Can Truffles change their effects after they g...   \n",
       "3  Microdosing to stop overconsuming cannabis I a...   \n",
       "4  How to start microdosing ? Hi, everyone,\\n\\nI'...   \n",
       "\n",
       "                                         no_contract  \\\n",
       "0  [Dosage, liverty, caps, Probbly, a, common, qu...   \n",
       "1  [Psilocybin, mushroom, How, do, you, find, out...   \n",
       "2  [Can, Truffles, change, their, effects, after,...   \n",
       "3  [Microdosing, to, stop, overconsuming, cannabi...   \n",
       "4  [How, to, start, microdosing, ?, Hi,, everyone...   \n",
       "\n",
       "                                           posts_str  \\\n",
       "0  Dosage liverty caps Probbly a common question....   \n",
       "1  Psilocybin mushroom How do you find out if mic...   \n",
       "2  Can Truffles change their effects after they g...   \n",
       "3  Microdosing to stop overconsuming cannabis I a...   \n",
       "4  How to start microdosing ? Hi, everyone, I am ...   \n",
       "\n",
       "                                           tokenized  \\\n",
       "0  [Dosage, liverty, caps, Probbly, a, common, qu...   \n",
       "1  [Psilocybin, mushroom, How, do, you, find, out...   \n",
       "2  [Can, Truffles, change, their, effects, after,...   \n",
       "3  [Microdosing, to, stop, overconsuming, cannabi...   \n",
       "4  [How, to, start, microdosing, ?, Hi, ,, everyo...   \n",
       "\n",
       "                                               lower  \\\n",
       "0  [dosage, liverty, caps, probbly, a, common, qu...   \n",
       "1  [psilocybin, mushroom, how, do, you, find, out...   \n",
       "2  [can, truffles, change, their, effects, after,...   \n",
       "3  [microdosing, to, stop, overconsuming, cannabi...   \n",
       "4  [how, to, start, microdosing, ?, hi, ,, everyo...   \n",
       "\n",
       "                                             no_punc  \\\n",
       "0  [dosage, liverty, caps, probbly, a, common, qu...   \n",
       "1  [psilocybin, mushroom, how, do, you, find, out...   \n",
       "2  [can, truffles, change, their, effects, after,...   \n",
       "3  [microdosing, to, stop, overconsuming, cannabi...   \n",
       "4  [how, to, start, microdosing, hi, everyone, i,...   \n",
       "\n",
       "                                   stopwords_removed  \\\n",
       "0  [dosage, liverty, caps, probbly, common, quest...   \n",
       "1  [psilocybin, mushroom, find, micro, dosing, ac...   \n",
       "2  [truffles, change, effects, got, mild, stood, ...   \n",
       "3  [microdosing, stop, overconsuming, cannabis, c...   \n",
       "4  [start, microdosing, hi, everyone, curious, mi...   \n",
       "\n",
       "                                            pos_tags  \\\n",
       "0  [(dosage, NN), (liverty, NN), (caps, NN), (pro...   \n",
       "1  [(psilocybin, NN), (mushroom, NN), (find, VBP)...   \n",
       "2  [(truffles, NNS), (change, VBP), (effects, NNS...   \n",
       "3  [(microdosing, VBG), (stop, NN), (overconsumin...   \n",
       "4  [(start, NN), (microdosing, VBG), (hi, NN), (e...   \n",
       "\n",
       "                                         wordnet_pos  \n",
       "0  [(dosage, n), (liverty, n), (caps, n), (probbl...  \n",
       "1  [(psilocybin, n), (mushroom, n), (find, v), (m...  \n",
       "2  [(truffles, n), (change, v), (effects, n), (go...  \n",
       "3  [(microdosing, v), (stop, n), (overconsuming, ...  \n",
       "4  [(start, n), (microdosing, v), (hi, n), (every...  "
      ]
     },
     "execution_count": 15,
     "metadata": {},
     "output_type": "execute_result"
    }
   ],
   "source": [
    "nltk.download('wordnet')\n",
    "def get_wordnet_pos(tag):\n",
    "    if tag.startswith('J'):\n",
    "        return wordnet.ADJ\n",
    "    elif tag.startswith('V'):\n",
    "        return wordnet.VERB\n",
    "    elif tag.startswith('N'):\n",
    "        return wordnet.NOUN\n",
    "    elif tag.startswith('R'):\n",
    "        return wordnet.ADV\n",
    "    else:\n",
    "        return wordnet.NOUN\n",
    "papers['wordnet_pos'] = papers['pos_tags'].apply(lambda x: [(word, get_wordnet_pos(pos_tag)) for (word, pos_tag) in x])\n",
    "papers.head()"
   ]
  },
  {
   "cell_type": "code",
   "execution_count": 16,
   "metadata": {},
   "outputs": [
    {
     "data": {
      "text/html": [
       "<div>\n",
       "<style scoped>\n",
       "    .dataframe tbody tr th:only-of-type {\n",
       "        vertical-align: middle;\n",
       "    }\n",
       "\n",
       "    .dataframe tbody tr th {\n",
       "        vertical-align: top;\n",
       "    }\n",
       "\n",
       "    .dataframe thead th {\n",
       "        text-align: right;\n",
       "    }\n",
       "</style>\n",
       "<table border=\"1\" class=\"dataframe\">\n",
       "  <thead>\n",
       "    <tr style=\"text-align: right;\">\n",
       "      <th></th>\n",
       "      <th>Unnamed: 0</th>\n",
       "      <th>link_id</th>\n",
       "      <th>created_utc</th>\n",
       "      <th>created_utc_str</th>\n",
       "      <th>posts</th>\n",
       "      <th>link_flair_text</th>\n",
       "      <th>nolinks</th>\n",
       "      <th>no_contract</th>\n",
       "      <th>posts_str</th>\n",
       "      <th>tokenized</th>\n",
       "      <th>lower</th>\n",
       "      <th>no_punc</th>\n",
       "      <th>stopwords_removed</th>\n",
       "      <th>pos_tags</th>\n",
       "      <th>wordnet_pos</th>\n",
       "      <th>lemmatized</th>\n",
       "    </tr>\n",
       "  </thead>\n",
       "  <tbody>\n",
       "    <tr>\n",
       "      <th>0</th>\n",
       "      <td>0</td>\n",
       "      <td>t3_qic2l7</td>\n",
       "      <td>2021-10-29 12:49:15</td>\n",
       "      <td>2021-10-29</td>\n",
       "      <td>Dosage liverty caps Probbly a common question....</td>\n",
       "      <td>Question: Psilocybin</td>\n",
       "      <td>Dosage liverty caps Probbly a common question....</td>\n",
       "      <td>[Dosage, liverty, caps, Probbly, a, common, qu...</td>\n",
       "      <td>Dosage liverty caps Probbly a common question....</td>\n",
       "      <td>[Dosage, liverty, caps, Probbly, a, common, qu...</td>\n",
       "      <td>[dosage, liverty, caps, probbly, a, common, qu...</td>\n",
       "      <td>[dosage, liverty, caps, probbly, a, common, qu...</td>\n",
       "      <td>[dosage, liverty, caps, probbly, common, quest...</td>\n",
       "      <td>[(dosage, NN), (liverty, NN), (caps, NN), (pro...</td>\n",
       "      <td>[(dosage, n), (liverty, n), (caps, n), (probbl...</td>\n",
       "      <td>[dosage, liverty, cap, probbly, common, questi...</td>\n",
       "    </tr>\n",
       "    <tr>\n",
       "      <th>1</th>\n",
       "      <td>1</td>\n",
       "      <td>t3_qibj5e</td>\n",
       "      <td>2021-10-29 12:19:02</td>\n",
       "      <td>2021-10-29</td>\n",
       "      <td>Psilocybin mushroom How do you find out if mic...</td>\n",
       "      <td>Getting Started/Newbie Question</td>\n",
       "      <td>Psilocybin mushroom How do you find out if mic...</td>\n",
       "      <td>[Psilocybin, mushroom, How, do, you, find, out...</td>\n",
       "      <td>Psilocybin mushroom How do you find out if mic...</td>\n",
       "      <td>[Psilocybin, mushroom, How, do, you, find, out...</td>\n",
       "      <td>[psilocybin, mushroom, how, do, you, find, out...</td>\n",
       "      <td>[psilocybin, mushroom, how, do, you, find, out...</td>\n",
       "      <td>[psilocybin, mushroom, find, micro, dosing, ac...</td>\n",
       "      <td>[(psilocybin, NN), (mushroom, NN), (find, VBP)...</td>\n",
       "      <td>[(psilocybin, n), (mushroom, n), (find, v), (m...</td>\n",
       "      <td>[psilocybin, mushroom, find, micro, dose, actu...</td>\n",
       "    </tr>\n",
       "    <tr>\n",
       "      <th>2</th>\n",
       "      <td>2</td>\n",
       "      <td>t3_qibifv</td>\n",
       "      <td>2021-10-29 12:17:47</td>\n",
       "      <td>2021-10-29</td>\n",
       "      <td>Can Truffles change their effects after they g...</td>\n",
       "      <td>Question: Psilocybin</td>\n",
       "      <td>Can Truffles change their effects after they g...</td>\n",
       "      <td>[Can, Truffles, change, their, effects, after,...</td>\n",
       "      <td>Can Truffles change their effects after they g...</td>\n",
       "      <td>[Can, Truffles, change, their, effects, after,...</td>\n",
       "      <td>[can, truffles, change, their, effects, after,...</td>\n",
       "      <td>[can, truffles, change, their, effects, after,...</td>\n",
       "      <td>[truffles, change, effects, got, mild, stood, ...</td>\n",
       "      <td>[(truffles, NNS), (change, VBP), (effects, NNS...</td>\n",
       "      <td>[(truffles, n), (change, v), (effects, n), (go...</td>\n",
       "      <td>[truffle, change, effect, get, mild, stand, lo...</td>\n",
       "    </tr>\n",
       "    <tr>\n",
       "      <th>3</th>\n",
       "      <td>3</td>\n",
       "      <td>t3_qiahat</td>\n",
       "      <td>2021-10-29 11:15:55</td>\n",
       "      <td>2021-10-29</td>\n",
       "      <td>Microdosing to stop overconsuming cannabis I a...</td>\n",
       "      <td>Question: LSD</td>\n",
       "      <td>Microdosing to stop overconsuming cannabis I a...</td>\n",
       "      <td>[Microdosing, to, stop, overconsuming, cannabi...</td>\n",
       "      <td>Microdosing to stop overconsuming cannabis I a...</td>\n",
       "      <td>[Microdosing, to, stop, overconsuming, cannabi...</td>\n",
       "      <td>[microdosing, to, stop, overconsuming, cannabi...</td>\n",
       "      <td>[microdosing, to, stop, overconsuming, cannabi...</td>\n",
       "      <td>[microdosing, stop, overconsuming, cannabis, c...</td>\n",
       "      <td>[(microdosing, VBG), (stop, NN), (overconsumin...</td>\n",
       "      <td>[(microdosing, v), (stop, n), (overconsuming, ...</td>\n",
       "      <td>[microdosing, stop, overconsuming, cannabis, c...</td>\n",
       "    </tr>\n",
       "    <tr>\n",
       "      <th>4</th>\n",
       "      <td>4</td>\n",
       "      <td>t3_qi8zia</td>\n",
       "      <td>2021-10-29 09:33:24</td>\n",
       "      <td>2021-10-29</td>\n",
       "      <td>How to start microdosing ? Hi, everyone,\\n\\nI'...</td>\n",
       "      <td>Getting Started/Newbie Question</td>\n",
       "      <td>How to start microdosing ? Hi, everyone,\\n\\nI'...</td>\n",
       "      <td>[How, to, start, microdosing, ?, Hi,, everyone...</td>\n",
       "      <td>How to start microdosing ? Hi, everyone, I am ...</td>\n",
       "      <td>[How, to, start, microdosing, ?, Hi, ,, everyo...</td>\n",
       "      <td>[how, to, start, microdosing, ?, hi, ,, everyo...</td>\n",
       "      <td>[how, to, start, microdosing, hi, everyone, i,...</td>\n",
       "      <td>[start, microdosing, hi, everyone, curious, mi...</td>\n",
       "      <td>[(start, NN), (microdosing, VBG), (hi, NN), (e...</td>\n",
       "      <td>[(start, n), (microdosing, v), (hi, n), (every...</td>\n",
       "      <td>[start, microdosing, hi, everyone, curious, mi...</td>\n",
       "    </tr>\n",
       "  </tbody>\n",
       "</table>\n",
       "</div>"
      ],
      "text/plain": [
       "   Unnamed: 0    link_id          created_utc created_utc_str  \\\n",
       "0           0  t3_qic2l7  2021-10-29 12:49:15      2021-10-29   \n",
       "1           1  t3_qibj5e  2021-10-29 12:19:02      2021-10-29   \n",
       "2           2  t3_qibifv  2021-10-29 12:17:47      2021-10-29   \n",
       "3           3  t3_qiahat  2021-10-29 11:15:55      2021-10-29   \n",
       "4           4  t3_qi8zia  2021-10-29 09:33:24      2021-10-29   \n",
       "\n",
       "                                               posts  \\\n",
       "0  Dosage liverty caps Probbly a common question....   \n",
       "1  Psilocybin mushroom How do you find out if mic...   \n",
       "2  Can Truffles change their effects after they g...   \n",
       "3  Microdosing to stop overconsuming cannabis I a...   \n",
       "4  How to start microdosing ? Hi, everyone,\\n\\nI'...   \n",
       "\n",
       "                   link_flair_text  \\\n",
       "0             Question: Psilocybin   \n",
       "1  Getting Started/Newbie Question   \n",
       "2             Question: Psilocybin   \n",
       "3                    Question: LSD   \n",
       "4  Getting Started/Newbie Question   \n",
       "\n",
       "                                             nolinks  \\\n",
       "0  Dosage liverty caps Probbly a common question....   \n",
       "1  Psilocybin mushroom How do you find out if mic...   \n",
       "2  Can Truffles change their effects after they g...   \n",
       "3  Microdosing to stop overconsuming cannabis I a...   \n",
       "4  How to start microdosing ? Hi, everyone,\\n\\nI'...   \n",
       "\n",
       "                                         no_contract  \\\n",
       "0  [Dosage, liverty, caps, Probbly, a, common, qu...   \n",
       "1  [Psilocybin, mushroom, How, do, you, find, out...   \n",
       "2  [Can, Truffles, change, their, effects, after,...   \n",
       "3  [Microdosing, to, stop, overconsuming, cannabi...   \n",
       "4  [How, to, start, microdosing, ?, Hi,, everyone...   \n",
       "\n",
       "                                           posts_str  \\\n",
       "0  Dosage liverty caps Probbly a common question....   \n",
       "1  Psilocybin mushroom How do you find out if mic...   \n",
       "2  Can Truffles change their effects after they g...   \n",
       "3  Microdosing to stop overconsuming cannabis I a...   \n",
       "4  How to start microdosing ? Hi, everyone, I am ...   \n",
       "\n",
       "                                           tokenized  \\\n",
       "0  [Dosage, liverty, caps, Probbly, a, common, qu...   \n",
       "1  [Psilocybin, mushroom, How, do, you, find, out...   \n",
       "2  [Can, Truffles, change, their, effects, after,...   \n",
       "3  [Microdosing, to, stop, overconsuming, cannabi...   \n",
       "4  [How, to, start, microdosing, ?, Hi, ,, everyo...   \n",
       "\n",
       "                                               lower  \\\n",
       "0  [dosage, liverty, caps, probbly, a, common, qu...   \n",
       "1  [psilocybin, mushroom, how, do, you, find, out...   \n",
       "2  [can, truffles, change, their, effects, after,...   \n",
       "3  [microdosing, to, stop, overconsuming, cannabi...   \n",
       "4  [how, to, start, microdosing, ?, hi, ,, everyo...   \n",
       "\n",
       "                                             no_punc  \\\n",
       "0  [dosage, liverty, caps, probbly, a, common, qu...   \n",
       "1  [psilocybin, mushroom, how, do, you, find, out...   \n",
       "2  [can, truffles, change, their, effects, after,...   \n",
       "3  [microdosing, to, stop, overconsuming, cannabi...   \n",
       "4  [how, to, start, microdosing, hi, everyone, i,...   \n",
       "\n",
       "                                   stopwords_removed  \\\n",
       "0  [dosage, liverty, caps, probbly, common, quest...   \n",
       "1  [psilocybin, mushroom, find, micro, dosing, ac...   \n",
       "2  [truffles, change, effects, got, mild, stood, ...   \n",
       "3  [microdosing, stop, overconsuming, cannabis, c...   \n",
       "4  [start, microdosing, hi, everyone, curious, mi...   \n",
       "\n",
       "                                            pos_tags  \\\n",
       "0  [(dosage, NN), (liverty, NN), (caps, NN), (pro...   \n",
       "1  [(psilocybin, NN), (mushroom, NN), (find, VBP)...   \n",
       "2  [(truffles, NNS), (change, VBP), (effects, NNS...   \n",
       "3  [(microdosing, VBG), (stop, NN), (overconsumin...   \n",
       "4  [(start, NN), (microdosing, VBG), (hi, NN), (e...   \n",
       "\n",
       "                                         wordnet_pos  \\\n",
       "0  [(dosage, n), (liverty, n), (caps, n), (probbl...   \n",
       "1  [(psilocybin, n), (mushroom, n), (find, v), (m...   \n",
       "2  [(truffles, n), (change, v), (effects, n), (go...   \n",
       "3  [(microdosing, v), (stop, n), (overconsuming, ...   \n",
       "4  [(start, n), (microdosing, v), (hi, n), (every...   \n",
       "\n",
       "                                          lemmatized  \n",
       "0  [dosage, liverty, cap, probbly, common, questi...  \n",
       "1  [psilocybin, mushroom, find, micro, dose, actu...  \n",
       "2  [truffle, change, effect, get, mild, stand, lo...  \n",
       "3  [microdosing, stop, overconsuming, cannabis, c...  \n",
       "4  [start, microdosing, hi, everyone, curious, mi...  "
      ]
     },
     "execution_count": 16,
     "metadata": {},
     "output_type": "execute_result"
    }
   ],
   "source": [
    "wnl = WordNetLemmatizer()\n",
    "papers['lemmatized'] = papers['wordnet_pos'].apply(lambda x: [wnl.lemmatize(word, tag) for word, tag in x])\n",
    "papers.head()"
   ]
  },
  {
   "cell_type": "code",
   "execution_count": 17,
   "metadata": {},
   "outputs": [],
   "source": [
    "papers.to_csv('/Users/guneetsingh/Desktop/Python/Git_Projects/Topics_Microdosing/microdosing_scrape_clean.csv')"
   ]
  },
  {
   "cell_type": "markdown",
   "metadata": {},
   "source": [
    "# Exploratory Data Analysis"
   ]
  },
  {
   "cell_type": "markdown",
   "metadata": {},
   "source": [
    "**Keeping only the required columns**"
   ]
  },
  {
   "cell_type": "code",
   "execution_count": 2,
   "metadata": {},
   "outputs": [
    {
     "data": {
      "text/plain": "   Unnamed: 0  Unnamed: 0.1    link_id          created_utc created_utc_str  \\\n0           0             0  t3_qic2l7  2021-10-29 12:49:15      2021-10-29   \n1           1             1  t3_qibj5e  2021-10-29 12:19:02      2021-10-29   \n2           2             2  t3_qibifv  2021-10-29 12:17:47      2021-10-29   \n3           3             3  t3_qiahat  2021-10-29 11:15:55      2021-10-29   \n4           4             4  t3_qi8zia  2021-10-29 09:33:24      2021-10-29   \n\n                                               posts  \\\n0  Dosage liverty caps Probbly a common question....   \n1  Psilocybin mushroom How do you find out if mic...   \n2  Can Truffles change their effects after they g...   \n3  Microdosing to stop overconsuming cannabis I a...   \n4  How to start microdosing ? Hi, everyone,\\n\\nI'...   \n\n                   link_flair_text  \\\n0             Question: Psilocybin   \n1  Getting Started/Newbie Question   \n2             Question: Psilocybin   \n3                    Question: LSD   \n4  Getting Started/Newbie Question   \n\n                                             nolinks  \\\n0  Dosage liverty caps Probbly a common question....   \n1  Psilocybin mushroom How do you find out if mic...   \n2  Can Truffles change their effects after they g...   \n3  Microdosing to stop overconsuming cannabis I a...   \n4  How to start microdosing ? Hi, everyone,\\n\\nI'...   \n\n                                         no_contract  \\\n0  ['Dosage', 'liverty', 'caps', 'Probbly', 'a', ...   \n1  ['Psilocybin', 'mushroom', 'How', 'do', 'you',...   \n2  ['Can', 'Truffles', 'change', 'their', 'effect...   \n3  ['Microdosing', 'to', 'stop', 'overconsuming',...   \n4  ['How', 'to', 'start', 'microdosing', '?', 'Hi...   \n\n                                           posts_str  \\\n0  Dosage liverty caps Probbly a common question....   \n1  Psilocybin mushroom How do you find out if mic...   \n2  Can Truffles change their effects after they g...   \n3  Microdosing to stop overconsuming cannabis I a...   \n4  How to start microdosing ? Hi, everyone, I am ...   \n\n                                           tokenized  \\\n0  ['Dosage', 'liverty', 'caps', 'Probbly', 'a', ...   \n1  ['Psilocybin', 'mushroom', 'How', 'do', 'you',...   \n2  ['Can', 'Truffles', 'change', 'their', 'effect...   \n3  ['Microdosing', 'to', 'stop', 'overconsuming',...   \n4  ['How', 'to', 'start', 'microdosing', '?', 'Hi...   \n\n                                               lower  \\\n0  ['dosage', 'liverty', 'caps', 'probbly', 'a', ...   \n1  ['psilocybin', 'mushroom', 'how', 'do', 'you',...   \n2  ['can', 'truffles', 'change', 'their', 'effect...   \n3  ['microdosing', 'to', 'stop', 'overconsuming',...   \n4  ['how', 'to', 'start', 'microdosing', '?', 'hi...   \n\n                                             no_punc  \\\n0  ['dosage', 'liverty', 'caps', 'probbly', 'a', ...   \n1  ['psilocybin', 'mushroom', 'how', 'do', 'you',...   \n2  ['can', 'truffles', 'change', 'their', 'effect...   \n3  ['microdosing', 'to', 'stop', 'overconsuming',...   \n4  ['how', 'to', 'start', 'microdosing', 'hi', 'e...   \n\n                                   stopwords_removed  \\\n0  ['dosage', 'liverty', 'caps', 'probbly', 'comm...   \n1  ['psilocybin', 'mushroom', 'find', 'micro', 'd...   \n2  ['truffles', 'change', 'effects', 'got', 'mild...   \n3  ['microdosing', 'stop', 'overconsuming', 'cann...   \n4  ['start', 'microdosing', 'hi', 'everyone', 'cu...   \n\n                                            pos_tags  \\\n0  [('dosage', 'NN'), ('liverty', 'NN'), ('caps',...   \n1  [('psilocybin', 'NN'), ('mushroom', 'NN'), ('f...   \n2  [('truffles', 'NNS'), ('change', 'VBP'), ('eff...   \n3  [('microdosing', 'VBG'), ('stop', 'NN'), ('ove...   \n4  [('start', 'NN'), ('microdosing', 'VBG'), ('hi...   \n\n                                         wordnet_pos  \\\n0  [('dosage', 'n'), ('liverty', 'n'), ('caps', '...   \n1  [('psilocybin', 'n'), ('mushroom', 'n'), ('fin...   \n2  [('truffles', 'n'), ('change', 'v'), ('effects...   \n3  [('microdosing', 'v'), ('stop', 'n'), ('overco...   \n4  [('start', 'n'), ('microdosing', 'v'), ('hi', ...   \n\n                                          lemmatized  \n0  ['dosage', 'liverty', 'cap', 'probbly', 'commo...  \n1  ['psilocybin', 'mushroom', 'find', 'micro', 'd...  \n2  ['truffle', 'change', 'effect', 'get', 'mild',...  \n3  ['microdosing', 'stop', 'overconsuming', 'cann...  \n4  ['start', 'microdosing', 'hi', 'everyone', 'cu...  ",
      "text/html": "<div>\n<style scoped>\n    .dataframe tbody tr th:only-of-type {\n        vertical-align: middle;\n    }\n\n    .dataframe tbody tr th {\n        vertical-align: top;\n    }\n\n    .dataframe thead th {\n        text-align: right;\n    }\n</style>\n<table border=\"1\" class=\"dataframe\">\n  <thead>\n    <tr style=\"text-align: right;\">\n      <th></th>\n      <th>Unnamed: 0</th>\n      <th>Unnamed: 0.1</th>\n      <th>link_id</th>\n      <th>created_utc</th>\n      <th>created_utc_str</th>\n      <th>posts</th>\n      <th>link_flair_text</th>\n      <th>nolinks</th>\n      <th>no_contract</th>\n      <th>posts_str</th>\n      <th>tokenized</th>\n      <th>lower</th>\n      <th>no_punc</th>\n      <th>stopwords_removed</th>\n      <th>pos_tags</th>\n      <th>wordnet_pos</th>\n      <th>lemmatized</th>\n    </tr>\n  </thead>\n  <tbody>\n    <tr>\n      <th>0</th>\n      <td>0</td>\n      <td>0</td>\n      <td>t3_qic2l7</td>\n      <td>2021-10-29 12:49:15</td>\n      <td>2021-10-29</td>\n      <td>Dosage liverty caps Probbly a common question....</td>\n      <td>Question: Psilocybin</td>\n      <td>Dosage liverty caps Probbly a common question....</td>\n      <td>['Dosage', 'liverty', 'caps', 'Probbly', 'a', ...</td>\n      <td>Dosage liverty caps Probbly a common question....</td>\n      <td>['Dosage', 'liverty', 'caps', 'Probbly', 'a', ...</td>\n      <td>['dosage', 'liverty', 'caps', 'probbly', 'a', ...</td>\n      <td>['dosage', 'liverty', 'caps', 'probbly', 'a', ...</td>\n      <td>['dosage', 'liverty', 'caps', 'probbly', 'comm...</td>\n      <td>[('dosage', 'NN'), ('liverty', 'NN'), ('caps',...</td>\n      <td>[('dosage', 'n'), ('liverty', 'n'), ('caps', '...</td>\n      <td>['dosage', 'liverty', 'cap', 'probbly', 'commo...</td>\n    </tr>\n    <tr>\n      <th>1</th>\n      <td>1</td>\n      <td>1</td>\n      <td>t3_qibj5e</td>\n      <td>2021-10-29 12:19:02</td>\n      <td>2021-10-29</td>\n      <td>Psilocybin mushroom How do you find out if mic...</td>\n      <td>Getting Started/Newbie Question</td>\n      <td>Psilocybin mushroom How do you find out if mic...</td>\n      <td>['Psilocybin', 'mushroom', 'How', 'do', 'you',...</td>\n      <td>Psilocybin mushroom How do you find out if mic...</td>\n      <td>['Psilocybin', 'mushroom', 'How', 'do', 'you',...</td>\n      <td>['psilocybin', 'mushroom', 'how', 'do', 'you',...</td>\n      <td>['psilocybin', 'mushroom', 'how', 'do', 'you',...</td>\n      <td>['psilocybin', 'mushroom', 'find', 'micro', 'd...</td>\n      <td>[('psilocybin', 'NN'), ('mushroom', 'NN'), ('f...</td>\n      <td>[('psilocybin', 'n'), ('mushroom', 'n'), ('fin...</td>\n      <td>['psilocybin', 'mushroom', 'find', 'micro', 'd...</td>\n    </tr>\n    <tr>\n      <th>2</th>\n      <td>2</td>\n      <td>2</td>\n      <td>t3_qibifv</td>\n      <td>2021-10-29 12:17:47</td>\n      <td>2021-10-29</td>\n      <td>Can Truffles change their effects after they g...</td>\n      <td>Question: Psilocybin</td>\n      <td>Can Truffles change their effects after they g...</td>\n      <td>['Can', 'Truffles', 'change', 'their', 'effect...</td>\n      <td>Can Truffles change their effects after they g...</td>\n      <td>['Can', 'Truffles', 'change', 'their', 'effect...</td>\n      <td>['can', 'truffles', 'change', 'their', 'effect...</td>\n      <td>['can', 'truffles', 'change', 'their', 'effect...</td>\n      <td>['truffles', 'change', 'effects', 'got', 'mild...</td>\n      <td>[('truffles', 'NNS'), ('change', 'VBP'), ('eff...</td>\n      <td>[('truffles', 'n'), ('change', 'v'), ('effects...</td>\n      <td>['truffle', 'change', 'effect', 'get', 'mild',...</td>\n    </tr>\n    <tr>\n      <th>3</th>\n      <td>3</td>\n      <td>3</td>\n      <td>t3_qiahat</td>\n      <td>2021-10-29 11:15:55</td>\n      <td>2021-10-29</td>\n      <td>Microdosing to stop overconsuming cannabis I a...</td>\n      <td>Question: LSD</td>\n      <td>Microdosing to stop overconsuming cannabis I a...</td>\n      <td>['Microdosing', 'to', 'stop', 'overconsuming',...</td>\n      <td>Microdosing to stop overconsuming cannabis I a...</td>\n      <td>['Microdosing', 'to', 'stop', 'overconsuming',...</td>\n      <td>['microdosing', 'to', 'stop', 'overconsuming',...</td>\n      <td>['microdosing', 'to', 'stop', 'overconsuming',...</td>\n      <td>['microdosing', 'stop', 'overconsuming', 'cann...</td>\n      <td>[('microdosing', 'VBG'), ('stop', 'NN'), ('ove...</td>\n      <td>[('microdosing', 'v'), ('stop', 'n'), ('overco...</td>\n      <td>['microdosing', 'stop', 'overconsuming', 'cann...</td>\n    </tr>\n    <tr>\n      <th>4</th>\n      <td>4</td>\n      <td>4</td>\n      <td>t3_qi8zia</td>\n      <td>2021-10-29 09:33:24</td>\n      <td>2021-10-29</td>\n      <td>How to start microdosing ? Hi, everyone,\\n\\nI'...</td>\n      <td>Getting Started/Newbie Question</td>\n      <td>How to start microdosing ? Hi, everyone,\\n\\nI'...</td>\n      <td>['How', 'to', 'start', 'microdosing', '?', 'Hi...</td>\n      <td>How to start microdosing ? Hi, everyone, I am ...</td>\n      <td>['How', 'to', 'start', 'microdosing', '?', 'Hi...</td>\n      <td>['how', 'to', 'start', 'microdosing', '?', 'hi...</td>\n      <td>['how', 'to', 'start', 'microdosing', 'hi', 'e...</td>\n      <td>['start', 'microdosing', 'hi', 'everyone', 'cu...</td>\n      <td>[('start', 'NN'), ('microdosing', 'VBG'), ('hi...</td>\n      <td>[('start', 'n'), ('microdosing', 'v'), ('hi', ...</td>\n      <td>['start', 'microdosing', 'hi', 'everyone', 'cu...</td>\n    </tr>\n  </tbody>\n</table>\n</div>"
     },
     "execution_count": 2,
     "metadata": {},
     "output_type": "execute_result"
    }
   ],
   "source": [
    "master_posts = pd.read_csv('/Users/guneetsingh/Desktop/Python/Git_Projects/Topics_Microdosing/microdosing_scrape_clean.csv')\n",
    "master_posts.head(5)"
   ]
  },
  {
   "cell_type": "code",
   "execution_count": 3,
   "metadata": {},
   "outputs": [],
   "source": [
    "eda_list = [\"lemmatized\",\"created_utc\",\"link_flair_text\",\"tokenized\"]"
   ]
  },
  {
   "cell_type": "code",
   "execution_count": 4,
   "metadata": {},
   "outputs": [],
   "source": [
    "md_submissions = master_posts[eda_list]"
   ]
  },
  {
   "cell_type": "markdown",
   "metadata": {},
   "source": [
    "**Code Frequency Analysis**"
   ]
  },
  {
   "cell_type": "code",
   "execution_count": 5,
   "metadata": {},
   "outputs": [
    {
     "name": "stderr",
     "output_type": "stream",
     "text": [
      "/var/folders/2y/cb61b6kn4q917mgql1yd1w5w0000gn/T/ipykernel_16598/2954533847.py:1: SettingWithCopyWarning: \n",
      "A value is trying to be set on a copy of a slice from a DataFrame.\n",
      "Try using .loc[row_indexer,col_indexer] = value instead\n",
      "\n",
      "See the caveats in the documentation: https://pandas.pydata.org/pandas-docs/stable/user_guide/indexing.html#returning-a-view-versus-a-copy\n",
      "  md_submissions['word_count'] = md_submissions['lemmatized'].apply(lambda x: len(str(x).split()))\n"
     ]
    }
   ],
   "source": [
    "md_submissions['word_count'] = md_submissions['lemmatized'].apply(lambda x: len(str(x).split()))"
   ]
  },
  {
   "cell_type": "markdown",
   "metadata": {},
   "source": [
    "Average Number of words per flair category"
   ]
  },
  {
   "cell_type": "code",
   "execution_count": 7,
   "metadata": {},
   "outputs": [
    {
     "name": "stderr",
     "output_type": "stream",
     "text": [
      "/opt/anaconda3/lib/python3.8/site-packages/IPython/core/pylabtools.py:151: UserWarning: Glyph 128300 (\\N{MICROSCOPE}) missing from current font.\n",
      "  fig.canvas.print_figure(bytes_io, **kw)\n",
      "/opt/anaconda3/lib/python3.8/site-packages/IPython/core/pylabtools.py:151: UserWarning: Glyph 8995 (\\N{SMILE}) missing from current font.\n",
      "  fig.canvas.print_figure(bytes_io, **kw)\n"
     ]
    },
    {
     "data": {
      "text/plain": "<Figure size 3600x2160 with 1 Axes>",
      "image/png": "[encoded data removed]"
     },
     "metadata": {
      "needs_background": "light"
     },
     "output_type": "display_data"
    }
   ],
   "source": [
    "import matplotlib.pyplot as plt\n",
    "word_avg = md_submissions.groupby('link_flair_text')['word_count'].mean().plot(kind='bar', figsize=(50,30))\n",
    "plt.xlabel('Flair', fontsize=35)\n",
    "plt.ylabel('Count of Words in Submsissions', fontsize=35)\n",
    "plt.xticks(fontsize=40)\n",
    "plt.yticks(fontsize=40)\n",
    "plt.title('Average Number of Words per submissions', fontsize=40)\n",
    "plt.show()"
   ]
  },
  {
   "cell_type": "markdown",
   "metadata": {},
   "source": [
    "Word count distribution"
   ]
  },
  {
   "cell_type": "code",
   "execution_count": 7,
   "metadata": {},
   "outputs": [],
   "source": [
    "import sklearn\n",
    "from sklearn.feature_extraction.text import CountVectorizer"
   ]
  },
  {
   "cell_type": "code",
   "execution_count": 9,
   "metadata": {},
   "outputs": [
    {
     "data": {
      "text/html": "        <script type=\"text/javascript\">\n        window.PlotlyConfig = {MathJaxConfig: 'local'};\n        if (window.MathJax) {MathJax.Hub.Config({SVG: {font: \"STIX-Web\"}});}\n        if (typeof require !== 'undefined') {\n        require.undef(\"plotly\");\n        requirejs.config({\n            paths: {\n                'plotly': ['https://cdn.plot.ly/plotly-2.6.3.min']\n            }\n        });\n        require(['plotly'], function(Plotly) {\n            window._Plotly = Plotly;\n        });\n        }\n        </script>\n        "
     },
     "metadata": {},
     "output_type": "display_data"
    }
   ],
   "source": [
    "import cufflinks as cf\n",
    "cf.go_offline()\n",
    "cf.set_config_file(offline=False, world_readable=True)"
   ]
  },
  {
   "cell_type": "markdown",
   "metadata": {},
   "source": [
    "Unigram Distribution"
   ]
  },
  {
   "cell_type": "code",
   "execution_count": 10,
   "metadata": {},
   "outputs": [
    {
     "name": "stdout",
     "output_type": "stream",
     "text": [
      "day 64903\n",
      "take 63533\n",
      "dose 54225\n",
      "get 52692\n",
      "like 51868\n",
      "would 51824\n",
      "microdosing 49564\n",
      "feel 47339\n",
      "go 41766\n",
      "time 37106\n",
      "try 35073\n",
      "think 34245\n",
      "lsd 34042\n",
      "good 32076\n",
      "make 31937\n",
      "start 31064\n",
      "work 30663\n",
      "much 29371\n",
      "help 28907\n",
      "use 28273\n",
      "know 28036\n",
      "experience 26776\n",
      "effect 25827\n",
      "really 25752\n",
      "also 25126\n",
      "well 25090\n",
      "one 24459\n",
      "want 24044\n",
      "md 22752\n",
      "thing 22302\n"
     ]
    },
    {
     "data": {
      "application/vnd.plotly.v1+json": {
       "data": [
        {
         "marker": {
          "color": "rgba(255, 153, 51, 0.6)",
          "line": {
           "color": "rgba(255, 153, 51, 1.0)",
           "width": 1
          }
         },
         "name": "count",
         "orientation": "v",
         "text": "",
         "x": [
          "day",
          "take",
          "dose",
          "get",
          "like",
          "would",
          "microdosing",
          "feel",
          "go",
          "time",
          "try",
          "think",
          "lsd",
          "good",
          "make",
          "start",
          "work",
          "much",
          "help",
          "use",
          "know",
          "experience",
          "effect",
          "really",
          "also",
          "well",
          "one",
          "want",
          "md",
          "thing"
         ],
         "y": [
          64903,
          63533,
          54225,
          52692,
          51868,
          51824,
          49564,
          47339,
          41766,
          37106,
          35073,
          34245,
          34042,
          32076,
          31937,
          31064,
          30663,
          29371,
          28907,
          28273,
          28036,
          26776,
          25827,
          25752,
          25126,
          25090,
          24459,
          24044,
          22752,
          22302
         ],
         "type": "bar"
        }
       ],
       "layout": {
        "legend": {
         "bgcolor": "#F5F6F9",
         "font": {
          "color": "#4D5663"
         }
        },
        "paper_bgcolor": "#F5F6F9",
        "plot_bgcolor": "#F5F6F9",
        "template": {
         "data": {
          "barpolar": [
           {
            "marker": {
             "line": {
              "color": "#E5ECF6",
              "width": 0.5
             },
             "pattern": {
              "fillmode": "overlay",
              "size": 10,
              "solidity": 0.2
             }
            },
            "type": "barpolar"
           }
          ],
          "bar": [
           {
            "error_x": {
             "color": "#2a3f5f"
            },
            "error_y": {
             "color": "#2a3f5f"
            },
            "marker": {
             "line": {
              "color": "#E5ECF6",
              "width": 0.5
             },
             "pattern": {
              "fillmode": "overlay",
              "size": 10,
              "solidity": 0.2
             }
            },
            "type": "bar"
           }
          ],
          "carpet": [
           {
            "aaxis": {
             "endlinecolor": "#2a3f5f",
             "gridcolor": "white",
             "linecolor": "white",
             "minorgridcolor": "white",
             "startlinecolor": "#2a3f5f"
            },
            "baxis": {
             "endlinecolor": "#2a3f5f",
             "gridcolor": "white",
             "linecolor": "white",
             "minorgridcolor": "white",
             "startlinecolor": "#2a3f5f"
            },
            "type": "carpet"
           }
          ],
          "choropleth": [
           {
            "colorbar": {
             "outlinewidth": 0,
             "ticks": ""
            },
            "type": "choropleth"
           }
          ],
          "contourcarpet": [
           {
            "colorbar": {
             "outlinewidth": 0,
             "ticks": ""
            },
            "type": "contourcarpet"
           }
          ],
          "contour": [
           {
            "colorbar": {
             "outlinewidth": 0,
             "ticks": ""
            },
            "colorscale": [
             [
              0.0,
              "#0d0887"
             ],
             [
              0.1111111111111111,
              "#46039f"
             ],
             [
              0.2222222222222222,
              "#7201a8"
             ],
             [
              0.3333333333333333,
              "#9c179e"
             ],
             [
              0.4444444444444444,
              "#bd3786"
             ],
             [
              0.5555555555555556,
              "#d8576b"
             ],
             [
              0.6666666666666666,
              "#ed7953"
             ],
             [
              0.7777777777777778,
              "#fb9f3a"
             ],
             [
              0.8888888888888888,
              "#fdca26"
             ],
             [
              1.0,
              "#f0f921"
             ]
            ],
            "type": "contour"
           }
          ],
          "heatmapgl": [
           {
            "colorbar": {
             "outlinewidth": 0,
             "ticks": ""
            },
            "colorscale": [
             [
              0.0,
              "#0d0887"
             ],
             [
              0.1111111111111111,
              "#46039f"
             ],
             [
              0.2222222222222222,
              "#7201a8"
             ],
             [
              0.3333333333333333,
              "#9c179e"
             ],
             [
              0.4444444444444444,
              "#bd3786"
             ],
             [
              0.5555555555555556,
              "#d8576b"
             ],
             [
              0.6666666666666666,
              "#ed7953"
             ],
             [
              0.7777777777777778,
              "#fb9f3a"
             ],
             [
              0.8888888888888888,
              "#fdca26"
             ],
             [
              1.0,
              "#f0f921"
             ]
            ],
            "type": "heatmapgl"
           }
          ],
          "heatmap": [
           {
            "colorbar": {
             "outlinewidth": 0,
             "ticks": ""
            },
            "colorscale": [
             [
              0.0,
              "#0d0887"
             ],
             [
              0.1111111111111111,
              "#46039f"
             ],
             [
              0.2222222222222222,
              "#7201a8"
             ],
             [
              0.3333333333333333,
              "#9c179e"
             ],
             [
              0.4444444444444444,
              "#bd3786"
             ],
             [
              0.5555555555555556,
              "#d8576b"
             ],
             [
              0.6666666666666666,
              "#ed7953"
             ],
             [
              0.7777777777777778,
              "#fb9f3a"
             ],
             [
              0.8888888888888888,
              "#fdca26"
             ],
             [
              1.0,
              "#f0f921"
             ]
            ],
            "type": "heatmap"
           }
          ],
          "histogram2dcontour": [
           {
            "colorbar": {
             "outlinewidth": 0,
             "ticks": ""
            },
            "colorscale": [
             [
              0.0,
              "#0d0887"
             ],
             [
              0.1111111111111111,
              "#46039f"
             ],
             [
              0.2222222222222222,
              "#7201a8"
             ],
             [
              0.3333333333333333,
              "#9c179e"
             ],
             [
              0.4444444444444444,
              "#bd3786"
             ],
             [
              0.5555555555555556,
              "#d8576b"
             ],
             [
              0.6666666666666666,
              "#ed7953"
             ],
             [
              0.7777777777777778,
              "#fb9f3a"
             ],
             [
              0.8888888888888888,
              "#fdca26"
             ],
             [
              1.0,
              "#f0f921"
             ]
            ],
            "type": "histogram2dcontour"
           }
          ],
          "histogram2d": [
           {
            "colorbar": {
             "outlinewidth": 0,
             "ticks": ""
            },
            "colorscale": [
             [
              0.0,
              "#0d0887"
             ],
             [
              0.1111111111111111,
              "#46039f"
             ],
             [
              0.2222222222222222,
              "#7201a8"
             ],
             [
              0.3333333333333333,
              "#9c179e"
             ],
             [
              0.4444444444444444,
              "#bd3786"
             ],
             [
              0.5555555555555556,
              "#d8576b"
             ],
             [
              0.6666666666666666,
              "#ed7953"
             ],
             [
              0.7777777777777778,
              "#fb9f3a"
             ],
             [
              0.8888888888888888,
              "#fdca26"
             ],
             [
              1.0,
              "#f0f921"
             ]
            ],
            "type": "histogram2d"
           }
          ],
          "histogram": [
           {
            "marker": {
             "pattern": {
              "fillmode": "overlay",
              "size": 10,
              "solidity": 0.2
             }
            },
            "type": "histogram"
           }
          ],
          "mesh3d": [
           {
            "colorbar": {
             "outlinewidth": 0,
             "ticks": ""
            },
            "type": "mesh3d"
           }
          ],
          "parcoords": [
           {
            "line": {
             "colorbar": {
              "outlinewidth": 0,
              "ticks": ""
             }
            },
            "type": "parcoords"
           }
          ],
          "pie": [
           {
            "automargin": true,
            "type": "pie"
           }
          ],
          "scatter3d": [
           {
            "line": {
             "colorbar": {
              "outlinewidth": 0,
              "ticks": ""
             }
            },
            "marker": {
             "colorbar": {
              "outlinewidth": 0,
              "ticks": ""
             }
            },
            "type": "scatter3d"
           }
          ],
          "scattercarpet": [
           {
            "marker": {
             "colorbar": {
              "outlinewidth": 0,
              "ticks": ""
             }
            },
            "type": "scattercarpet"
           }
          ],
          "scattergeo": [
           {
            "marker": {
             "colorbar": {
              "outlinewidth": 0,
              "ticks": ""
             }
            },
            "type": "scattergeo"
           }
          ],
          "scattergl": [
           {
            "marker": {
             "colorbar": {
              "outlinewidth": 0,
              "ticks": ""
             }
            },
            "type": "scattergl"
           }
          ],
          "scattermapbox": [
           {
            "marker": {
             "colorbar": {
              "outlinewidth": 0,
              "ticks": ""
             }
            },
            "type": "scattermapbox"
           }
          ],
          "scatterpolargl": [
           {
            "marker": {
             "colorbar": {
              "outlinewidth": 0,
              "ticks": ""
             }
            },
            "type": "scatterpolargl"
           }
          ],
          "scatterpolar": [
           {
            "marker": {
             "colorbar": {
              "outlinewidth": 0,
              "ticks": ""
             }
            },
            "type": "scatterpolar"
           }
          ],
          "scatter": [
           {
            "marker": {
             "colorbar": {
              "outlinewidth": 0,
              "ticks": ""
             }
            },
            "type": "scatter"
           }
          ],
          "scatterternary": [
           {
            "marker": {
             "colorbar": {
              "outlinewidth": 0,
              "ticks": ""
             }
            },
            "type": "scatterternary"
           }
          ],
          "surface": [
           {
            "colorbar": {
             "outlinewidth": 0,
             "ticks": ""
            },
            "colorscale": [
             [
              0.0,
              "#0d0887"
             ],
             [
              0.1111111111111111,
              "#46039f"
             ],
             [
              0.2222222222222222,
              "#7201a8"
             ],
             [
              0.3333333333333333,
              "#9c179e"
             ],
             [
              0.4444444444444444,
              "#bd3786"
             ],
             [
              0.5555555555555556,
              "#d8576b"
             ],
             [
              0.6666666666666666,
              "#ed7953"
             ],
             [
              0.7777777777777778,
              "#fb9f3a"
             ],
             [
              0.8888888888888888,
              "#fdca26"
             ],
             [
              1.0,
              "#f0f921"
             ]
            ],
            "type": "surface"
           }
          ],
          "table": [
           {
            "cells": {
             "fill": {
              "color": "#EBF0F8"
             },
             "line": {
              "color": "white"
             }
            },
            "header": {
             "fill": {
              "color": "#C8D4E3"
             },
             "line": {
              "color": "white"
             }
            },
            "type": "table"
           }
          ]
         },
         "layout": {
          "annotationdefaults": {
           "arrowcolor": "#2a3f5f",
           "arrowhead": 0,
           "arrowwidth": 1
          },
          "autotypenumbers": "strict",
          "coloraxis": {
           "colorbar": {
            "outlinewidth": 0,
            "ticks": ""
           }
          },
          "colorscale": {
           "diverging": [
            [
             0,
             "#8e0152"
            ],
            [
             0.1,
             "#c51b7d"
            ],
            [
             0.2,
             "#de77ae"
            ],
            [
             0.3,
             "#f1b6da"
            ],
            [
             0.4,
             "#fde0ef"
            ],
            [
             0.5,
             "#f7f7f7"
            ],
            [
             0.6,
             "#e6f5d0"
            ],
            [
             0.7,
             "#b8e186"
            ],
            [
             0.8,
             "#7fbc41"
            ],
            [
             0.9,
             "#4d9221"
            ],
            [
             1,
             "#276419"
            ]
           ],
           "sequential": [
            [
             0.0,
             "#0d0887"
            ],
            [
             0.1111111111111111,
             "#46039f"
            ],
            [
             0.2222222222222222,
             "#7201a8"
            ],
            [
             0.3333333333333333,
             "#9c179e"
            ],
            [
             0.4444444444444444,
             "#bd3786"
            ],
            [
             0.5555555555555556,
             "#d8576b"
            ],
            [
             0.6666666666666666,
             "#ed7953"
            ],
            [
             0.7777777777777778,
             "#fb9f3a"
            ],
            [
             0.8888888888888888,
             "#fdca26"
            ],
            [
             1.0,
             "#f0f921"
            ]
           ],
           "sequentialminus": [
            [
             0.0,
             "#0d0887"
            ],
            [
             0.1111111111111111,
             "#46039f"
            ],
            [
             0.2222222222222222,
             "#7201a8"
            ],
            [
             0.3333333333333333,
             "#9c179e"
            ],
            [
             0.4444444444444444,
             "#bd3786"
            ],
            [
             0.5555555555555556,
             "#d8576b"
            ],
            [
             0.6666666666666666,
             "#ed7953"
            ],
            [
             0.7777777777777778,
             "#fb9f3a"
            ],
            [
             0.8888888888888888,
             "#fdca26"
            ],
            [
             1.0,
             "#f0f921"
            ]
           ]
          },
          "colorway": [
           "#636efa",
           "#EF553B",
           "#00cc96",
           "#ab63fa",
           "#FFA15A",
           "#19d3f3",
           "#FF6692",
           "#B6E880",
           "#FF97FF",
           "#FECB52"
          ],
          "font": {
           "color": "#2a3f5f"
          },
          "geo": {
           "bgcolor": "white",
           "lakecolor": "white",
           "landcolor": "#E5ECF6",
           "showlakes": true,
           "showland": true,
           "subunitcolor": "white"
          },
          "hoverlabel": {
           "align": "left"
          },
          "hovermode": "closest",
          "mapbox": {
           "style": "light"
          },
          "paper_bgcolor": "white",
          "plot_bgcolor": "#E5ECF6",
          "polar": {
           "angularaxis": {
            "gridcolor": "white",
            "linecolor": "white",
            "ticks": ""
           },
           "bgcolor": "#E5ECF6",
           "radialaxis": {
            "gridcolor": "white",
            "linecolor": "white",
            "ticks": ""
           }
          },
          "scene": {
           "xaxis": {
            "backgroundcolor": "#E5ECF6",
            "gridcolor": "white",
            "gridwidth": 2,
            "linecolor": "white",
            "showbackground": true,
            "ticks": "",
            "zerolinecolor": "white"
           },
           "yaxis": {
            "backgroundcolor": "#E5ECF6",
            "gridcolor": "white",
            "gridwidth": 2,
            "linecolor": "white",
            "showbackground": true,
            "ticks": "",
            "zerolinecolor": "white"
           },
           "zaxis": {
            "backgroundcolor": "#E5ECF6",
            "gridcolor": "white",
            "gridwidth": 2,
            "linecolor": "white",
            "showbackground": true,
            "ticks": "",
            "zerolinecolor": "white"
           }
          },
          "shapedefaults": {
           "line": {
            "color": "#2a3f5f"
           }
          },
          "ternary": {
           "aaxis": {
            "gridcolor": "white",
            "linecolor": "white",
            "ticks": ""
           },
           "baxis": {
            "gridcolor": "white",
            "linecolor": "white",
            "ticks": ""
           },
           "bgcolor": "#E5ECF6",
           "caxis": {
            "gridcolor": "white",
            "linecolor": "white",
            "ticks": ""
           }
          },
          "title": {
           "x": 0.05
          },
          "xaxis": {
           "automargin": true,
           "gridcolor": "white",
           "linecolor": "white",
           "ticks": "",
           "title": {
            "standoff": 15
           },
           "zerolinecolor": "white",
           "zerolinewidth": 2
          },
          "yaxis": {
           "automargin": true,
           "gridcolor": "white",
           "linecolor": "white",
           "ticks": "",
           "title": {
            "standoff": 15
           },
           "zerolinecolor": "white",
           "zerolinewidth": 2
          }
         }
        },
        "title": {
         "font": {
          "color": "#4D5663"
         },
         "text": "Top 30 Unigrams"
        },
        "xaxis": {
         "gridcolor": "#E1E5ED",
         "linecolor": "black",
         "showgrid": true,
         "tickfont": {
          "color": "#4D5663"
         },
         "title": {
          "font": {
           "color": "#4D5663"
          },
          "text": ""
         },
         "zerolinecolor": "#E1E5ED"
        },
        "yaxis": {
         "gridcolor": "#E1E5ED",
         "linecolor": "black",
         "showgrid": true,
         "tickfont": {
          "color": "#4D5663"
         },
         "title": {
          "font": {
           "color": "#4D5663"
          },
          "text": "Count"
         },
         "zerolinecolor": "#E1E5ED"
        }
       },
       "config": {
        "showLink": true,
        "linkText": "Export to plot.ly",
        "plotlyServerURL": "https://plot.ly"
       }
      },
      "text/html": "<div>                            <div id=\"ebd9b8bd-7dbf-4a56-beba-abaa0f369519\" class=\"plotly-graph-div\" style=\"height:525px; width:100%;\"></div>            <script type=\"text/javascript\">                require([\"plotly\"], function(Plotly) {                    window.PLOTLYENV=window.PLOTLYENV || {};\n                    window.PLOTLYENV.BASE_URL='https://plot.ly';                                    if (document.getElementById(\"ebd9b8bd-7dbf-4a56-beba-abaa0f369519\")) {                    Plotly.newPlot(                        \"ebd9b8bd-7dbf-4a56-beba-abaa0f369519\",                        [{\"marker\":{\"color\":\"rgba(255, 153, 51, 0.6)\",\"line\":{\"color\":\"rgba(255, 153, 51, 1.0)\",\"width\":1}},\"name\":\"count\",\"orientation\":\"v\",\"text\":\"\",\"x\":[\"day\",\"take\",\"dose\",\"get\",\"like\",\"would\",\"microdosing\",\"feel\",\"go\",\"time\",\"try\",\"think\",\"lsd\",\"good\",\"make\",\"start\",\"work\",\"much\",\"help\",\"use\",\"know\",\"experience\",\"effect\",\"really\",\"also\",\"well\",\"one\",\"want\",\"md\",\"thing\"],\"y\":[64903,63533,54225,52692,51868,51824,49564,47339,41766,37106,35073,34245,34042,32076,31937,31064,30663,29371,28907,28273,28036,26776,25827,25752,25126,25090,24459,24044,22752,22302],\"type\":\"bar\"}],                        {\"legend\":{\"bgcolor\":\"#F5F6F9\",\"font\":{\"color\":\"#4D5663\"}},\"paper_bgcolor\":\"#F5F6F9\",\"plot_bgcolor\":\"#F5F6F9\",\"template\":{\"data\":{\"barpolar\":[{\"marker\":{\"line\":{\"color\":\"#E5ECF6\",\"width\":0.5},\"pattern\":{\"fillmode\":\"overlay\",\"size\":10,\"solidity\":0.2}},\"type\":\"barpolar\"}],\"bar\":[{\"error_x\":{\"color\":\"#2a3f5f\"},\"error_y\":{\"color\":\"#2a3f5f\"},\"marker\":{\"line\":{\"color\":\"#E5ECF6\",\"width\":0.5},\"pattern\":{\"fillmode\":\"overlay\",\"size\":10,\"solidity\":0.2}},\"type\":\"bar\"}],\"carpet\":[{\"aaxis\":{\"endlinecolor\":\"#2a3f5f\",\"gridcolor\":\"white\",\"linecolor\":\"white\",\"minorgridcolor\":\"white\",\"startlinecolor\":\"#2a3f5f\"},\"baxis\":{\"endlinecolor\":\"#2a3f5f\",\"gridcolor\":\"white\",\"linecolor\":\"white\",\"minorgridcolor\":\"white\",\"startlinecolor\":\"#2a3f5f\"},\"type\":\"carpet\"}],\"choropleth\":[{\"colorbar\":{\"outlinewidth\":0,\"ticks\":\"\"},\"type\":\"choropleth\"}],\"contourcarpet\":[{\"colorbar\":{\"outlinewidth\":0,\"ticks\":\"\"},\"type\":\"contourcarpet\"}],\"contour\":[{\"colorbar\":{\"outlinewidth\":0,\"ticks\":\"\"},\"colorscale\":[[0.0,\"#0d0887\"],[0.1111111111111111,\"#46039f\"],[0.2222222222222222,\"#7201a8\"],[0.3333333333333333,\"#9c179e\"],[0.4444444444444444,\"#bd3786\"],[0.5555555555555556,\"#d8576b\"],[0.6666666666666666,\"#ed7953\"],[0.7777777777777778,\"#fb9f3a\"],[0.8888888888888888,\"#fdca26\"],[1.0,\"#f0f921\"]],\"type\":\"contour\"}],\"heatmapgl\":[{\"colorbar\":{\"outlinewidth\":0,\"ticks\":\"\"},\"colorscale\":[[0.0,\"#0d0887\"],[0.1111111111111111,\"#46039f\"],[0.2222222222222222,\"#7201a8\"],[0.3333333333333333,\"#9c179e\"],[0.4444444444444444,\"#bd3786\"],[0.5555555555555556,\"#d8576b\"],[0.6666666666666666,\"#ed7953\"],[0.7777777777777778,\"#fb9f3a\"],[0.8888888888888888,\"#fdca26\"],[1.0,\"#f0f921\"]],\"type\":\"heatmapgl\"}],\"heatmap\":[{\"colorbar\":{\"outlinewidth\":0,\"ticks\":\"\"},\"colorscale\":[[0.0,\"#0d0887\"],[0.1111111111111111,\"#46039f\"],[0.2222222222222222,\"#7201a8\"],[0.3333333333333333,\"#9c179e\"],[0.4444444444444444,\"#bd3786\"],[0.5555555555555556,\"#d8576b\"],[0.6666666666666666,\"#ed7953\"],[0.7777777777777778,\"#fb9f3a\"],[0.8888888888888888,\"#fdca26\"],[1.0,\"#f0f921\"]],\"type\":\"heatmap\"}],\"histogram2dcontour\":[{\"colorbar\":{\"outlinewidth\":0,\"ticks\":\"\"},\"colorscale\":[[0.0,\"#0d0887\"],[0.1111111111111111,\"#46039f\"],[0.2222222222222222,\"#7201a8\"],[0.3333333333333333,\"#9c179e\"],[0.4444444444444444,\"#bd3786\"],[0.5555555555555556,\"#d8576b\"],[0.6666666666666666,\"#ed7953\"],[0.7777777777777778,\"#fb9f3a\"],[0.8888888888888888,\"#fdca26\"],[1.0,\"#f0f921\"]],\"type\":\"histogram2dcontour\"}],\"histogram2d\":[{\"colorbar\":{\"outlinewidth\":0,\"ticks\":\"\"},\"colorscale\":[[0.0,\"#0d0887\"],[0.1111111111111111,\"#46039f\"],[0.2222222222222222,\"#7201a8\"],[0.3333333333333333,\"#9c179e\"],[0.4444444444444444,\"#bd3786\"],[0.5555555555555556,\"#d8576b\"],[0.6666666666666666,\"#ed7953\"],[0.7777777777777778,\"#fb9f3a\"],[0.8888888888888888,\"#fdca26\"],[1.0,\"#f0f921\"]],\"type\":\"histogram2d\"}],\"histogram\":[{\"marker\":{\"pattern\":{\"fillmode\":\"overlay\",\"size\":10,\"solidity\":0.2}},\"type\":\"histogram\"}],\"mesh3d\":[{\"colorbar\":{\"outlinewidth\":0,\"ticks\":\"\"},\"type\":\"mesh3d\"}],\"parcoords\":[{\"line\":{\"colorbar\":{\"outlinewidth\":0,\"ticks\":\"\"}},\"type\":\"parcoords\"}],\"pie\":[{\"automargin\":true,\"type\":\"pie\"}],\"scatter3d\":[{\"line\":{\"colorbar\":{\"outlinewidth\":0,\"ticks\":\"\"}},\"marker\":{\"colorbar\":{\"outlinewidth\":0,\"ticks\":\"\"}},\"type\":\"scatter3d\"}],\"scattercarpet\":[{\"marker\":{\"colorbar\":{\"outlinewidth\":0,\"ticks\":\"\"}},\"type\":\"scattercarpet\"}],\"scattergeo\":[{\"marker\":{\"colorbar\":{\"outlinewidth\":0,\"ticks\":\"\"}},\"type\":\"scattergeo\"}],\"scattergl\":[{\"marker\":{\"colorbar\":{\"outlinewidth\":0,\"ticks\":\"\"}},\"type\":\"scattergl\"}],\"scattermapbox\":[{\"marker\":{\"colorbar\":{\"outlinewidth\":0,\"ticks\":\"\"}},\"type\":\"scattermapbox\"}],\"scatterpolargl\":[{\"marker\":{\"colorbar\":{\"outlinewidth\":0,\"ticks\":\"\"}},\"type\":\"scatterpolargl\"}],\"scatterpolar\":[{\"marker\":{\"colorbar\":{\"outlinewidth\":0,\"ticks\":\"\"}},\"type\":\"scatterpolar\"}],\"scatter\":[{\"marker\":{\"colorbar\":{\"outlinewidth\":0,\"ticks\":\"\"}},\"type\":\"scatter\"}],\"scatterternary\":[{\"marker\":{\"colorbar\":{\"outlinewidth\":0,\"ticks\":\"\"}},\"type\":\"scatterternary\"}],\"surface\":[{\"colorbar\":{\"outlinewidth\":0,\"ticks\":\"\"},\"colorscale\":[[0.0,\"#0d0887\"],[0.1111111111111111,\"#46039f\"],[0.2222222222222222,\"#7201a8\"],[0.3333333333333333,\"#9c179e\"],[0.4444444444444444,\"#bd3786\"],[0.5555555555555556,\"#d8576b\"],[0.6666666666666666,\"#ed7953\"],[0.7777777777777778,\"#fb9f3a\"],[0.8888888888888888,\"#fdca26\"],[1.0,\"#f0f921\"]],\"type\":\"surface\"}],\"table\":[{\"cells\":{\"fill\":{\"color\":\"#EBF0F8\"},\"line\":{\"color\":\"white\"}},\"header\":{\"fill\":{\"color\":\"#C8D4E3\"},\"line\":{\"color\":\"white\"}},\"type\":\"table\"}]},\"layout\":{\"annotationdefaults\":{\"arrowcolor\":\"#2a3f5f\",\"arrowhead\":0,\"arrowwidth\":1},\"autotypenumbers\":\"strict\",\"coloraxis\":{\"colorbar\":{\"outlinewidth\":0,\"ticks\":\"\"}},\"colorscale\":{\"diverging\":[[0,\"#8e0152\"],[0.1,\"#c51b7d\"],[0.2,\"#de77ae\"],[0.3,\"#f1b6da\"],[0.4,\"#fde0ef\"],[0.5,\"#f7f7f7\"],[0.6,\"#e6f5d0\"],[0.7,\"#b8e186\"],[0.8,\"#7fbc41\"],[0.9,\"#4d9221\"],[1,\"#276419\"]],\"sequential\":[[0.0,\"#0d0887\"],[0.1111111111111111,\"#46039f\"],[0.2222222222222222,\"#7201a8\"],[0.3333333333333333,\"#9c179e\"],[0.4444444444444444,\"#bd3786\"],[0.5555555555555556,\"#d8576b\"],[0.6666666666666666,\"#ed7953\"],[0.7777777777777778,\"#fb9f3a\"],[0.8888888888888888,\"#fdca26\"],[1.0,\"#f0f921\"]],\"sequentialminus\":[[0.0,\"#0d0887\"],[0.1111111111111111,\"#46039f\"],[0.2222222222222222,\"#7201a8\"],[0.3333333333333333,\"#9c179e\"],[0.4444444444444444,\"#bd3786\"],[0.5555555555555556,\"#d8576b\"],[0.6666666666666666,\"#ed7953\"],[0.7777777777777778,\"#fb9f3a\"],[0.8888888888888888,\"#fdca26\"],[1.0,\"#f0f921\"]]},\"colorway\":[\"#636efa\",\"#EF553B\",\"#00cc96\",\"#ab63fa\",\"#FFA15A\",\"#19d3f3\",\"#FF6692\",\"#B6E880\",\"#FF97FF\",\"#FECB52\"],\"font\":{\"color\":\"#2a3f5f\"},\"geo\":{\"bgcolor\":\"white\",\"lakecolor\":\"white\",\"landcolor\":\"#E5ECF6\",\"showlakes\":true,\"showland\":true,\"subunitcolor\":\"white\"},\"hoverlabel\":{\"align\":\"left\"},\"hovermode\":\"closest\",\"mapbox\":{\"style\":\"light\"},\"paper_bgcolor\":\"white\",\"plot_bgcolor\":\"#E5ECF6\",\"polar\":{\"angularaxis\":{\"gridcolor\":\"white\",\"linecolor\":\"white\",\"ticks\":\"\"},\"bgcolor\":\"#E5ECF6\",\"radialaxis\":{\"gridcolor\":\"white\",\"linecolor\":\"white\",\"ticks\":\"\"}},\"scene\":{\"xaxis\":{\"backgroundcolor\":\"#E5ECF6\",\"gridcolor\":\"white\",\"gridwidth\":2,\"linecolor\":\"white\",\"showbackground\":true,\"ticks\":\"\",\"zerolinecolor\":\"white\"},\"yaxis\":{\"backgroundcolor\":\"#E5ECF6\",\"gridcolor\":\"white\",\"gridwidth\":2,\"linecolor\":\"white\",\"showbackground\":true,\"ticks\":\"\",\"zerolinecolor\":\"white\"},\"zaxis\":{\"backgroundcolor\":\"#E5ECF6\",\"gridcolor\":\"white\",\"gridwidth\":2,\"linecolor\":\"white\",\"showbackground\":true,\"ticks\":\"\",\"zerolinecolor\":\"white\"}},\"shapedefaults\":{\"line\":{\"color\":\"#2a3f5f\"}},\"ternary\":{\"aaxis\":{\"gridcolor\":\"white\",\"linecolor\":\"white\",\"ticks\":\"\"},\"baxis\":{\"gridcolor\":\"white\",\"linecolor\":\"white\",\"ticks\":\"\"},\"bgcolor\":\"#E5ECF6\",\"caxis\":{\"gridcolor\":\"white\",\"linecolor\":\"white\",\"ticks\":\"\"}},\"title\":{\"x\":0.05},\"xaxis\":{\"automargin\":true,\"gridcolor\":\"white\",\"linecolor\":\"white\",\"ticks\":\"\",\"title\":{\"standoff\":15},\"zerolinecolor\":\"white\",\"zerolinewidth\":2},\"yaxis\":{\"automargin\":true,\"gridcolor\":\"white\",\"linecolor\":\"white\",\"ticks\":\"\",\"title\":{\"standoff\":15},\"zerolinecolor\":\"white\",\"zerolinewidth\":2}}},\"title\":{\"font\":{\"color\":\"#4D5663\"},\"text\":\"Top 30 Unigrams\"},\"xaxis\":{\"gridcolor\":\"#E1E5ED\",\"linecolor\":\"black\",\"showgrid\":true,\"tickfont\":{\"color\":\"#4D5663\"},\"title\":{\"font\":{\"color\":\"#4D5663\"},\"text\":\"\"},\"zerolinecolor\":\"#E1E5ED\"},\"yaxis\":{\"gridcolor\":\"#E1E5ED\",\"linecolor\":\"black\",\"showgrid\":true,\"tickfont\":{\"color\":\"#4D5663\"},\"title\":{\"font\":{\"color\":\"#4D5663\"},\"text\":\"Count\"},\"zerolinecolor\":\"#E1E5ED\"}},                        {\"showLink\": true, \"linkText\": \"Export to plot.ly\", \"plotlyServerURL\": \"https://plot.ly\", \"responsive\": true}                    ).then(function(){\n                            \nvar gd = document.getElementById('ebd9b8bd-7dbf-4a56-beba-abaa0f369519');\nvar x = new MutationObserver(function (mutations, observer) {{\n        var display = window.getComputedStyle(gd).display;\n        if (!display || display === 'none') {{\n            console.log([gd, 'removed!']);\n            Plotly.purge(gd);\n            observer.disconnect();\n        }}\n}});\n\n// Listen for the removal of the full notebook cells\nvar notebookContainer = gd.closest('#notebook-container');\nif (notebookContainer) {{\n    x.observe(notebookContainer, {childList: true});\n}}\n\n// Listen for the clearing of the current output cell\nvar outputEl = gd.closest('.output');\nif (outputEl) {{\n    x.observe(outputEl, {childList: true});\n}}\n\n                        })                };                });            </script>        </div>"
     },
     "metadata": {},
     "output_type": "display_data"
    }
   ],
   "source": [
    "def get_top_n_words(corpus, n=None):\n",
    "    vec = CountVectorizer().fit(corpus)\n",
    "    bag_of_words = vec.transform(corpus)\n",
    "    sum_words = bag_of_words.sum(axis=0) \n",
    "    words_freq = [(word, sum_words[0, idx]) for word, idx in vec.vocabulary_.items()]\n",
    "    words_freq =sorted(words_freq, key = lambda x: x[1], reverse=True)\n",
    "    return words_freq[:n]\n",
    "common_words = get_top_n_words(md_submissions['lemmatized'], 30)\n",
    "for word, freq in common_words:\n",
    "    print(word, freq)\n",
    "df1a = pd.DataFrame(common_words, columns = ['lemmatized' , 'count'])\n",
    "df1a.groupby('lemmatized').sum()['count'].sort_values(ascending=False).iplot(\n",
    "    kind='bar', yTitle='Count', linecolor='black', title='Top 30 Unigrams')\n"
   ]
  },
  {
   "cell_type": "markdown",
   "metadata": {},
   "source": [
    "Top bigrams distribution"
   ]
  },
  {
   "cell_type": "code",
   "execution_count": 11,
   "metadata": {},
   "outputs": [
    {
     "name": "stdout",
     "output_type": "stream",
     "text": [
      "feel like 8058\n",
      "micro dose 6657\n",
      "every day 5927\n",
      "first time 4621\n",
      "lion mane 4042\n",
      "start microdosing 3887\n",
      "day day 3672\n",
      "would like 3072\n",
      "good luck 2956\n",
      "would say 2780\n",
      "side effect 2755\n",
      "microdosing lsd 2702\n",
      "amp x200b 2570\n",
      "sound like 2557\n",
      "dose day 2466\n",
      "long term 2386\n",
      "distilled water 2358\n",
      "make feel 2353\n",
      "1p lsd 2334\n",
      "md ing 2321\n",
      "low dose 2278\n",
      "felt like 2243\n",
      "make sure 2105\n",
      "try microdosing 2053\n",
      "one day 2039\n",
      "seem like 1926\n",
      "year ago 1846\n",
      "depression anxiety 1841\n",
      "micro dosing 1814\n",
      "mental health 1810\n"
     ]
    },
    {
     "data": {
      "application/vnd.plotly.v1+json": {
       "data": [
        {
         "marker": {
          "color": "rgba(255, 153, 51, 0.6)",
          "line": {
           "color": "rgba(255, 153, 51, 1.0)",
           "width": 1
          }
         },
         "name": "count",
         "orientation": "v",
         "text": "",
         "x": [
          "feel like",
          "micro dose",
          "every day",
          "first time",
          "lion mane",
          "start microdosing",
          "day day",
          "would like",
          "good luck",
          "would say",
          "side effect",
          "microdosing lsd",
          "amp x200b",
          "sound like",
          "dose day",
          "long term",
          "distilled water",
          "make feel",
          "1p lsd",
          "md ing",
          "low dose",
          "felt like",
          "make sure",
          "try microdosing",
          "one day",
          "seem like",
          "year ago",
          "depression anxiety",
          "micro dosing",
          "mental health"
         ],
         "y": [
          8058,
          6657,
          5927,
          4621,
          4042,
          3887,
          3672,
          3072,
          2956,
          2780,
          2755,
          2702,
          2570,
          2557,
          2466,
          2386,
          2358,
          2353,
          2334,
          2321,
          2278,
          2243,
          2105,
          2053,
          2039,
          1926,
          1846,
          1841,
          1814,
          1810
         ],
         "type": "bar"
        }
       ],
       "layout": {
        "legend": {
         "bgcolor": "#F5F6F9",
         "font": {
          "color": "#4D5663"
         }
        },
        "paper_bgcolor": "#F5F6F9",
        "plot_bgcolor": "#F5F6F9",
        "template": {
         "data": {
          "barpolar": [
           {
            "marker": {
             "line": {
              "color": "#E5ECF6",
              "width": 0.5
             },
             "pattern": {
              "fillmode": "overlay",
              "size": 10,
              "solidity": 0.2
             }
            },
            "type": "barpolar"
           }
          ],
          "bar": [
           {
            "error_x": {
             "color": "#2a3f5f"
            },
            "error_y": {
             "color": "#2a3f5f"
            },
            "marker": {
             "line": {
              "color": "#E5ECF6",
              "width": 0.5
             },
             "pattern": {
              "fillmode": "overlay",
              "size": 10,
              "solidity": 0.2
             }
            },
            "type": "bar"
           }
          ],
          "carpet": [
           {
            "aaxis": {
             "endlinecolor": "#2a3f5f",
             "gridcolor": "white",
             "linecolor": "white",
             "minorgridcolor": "white",
             "startlinecolor": "#2a3f5f"
            },
            "baxis": {
             "endlinecolor": "#2a3f5f",
             "gridcolor": "white",
             "linecolor": "white",
             "minorgridcolor": "white",
             "startlinecolor": "#2a3f5f"
            },
            "type": "carpet"
           }
          ],
          "choropleth": [
           {
            "colorbar": {
             "outlinewidth": 0,
             "ticks": ""
            },
            "type": "choropleth"
           }
          ],
          "contourcarpet": [
           {
            "colorbar": {
             "outlinewidth": 0,
             "ticks": ""
            },
            "type": "contourcarpet"
           }
          ],
          "contour": [
           {
            "colorbar": {
             "outlinewidth": 0,
             "ticks": ""
            },
            "colorscale": [
             [
              0.0,
              "#0d0887"
             ],
             [
              0.1111111111111111,
              "#46039f"
             ],
             [
              0.2222222222222222,
              "#7201a8"
             ],
             [
              0.3333333333333333,
              "#9c179e"
             ],
             [
              0.4444444444444444,
              "#bd3786"
             ],
             [
              0.5555555555555556,
              "#d8576b"
             ],
             [
              0.6666666666666666,
              "#ed7953"
             ],
             [
              0.7777777777777778,
              "#fb9f3a"
             ],
             [
              0.8888888888888888,
              "#fdca26"
             ],
             [
              1.0,
              "#f0f921"
             ]
            ],
            "type": "contour"
           }
          ],
          "heatmapgl": [
           {
            "colorbar": {
             "outlinewidth": 0,
             "ticks": ""
            },
            "colorscale": [
             [
              0.0,
              "#0d0887"
             ],
             [
              0.1111111111111111,
              "#46039f"
             ],
             [
              0.2222222222222222,
              "#7201a8"
             ],
             [
              0.3333333333333333,
              "#9c179e"
             ],
             [
              0.4444444444444444,
              "#bd3786"
             ],
             [
              0.5555555555555556,
              "#d8576b"
             ],
             [
              0.6666666666666666,
              "#ed7953"
             ],
             [
              0.7777777777777778,
              "#fb9f3a"
             ],
             [
              0.8888888888888888,
              "#fdca26"
             ],
             [
              1.0,
              "#f0f921"
             ]
            ],
            "type": "heatmapgl"
           }
          ],
          "heatmap": [
           {
            "colorbar": {
             "outlinewidth": 0,
             "ticks": ""
            },
            "colorscale": [
             [
              0.0,
              "#0d0887"
             ],
             [
              0.1111111111111111,
              "#46039f"
             ],
             [
              0.2222222222222222,
              "#7201a8"
             ],
             [
              0.3333333333333333,
              "#9c179e"
             ],
             [
              0.4444444444444444,
              "#bd3786"
             ],
             [
              0.5555555555555556,
              "#d8576b"
             ],
             [
              0.6666666666666666,
              "#ed7953"
             ],
             [
              0.7777777777777778,
              "#fb9f3a"
             ],
             [
              0.8888888888888888,
              "#fdca26"
             ],
             [
              1.0,
              "#f0f921"
             ]
            ],
            "type": "heatmap"
           }
          ],
          "histogram2dcontour": [
           {
            "colorbar": {
             "outlinewidth": 0,
             "ticks": ""
            },
            "colorscale": [
             [
              0.0,
              "#0d0887"
             ],
             [
              0.1111111111111111,
              "#46039f"
             ],
             [
              0.2222222222222222,
              "#7201a8"
             ],
             [
              0.3333333333333333,
              "#9c179e"
             ],
             [
              0.4444444444444444,
              "#bd3786"
             ],
             [
              0.5555555555555556,
              "#d8576b"
             ],
             [
              0.6666666666666666,
              "#ed7953"
             ],
             [
              0.7777777777777778,
              "#fb9f3a"
             ],
             [
              0.8888888888888888,
              "#fdca26"
             ],
             [
              1.0,
              "#f0f921"
             ]
            ],
            "type": "histogram2dcontour"
           }
          ],
          "histogram2d": [
           {
            "colorbar": {
             "outlinewidth": 0,
             "ticks": ""
            },
            "colorscale": [
             [
              0.0,
              "#0d0887"
             ],
             [
              0.1111111111111111,
              "#46039f"
             ],
             [
              0.2222222222222222,
              "#7201a8"
             ],
             [
              0.3333333333333333,
              "#9c179e"
             ],
             [
              0.4444444444444444,
              "#bd3786"
             ],
             [
              0.5555555555555556,
              "#d8576b"
             ],
             [
              0.6666666666666666,
              "#ed7953"
             ],
             [
              0.7777777777777778,
              "#fb9f3a"
             ],
             [
              0.8888888888888888,
              "#fdca26"
             ],
             [
              1.0,
              "#f0f921"
             ]
            ],
            "type": "histogram2d"
           }
          ],
          "histogram": [
           {
            "marker": {
             "pattern": {
              "fillmode": "overlay",
              "size": 10,
              "solidity": 0.2
             }
            },
            "type": "histogram"
           }
          ],
          "mesh3d": [
           {
            "colorbar": {
             "outlinewidth": 0,
             "ticks": ""
            },
            "type": "mesh3d"
           }
          ],
          "parcoords": [
           {
            "line": {
             "colorbar": {
              "outlinewidth": 0,
              "ticks": ""
             }
            },
            "type": "parcoords"
           }
          ],
          "pie": [
           {
            "automargin": true,
            "type": "pie"
           }
          ],
          "scatter3d": [
           {
            "line": {
             "colorbar": {
              "outlinewidth": 0,
              "ticks": ""
             }
            },
            "marker": {
             "colorbar": {
              "outlinewidth": 0,
              "ticks": ""
             }
            },
            "type": "scatter3d"
           }
          ],
          "scattercarpet": [
           {
            "marker": {
             "colorbar": {
              "outlinewidth": 0,
              "ticks": ""
             }
            },
            "type": "scattercarpet"
           }
          ],
          "scattergeo": [
           {
            "marker": {
             "colorbar": {
              "outlinewidth": 0,
              "ticks": ""
             }
            },
            "type": "scattergeo"
           }
          ],
          "scattergl": [
           {
            "marker": {
             "colorbar": {
              "outlinewidth": 0,
              "ticks": ""
             }
            },
            "type": "scattergl"
           }
          ],
          "scattermapbox": [
           {
            "marker": {
             "colorbar": {
              "outlinewidth": 0,
              "ticks": ""
             }
            },
            "type": "scattermapbox"
           }
          ],
          "scatterpolargl": [
           {
            "marker": {
             "colorbar": {
              "outlinewidth": 0,
              "ticks": ""
             }
            },
            "type": "scatterpolargl"
           }
          ],
          "scatterpolar": [
           {
            "marker": {
             "colorbar": {
              "outlinewidth": 0,
              "ticks": ""
             }
            },
            "type": "scatterpolar"
           }
          ],
          "scatter": [
           {
            "marker": {
             "colorbar": {
              "outlinewidth": 0,
              "ticks": ""
             }
            },
            "type": "scatter"
           }
          ],
          "scatterternary": [
           {
            "marker": {
             "colorbar": {
              "outlinewidth": 0,
              "ticks": ""
             }
            },
            "type": "scatterternary"
           }
          ],
          "surface": [
           {
            "colorbar": {
             "outlinewidth": 0,
             "ticks": ""
            },
            "colorscale": [
             [
              0.0,
              "#0d0887"
             ],
             [
              0.1111111111111111,
              "#46039f"
             ],
             [
              0.2222222222222222,
              "#7201a8"
             ],
             [
              0.3333333333333333,
              "#9c179e"
             ],
             [
              0.4444444444444444,
              "#bd3786"
             ],
             [
              0.5555555555555556,
              "#d8576b"
             ],
             [
              0.6666666666666666,
              "#ed7953"
             ],
             [
              0.7777777777777778,
              "#fb9f3a"
             ],
             [
              0.8888888888888888,
              "#fdca26"
             ],
             [
              1.0,
              "#f0f921"
             ]
            ],
            "type": "surface"
           }
          ],
          "table": [
           {
            "cells": {
             "fill": {
              "color": "#EBF0F8"
             },
             "line": {
              "color": "white"
             }
            },
            "header": {
             "fill": {
              "color": "#C8D4E3"
             },
             "line": {
              "color": "white"
             }
            },
            "type": "table"
           }
          ]
         },
         "layout": {
          "annotationdefaults": {
           "arrowcolor": "#2a3f5f",
           "arrowhead": 0,
           "arrowwidth": 1
          },
          "autotypenumbers": "strict",
          "coloraxis": {
           "colorbar": {
            "outlinewidth": 0,
            "ticks": ""
           }
          },
          "colorscale": {
           "diverging": [
            [
             0,
             "#8e0152"
            ],
            [
             0.1,
             "#c51b7d"
            ],
            [
             0.2,
             "#de77ae"
            ],
            [
             0.3,
             "#f1b6da"
            ],
            [
             0.4,
             "#fde0ef"
            ],
            [
             0.5,
             "#f7f7f7"
            ],
            [
             0.6,
             "#e6f5d0"
            ],
            [
             0.7,
             "#b8e186"
            ],
            [
             0.8,
             "#7fbc41"
            ],
            [
             0.9,
             "#4d9221"
            ],
            [
             1,
             "#276419"
            ]
           ],
           "sequential": [
            [
             0.0,
             "#0d0887"
            ],
            [
             0.1111111111111111,
             "#46039f"
            ],
            [
             0.2222222222222222,
             "#7201a8"
            ],
            [
             0.3333333333333333,
             "#9c179e"
            ],
            [
             0.4444444444444444,
             "#bd3786"
            ],
            [
             0.5555555555555556,
             "#d8576b"
            ],
            [
             0.6666666666666666,
             "#ed7953"
            ],
            [
             0.7777777777777778,
             "#fb9f3a"
            ],
            [
             0.8888888888888888,
             "#fdca26"
            ],
            [
             1.0,
             "#f0f921"
            ]
           ],
           "sequentialminus": [
            [
             0.0,
             "#0d0887"
            ],
            [
             0.1111111111111111,
             "#46039f"
            ],
            [
             0.2222222222222222,
             "#7201a8"
            ],
            [
             0.3333333333333333,
             "#9c179e"
            ],
            [
             0.4444444444444444,
             "#bd3786"
            ],
            [
             0.5555555555555556,
             "#d8576b"
            ],
            [
             0.6666666666666666,
             "#ed7953"
            ],
            [
             0.7777777777777778,
             "#fb9f3a"
            ],
            [
             0.8888888888888888,
             "#fdca26"
            ],
            [
             1.0,
             "#f0f921"
            ]
           ]
          },
          "colorway": [
           "#636efa",
           "#EF553B",
           "#00cc96",
           "#ab63fa",
           "#FFA15A",
           "#19d3f3",
           "#FF6692",
           "#B6E880",
           "#FF97FF",
           "#FECB52"
          ],
          "font": {
           "color": "#2a3f5f"
          },
          "geo": {
           "bgcolor": "white",
           "lakecolor": "white",
           "landcolor": "#E5ECF6",
           "showlakes": true,
           "showland": true,
           "subunitcolor": "white"
          },
          "hoverlabel": {
           "align": "left"
          },
          "hovermode": "closest",
          "mapbox": {
           "style": "light"
          },
          "paper_bgcolor": "white",
          "plot_bgcolor": "#E5ECF6",
          "polar": {
           "angularaxis": {
            "gridcolor": "white",
            "linecolor": "white",
            "ticks": ""
           },
           "bgcolor": "#E5ECF6",
           "radialaxis": {
            "gridcolor": "white",
            "linecolor": "white",
            "ticks": ""
           }
          },
          "scene": {
           "xaxis": {
            "backgroundcolor": "#E5ECF6",
            "gridcolor": "white",
            "gridwidth": 2,
            "linecolor": "white",
            "showbackground": true,
            "ticks": "",
            "zerolinecolor": "white"
           },
           "yaxis": {
            "backgroundcolor": "#E5ECF6",
            "gridcolor": "white",
            "gridwidth": 2,
            "linecolor": "white",
            "showbackground": true,
            "ticks": "",
            "zerolinecolor": "white"
           },
           "zaxis": {
            "backgroundcolor": "#E5ECF6",
            "gridcolor": "white",
            "gridwidth": 2,
            "linecolor": "white",
            "showbackground": true,
            "ticks": "",
            "zerolinecolor": "white"
           }
          },
          "shapedefaults": {
           "line": {
            "color": "#2a3f5f"
           }
          },
          "ternary": {
           "aaxis": {
            "gridcolor": "white",
            "linecolor": "white",
            "ticks": ""
           },
           "baxis": {
            "gridcolor": "white",
            "linecolor": "white",
            "ticks": ""
           },
           "bgcolor": "#E5ECF6",
           "caxis": {
            "gridcolor": "white",
            "linecolor": "white",
            "ticks": ""
           }
          },
          "title": {
           "x": 0.05
          },
          "xaxis": {
           "automargin": true,
           "gridcolor": "white",
           "linecolor": "white",
           "ticks": "",
           "title": {
            "standoff": 15
           },
           "zerolinecolor": "white",
           "zerolinewidth": 2
          },
          "yaxis": {
           "automargin": true,
           "gridcolor": "white",
           "linecolor": "white",
           "ticks": "",
           "title": {
            "standoff": 15
           },
           "zerolinecolor": "white",
           "zerolinewidth": 2
          }
         }
        },
        "title": {
         "font": {
          "color": "#4D5663"
         },
         "text": "Top 30 bigrams"
        },
        "xaxis": {
         "gridcolor": "#E1E5ED",
         "linecolor": "black",
         "showgrid": true,
         "tickfont": {
          "color": "#4D5663"
         },
         "title": {
          "font": {
           "color": "#4D5663"
          },
          "text": ""
         },
         "zerolinecolor": "#E1E5ED"
        },
        "yaxis": {
         "gridcolor": "#E1E5ED",
         "linecolor": "black",
         "showgrid": true,
         "tickfont": {
          "color": "#4D5663"
         },
         "title": {
          "font": {
           "color": "#4D5663"
          },
          "text": "Count"
         },
         "zerolinecolor": "#E1E5ED"
        }
       },
       "config": {
        "showLink": true,
        "linkText": "Export to plot.ly",
        "plotlyServerURL": "https://plot.ly"
       }
      },
      "text/html": "<div>                            <div id=\"4a8148c5-8233-4fb1-9790-586512524776\" class=\"plotly-graph-div\" style=\"height:525px; width:100%;\"></div>            <script type=\"text/javascript\">                require([\"plotly\"], function(Plotly) {                    window.PLOTLYENV=window.PLOTLYENV || {};\n                    window.PLOTLYENV.BASE_URL='https://plot.ly';                                    if (document.getElementById(\"4a8148c5-8233-4fb1-9790-586512524776\")) {                    Plotly.newPlot(                        \"4a8148c5-8233-4fb1-9790-586512524776\",                        [{\"marker\":{\"color\":\"rgba(255, 153, 51, 0.6)\",\"line\":{\"color\":\"rgba(255, 153, 51, 1.0)\",\"width\":1}},\"name\":\"count\",\"orientation\":\"v\",\"text\":\"\",\"x\":[\"feel like\",\"micro dose\",\"every day\",\"first time\",\"lion mane\",\"start microdosing\",\"day day\",\"would like\",\"good luck\",\"would say\",\"side effect\",\"microdosing lsd\",\"amp x200b\",\"sound like\",\"dose day\",\"long term\",\"distilled water\",\"make feel\",\"1p lsd\",\"md ing\",\"low dose\",\"felt like\",\"make sure\",\"try microdosing\",\"one day\",\"seem like\",\"year ago\",\"depression anxiety\",\"micro dosing\",\"mental health\"],\"y\":[8058,6657,5927,4621,4042,3887,3672,3072,2956,2780,2755,2702,2570,2557,2466,2386,2358,2353,2334,2321,2278,2243,2105,2053,2039,1926,1846,1841,1814,1810],\"type\":\"bar\"}],                        {\"legend\":{\"bgcolor\":\"#F5F6F9\",\"font\":{\"color\":\"#4D5663\"}},\"paper_bgcolor\":\"#F5F6F9\",\"plot_bgcolor\":\"#F5F6F9\",\"template\":{\"data\":{\"barpolar\":[{\"marker\":{\"line\":{\"color\":\"#E5ECF6\",\"width\":0.5},\"pattern\":{\"fillmode\":\"overlay\",\"size\":10,\"solidity\":0.2}},\"type\":\"barpolar\"}],\"bar\":[{\"error_x\":{\"color\":\"#2a3f5f\"},\"error_y\":{\"color\":\"#2a3f5f\"},\"marker\":{\"line\":{\"color\":\"#E5ECF6\",\"width\":0.5},\"pattern\":{\"fillmode\":\"overlay\",\"size\":10,\"solidity\":0.2}},\"type\":\"bar\"}],\"carpet\":[{\"aaxis\":{\"endlinecolor\":\"#2a3f5f\",\"gridcolor\":\"white\",\"linecolor\":\"white\",\"minorgridcolor\":\"white\",\"startlinecolor\":\"#2a3f5f\"},\"baxis\":{\"endlinecolor\":\"#2a3f5f\",\"gridcolor\":\"white\",\"linecolor\":\"white\",\"minorgridcolor\":\"white\",\"startlinecolor\":\"#2a3f5f\"},\"type\":\"carpet\"}],\"choropleth\":[{\"colorbar\":{\"outlinewidth\":0,\"ticks\":\"\"},\"type\":\"choropleth\"}],\"contourcarpet\":[{\"colorbar\":{\"outlinewidth\":0,\"ticks\":\"\"},\"type\":\"contourcarpet\"}],\"contour\":[{\"colorbar\":{\"outlinewidth\":0,\"ticks\":\"\"},\"colorscale\":[[0.0,\"#0d0887\"],[0.1111111111111111,\"#46039f\"],[0.2222222222222222,\"#7201a8\"],[0.3333333333333333,\"#9c179e\"],[0.4444444444444444,\"#bd3786\"],[0.5555555555555556,\"#d8576b\"],[0.6666666666666666,\"#ed7953\"],[0.7777777777777778,\"#fb9f3a\"],[0.8888888888888888,\"#fdca26\"],[1.0,\"#f0f921\"]],\"type\":\"contour\"}],\"heatmapgl\":[{\"colorbar\":{\"outlinewidth\":0,\"ticks\":\"\"},\"colorscale\":[[0.0,\"#0d0887\"],[0.1111111111111111,\"#46039f\"],[0.2222222222222222,\"#7201a8\"],[0.3333333333333333,\"#9c179e\"],[0.4444444444444444,\"#bd3786\"],[0.5555555555555556,\"#d8576b\"],[0.6666666666666666,\"#ed7953\"],[0.7777777777777778,\"#fb9f3a\"],[0.8888888888888888,\"#fdca26\"],[1.0,\"#f0f921\"]],\"type\":\"heatmapgl\"}],\"heatmap\":[{\"colorbar\":{\"outlinewidth\":0,\"ticks\":\"\"},\"colorscale\":[[0.0,\"#0d0887\"],[0.1111111111111111,\"#46039f\"],[0.2222222222222222,\"#7201a8\"],[0.3333333333333333,\"#9c179e\"],[0.4444444444444444,\"#bd3786\"],[0.5555555555555556,\"#d8576b\"],[0.6666666666666666,\"#ed7953\"],[0.7777777777777778,\"#fb9f3a\"],[0.8888888888888888,\"#fdca26\"],[1.0,\"#f0f921\"]],\"type\":\"heatmap\"}],\"histogram2dcontour\":[{\"colorbar\":{\"outlinewidth\":0,\"ticks\":\"\"},\"colorscale\":[[0.0,\"#0d0887\"],[0.1111111111111111,\"#46039f\"],[0.2222222222222222,\"#7201a8\"],[0.3333333333333333,\"#9c179e\"],[0.4444444444444444,\"#bd3786\"],[0.5555555555555556,\"#d8576b\"],[0.6666666666666666,\"#ed7953\"],[0.7777777777777778,\"#fb9f3a\"],[0.8888888888888888,\"#fdca26\"],[1.0,\"#f0f921\"]],\"type\":\"histogram2dcontour\"}],\"histogram2d\":[{\"colorbar\":{\"outlinewidth\":0,\"ticks\":\"\"},\"colorscale\":[[0.0,\"#0d0887\"],[0.1111111111111111,\"#46039f\"],[0.2222222222222222,\"#7201a8\"],[0.3333333333333333,\"#9c179e\"],[0.4444444444444444,\"#bd3786\"],[0.5555555555555556,\"#d8576b\"],[0.6666666666666666,\"#ed7953\"],[0.7777777777777778,\"#fb9f3a\"],[0.8888888888888888,\"#fdca26\"],[1.0,\"#f0f921\"]],\"type\":\"histogram2d\"}],\"histogram\":[{\"marker\":{\"pattern\":{\"fillmode\":\"overlay\",\"size\":10,\"solidity\":0.2}},\"type\":\"histogram\"}],\"mesh3d\":[{\"colorbar\":{\"outlinewidth\":0,\"ticks\":\"\"},\"type\":\"mesh3d\"}],\"parcoords\":[{\"line\":{\"colorbar\":{\"outlinewidth\":0,\"ticks\":\"\"}},\"type\":\"parcoords\"}],\"pie\":[{\"automargin\":true,\"type\":\"pie\"}],\"scatter3d\":[{\"line\":{\"colorbar\":{\"outlinewidth\":0,\"ticks\":\"\"}},\"marker\":{\"colorbar\":{\"outlinewidth\":0,\"ticks\":\"\"}},\"type\":\"scatter3d\"}],\"scattercarpet\":[{\"marker\":{\"colorbar\":{\"outlinewidth\":0,\"ticks\":\"\"}},\"type\":\"scattercarpet\"}],\"scattergeo\":[{\"marker\":{\"colorbar\":{\"outlinewidth\":0,\"ticks\":\"\"}},\"type\":\"scattergeo\"}],\"scattergl\":[{\"marker\":{\"colorbar\":{\"outlinewidth\":0,\"ticks\":\"\"}},\"type\":\"scattergl\"}],\"scattermapbox\":[{\"marker\":{\"colorbar\":{\"outlinewidth\":0,\"ticks\":\"\"}},\"type\":\"scattermapbox\"}],\"scatterpolargl\":[{\"marker\":{\"colorbar\":{\"outlinewidth\":0,\"ticks\":\"\"}},\"type\":\"scatterpolargl\"}],\"scatterpolar\":[{\"marker\":{\"colorbar\":{\"outlinewidth\":0,\"ticks\":\"\"}},\"type\":\"scatterpolar\"}],\"scatter\":[{\"marker\":{\"colorbar\":{\"outlinewidth\":0,\"ticks\":\"\"}},\"type\":\"scatter\"}],\"scatterternary\":[{\"marker\":{\"colorbar\":{\"outlinewidth\":0,\"ticks\":\"\"}},\"type\":\"scatterternary\"}],\"surface\":[{\"colorbar\":{\"outlinewidth\":0,\"ticks\":\"\"},\"colorscale\":[[0.0,\"#0d0887\"],[0.1111111111111111,\"#46039f\"],[0.2222222222222222,\"#7201a8\"],[0.3333333333333333,\"#9c179e\"],[0.4444444444444444,\"#bd3786\"],[0.5555555555555556,\"#d8576b\"],[0.6666666666666666,\"#ed7953\"],[0.7777777777777778,\"#fb9f3a\"],[0.8888888888888888,\"#fdca26\"],[1.0,\"#f0f921\"]],\"type\":\"surface\"}],\"table\":[{\"cells\":{\"fill\":{\"color\":\"#EBF0F8\"},\"line\":{\"color\":\"white\"}},\"header\":{\"fill\":{\"color\":\"#C8D4E3\"},\"line\":{\"color\":\"white\"}},\"type\":\"table\"}]},\"layout\":{\"annotationdefaults\":{\"arrowcolor\":\"#2a3f5f\",\"arrowhead\":0,\"arrowwidth\":1},\"autotypenumbers\":\"strict\",\"coloraxis\":{\"colorbar\":{\"outlinewidth\":0,\"ticks\":\"\"}},\"colorscale\":{\"diverging\":[[0,\"#8e0152\"],[0.1,\"#c51b7d\"],[0.2,\"#de77ae\"],[0.3,\"#f1b6da\"],[0.4,\"#fde0ef\"],[0.5,\"#f7f7f7\"],[0.6,\"#e6f5d0\"],[0.7,\"#b8e186\"],[0.8,\"#7fbc41\"],[0.9,\"#4d9221\"],[1,\"#276419\"]],\"sequential\":[[0.0,\"#0d0887\"],[0.1111111111111111,\"#46039f\"],[0.2222222222222222,\"#7201a8\"],[0.3333333333333333,\"#9c179e\"],[0.4444444444444444,\"#bd3786\"],[0.5555555555555556,\"#d8576b\"],[0.6666666666666666,\"#ed7953\"],[0.7777777777777778,\"#fb9f3a\"],[0.8888888888888888,\"#fdca26\"],[1.0,\"#f0f921\"]],\"sequentialminus\":[[0.0,\"#0d0887\"],[0.1111111111111111,\"#46039f\"],[0.2222222222222222,\"#7201a8\"],[0.3333333333333333,\"#9c179e\"],[0.4444444444444444,\"#bd3786\"],[0.5555555555555556,\"#d8576b\"],[0.6666666666666666,\"#ed7953\"],[0.7777777777777778,\"#fb9f3a\"],[0.8888888888888888,\"#fdca26\"],[1.0,\"#f0f921\"]]},\"colorway\":[\"#636efa\",\"#EF553B\",\"#00cc96\",\"#ab63fa\",\"#FFA15A\",\"#19d3f3\",\"#FF6692\",\"#B6E880\",\"#FF97FF\",\"#FECB52\"],\"font\":{\"color\":\"#2a3f5f\"},\"geo\":{\"bgcolor\":\"white\",\"lakecolor\":\"white\",\"landcolor\":\"#E5ECF6\",\"showlakes\":true,\"showland\":true,\"subunitcolor\":\"white\"},\"hoverlabel\":{\"align\":\"left\"},\"hovermode\":\"closest\",\"mapbox\":{\"style\":\"light\"},\"paper_bgcolor\":\"white\",\"plot_bgcolor\":\"#E5ECF6\",\"polar\":{\"angularaxis\":{\"gridcolor\":\"white\",\"linecolor\":\"white\",\"ticks\":\"\"},\"bgcolor\":\"#E5ECF6\",\"radialaxis\":{\"gridcolor\":\"white\",\"linecolor\":\"white\",\"ticks\":\"\"}},\"scene\":{\"xaxis\":{\"backgroundcolor\":\"#E5ECF6\",\"gridcolor\":\"white\",\"gridwidth\":2,\"linecolor\":\"white\",\"showbackground\":true,\"ticks\":\"\",\"zerolinecolor\":\"white\"},\"yaxis\":{\"backgroundcolor\":\"#E5ECF6\",\"gridcolor\":\"white\",\"gridwidth\":2,\"linecolor\":\"white\",\"showbackground\":true,\"ticks\":\"\",\"zerolinecolor\":\"white\"},\"zaxis\":{\"backgroundcolor\":\"#E5ECF6\",\"gridcolor\":\"white\",\"gridwidth\":2,\"linecolor\":\"white\",\"showbackground\":true,\"ticks\":\"\",\"zerolinecolor\":\"white\"}},\"shapedefaults\":{\"line\":{\"color\":\"#2a3f5f\"}},\"ternary\":{\"aaxis\":{\"gridcolor\":\"white\",\"linecolor\":\"white\",\"ticks\":\"\"},\"baxis\":{\"gridcolor\":\"white\",\"linecolor\":\"white\",\"ticks\":\"\"},\"bgcolor\":\"#E5ECF6\",\"caxis\":{\"gridcolor\":\"white\",\"linecolor\":\"white\",\"ticks\":\"\"}},\"title\":{\"x\":0.05},\"xaxis\":{\"automargin\":true,\"gridcolor\":\"white\",\"linecolor\":\"white\",\"ticks\":\"\",\"title\":{\"standoff\":15},\"zerolinecolor\":\"white\",\"zerolinewidth\":2},\"yaxis\":{\"automargin\":true,\"gridcolor\":\"white\",\"linecolor\":\"white\",\"ticks\":\"\",\"title\":{\"standoff\":15},\"zerolinecolor\":\"white\",\"zerolinewidth\":2}}},\"title\":{\"font\":{\"color\":\"#4D5663\"},\"text\":\"Top 30 bigrams\"},\"xaxis\":{\"gridcolor\":\"#E1E5ED\",\"linecolor\":\"black\",\"showgrid\":true,\"tickfont\":{\"color\":\"#4D5663\"},\"title\":{\"font\":{\"color\":\"#4D5663\"},\"text\":\"\"},\"zerolinecolor\":\"#E1E5ED\"},\"yaxis\":{\"gridcolor\":\"#E1E5ED\",\"linecolor\":\"black\",\"showgrid\":true,\"tickfont\":{\"color\":\"#4D5663\"},\"title\":{\"font\":{\"color\":\"#4D5663\"},\"text\":\"Count\"},\"zerolinecolor\":\"#E1E5ED\"}},                        {\"showLink\": true, \"linkText\": \"Export to plot.ly\", \"plotlyServerURL\": \"https://plot.ly\", \"responsive\": true}                    ).then(function(){\n                            \nvar gd = document.getElementById('4a8148c5-8233-4fb1-9790-586512524776');\nvar x = new MutationObserver(function (mutations, observer) {{\n        var display = window.getComputedStyle(gd).display;\n        if (!display || display === 'none') {{\n            console.log([gd, 'removed!']);\n            Plotly.purge(gd);\n            observer.disconnect();\n        }}\n}});\n\n// Listen for the removal of the full notebook cells\nvar notebookContainer = gd.closest('#notebook-container');\nif (notebookContainer) {{\n    x.observe(notebookContainer, {childList: true});\n}}\n\n// Listen for the clearing of the current output cell\nvar outputEl = gd.closest('.output');\nif (outputEl) {{\n    x.observe(outputEl, {childList: true});\n}}\n\n                        })                };                });            </script>        </div>"
     },
     "metadata": {},
     "output_type": "display_data"
    }
   ],
   "source": [
    "def get_top_n_bigram(corpus, n=None):\n",
    "    vec = CountVectorizer(ngram_range=(2, 2)).fit(corpus)\n",
    "    bag_of_words = vec.transform(corpus)\n",
    "    sum_words = bag_of_words.sum(axis=0) \n",
    "    words_freq = [(word, sum_words[0, idx]) for word, idx in vec.vocabulary_.items()]\n",
    "    words_freq =sorted(words_freq, key = lambda x: x[1], reverse=True)\n",
    "    return words_freq[:n]\n",
    "common_words = get_top_n_bigram(md_submissions['lemmatized'], 30)\n",
    "for word, freq in common_words:\n",
    "    print(word, freq)\n",
    "df3a = pd.DataFrame(common_words, columns = ['lemmatized' , 'count'])\n",
    "df3a.groupby('lemmatized').sum()['count'].sort_values(ascending=False).iplot(kind='bar', yTitle='Count', linecolor='black', title='Top 30 bigrams')\n"
   ]
  },
  {
   "cell_type": "markdown",
   "metadata": {},
   "source": [
    "Make sure to change dataframe to master posts and the right column for this "
   ]
  },
  {
   "cell_type": "markdown",
   "metadata": {},
   "source": [
    "Top Trigrams"
   ]
  },
  {
   "cell_type": "code",
   "execution_count": 12,
   "metadata": {},
   "outputs": [
    {
     "name": "stdout",
     "output_type": "stream",
     "text": [
      "find sweet spot 798\n",
      "every third day 648\n",
      "would love hear 455\n",
      "anyone else experience 427\n",
      "day two day 426\n",
      "dose every day 419\n",
      "every three day 413\n",
      "take lion mane 394\n",
      "every 3rd day 379\n",
      "start micro dose 372\n",
      "negative side effect 361\n",
      "first time microdosing 359\n",
      "lion mane niacin 358\n",
      "want try microdosing 355\n",
      "take every day 337\n",
      "use distilled water 332\n",
      "long term effect 331\n",
      "day day day 329\n",
      "would like know 315\n",
      "one day two 311\n",
      "make feel like 291\n",
      "would like try 278\n",
      "every 4th day 275\n",
      "want start microdosing 263\n",
      "feel like need 261\n",
      "start md ing 261\n",
      "take full dose 261\n",
      "mental health issue 241\n",
      "first thing morning 231\n",
      "want make sure 231\n"
     ]
    },
    {
     "data": {
      "application/vnd.plotly.v1+json": {
       "data": [
        {
         "marker": {
          "color": "rgba(255, 153, 51, 0.6)",
          "line": {
           "color": "rgba(255, 153, 51, 1.0)",
           "width": 1
          }
         },
         "name": "count",
         "orientation": "v",
         "text": "",
         "x": [
          "find sweet spot",
          "every third day",
          "would love hear",
          "anyone else experience",
          "day two day",
          "dose every day",
          "every three day",
          "take lion mane",
          "every 3rd day",
          "start micro dose",
          "negative side effect",
          "first time microdosing",
          "lion mane niacin",
          "want try microdosing",
          "take every day",
          "use distilled water",
          "long term effect",
          "day day day",
          "would like know",
          "one day two",
          "make feel like",
          "would like try",
          "every 4th day",
          "want start microdosing",
          "start md ing",
          "take full dose",
          "feel like need",
          "mental health issue",
          "want make sure",
          "first thing morning"
         ],
         "y": [
          798,
          648,
          455,
          427,
          426,
          419,
          413,
          394,
          379,
          372,
          361,
          359,
          358,
          355,
          337,
          332,
          331,
          329,
          315,
          311,
          291,
          278,
          275,
          263,
          261,
          261,
          261,
          241,
          231,
          231
         ],
         "type": "bar"
        }
       ],
       "layout": {
        "legend": {
         "bgcolor": "#F5F6F9",
         "font": {
          "color": "#4D5663"
         }
        },
        "paper_bgcolor": "#F5F6F9",
        "plot_bgcolor": "#F5F6F9",
        "template": {
         "data": {
          "barpolar": [
           {
            "marker": {
             "line": {
              "color": "#E5ECF6",
              "width": 0.5
             },
             "pattern": {
              "fillmode": "overlay",
              "size": 10,
              "solidity": 0.2
             }
            },
            "type": "barpolar"
           }
          ],
          "bar": [
           {
            "error_x": {
             "color": "#2a3f5f"
            },
            "error_y": {
             "color": "#2a3f5f"
            },
            "marker": {
             "line": {
              "color": "#E5ECF6",
              "width": 0.5
             },
             "pattern": {
              "fillmode": "overlay",
              "size": 10,
              "solidity": 0.2
             }
            },
            "type": "bar"
           }
          ],
          "carpet": [
           {
            "aaxis": {
             "endlinecolor": "#2a3f5f",
             "gridcolor": "white",
             "linecolor": "white",
             "minorgridcolor": "white",
             "startlinecolor": "#2a3f5f"
            },
            "baxis": {
             "endlinecolor": "#2a3f5f",
             "gridcolor": "white",
             "linecolor": "white",
             "minorgridcolor": "white",
             "startlinecolor": "#2a3f5f"
            },
            "type": "carpet"
           }
          ],
          "choropleth": [
           {
            "colorbar": {
             "outlinewidth": 0,
             "ticks": ""
            },
            "type": "choropleth"
           }
          ],
          "contourcarpet": [
           {
            "colorbar": {
             "outlinewidth": 0,
             "ticks": ""
            },
            "type": "contourcarpet"
           }
          ],
          "contour": [
           {
            "colorbar": {
             "outlinewidth": 0,
             "ticks": ""
            },
            "colorscale": [
             [
              0.0,
              "#0d0887"
             ],
             [
              0.1111111111111111,
              "#46039f"
             ],
             [
              0.2222222222222222,
              "#7201a8"
             ],
             [
              0.3333333333333333,
              "#9c179e"
             ],
             [
              0.4444444444444444,
              "#bd3786"
             ],
             [
              0.5555555555555556,
              "#d8576b"
             ],
             [
              0.6666666666666666,
              "#ed7953"
             ],
             [
              0.7777777777777778,
              "#fb9f3a"
             ],
             [
              0.8888888888888888,
              "#fdca26"
             ],
             [
              1.0,
              "#f0f921"
             ]
            ],
            "type": "contour"
           }
          ],
          "heatmapgl": [
           {
            "colorbar": {
             "outlinewidth": 0,
             "ticks": ""
            },
            "colorscale": [
             [
              0.0,
              "#0d0887"
             ],
             [
              0.1111111111111111,
              "#46039f"
             ],
             [
              0.2222222222222222,
              "#7201a8"
             ],
             [
              0.3333333333333333,
              "#9c179e"
             ],
             [
              0.4444444444444444,
              "#bd3786"
             ],
             [
              0.5555555555555556,
              "#d8576b"
             ],
             [
              0.6666666666666666,
              "#ed7953"
             ],
             [
              0.7777777777777778,
              "#fb9f3a"
             ],
             [
              0.8888888888888888,
              "#fdca26"
             ],
             [
              1.0,
              "#f0f921"
             ]
            ],
            "type": "heatmapgl"
           }
          ],
          "heatmap": [
           {
            "colorbar": {
             "outlinewidth": 0,
             "ticks": ""
            },
            "colorscale": [
             [
              0.0,
              "#0d0887"
             ],
             [
              0.1111111111111111,
              "#46039f"
             ],
             [
              0.2222222222222222,
              "#7201a8"
             ],
             [
              0.3333333333333333,
              "#9c179e"
             ],
             [
              0.4444444444444444,
              "#bd3786"
             ],
             [
              0.5555555555555556,
              "#d8576b"
             ],
             [
              0.6666666666666666,
              "#ed7953"
             ],
             [
              0.7777777777777778,
              "#fb9f3a"
             ],
             [
              0.8888888888888888,
              "#fdca26"
             ],
             [
              1.0,
              "#f0f921"
             ]
            ],
            "type": "heatmap"
           }
          ],
          "histogram2dcontour": [
           {
            "colorbar": {
             "outlinewidth": 0,
             "ticks": ""
            },
            "colorscale": [
             [
              0.0,
              "#0d0887"
             ],
             [
              0.1111111111111111,
              "#46039f"
             ],
             [
              0.2222222222222222,
              "#7201a8"
             ],
             [
              0.3333333333333333,
              "#9c179e"
             ],
             [
              0.4444444444444444,
              "#bd3786"
             ],
             [
              0.5555555555555556,
              "#d8576b"
             ],
             [
              0.6666666666666666,
              "#ed7953"
             ],
             [
              0.7777777777777778,
              "#fb9f3a"
             ],
             [
              0.8888888888888888,
              "#fdca26"
             ],
             [
              1.0,
              "#f0f921"
             ]
            ],
            "type": "histogram2dcontour"
           }
          ],
          "histogram2d": [
           {
            "colorbar": {
             "outlinewidth": 0,
             "ticks": ""
            },
            "colorscale": [
             [
              0.0,
              "#0d0887"
             ],
             [
              0.1111111111111111,
              "#46039f"
             ],
             [
              0.2222222222222222,
              "#7201a8"
             ],
             [
              0.3333333333333333,
              "#9c179e"
             ],
             [
              0.4444444444444444,
              "#bd3786"
             ],
             [
              0.5555555555555556,
              "#d8576b"
             ],
             [
              0.6666666666666666,
              "#ed7953"
             ],
             [
              0.7777777777777778,
              "#fb9f3a"
             ],
             [
              0.8888888888888888,
              "#fdca26"
             ],
             [
              1.0,
              "#f0f921"
             ]
            ],
            "type": "histogram2d"
           }
          ],
          "histogram": [
           {
            "marker": {
             "pattern": {
              "fillmode": "overlay",
              "size": 10,
              "solidity": 0.2
             }
            },
            "type": "histogram"
           }
          ],
          "mesh3d": [
           {
            "colorbar": {
             "outlinewidth": 0,
             "ticks": ""
            },
            "type": "mesh3d"
           }
          ],
          "parcoords": [
           {
            "line": {
             "colorbar": {
              "outlinewidth": 0,
              "ticks": ""
             }
            },
            "type": "parcoords"
           }
          ],
          "pie": [
           {
            "automargin": true,
            "type": "pie"
           }
          ],
          "scatter3d": [
           {
            "line": {
             "colorbar": {
              "outlinewidth": 0,
              "ticks": ""
             }
            },
            "marker": {
             "colorbar": {
              "outlinewidth": 0,
              "ticks": ""
             }
            },
            "type": "scatter3d"
           }
          ],
          "scattercarpet": [
           {
            "marker": {
             "colorbar": {
              "outlinewidth": 0,
              "ticks": ""
             }
            },
            "type": "scattercarpet"
           }
          ],
          "scattergeo": [
           {
            "marker": {
             "colorbar": {
              "outlinewidth": 0,
              "ticks": ""
             }
            },
            "type": "scattergeo"
           }
          ],
          "scattergl": [
           {
            "marker": {
             "colorbar": {
              "outlinewidth": 0,
              "ticks": ""
             }
            },
            "type": "scattergl"
           }
          ],
          "scattermapbox": [
           {
            "marker": {
             "colorbar": {
              "outlinewidth": 0,
              "ticks": ""
             }
            },
            "type": "scattermapbox"
           }
          ],
          "scatterpolargl": [
           {
            "marker": {
             "colorbar": {
              "outlinewidth": 0,
              "ticks": ""
             }
            },
            "type": "scatterpolargl"
           }
          ],
          "scatterpolar": [
           {
            "marker": {
             "colorbar": {
              "outlinewidth": 0,
              "ticks": ""
             }
            },
            "type": "scatterpolar"
           }
          ],
          "scatter": [
           {
            "marker": {
             "colorbar": {
              "outlinewidth": 0,
              "ticks": ""
             }
            },
            "type": "scatter"
           }
          ],
          "scatterternary": [
           {
            "marker": {
             "colorbar": {
              "outlinewidth": 0,
              "ticks": ""
             }
            },
            "type": "scatterternary"
           }
          ],
          "surface": [
           {
            "colorbar": {
             "outlinewidth": 0,
             "ticks": ""
            },
            "colorscale": [
             [
              0.0,
              "#0d0887"
             ],
             [
              0.1111111111111111,
              "#46039f"
             ],
             [
              0.2222222222222222,
              "#7201a8"
             ],
             [
              0.3333333333333333,
              "#9c179e"
             ],
             [
              0.4444444444444444,
              "#bd3786"
             ],
             [
              0.5555555555555556,
              "#d8576b"
             ],
             [
              0.6666666666666666,
              "#ed7953"
             ],
             [
              0.7777777777777778,
              "#fb9f3a"
             ],
             [
              0.8888888888888888,
              "#fdca26"
             ],
             [
              1.0,
              "#f0f921"
             ]
            ],
            "type": "surface"
           }
          ],
          "table": [
           {
            "cells": {
             "fill": {
              "color": "#EBF0F8"
             },
             "line": {
              "color": "white"
             }
            },
            "header": {
             "fill": {
              "color": "#C8D4E3"
             },
             "line": {
              "color": "white"
             }
            },
            "type": "table"
           }
          ]
         },
         "layout": {
          "annotationdefaults": {
           "arrowcolor": "#2a3f5f",
           "arrowhead": 0,
           "arrowwidth": 1
          },
          "autotypenumbers": "strict",
          "coloraxis": {
           "colorbar": {
            "outlinewidth": 0,
            "ticks": ""
           }
          },
          "colorscale": {
           "diverging": [
            [
             0,
             "#8e0152"
            ],
            [
             0.1,
             "#c51b7d"
            ],
            [
             0.2,
             "#de77ae"
            ],
            [
             0.3,
             "#f1b6da"
            ],
            [
             0.4,
             "#fde0ef"
            ],
            [
             0.5,
             "#f7f7f7"
            ],
            [
             0.6,
             "#e6f5d0"
            ],
            [
             0.7,
             "#b8e186"
            ],
            [
             0.8,
             "#7fbc41"
            ],
            [
             0.9,
             "#4d9221"
            ],
            [
             1,
             "#276419"
            ]
           ],
           "sequential": [
            [
             0.0,
             "#0d0887"
            ],
            [
             0.1111111111111111,
             "#46039f"
            ],
            [
             0.2222222222222222,
             "#7201a8"
            ],
            [
             0.3333333333333333,
             "#9c179e"
            ],
            [
             0.4444444444444444,
             "#bd3786"
            ],
            [
             0.5555555555555556,
             "#d8576b"
            ],
            [
             0.6666666666666666,
             "#ed7953"
            ],
            [
             0.7777777777777778,
             "#fb9f3a"
            ],
            [
             0.8888888888888888,
             "#fdca26"
            ],
            [
             1.0,
             "#f0f921"
            ]
           ],
           "sequentialminus": [
            [
             0.0,
             "#0d0887"
            ],
            [
             0.1111111111111111,
             "#46039f"
            ],
            [
             0.2222222222222222,
             "#7201a8"
            ],
            [
             0.3333333333333333,
             "#9c179e"
            ],
            [
             0.4444444444444444,
             "#bd3786"
            ],
            [
             0.5555555555555556,
             "#d8576b"
            ],
            [
             0.6666666666666666,
             "#ed7953"
            ],
            [
             0.7777777777777778,
             "#fb9f3a"
            ],
            [
             0.8888888888888888,
             "#fdca26"
            ],
            [
             1.0,
             "#f0f921"
            ]
           ]
          },
          "colorway": [
           "#636efa",
           "#EF553B",
           "#00cc96",
           "#ab63fa",
           "#FFA15A",
           "#19d3f3",
           "#FF6692",
           "#B6E880",
           "#FF97FF",
           "#FECB52"
          ],
          "font": {
           "color": "#2a3f5f"
          },
          "geo": {
           "bgcolor": "white",
           "lakecolor": "white",
           "landcolor": "#E5ECF6",
           "showlakes": true,
           "showland": true,
           "subunitcolor": "white"
          },
          "hoverlabel": {
           "align": "left"
          },
          "hovermode": "closest",
          "mapbox": {
           "style": "light"
          },
          "paper_bgcolor": "white",
          "plot_bgcolor": "#E5ECF6",
          "polar": {
           "angularaxis": {
            "gridcolor": "white",
            "linecolor": "white",
            "ticks": ""
           },
           "bgcolor": "#E5ECF6",
           "radialaxis": {
            "gridcolor": "white",
            "linecolor": "white",
            "ticks": ""
           }
          },
          "scene": {
           "xaxis": {
            "backgroundcolor": "#E5ECF6",
            "gridcolor": "white",
            "gridwidth": 2,
            "linecolor": "white",
            "showbackground": true,
            "ticks": "",
            "zerolinecolor": "white"
           },
           "yaxis": {
            "backgroundcolor": "#E5ECF6",
            "gridcolor": "white",
            "gridwidth": 2,
            "linecolor": "white",
            "showbackground": true,
            "ticks": "",
            "zerolinecolor": "white"
           },
           "zaxis": {
            "backgroundcolor": "#E5ECF6",
            "gridcolor": "white",
            "gridwidth": 2,
            "linecolor": "white",
            "showbackground": true,
            "ticks": "",
            "zerolinecolor": "white"
           }
          },
          "shapedefaults": {
           "line": {
            "color": "#2a3f5f"
           }
          },
          "ternary": {
           "aaxis": {
            "gridcolor": "white",
            "linecolor": "white",
            "ticks": ""
           },
           "baxis": {
            "gridcolor": "white",
            "linecolor": "white",
            "ticks": ""
           },
           "bgcolor": "#E5ECF6",
           "caxis": {
            "gridcolor": "white",
            "linecolor": "white",
            "ticks": ""
           }
          },
          "title": {
           "x": 0.05
          },
          "xaxis": {
           "automargin": true,
           "gridcolor": "white",
           "linecolor": "white",
           "ticks": "",
           "title": {
            "standoff": 15
           },
           "zerolinecolor": "white",
           "zerolinewidth": 2
          },
          "yaxis": {
           "automargin": true,
           "gridcolor": "white",
           "linecolor": "white",
           "ticks": "",
           "title": {
            "standoff": 15
           },
           "zerolinecolor": "white",
           "zerolinewidth": 2
          }
         }
        },
        "title": {
         "font": {
          "color": "#4D5663"
         },
         "text": "Top 30 trigrams"
        },
        "xaxis": {
         "gridcolor": "#E1E5ED",
         "linecolor": "black",
         "showgrid": true,
         "tickfont": {
          "color": "#4D5663"
         },
         "title": {
          "font": {
           "color": "#4D5663"
          },
          "text": ""
         },
         "zerolinecolor": "#E1E5ED"
        },
        "yaxis": {
         "gridcolor": "#E1E5ED",
         "linecolor": "black",
         "showgrid": true,
         "tickfont": {
          "color": "#4D5663"
         },
         "title": {
          "font": {
           "color": "#4D5663"
          },
          "text": "Count"
         },
         "zerolinecolor": "#E1E5ED"
        }
       },
       "config": {
        "showLink": true,
        "linkText": "Export to plot.ly",
        "plotlyServerURL": "https://plot.ly"
       }
      },
      "text/html": "<div>                            <div id=\"b887fecc-8334-4a85-8843-fe29162f2ed5\" class=\"plotly-graph-div\" style=\"height:525px; width:100%;\"></div>            <script type=\"text/javascript\">                require([\"plotly\"], function(Plotly) {                    window.PLOTLYENV=window.PLOTLYENV || {};\n                    window.PLOTLYENV.BASE_URL='https://plot.ly';                                    if (document.getElementById(\"b887fecc-8334-4a85-8843-fe29162f2ed5\")) {                    Plotly.newPlot(                        \"b887fecc-8334-4a85-8843-fe29162f2ed5\",                        [{\"marker\":{\"color\":\"rgba(255, 153, 51, 0.6)\",\"line\":{\"color\":\"rgba(255, 153, 51, 1.0)\",\"width\":1}},\"name\":\"count\",\"orientation\":\"v\",\"text\":\"\",\"x\":[\"find sweet spot\",\"every third day\",\"would love hear\",\"anyone else experience\",\"day two day\",\"dose every day\",\"every three day\",\"take lion mane\",\"every 3rd day\",\"start micro dose\",\"negative side effect\",\"first time microdosing\",\"lion mane niacin\",\"want try microdosing\",\"take every day\",\"use distilled water\",\"long term effect\",\"day day day\",\"would like know\",\"one day two\",\"make feel like\",\"would like try\",\"every 4th day\",\"want start microdosing\",\"start md ing\",\"take full dose\",\"feel like need\",\"mental health issue\",\"want make sure\",\"first thing morning\"],\"y\":[798,648,455,427,426,419,413,394,379,372,361,359,358,355,337,332,331,329,315,311,291,278,275,263,261,261,261,241,231,231],\"type\":\"bar\"}],                        {\"legend\":{\"bgcolor\":\"#F5F6F9\",\"font\":{\"color\":\"#4D5663\"}},\"paper_bgcolor\":\"#F5F6F9\",\"plot_bgcolor\":\"#F5F6F9\",\"template\":{\"data\":{\"barpolar\":[{\"marker\":{\"line\":{\"color\":\"#E5ECF6\",\"width\":0.5},\"pattern\":{\"fillmode\":\"overlay\",\"size\":10,\"solidity\":0.2}},\"type\":\"barpolar\"}],\"bar\":[{\"error_x\":{\"color\":\"#2a3f5f\"},\"error_y\":{\"color\":\"#2a3f5f\"},\"marker\":{\"line\":{\"color\":\"#E5ECF6\",\"width\":0.5},\"pattern\":{\"fillmode\":\"overlay\",\"size\":10,\"solidity\":0.2}},\"type\":\"bar\"}],\"carpet\":[{\"aaxis\":{\"endlinecolor\":\"#2a3f5f\",\"gridcolor\":\"white\",\"linecolor\":\"white\",\"minorgridcolor\":\"white\",\"startlinecolor\":\"#2a3f5f\"},\"baxis\":{\"endlinecolor\":\"#2a3f5f\",\"gridcolor\":\"white\",\"linecolor\":\"white\",\"minorgridcolor\":\"white\",\"startlinecolor\":\"#2a3f5f\"},\"type\":\"carpet\"}],\"choropleth\":[{\"colorbar\":{\"outlinewidth\":0,\"ticks\":\"\"},\"type\":\"choropleth\"}],\"contourcarpet\":[{\"colorbar\":{\"outlinewidth\":0,\"ticks\":\"\"},\"type\":\"contourcarpet\"}],\"contour\":[{\"colorbar\":{\"outlinewidth\":0,\"ticks\":\"\"},\"colorscale\":[[0.0,\"#0d0887\"],[0.1111111111111111,\"#46039f\"],[0.2222222222222222,\"#7201a8\"],[0.3333333333333333,\"#9c179e\"],[0.4444444444444444,\"#bd3786\"],[0.5555555555555556,\"#d8576b\"],[0.6666666666666666,\"#ed7953\"],[0.7777777777777778,\"#fb9f3a\"],[0.8888888888888888,\"#fdca26\"],[1.0,\"#f0f921\"]],\"type\":\"contour\"}],\"heatmapgl\":[{\"colorbar\":{\"outlinewidth\":0,\"ticks\":\"\"},\"colorscale\":[[0.0,\"#0d0887\"],[0.1111111111111111,\"#46039f\"],[0.2222222222222222,\"#7201a8\"],[0.3333333333333333,\"#9c179e\"],[0.4444444444444444,\"#bd3786\"],[0.5555555555555556,\"#d8576b\"],[0.6666666666666666,\"#ed7953\"],[0.7777777777777778,\"#fb9f3a\"],[0.8888888888888888,\"#fdca26\"],[1.0,\"#f0f921\"]],\"type\":\"heatmapgl\"}],\"heatmap\":[{\"colorbar\":{\"outlinewidth\":0,\"ticks\":\"\"},\"colorscale\":[[0.0,\"#0d0887\"],[0.1111111111111111,\"#46039f\"],[0.2222222222222222,\"#7201a8\"],[0.3333333333333333,\"#9c179e\"],[0.4444444444444444,\"#bd3786\"],[0.5555555555555556,\"#d8576b\"],[0.6666666666666666,\"#ed7953\"],[0.7777777777777778,\"#fb9f3a\"],[0.8888888888888888,\"#fdca26\"],[1.0,\"#f0f921\"]],\"type\":\"heatmap\"}],\"histogram2dcontour\":[{\"colorbar\":{\"outlinewidth\":0,\"ticks\":\"\"},\"colorscale\":[[0.0,\"#0d0887\"],[0.1111111111111111,\"#46039f\"],[0.2222222222222222,\"#7201a8\"],[0.3333333333333333,\"#9c179e\"],[0.4444444444444444,\"#bd3786\"],[0.5555555555555556,\"#d8576b\"],[0.6666666666666666,\"#ed7953\"],[0.7777777777777778,\"#fb9f3a\"],[0.8888888888888888,\"#fdca26\"],[1.0,\"#f0f921\"]],\"type\":\"histogram2dcontour\"}],\"histogram2d\":[{\"colorbar\":{\"outlinewidth\":0,\"ticks\":\"\"},\"colorscale\":[[0.0,\"#0d0887\"],[0.1111111111111111,\"#46039f\"],[0.2222222222222222,\"#7201a8\"],[0.3333333333333333,\"#9c179e\"],[0.4444444444444444,\"#bd3786\"],[0.5555555555555556,\"#d8576b\"],[0.6666666666666666,\"#ed7953\"],[0.7777777777777778,\"#fb9f3a\"],[0.8888888888888888,\"#fdca26\"],[1.0,\"#f0f921\"]],\"type\":\"histogram2d\"}],\"histogram\":[{\"marker\":{\"pattern\":{\"fillmode\":\"overlay\",\"size\":10,\"solidity\":0.2}},\"type\":\"histogram\"}],\"mesh3d\":[{\"colorbar\":{\"outlinewidth\":0,\"ticks\":\"\"},\"type\":\"mesh3d\"}],\"parcoords\":[{\"line\":{\"colorbar\":{\"outlinewidth\":0,\"ticks\":\"\"}},\"type\":\"parcoords\"}],\"pie\":[{\"automargin\":true,\"type\":\"pie\"}],\"scatter3d\":[{\"line\":{\"colorbar\":{\"outlinewidth\":0,\"ticks\":\"\"}},\"marker\":{\"colorbar\":{\"outlinewidth\":0,\"ticks\":\"\"}},\"type\":\"scatter3d\"}],\"scattercarpet\":[{\"marker\":{\"colorbar\":{\"outlinewidth\":0,\"ticks\":\"\"}},\"type\":\"scattercarpet\"}],\"scattergeo\":[{\"marker\":{\"colorbar\":{\"outlinewidth\":0,\"ticks\":\"\"}},\"type\":\"scattergeo\"}],\"scattergl\":[{\"marker\":{\"colorbar\":{\"outlinewidth\":0,\"ticks\":\"\"}},\"type\":\"scattergl\"}],\"scattermapbox\":[{\"marker\":{\"colorbar\":{\"outlinewidth\":0,\"ticks\":\"\"}},\"type\":\"scattermapbox\"}],\"scatterpolargl\":[{\"marker\":{\"colorbar\":{\"outlinewidth\":0,\"ticks\":\"\"}},\"type\":\"scatterpolargl\"}],\"scatterpolar\":[{\"marker\":{\"colorbar\":{\"outlinewidth\":0,\"ticks\":\"\"}},\"type\":\"scatterpolar\"}],\"scatter\":[{\"marker\":{\"colorbar\":{\"outlinewidth\":0,\"ticks\":\"\"}},\"type\":\"scatter\"}],\"scatterternary\":[{\"marker\":{\"colorbar\":{\"outlinewidth\":0,\"ticks\":\"\"}},\"type\":\"scatterternary\"}],\"surface\":[{\"colorbar\":{\"outlinewidth\":0,\"ticks\":\"\"},\"colorscale\":[[0.0,\"#0d0887\"],[0.1111111111111111,\"#46039f\"],[0.2222222222222222,\"#7201a8\"],[0.3333333333333333,\"#9c179e\"],[0.4444444444444444,\"#bd3786\"],[0.5555555555555556,\"#d8576b\"],[0.6666666666666666,\"#ed7953\"],[0.7777777777777778,\"#fb9f3a\"],[0.8888888888888888,\"#fdca26\"],[1.0,\"#f0f921\"]],\"type\":\"surface\"}],\"table\":[{\"cells\":{\"fill\":{\"color\":\"#EBF0F8\"},\"line\":{\"color\":\"white\"}},\"header\":{\"fill\":{\"color\":\"#C8D4E3\"},\"line\":{\"color\":\"white\"}},\"type\":\"table\"}]},\"layout\":{\"annotationdefaults\":{\"arrowcolor\":\"#2a3f5f\",\"arrowhead\":0,\"arrowwidth\":1},\"autotypenumbers\":\"strict\",\"coloraxis\":{\"colorbar\":{\"outlinewidth\":0,\"ticks\":\"\"}},\"colorscale\":{\"diverging\":[[0,\"#8e0152\"],[0.1,\"#c51b7d\"],[0.2,\"#de77ae\"],[0.3,\"#f1b6da\"],[0.4,\"#fde0ef\"],[0.5,\"#f7f7f7\"],[0.6,\"#e6f5d0\"],[0.7,\"#b8e186\"],[0.8,\"#7fbc41\"],[0.9,\"#4d9221\"],[1,\"#276419\"]],\"sequential\":[[0.0,\"#0d0887\"],[0.1111111111111111,\"#46039f\"],[0.2222222222222222,\"#7201a8\"],[0.3333333333333333,\"#9c179e\"],[0.4444444444444444,\"#bd3786\"],[0.5555555555555556,\"#d8576b\"],[0.6666666666666666,\"#ed7953\"],[0.7777777777777778,\"#fb9f3a\"],[0.8888888888888888,\"#fdca26\"],[1.0,\"#f0f921\"]],\"sequentialminus\":[[0.0,\"#0d0887\"],[0.1111111111111111,\"#46039f\"],[0.2222222222222222,\"#7201a8\"],[0.3333333333333333,\"#9c179e\"],[0.4444444444444444,\"#bd3786\"],[0.5555555555555556,\"#d8576b\"],[0.6666666666666666,\"#ed7953\"],[0.7777777777777778,\"#fb9f3a\"],[0.8888888888888888,\"#fdca26\"],[1.0,\"#f0f921\"]]},\"colorway\":[\"#636efa\",\"#EF553B\",\"#00cc96\",\"#ab63fa\",\"#FFA15A\",\"#19d3f3\",\"#FF6692\",\"#B6E880\",\"#FF97FF\",\"#FECB52\"],\"font\":{\"color\":\"#2a3f5f\"},\"geo\":{\"bgcolor\":\"white\",\"lakecolor\":\"white\",\"landcolor\":\"#E5ECF6\",\"showlakes\":true,\"showland\":true,\"subunitcolor\":\"white\"},\"hoverlabel\":{\"align\":\"left\"},\"hovermode\":\"closest\",\"mapbox\":{\"style\":\"light\"},\"paper_bgcolor\":\"white\",\"plot_bgcolor\":\"#E5ECF6\",\"polar\":{\"angularaxis\":{\"gridcolor\":\"white\",\"linecolor\":\"white\",\"ticks\":\"\"},\"bgcolor\":\"#E5ECF6\",\"radialaxis\":{\"gridcolor\":\"white\",\"linecolor\":\"white\",\"ticks\":\"\"}},\"scene\":{\"xaxis\":{\"backgroundcolor\":\"#E5ECF6\",\"gridcolor\":\"white\",\"gridwidth\":2,\"linecolor\":\"white\",\"showbackground\":true,\"ticks\":\"\",\"zerolinecolor\":\"white\"},\"yaxis\":{\"backgroundcolor\":\"#E5ECF6\",\"gridcolor\":\"white\",\"gridwidth\":2,\"linecolor\":\"white\",\"showbackground\":true,\"ticks\":\"\",\"zerolinecolor\":\"white\"},\"zaxis\":{\"backgroundcolor\":\"#E5ECF6\",\"gridcolor\":\"white\",\"gridwidth\":2,\"linecolor\":\"white\",\"showbackground\":true,\"ticks\":\"\",\"zerolinecolor\":\"white\"}},\"shapedefaults\":{\"line\":{\"color\":\"#2a3f5f\"}},\"ternary\":{\"aaxis\":{\"gridcolor\":\"white\",\"linecolor\":\"white\",\"ticks\":\"\"},\"baxis\":{\"gridcolor\":\"white\",\"linecolor\":\"white\",\"ticks\":\"\"},\"bgcolor\":\"#E5ECF6\",\"caxis\":{\"gridcolor\":\"white\",\"linecolor\":\"white\",\"ticks\":\"\"}},\"title\":{\"x\":0.05},\"xaxis\":{\"automargin\":true,\"gridcolor\":\"white\",\"linecolor\":\"white\",\"ticks\":\"\",\"title\":{\"standoff\":15},\"zerolinecolor\":\"white\",\"zerolinewidth\":2},\"yaxis\":{\"automargin\":true,\"gridcolor\":\"white\",\"linecolor\":\"white\",\"ticks\":\"\",\"title\":{\"standoff\":15},\"zerolinecolor\":\"white\",\"zerolinewidth\":2}}},\"title\":{\"font\":{\"color\":\"#4D5663\"},\"text\":\"Top 30 trigrams\"},\"xaxis\":{\"gridcolor\":\"#E1E5ED\",\"linecolor\":\"black\",\"showgrid\":true,\"tickfont\":{\"color\":\"#4D5663\"},\"title\":{\"font\":{\"color\":\"#4D5663\"},\"text\":\"\"},\"zerolinecolor\":\"#E1E5ED\"},\"yaxis\":{\"gridcolor\":\"#E1E5ED\",\"linecolor\":\"black\",\"showgrid\":true,\"tickfont\":{\"color\":\"#4D5663\"},\"title\":{\"font\":{\"color\":\"#4D5663\"},\"text\":\"Count\"},\"zerolinecolor\":\"#E1E5ED\"}},                        {\"showLink\": true, \"linkText\": \"Export to plot.ly\", \"plotlyServerURL\": \"https://plot.ly\", \"responsive\": true}                    ).then(function(){\n                            \nvar gd = document.getElementById('b887fecc-8334-4a85-8843-fe29162f2ed5');\nvar x = new MutationObserver(function (mutations, observer) {{\n        var display = window.getComputedStyle(gd).display;\n        if (!display || display === 'none') {{\n            console.log([gd, 'removed!']);\n            Plotly.purge(gd);\n            observer.disconnect();\n        }}\n}});\n\n// Listen for the removal of the full notebook cells\nvar notebookContainer = gd.closest('#notebook-container');\nif (notebookContainer) {{\n    x.observe(notebookContainer, {childList: true});\n}}\n\n// Listen for the clearing of the current output cell\nvar outputEl = gd.closest('.output');\nif (outputEl) {{\n    x.observe(outputEl, {childList: true});\n}}\n\n                        })                };                });            </script>        </div>"
     },
     "metadata": {},
     "output_type": "display_data"
    }
   ],
   "source": [
    "def get_top_n_trigram(corpus, n=None):\n",
    "    vec = CountVectorizer(ngram_range=(3, 3)).fit(corpus)\n",
    "    bag_of_words = vec.transform(corpus)\n",
    "    sum_words = bag_of_words.sum(axis=0) \n",
    "    words_freq = [(word, sum_words[0, idx]) for word, idx in vec.vocabulary_.items()]\n",
    "    words_freq =sorted(words_freq, key = lambda x: x[1], reverse=True)\n",
    "    return words_freq[:n]\n",
    "common_words = get_top_n_trigram(md_submissions['lemmatized'], 30)\n",
    "for word, freq in common_words:\n",
    "    print(word, freq)\n",
    "df5a = pd.DataFrame(common_words, columns = ['lemmatized' , 'count'])\n",
    "df5a.groupby('lemmatized').sum()['count'].sort_values(ascending=False).iplot(\n",
    "    kind='bar', yTitle='Count', linecolor='black', title='Top 30 trigrams')"
   ]
  },
  {
   "cell_type": "markdown",
   "metadata": {},
   "source": [
    "**Posts made over time**"
   ]
  },
  {
   "cell_type": "markdown",
   "metadata": {},
   "source": [
    "Converting utc to pandas date type"
   ]
  },
  {
   "cell_type": "code",
   "execution_count": 13,
   "metadata": {},
   "outputs": [],
   "source": [
    "md_submissions['created_utc'] = md_submissions['created_utc'].apply(str)\n",
    "md_submissions['created_utc'] = pd.to_datetime(md_submissions['created_utc'])"
   ]
  },
  {
   "cell_type": "markdown",
   "metadata": {},
   "source": [
    "Oldest and Newest post"
   ]
  },
  {
   "cell_type": "code",
   "execution_count": 14,
   "metadata": {},
   "outputs": [
    {
     "name": "stdout",
     "output_type": "stream",
     "text": [
      "2014-01-07 08:51:29\n",
      "2021-10-29 12:49:15\n"
     ]
    }
   ],
   "source": [
    "print(md_submissions['created_utc'].min())\n",
    "print(md_submissions['created_utc'].max())"
   ]
  },
  {
   "cell_type": "markdown",
   "metadata": {},
   "source": [
    "In total we have around 7 years of posts from the subreddit "
   ]
  },
  {
   "cell_type": "code",
   "execution_count": 17,
   "metadata": {},
   "outputs": [
    {
     "data": {
      "application/vnd.plotly.v1+json": {
       "data": [
        {
         "line": {
          "color": "rgba(255, 153, 51, 1.0)",
          "dash": "solid",
          "shape": "linear",
          "width": 1.3
         },
         "mode": "lines",
         "name": "lemmatized",
         "text": "",
         "x": [
          "2014-01-07",
          "2014-01-28",
          "2014-01-30",
          "2014-02-03",
          "2014-02-12",
          "2014-02-14",
          "2014-02-17",
          "2014-03-04",
          "2014-04-03",
          "2014-05-07",
          "2014-05-11",
          "2014-05-21",
          "2014-06-17",
          "2014-07-03",
          "2014-07-20",
          "2014-07-25",
          "2014-07-26",
          "2014-08-07",
          "2014-08-12",
          "2014-08-14",
          "2014-08-20",
          "2014-09-03",
          "2014-09-04",
          "2014-09-07",
          "2014-09-15",
          "2014-09-28",
          "2014-10-03",
          "2014-10-07",
          "2014-10-16",
          "2014-10-21",
          "2014-10-23",
          "2014-10-25",
          "2014-10-27",
          "2014-11-05",
          "2014-11-06",
          "2014-11-09",
          "2014-11-23",
          "2014-12-06",
          "2014-12-18",
          "2014-12-21",
          "2014-12-30",
          "2014-12-31",
          "2015-01-04",
          "2015-01-06",
          "2015-01-07",
          "2015-01-08",
          "2015-01-10",
          "2015-01-12",
          "2015-01-16",
          "2015-01-18",
          "2015-01-20",
          "2015-01-24",
          "2015-01-26",
          "2015-01-30",
          "2015-02-01",
          "2015-02-05",
          "2015-02-06",
          "2015-02-07",
          "2015-02-08",
          "2015-02-09",
          "2015-02-18",
          "2015-02-19",
          "2015-02-21",
          "2015-02-22",
          "2015-02-23",
          "2015-02-25",
          "2015-03-01",
          "2015-03-05",
          "2015-03-07",
          "2015-03-10",
          "2015-03-12",
          "2015-03-13",
          "2015-03-18",
          "2015-03-19",
          "2015-03-21",
          "2015-03-22",
          "2015-03-25",
          "2015-03-26",
          "2015-03-27",
          "2015-03-29",
          "2015-03-31",
          "2015-04-01",
          "2015-04-03",
          "2015-04-04",
          "2015-04-06",
          "2015-04-07",
          "2015-04-08",
          "2015-04-10",
          "2015-04-11",
          "2015-04-12",
          "2015-04-14",
          "2015-04-16",
          "2015-04-20",
          "2015-04-21",
          "2015-04-22",
          "2015-04-24",
          "2015-04-25",
          "2015-04-27",
          "2015-04-30",
          "2015-05-01",
          "2015-05-05",
          "2015-05-06",
          "2015-05-08",
          "2015-05-09",
          "2015-05-10",
          "2015-05-11",
          "2015-05-12",
          "2015-05-13",
          "2015-05-14",
          "2015-05-15",
          "2015-05-16",
          "2015-05-18",
          "2015-05-19",
          "2015-05-24",
          "2015-05-29",
          "2015-05-30",
          "2015-06-02",
          "2015-06-03",
          "2015-06-05",
          "2015-06-06",
          "2015-06-10",
          "2015-06-11",
          "2015-06-15",
          "2015-06-16",
          "2015-06-17",
          "2015-06-18",
          "2015-06-19",
          "2015-06-20",
          "2015-06-21",
          "2015-06-22",
          "2015-06-23",
          "2015-06-24",
          "2015-06-25",
          "2015-06-26",
          "2015-06-27",
          "2015-06-28",
          "2015-06-29",
          "2015-06-30",
          "2015-07-01",
          "2015-07-04",
          "2015-07-07",
          "2015-07-08",
          "2015-07-09",
          "2015-07-10",
          "2015-07-12",
          "2015-07-13",
          "2015-07-16",
          "2015-07-17",
          "2015-07-18",
          "2015-07-19",
          "2015-07-21",
          "2015-07-22",
          "2015-07-23",
          "2015-07-24",
          "2015-07-26",
          "2015-07-27",
          "2015-07-29",
          "2015-07-30",
          "2015-07-31",
          "2015-08-01",
          "2015-08-02",
          "2015-08-05",
          "2015-08-06",
          "2015-08-07",
          "2015-08-08",
          "2015-08-09",
          "2015-08-10",
          "2015-08-11",
          "2015-08-12",
          "2015-08-15",
          "2015-08-17",
          "2015-08-19",
          "2015-08-20",
          "2015-08-21",
          "2015-08-22",
          "2015-08-24",
          "2015-08-25",
          "2015-08-26",
          "2015-08-27",
          "2015-08-28",
          "2015-08-29",
          "2015-08-30",
          "2015-08-31",
          "2015-09-02",
          "2015-09-03",
          "2015-09-04",
          "2015-09-05",
          "2015-09-06",
          "2015-09-07",
          "2015-09-08",
          "2015-09-09",
          "2015-09-10",
          "2015-09-11",
          "2015-09-12",
          "2015-09-13",
          "2015-09-14",
          "2015-09-15",
          "2015-09-16",
          "2015-09-18",
          "2015-09-20",
          "2015-09-21",
          "2015-09-22",
          "2015-09-23",
          "2015-09-25",
          "2015-09-26",
          "2015-09-27",
          "2015-09-29",
          "2015-09-30",
          "2015-10-01",
          "2015-10-02",
          "2015-10-03",
          "2015-10-04",
          "2015-10-05",
          "2015-10-06",
          "2015-10-07",
          "2015-10-08",
          "2015-10-09",
          "2015-10-10",
          "2015-10-11",
          "2015-10-12",
          "2015-10-13",
          "2015-10-14",
          "2015-10-15",
          "2015-10-16",
          "2015-10-17",
          "2015-10-18",
          "2015-10-19",
          "2015-10-20",
          "2015-10-21",
          "2015-10-22",
          "2015-10-23",
          "2015-10-24",
          "2015-10-25",
          "2015-10-26",
          "2015-10-27",
          "2015-10-28",
          "2015-10-29",
          "2015-10-30",
          "2015-10-31",
          "2015-11-02",
          "2015-11-03",
          "2015-11-04",
          "2015-11-05",
          "2015-11-06",
          "2015-11-09",
          "2015-11-10",
          "2015-11-11",
          "2015-11-12",
          "2015-11-13",
          "2015-11-14",
          "2015-11-16",
          "2015-11-17",
          "2015-11-18",
          "2015-11-19",
          "2015-11-20",
          "2015-11-21",
          "2015-11-22",
          "2015-11-23",
          "2015-11-24",
          "2015-11-25",
          "2015-11-26",
          "2015-11-27",
          "2015-11-29",
          "2015-11-30",
          "2015-12-01",
          "2015-12-02",
          "2015-12-03",
          "2015-12-04",
          "2015-12-05",
          "2015-12-06",
          "2015-12-07",
          "2015-12-09",
          "2015-12-10",
          "2015-12-12",
          "2015-12-13",
          "2015-12-14",
          "2015-12-15",
          "2015-12-16",
          "2015-12-17",
          "2015-12-18",
          "2015-12-19",
          "2015-12-20",
          "2015-12-21",
          "2015-12-22",
          "2015-12-23",
          "2015-12-24",
          "2015-12-26",
          "2015-12-27",
          "2015-12-28",
          "2015-12-29",
          "2015-12-30",
          "2015-12-31",
          "2016-01-01",
          "2016-01-02",
          "2016-01-03",
          "2016-01-04",
          "2016-01-05",
          "2016-01-06",
          "2016-01-07",
          "2016-01-08",
          "2016-01-09",
          "2016-01-10",
          "2016-01-11",
          "2016-01-12",
          "2016-01-13",
          "2016-01-14",
          "2016-01-15",
          "2016-01-16",
          "2016-01-17",
          "2016-01-18",
          "2016-01-19",
          "2016-01-20",
          "2016-01-21",
          "2016-01-22",
          "2016-01-23",
          "2016-01-24",
          "2016-01-25",
          "2016-01-26",
          "2016-01-27",
          "2016-01-28",
          "2016-01-29",
          "2016-01-30",
          "2016-01-31",
          "2016-02-01",
          "2016-02-02",
          "2016-02-03",
          "2016-02-04",
          "2016-02-05",
          "2016-02-07",
          "2016-02-08",
          "2016-02-09",
          "2016-02-10",
          "2016-02-11",
          "2016-02-12",
          "2016-02-13",
          "2016-02-14",
          "2016-02-15",
          "2016-02-16",
          "2016-02-17",
          "2016-02-18",
          "2016-02-19",
          "2016-02-20",
          "2016-02-21",
          "2016-02-22",
          "2016-02-23",
          "2016-02-24",
          "2016-02-25",
          "2016-02-26",
          "2016-02-27",
          "2016-02-28",
          "2016-02-29",
          "2016-03-01",
          "2016-03-02",
          "2016-03-03",
          "2016-03-04",
          "2016-03-05",
          "2016-03-06",
          "2016-03-07",
          "2016-03-09",
          "2016-03-10",
          "2016-03-11",
          "2016-03-12",
          "2016-03-13",
          "2016-03-14",
          "2016-03-15",
          "2016-03-16",
          "2016-03-17",
          "2016-03-18",
          "2016-03-19",
          "2016-03-20",
          "2016-03-21",
          "2016-03-23",
          "2016-03-24",
          "2016-03-25",
          "2016-03-26",
          "2016-03-27",
          "2016-03-28",
          "2016-03-29",
          "2016-03-30",
          "2016-03-31",
          "2016-04-01",
          "2016-04-03",
          "2016-04-04",
          "2016-04-05",
          "2016-04-06",
          "2016-04-07",
          "2016-04-08",
          "2016-04-09",
          "2016-04-10",
          "2016-04-11",
          "2016-04-12",
          "2016-04-13",
          "2016-04-14",
          "2016-04-15",
          "2016-04-16",
          "2016-04-17",
          "2016-04-18",
          "2016-04-19",
          "2016-04-20",
          "2016-04-21",
          "2016-04-22",
          "2016-04-23",
          "2016-04-24",
          "2016-04-25",
          "2016-04-26",
          "2016-04-27",
          "2016-04-28",
          "2016-04-29",
          "2016-04-30",
          "2016-05-01",
          "2016-05-02",
          "2016-05-03",
          "2016-05-04",
          "2016-05-05",
          "2016-05-06",
          "2016-05-07",
          "2016-05-08",
          "2016-05-09",
          "2016-05-10",
          "2016-05-11",
          "2016-05-12",
          "2016-05-13",
          "2016-05-14",
          "2016-05-15",
          "2016-05-16",
          "2016-05-17",
          "2016-05-18",
          "2016-05-19",
          "2016-05-20",
          "2016-05-21",
          "2016-05-22",
          "2016-05-23",
          "2016-05-24",
          "2016-05-25",
          "2016-05-26",
          "2016-05-27",
          "2016-05-28",
          "2016-05-29",
          "2016-05-30",
          "2016-05-31",
          "2016-06-01",
          "2016-06-02",
          "2016-06-03",
          "2016-06-05",
          "2016-06-06",
          "2016-06-07",
          "2016-06-08",
          "2016-06-09",
          "2016-06-10",
          "2016-06-11",
          "2016-06-12",
          "2016-06-13",
          "2016-06-14",
          "2016-06-15",
          "2016-06-16",
          "2016-06-17",
          "2016-06-18",
          "2016-06-19",
          "2016-06-20",
          "2016-06-21",
          "2016-06-22",
          "2016-06-23",
          "2016-06-24",
          "2016-06-25",
          "2016-06-26",
          "2016-06-27",
          "2016-06-28",
          "2016-06-29",
          "2016-06-30",
          "2016-07-01",
          "2016-07-02",
          "2016-07-03",
          "2016-07-04",
          "2016-07-05",
          "2016-07-06",
          "2016-07-07",
          "2016-07-08",
          "2016-07-09",
          "2016-07-10",
          "2016-07-12",
          "2016-07-13",
          "2016-07-14",
          "2016-07-15",
          "2016-07-16",
          "2016-07-17",
          "2016-07-19",
          "2016-07-20",
          "2016-07-21",
          "2016-07-22",
          "2016-07-23",
          "2016-07-24",
          "2016-07-25",
          "2016-07-26",
          "2016-07-27",
          "2016-07-28",
          "2016-07-29",
          "2016-07-30",
          "2016-07-31",
          "2016-08-01",
          "2016-08-02",
          "2016-08-03",
          "2016-08-04",
          "2016-08-05",
          "2016-08-06",
          "2016-08-07",
          "2016-08-08",
          "2016-08-09",
          "2016-08-10",
          "2016-08-11",
          "2016-08-12",
          "2016-08-13",
          "2016-08-14",
          "2016-08-15",
          "2016-08-16",
          "2016-08-17",
          "2016-08-18",
          "2016-08-19",
          "2016-08-20",
          "2016-08-21",
          "2016-08-22",
          "2016-08-23",
          "2016-08-24",
          "2016-08-25",
          "2016-08-26",
          "2016-08-27",
          "2016-08-28",
          "2016-08-29",
          "2016-08-30",
          "2016-08-31",
          "2016-09-01",
          "2016-09-02",
          "2016-09-03",
          "2016-09-04",
          "2016-09-05",
          "2016-09-06",
          "2016-09-07",
          "2016-09-08",
          "2016-09-09",
          "2016-09-10",
          "2016-09-11",
          "2016-09-12",
          "2016-09-13",
          "2016-09-14",
          "2016-09-15",
          "2016-09-16",
          "2016-09-17",
          "2016-09-18",
          "2016-09-19",
          "2016-09-20",
          "2016-09-21",
          "2016-09-22",
          "2016-09-23",
          "2016-09-24",
          "2016-09-25",
          "2016-09-26",
          "2016-09-27",
          "2016-09-28",
          "2016-09-29",
          "2016-09-30",
          "2016-10-01",
          "2016-10-02",
          "2016-10-03",
          "2016-10-04",
          "2016-10-05",
          "2016-10-06",
          "2016-10-07",
          "2016-10-08",
          "2016-10-09",
          "2016-10-10",
          "2016-10-11",
          "2016-10-12",
          "2016-10-13",
          "2016-10-14",
          "2016-10-15",
          "2016-10-16",
          "2016-10-17",
          "2016-10-18",
          "2016-10-19",
          "2016-10-20",
          "2016-10-21",
          "2016-10-22",
          "2016-10-23",
          "2016-10-24",
          "2016-10-25",
          "2016-10-26",
          "2016-10-27",
          "2016-10-28",
          "2016-10-29",
          "2016-10-30",
          "2016-10-31",
          "2016-11-01",
          "2016-11-02",
          "2016-11-03",
          "2016-11-04",
          "2016-11-05",
          "2016-11-06",
          "2016-11-07",
          "2016-11-08",
          "2016-11-09",
          "2016-11-10",
          "2016-11-11",
          "2016-11-12",
          "2016-11-13",
          "2016-11-14",
          "2016-11-15",
          "2016-11-16",
          "2016-11-17",
          "2016-11-18",
          "2016-11-19",
          "2016-11-20",
          "2016-11-21",
          "2016-11-22",
          "2016-11-23",
          "2016-11-24",
          "2016-11-25",
          "2016-11-26",
          "2016-11-27",
          "2016-11-28",
          "2016-11-29",
          "2016-11-30",
          "2016-12-01",
          "2016-12-02",
          "2016-12-03",
          "2016-12-04",
          "2016-12-05",
          "2016-12-06",
          "2016-12-07",
          "2016-12-08",
          "2016-12-09",
          "2016-12-10",
          "2016-12-11",
          "2016-12-12",
          "2016-12-13",
          "2016-12-14",
          "2016-12-15",
          "2016-12-16",
          "2016-12-17",
          "2016-12-18",
          "2016-12-19",
          "2016-12-20",
          "2016-12-21",
          "2016-12-22",
          "2016-12-23",
          "2016-12-24",
          "2016-12-25",
          "2016-12-27",
          "2016-12-28",
          "2016-12-29",
          "2016-12-30",
          "2016-12-31",
          "2017-01-01",
          "2017-01-02",
          "2017-01-03",
          "2017-01-04",
          "2017-01-05",
          "2017-01-06",
          "2017-01-07",
          "2017-01-08",
          "2017-01-09",
          "2017-01-10",
          "2017-01-11",
          "2017-01-12",
          "2017-01-13",
          "2017-01-14",
          "2017-01-15",
          "2017-01-16",
          "2017-01-17",
          "2017-01-18",
          "2017-01-19",
          "2017-01-20",
          "2017-01-21",
          "2017-01-22",
          "2017-01-23",
          "2017-01-24",
          "2017-01-25",
          "2017-01-26",
          "2017-01-27",
          "2017-01-28",
          "2017-01-29",
          "2017-01-30",
          "2017-01-31",
          "2017-02-01",
          "2017-02-02",
          "2017-02-03",
          "2017-02-04",
          "2017-02-05",
          "2017-02-06",
          "2017-02-07",
          "2017-02-08",
          "2017-02-09",
          "2017-02-10",
          "2017-02-11",
          "2017-02-12",
          "2017-02-13",
          "2017-02-14",
          "2017-02-15",
          "2017-02-16",
          "2017-02-17",
          "2017-02-18",
          "2017-02-19",
          "2017-02-20",
          "2017-02-21",
          "2017-02-22",
          "2017-02-23",
          "2017-02-24",
          "2017-02-25",
          "2017-02-26",
          "2017-02-27",
          "2017-02-28",
          "2017-03-01",
          "2017-03-02",
          "2017-03-03",
          "2017-03-04",
          "2017-03-05",
          "2017-03-06",
          "2017-03-07",
          "2017-03-08",
          "2017-03-09",
          "2017-03-10",
          "2017-03-11",
          "2017-03-12",
          "2017-03-13",
          "2017-03-14",
          "2017-03-15",
          "2017-03-16",
          "2017-03-17",
          "2017-03-18",
          "2017-03-19",
          "2017-03-20",
          "2017-03-21",
          "2017-03-22",
          "2017-03-23",
          "2017-03-24",
          "2017-03-25",
          "2017-03-26",
          "2017-03-27",
          "2017-03-28",
          "2017-03-29",
          "2017-03-30",
          "2017-03-31",
          "2017-04-01",
          "2017-04-02",
          "2017-04-03",
          "2017-04-04",
          "2017-04-05",
          "2017-04-06",
          "2017-04-07",
          "2017-04-08",
          "2017-04-09",
          "2017-04-10",
          "2017-04-11",
          "2017-04-12",
          "2017-04-13",
          "2017-04-14",
          "2017-04-15",
          "2017-04-16",
          "2017-04-17",
          "2017-04-18",
          "2017-04-19",
          "2017-04-20",
          "2017-04-21",
          "2017-04-22",
          "2017-04-23",
          "2017-04-24",
          "2017-04-25",
          "2017-04-26",
          "2017-04-27",
          "2017-04-28",
          "2017-04-29",
          "2017-04-30",
          "2017-05-01",
          "2017-05-02",
          "2017-05-03",
          "2017-05-04",
          "2017-05-05",
          "2017-05-06",
          "2017-05-07",
          "2017-05-08",
          "2017-05-09",
          "2017-05-10",
          "2017-05-11",
          "2017-05-12",
          "2017-05-13",
          "2017-05-14",
          "2017-05-15",
          "2017-05-16",
          "2017-05-17",
          "2017-05-18",
          "2017-05-19",
          "2017-05-20",
          "2017-05-21",
          "2017-05-22",
          "2017-05-23",
          "2017-05-24",
          "2017-05-25",
          "2017-05-26",
          "2017-05-27",
          "2017-05-28",
          "2017-05-29",
          "2017-05-30",
          "2017-05-31",
          "2017-06-01",
          "2017-06-02",
          "2017-06-03",
          "2017-06-04",
          "2017-06-05",
          "2017-06-06",
          "2017-06-07",
          "2017-06-08",
          "2017-06-09",
          "2017-06-10",
          "2017-06-11",
          "2017-06-12",
          "2017-06-13",
          "2017-06-14",
          "2017-06-15",
          "2017-06-16",
          "2017-06-17",
          "2017-06-18",
          "2017-06-19",
          "2017-06-20",
          "2017-06-22",
          "2017-06-23",
          "2017-06-24",
          "2017-06-25",
          "2017-06-26",
          "2017-06-27",
          "2017-06-28",
          "2017-06-29",
          "2017-06-30",
          "2017-07-01",
          "2017-07-02",
          "2017-07-03",
          "2017-07-04",
          "2017-07-05",
          "2017-07-06",
          "2017-07-07",
          "2017-07-08",
          "2017-07-09",
          "2017-07-10",
          "2017-07-11",
          "2017-07-12",
          "2017-07-13",
          "2017-07-14",
          "2017-07-15",
          "2017-07-16",
          "2017-07-17",
          "2017-07-18",
          "2017-07-19",
          "2017-07-20",
          "2017-07-21",
          "2017-07-22",
          "2017-07-23",
          "2017-07-24",
          "2017-07-25",
          "2017-07-26",
          "2017-07-27",
          "2017-07-28",
          "2017-07-29",
          "2017-07-30",
          "2017-07-31",
          "2017-08-01",
          "2017-08-02",
          "2017-08-03",
          "2017-08-04",
          "2017-08-05",
          "2017-08-06",
          "2017-08-07",
          "2017-08-08",
          "2017-08-09",
          "2017-08-10",
          "2017-08-11",
          "2017-08-12",
          "2017-08-13",
          "2017-08-14",
          "2017-08-15",
          "2017-08-16",
          "2017-08-17",
          "2017-08-18",
          "2017-08-19",
          "2017-08-20",
          "2017-08-21",
          "2017-08-22",
          "2017-08-23",
          "2017-08-24",
          "2017-08-25",
          "2017-08-26",
          "2017-08-27",
          "2017-08-28",
          "2017-08-29",
          "2017-08-30",
          "2017-08-31",
          "2017-09-01",
          "2017-09-02",
          "2017-09-03",
          "2017-09-04",
          "2017-09-05",
          "2017-09-06",
          "2017-09-07",
          "2017-09-08",
          "2017-09-09",
          "2017-09-10",
          "2017-09-11",
          "2017-09-12",
          "2017-09-13",
          "2017-09-14",
          "2017-09-15",
          "2017-09-16",
          "2017-09-17",
          "2017-09-18",
          "2017-09-19",
          "2017-09-20",
          "2017-09-21",
          "2017-09-22",
          "2017-09-23",
          "2017-09-24",
          "2017-09-25",
          "2017-09-26",
          "2017-09-27",
          "2017-09-28",
          "2017-09-29",
          "2017-09-30",
          "2017-10-01",
          "2017-10-02",
          "2017-10-03",
          "2017-10-04",
          "2017-10-05",
          "2017-10-06",
          "2017-10-07",
          "2017-10-08",
          "2017-10-09",
          "2017-10-10",
          "2017-10-11",
          "2017-10-12",
          "2017-10-13",
          "2017-10-14",
          "2017-10-15",
          "2017-10-16",
          "2017-10-17",
          "2017-10-18",
          "2017-10-19",
          "2017-10-20",
          "2017-10-21",
          "2017-10-22",
          "2017-10-23",
          "2017-10-24",
          "2017-10-25",
          "2017-10-26",
          "2017-10-27",
          "2017-10-28",
          "2017-10-29",
          "2017-10-30",
          "2017-10-31",
          "2017-11-01",
          "2017-11-02",
          "2017-11-03",
          "2017-11-04",
          "2017-11-05",
          "2017-11-06",
          "2017-11-07",
          "2017-11-08",
          "2017-11-09",
          "2017-11-10",
          "2017-11-11",
          "2017-11-12",
          "2017-11-13",
          "2017-11-14",
          "2017-11-15",
          "2017-11-16",
          "2017-11-17",
          "2017-11-18",
          "2017-11-19",
          "2017-11-20",
          "2017-11-21",
          "2017-11-22",
          "2017-11-24",
          "2017-11-25",
          "2017-11-26",
          "2017-11-27",
          "2017-11-28",
          "2017-11-29",
          "2017-11-30",
          "2017-12-01",
          "2017-12-02",
          "2017-12-03",
          "2017-12-04",
          "2017-12-05",
          "2017-12-06",
          "2017-12-07",
          "2017-12-08",
          "2017-12-09",
          "2017-12-10",
          "2017-12-11",
          "2017-12-12",
          "2017-12-13",
          "2017-12-14",
          "2017-12-15",
          "2017-12-16",
          "2017-12-17",
          "2017-12-18",
          "2017-12-19",
          "2017-12-20",
          "2017-12-21",
          "2017-12-22",
          "2017-12-23",
          "2017-12-24",
          "2017-12-25",
          "2017-12-26",
          "2017-12-27",
          "2017-12-28",
          "2017-12-29",
          "2017-12-30",
          "2017-12-31",
          "2018-01-01",
          "2018-01-02",
          "2018-01-03",
          "2018-01-04",
          "2018-01-05",
          "2018-01-06",
          "2018-01-07",
          "2018-01-08",
          "2018-01-09",
          "2018-01-10",
          "2018-01-11",
          "2018-01-12",
          "2018-01-13",
          "2018-01-14",
          "2018-01-15",
          "2018-01-16",
          "2018-01-17",
          "2018-01-18",
          "2018-01-19",
          "2018-01-20",
          "2018-01-21",
          "2018-01-22",
          "2018-01-23",
          "2018-01-24",
          "2018-01-25",
          "2018-01-26",
          "2018-01-27",
          "2018-01-28",
          "2018-01-29",
          "2018-01-30",
          "2018-01-31",
          "2018-02-01",
          "2018-02-02",
          "2018-02-03",
          "2018-02-04",
          "2018-02-05",
          "2018-02-06",
          "2018-02-07",
          "2018-02-08",
          "2018-02-09",
          "2018-02-10",
          "2018-02-11",
          "2018-02-12",
          "2018-02-13",
          "2018-02-14",
          "2018-02-15",
          "2018-02-16",
          "2018-02-17",
          "2018-02-18",
          "2018-02-19",
          "2018-02-20",
          "2018-02-21",
          "2018-02-22",
          "2018-02-23",
          "2018-02-24",
          "2018-02-25",
          "2018-02-26",
          "2018-02-27",
          "2018-02-28",
          "2018-03-02",
          "2018-03-03",
          "2018-03-04",
          "2018-03-05",
          "2018-03-06",
          "2018-03-07",
          "2018-03-08",
          "2018-03-09",
          "2018-03-10",
          "2018-03-11",
          "2018-03-12",
          "2018-03-13",
          "2018-03-14",
          "2018-03-15",
          "2018-03-16",
          "2018-03-17",
          "2018-03-18",
          "2018-03-19",
          "2018-03-20",
          "2018-03-21",
          "2018-03-22",
          "2018-03-23",
          "2018-03-24",
          "2018-03-25",
          "2018-03-26",
          "2018-03-27",
          "2018-03-28",
          "2018-03-29",
          "2018-03-30",
          "2018-03-31",
          "2018-04-01",
          "2018-04-02",
          "2018-04-03",
          "2018-04-04",
          "2018-04-05",
          "2018-04-06",
          "2018-04-07",
          "2018-04-08",
          "2018-04-09",
          "2018-04-10",
          "2018-04-11",
          "2018-04-12",
          "2018-04-13",
          "2018-04-14",
          "2018-04-15",
          "2018-04-16",
          "2018-04-17",
          "2018-04-18",
          "2018-04-19",
          "2018-04-20",
          "2018-04-21",
          "2018-04-22",
          "2018-04-23",
          "2018-04-24",
          "2018-04-25",
          "2018-04-26",
          "2018-04-27",
          "2018-04-28",
          "2018-04-29",
          "2018-04-30",
          "2018-05-01",
          "2018-05-02",
          "2018-05-03",
          "2018-05-04",
          "2018-05-05",
          "2018-05-06",
          "2018-05-07",
          "2018-05-08",
          "2018-05-09",
          "2018-05-10",
          "2018-05-11",
          "2018-05-12",
          "2018-05-13",
          "2018-05-14",
          "2018-05-15",
          "2018-05-16",
          "2018-05-17",
          "2018-05-18",
          "2018-05-19",
          "2018-05-20",
          "2018-05-21",
          "2018-05-22",
          "2018-05-23",
          "2018-05-24",
          "2018-05-25",
          "2018-05-26",
          "2018-05-27",
          "2018-05-28",
          "2018-05-29",
          "2018-05-30",
          "2018-05-31",
          "2018-06-01",
          "2018-06-02",
          "2018-06-03",
          "2018-06-04",
          "2018-06-05",
          "2018-06-06",
          "2018-06-07",
          "2018-06-08",
          "2018-06-09",
          "2018-06-10",
          "2018-06-11",
          "2018-06-12",
          "2018-06-13",
          "2018-06-14",
          "2018-06-15",
          "2018-06-16",
          "2018-06-17",
          "2018-06-18",
          "2018-06-19",
          "2018-06-20",
          "2018-06-21",
          "2018-06-22",
          "2018-06-23",
          "2018-06-24",
          "2018-06-25",
          "2018-06-26",
          "2018-06-27",
          "2018-06-28",
          "2018-06-29",
          "2018-06-30",
          "2018-07-01",
          "2018-07-02",
          "2018-07-03",
          "2018-07-04",
          "2018-07-05",
          "2018-07-06",
          "2018-07-07",
          "2018-07-08",
          "2018-07-09",
          "2018-07-10",
          "2018-07-11",
          "2018-07-12",
          "2018-07-13",
          "2018-07-14",
          "2018-07-15",
          "2018-07-16",
          "2018-07-17",
          "2018-07-18",
          "2018-07-19",
          "2018-07-20",
          "2018-07-21",
          "2018-07-22",
          "2018-07-23",
          "2018-07-24",
          "2018-07-25",
          "2018-07-26",
          "2018-07-27",
          "2018-07-28",
          "2018-07-29",
          "2018-07-30",
          "2018-07-31",
          "2018-08-01",
          "2018-08-02",
          "2018-08-03",
          "2018-08-04",
          "2018-08-05",
          "2018-08-06",
          "2018-08-07",
          "2018-08-08",
          "2018-08-09",
          "2018-08-10",
          "2018-08-11",
          "2018-08-12",
          "2018-08-13",
          "2018-08-14",
          "2018-08-15",
          "2018-08-16",
          "2018-08-17",
          "2018-08-18",
          "2018-08-19",
          "2018-08-20",
          "2018-08-21",
          "2018-08-22",
          "2018-08-23",
          "2018-08-24",
          "2018-08-25",
          "2018-08-26",
          "2018-08-27",
          "2018-08-28",
          "2018-08-29",
          "2018-08-30",
          "2018-08-31",
          "2018-09-01",
          "2018-09-02",
          "2018-09-03",
          "2018-09-04",
          "2018-09-05",
          "2018-09-06",
          "2018-09-07",
          "2018-09-08",
          "2018-09-09",
          "2018-09-10",
          "2018-09-11",
          "2018-09-12",
          "2018-09-13",
          "2018-09-14",
          "2018-09-15",
          "2018-09-16",
          "2018-09-17",
          "2018-09-18",
          "2018-09-19",
          "2018-09-20",
          "2018-09-21",
          "2018-09-22",
          "2018-09-23",
          "2018-09-24",
          "2018-09-25",
          "2018-09-26",
          "2018-09-27",
          "2018-09-28",
          "2018-09-29",
          "2018-09-30",
          "2018-10-01",
          "2018-10-02",
          "2018-10-03",
          "2018-10-04",
          "2018-10-05",
          "2018-10-06",
          "2018-10-07",
          "2018-10-08",
          "2018-10-09",
          "2018-10-10",
          "2018-10-11",
          "2018-10-12",
          "2018-10-13",
          "2018-10-14",
          "2018-10-15",
          "2018-10-16",
          "2018-10-17",
          "2018-10-18",
          "2018-10-19",
          "2018-10-20",
          "2018-10-21",
          "2018-10-22",
          "2018-10-23",
          "2018-10-24",
          "2018-10-25",
          "2018-10-26",
          "2018-10-27",
          "2018-10-28",
          "2018-10-29",
          "2018-10-30",
          "2018-10-31",
          "2018-11-01",
          "2018-11-02",
          "2018-11-03",
          "2018-11-04",
          "2018-11-05",
          "2018-11-06",
          "2018-11-07",
          "2018-11-08",
          "2018-11-09",
          "2018-11-10",
          "2018-11-11",
          "2018-11-12",
          "2018-11-13",
          "2018-11-14",
          "2018-11-15",
          "2018-11-16",
          "2018-11-17",
          "2018-11-18",
          "2018-11-19",
          "2018-11-20",
          "2018-11-21",
          "2018-11-22",
          "2018-11-23",
          "2018-11-24",
          "2018-11-25",
          "2018-11-26",
          "2018-11-27",
          "2018-11-28",
          "2018-11-29",
          "2018-11-30",
          "2018-12-01",
          "2018-12-02",
          "2018-12-03",
          "2018-12-04",
          "2018-12-05",
          "2018-12-06",
          "2018-12-07",
          "2018-12-08",
          "2018-12-09",
          "2018-12-10",
          "2018-12-11",
          "2018-12-12",
          "2018-12-13",
          "2018-12-14",
          "2018-12-15",
          "2018-12-16",
          "2018-12-17",
          "2018-12-18",
          "2018-12-19",
          "2018-12-20",
          "2018-12-21",
          "2018-12-22",
          "2018-12-23",
          "2018-12-24",
          "2018-12-25",
          "2018-12-26",
          "2018-12-27",
          "2018-12-28",
          "2018-12-29",
          "2018-12-30",
          "2018-12-31",
          "2019-01-01",
          "2019-01-02",
          "2019-01-03",
          "2019-01-04",
          "2019-01-05",
          "2019-01-06",
          "2019-01-07",
          "2019-01-08",
          "2019-01-09",
          "2019-01-10",
          "2019-01-11",
          "2019-01-12",
          "2019-01-13",
          "2019-01-14",
          "2019-01-15",
          "2019-01-16",
          "2019-01-17",
          "2019-01-18",
          "2019-01-19",
          "2019-01-20",
          "2019-01-21",
          "2019-01-22",
          "2019-01-23",
          "2019-01-24",
          "2019-01-25",
          "2019-01-26",
          "2019-01-27",
          "2019-01-28",
          "2019-01-29",
          "2019-01-30",
          "2019-01-31",
          "2019-02-01",
          "2019-02-02",
          "2019-02-03",
          "2019-02-04",
          "2019-02-05",
          "2019-02-06",
          "2019-02-07",
          "2019-02-08",
          "2019-02-09",
          "2019-02-10",
          "2019-02-11",
          "2019-02-12",
          "2019-02-13",
          "2019-02-14",
          "2019-02-15",
          "2019-02-16",
          "2019-02-17",
          "2019-02-18",
          "2019-02-19",
          "2019-02-20",
          "2019-02-21",
          "2019-02-22",
          "2019-02-23",
          "2019-02-24",
          "2019-02-25",
          "2019-02-26",
          "2019-02-27",
          "2019-02-28",
          "2019-03-01",
          "2019-03-02",
          "2019-03-03",
          "2019-03-04",
          "2019-03-05",
          "2019-03-06",
          "2019-03-07",
          "2019-03-08",
          "2019-03-09",
          "2019-03-10",
          "2019-03-11",
          "2019-03-12",
          "2019-03-13",
          "2019-03-14",
          "2019-03-15",
          "2019-03-16",
          "2019-03-17",
          "2019-03-18",
          "2019-03-19",
          "2019-03-20",
          "2019-03-21",
          "2019-03-22",
          "2019-03-23",
          "2019-03-24",
          "2019-03-25",
          "2019-03-26",
          "2019-03-27",
          "2019-03-28",
          "2019-03-29",
          "2019-03-30",
          "2019-03-31",
          "2019-04-01",
          "2019-04-02",
          "2019-04-03",
          "2019-04-04",
          "2019-04-05",
          "2019-04-06",
          "2019-04-07",
          "2019-04-08",
          "2019-04-09",
          "2019-04-10",
          "2019-04-11",
          "2019-04-12",
          "2019-04-13",
          "2019-04-14",
          "2019-04-15",
          "2019-04-16",
          "2019-04-17",
          "2019-04-18",
          "2019-04-19",
          "2019-04-20",
          "2019-04-21",
          "2019-04-22",
          "2019-04-23",
          "2019-04-24",
          "2019-04-25",
          "2019-04-26",
          "2019-04-27",
          "2019-04-28",
          "2019-04-29",
          "2019-04-30",
          "2019-05-01",
          "2019-05-02",
          "2019-05-03",
          "2019-05-04",
          "2019-05-05",
          "2019-05-06",
          "2019-05-07",
          "2019-05-08",
          "2019-05-09",
          "2019-05-10",
          "2019-05-11",
          "2019-05-12",
          "2019-05-13",
          "2019-05-14",
          "2019-05-15",
          "2019-05-16",
          "2019-05-17",
          "2019-05-18",
          "2019-05-19",
          "2019-05-20",
          "2019-05-21",
          "2019-05-22",
          "2019-05-23",
          "2019-05-24",
          "2019-05-25",
          "2019-05-26",
          "2019-05-27",
          "2019-05-28",
          "2019-05-29",
          "2019-05-30",
          "2019-05-31",
          "2019-06-01",
          "2019-06-02",
          "2019-06-03",
          "2019-06-04",
          "2019-06-05",
          "2019-06-06",
          "2019-06-07",
          "2019-06-08",
          "2019-06-09",
          "2019-06-10",
          "2019-06-11",
          "2019-06-12",
          "2019-06-13",
          "2019-06-14",
          "2019-06-15",
          "2019-06-16",
          "2019-06-17",
          "2019-06-18",
          "2019-06-19",
          "2019-06-20",
          "2019-06-21",
          "2019-06-22",
          "2019-06-23",
          "2019-06-24",
          "2019-06-25",
          "2019-06-26",
          "2019-06-27",
          "2019-06-28",
          "2019-06-29",
          "2019-06-30",
          "2019-07-01",
          "2019-07-02",
          "2019-07-03",
          "2019-07-04",
          "2019-07-05",
          "2019-07-06",
          "2019-07-07",
          "2019-07-08",
          "2019-07-09",
          "2019-07-10",
          "2019-07-11",
          "2019-07-12",
          "2019-07-13",
          "2019-07-14",
          "2019-07-15",
          "2019-07-16",
          "2019-07-17",
          "2019-07-18",
          "2019-07-19",
          "2019-07-20",
          "2019-07-21",
          "2019-07-22",
          "2019-07-23",
          "2019-07-24",
          "2019-07-25",
          "2019-07-26",
          "2019-07-27",
          "2019-07-28",
          "2019-07-29",
          "2019-07-30",
          "2019-07-31",
          "2019-08-01",
          "2019-08-02",
          "2019-08-03",
          "2019-08-04",
          "2019-08-05",
          "2019-08-06",
          "2019-08-07",
          "2019-08-08",
          "2019-08-09",
          "2019-08-10",
          "2019-08-11",
          "2019-08-12",
          "2019-08-13",
          "2019-08-14",
          "2019-08-15",
          "2019-08-16",
          "2019-08-17",
          "2019-08-18",
          "2019-08-19",
          "2019-08-20",
          "2019-08-21",
          "2019-08-22",
          "2019-08-23",
          "2019-08-24",
          "2019-08-25",
          "2019-08-26",
          "2019-08-27",
          "2019-08-28",
          "2019-08-29",
          "2019-08-30",
          "2019-08-31",
          "2019-09-01",
          "2019-09-02",
          "2019-09-03",
          "2019-09-04",
          "2019-09-05",
          "2019-09-06",
          "2019-09-07",
          "2019-09-08",
          "2019-09-09",
          "2019-09-10",
          "2019-09-11",
          "2019-09-12",
          "2019-09-13",
          "2019-09-14",
          "2019-09-15",
          "2019-09-16",
          "2019-09-17",
          "2019-09-18",
          "2019-09-19",
          "2019-09-20",
          "2019-09-21",
          "2019-09-22",
          "2019-09-23",
          "2019-09-24",
          "2019-09-25",
          "2019-09-26",
          "2019-09-27",
          "2019-09-28",
          "2019-09-29",
          "2019-09-30",
          "2019-10-01",
          "2019-10-02",
          "2019-10-03",
          "2019-10-04",
          "2019-10-05",
          "2019-10-06",
          "2019-10-07",
          "2019-10-08",
          "2019-10-09",
          "2019-10-10",
          "2019-10-11",
          "2019-10-12",
          "2019-10-13",
          "2019-10-14",
          "2019-10-15",
          "2019-10-16",
          "2019-10-17",
          "2019-10-18",
          "2019-10-19",
          "2019-10-20",
          "2019-10-21",
          "2019-10-22",
          "2019-10-23",
          "2019-10-24",
          "2019-10-25",
          "2019-10-26",
          "2019-10-27",
          "2019-10-28",
          "2019-10-29",
          "2019-10-30",
          "2019-10-31",
          "2019-11-01",
          "2019-11-02",
          "2019-11-03",
          "2019-11-04",
          "2019-11-05",
          "2019-11-06",
          "2019-11-07",
          "2019-11-08",
          "2019-11-09",
          "2019-11-10",
          "2019-11-11",
          "2019-11-12",
          "2019-11-13",
          "2019-11-14",
          "2019-11-15",
          "2019-11-16",
          "2019-11-17",
          "2019-11-18",
          "2019-11-19",
          "2019-11-20",
          "2019-11-21",
          "2019-11-22",
          "2019-11-23",
          "2019-11-24",
          "2019-11-25",
          "2019-11-26",
          "2019-11-27",
          "2019-11-28",
          "2019-11-29",
          "2019-11-30",
          "2019-12-01",
          "2019-12-02",
          "2019-12-03",
          "2019-12-04",
          "2019-12-05",
          "2019-12-06",
          "2019-12-07",
          "2019-12-08",
          "2019-12-09",
          "2019-12-10",
          "2019-12-11",
          "2019-12-12",
          "2019-12-13",
          "2019-12-14",
          "2019-12-15",
          "2019-12-16",
          "2019-12-17",
          "2019-12-18",
          "2019-12-19",
          "2019-12-20",
          "2019-12-21",
          "2019-12-22",
          "2019-12-23",
          "2019-12-24",
          "2019-12-25",
          "2019-12-26",
          "2019-12-27",
          "2019-12-28",
          "2019-12-29",
          "2019-12-30",
          "2019-12-31",
          "2020-01-01",
          "2020-01-02",
          "2020-01-03",
          "2020-01-04",
          "2020-01-05",
          "2020-01-06",
          "2020-01-07",
          "2020-01-08",
          "2020-01-09",
          "2020-01-10",
          "2020-01-11",
          "2020-01-12",
          "2020-01-13",
          "2020-01-14",
          "2020-01-15",
          "2020-01-16",
          "2020-01-17",
          "2020-01-18",
          "2020-01-19",
          "2020-01-20",
          "2020-01-21",
          "2020-01-22",
          "2020-01-23",
          "2020-01-24",
          "2020-01-25",
          "2020-01-26",
          "2020-01-27",
          "2020-01-28",
          "2020-01-29",
          "2020-01-30",
          "2020-01-31",
          "2020-02-01",
          "2020-02-02",
          "2020-02-03",
          "2020-02-04",
          "2020-02-05",
          "2020-02-06",
          "2020-02-07",
          "2020-02-08",
          "2020-02-09",
          "2020-02-10",
          "2020-02-11",
          "2020-02-12",
          "2020-02-13",
          "2020-02-14",
          "2020-02-15",
          "2020-02-16",
          "2020-02-17",
          "2020-02-18",
          "2020-02-19",
          "2020-02-20",
          "2020-02-21",
          "2020-02-22",
          "2020-02-23",
          "2020-02-24",
          "2020-02-25",
          "2020-02-26",
          "2020-02-27",
          "2020-02-28",
          "2020-02-29",
          "2020-03-01",
          "2020-03-02",
          "2020-03-03",
          "2020-03-04",
          "2020-03-05",
          "2020-03-06",
          "2020-03-07",
          "2020-03-08",
          "2020-03-09",
          "2020-03-10",
          "2020-03-11",
          "2020-03-12",
          "2020-03-13",
          "2020-03-14",
          "2020-03-15",
          "2020-03-16",
          "2020-03-17",
          "2020-03-18",
          "2020-03-19",
          "2020-03-20",
          "2020-03-21",
          "2020-03-22",
          "2020-03-23",
          "2020-03-24",
          "2020-03-25",
          "2020-03-26",
          "2020-03-27",
          "2020-03-28",
          "2020-03-29",
          "2020-03-30",
          "2020-03-31",
          "2020-04-01",
          "2020-04-02",
          "2020-04-03",
          "2020-04-04",
          "2020-04-05",
          "2020-04-06",
          "2020-04-07",
          "2020-04-08",
          "2020-04-09",
          "2020-04-10",
          "2020-04-11",
          "2020-04-12",
          "2020-04-13",
          "2020-04-14",
          "2020-04-15",
          "2020-04-16",
          "2020-04-17",
          "2020-04-18",
          "2020-04-19",
          "2020-04-20",
          "2020-04-21",
          "2020-04-22",
          "2020-04-23",
          "2020-04-24",
          "2020-04-25",
          "2020-04-26",
          "2020-04-27",
          "2020-04-28",
          "2020-04-29",
          "2020-04-30",
          "2020-05-01",
          "2020-05-02",
          "2020-05-03",
          "2020-05-04",
          "2020-05-05",
          "2020-05-06",
          "2020-05-07",
          "2020-05-08",
          "2020-05-09",
          "2020-05-10",
          "2020-05-11",
          "2020-05-12",
          "2020-05-13",
          "2020-05-14",
          "2020-05-15",
          "2020-05-16",
          "2020-05-17",
          "2020-05-18",
          "2020-05-19",
          "2020-05-20",
          "2020-05-21",
          "2020-05-22",
          "2020-05-23",
          "2020-05-24",
          "2020-05-25",
          "2020-05-26",
          "2020-05-27",
          "2020-05-28",
          "2020-05-29",
          "2020-05-30",
          "2020-05-31",
          "2020-06-01",
          "2020-06-02",
          "2020-06-03",
          "2020-06-04",
          "2020-06-05",
          "2020-06-06",
          "2020-06-07",
          "2020-06-08",
          "2020-06-09",
          "2020-06-10",
          "2020-06-11",
          "2020-06-12",
          "2020-06-13",
          "2020-06-14",
          "2020-06-15",
          "2020-06-16",
          "2020-06-17",
          "2020-06-18",
          "2020-06-19",
          "2020-06-20",
          "2020-06-21",
          "2020-06-22",
          "2020-06-23",
          "2020-06-24",
          "2020-06-25",
          "2020-06-26",
          "2020-06-27",
          "2020-06-28",
          "2020-06-29",
          "2020-06-30",
          "2020-07-01",
          "2020-07-02",
          "2020-07-03",
          "2020-07-04",
          "2020-07-05",
          "2020-07-06",
          "2020-07-07",
          "2020-07-08",
          "2020-07-09",
          "2020-07-10",
          "2020-07-11",
          "2020-07-12",
          "2020-07-13",
          "2020-07-14",
          "2020-07-15",
          "2020-07-16",
          "2020-07-17",
          "2020-07-18",
          "2020-07-19",
          "2020-07-20",
          "2020-07-21",
          "2020-07-22",
          "2020-07-23",
          "2020-07-24",
          "2020-07-25",
          "2020-07-26",
          "2020-07-27",
          "2020-07-28",
          "2020-07-29",
          "2020-07-30",
          "2020-07-31",
          "2020-08-01",
          "2020-08-02",
          "2020-08-03",
          "2020-08-04",
          "2020-08-05",
          "2020-08-06",
          "2020-08-07",
          "2020-08-08",
          "2020-08-09",
          "2020-08-10",
          "2020-08-11",
          "2020-08-12",
          "2020-08-13",
          "2020-08-14",
          "2020-08-15",
          "2020-08-16",
          "2020-08-17",
          "2020-08-18",
          "2020-08-19",
          "2020-08-20",
          "2020-08-21",
          "2020-08-22",
          "2020-08-23",
          "2020-08-24",
          "2020-08-25",
          "2020-08-26",
          "2020-08-27",
          "2020-08-28",
          "2020-08-29",
          "2020-08-30",
          "2020-08-31",
          "2020-09-01",
          "2020-09-02",
          "2020-09-03",
          "2020-09-04",
          "2020-09-05",
          "2020-09-06",
          "2020-09-07",
          "2020-09-08",
          "2020-09-09",
          "2020-09-10",
          "2020-09-11",
          "2020-09-12",
          "2020-09-13",
          "2020-09-14",
          "2020-09-15",
          "2020-09-16",
          "2020-09-17",
          "2020-09-18",
          "2020-09-19",
          "2020-09-20",
          "2020-09-21",
          "2020-09-22",
          "2020-09-23",
          "2020-09-24",
          "2020-09-25",
          "2020-09-26",
          "2020-09-27",
          "2020-09-28",
          "2020-09-29",
          "2020-09-30",
          "2020-10-01",
          "2020-10-02",
          "2020-10-03",
          "2020-10-04",
          "2020-10-05",
          "2020-10-06",
          "2020-10-07",
          "2020-10-08",
          "2020-10-09",
          "2020-10-10",
          "2020-10-11",
          "2020-10-12",
          "2020-10-13",
          "2020-10-14",
          "2020-10-15",
          "2020-10-16",
          "2020-10-17",
          "2020-10-18",
          "2020-10-19",
          "2020-10-20",
          "2020-10-21",
          "2020-10-22",
          "2020-10-23",
          "2020-10-24",
          "2020-10-25",
          "2020-10-26",
          "2020-10-27",
          "2020-10-28",
          "2020-10-29",
          "2020-10-30",
          "2020-10-31",
          "2020-11-01",
          "2020-11-02",
          "2020-11-03",
          "2020-11-04",
          "2020-11-05",
          "2020-11-06",
          "2020-11-07",
          "2020-11-08",
          "2020-11-09",
          "2020-11-10",
          "2020-11-11",
          "2020-11-12",
          "2020-11-13",
          "2020-11-14",
          "2020-11-15",
          "2020-11-16",
          "2020-11-17",
          "2020-11-18",
          "2020-11-19",
          "2020-11-20",
          "2020-11-21",
          "2020-11-22",
          "2020-11-23",
          "2020-11-24",
          "2020-11-25",
          "2020-11-26",
          "2020-11-27",
          "2020-11-28",
          "2020-11-29",
          "2020-11-30",
          "2020-12-01",
          "2020-12-02",
          "2020-12-03",
          "2020-12-04",
          "2020-12-05",
          "2020-12-06",
          "2020-12-07",
          "2020-12-08",
          "2020-12-09",
          "2020-12-10",
          "2020-12-11",
          "2020-12-12",
          "2020-12-13",
          "2020-12-14",
          "2020-12-15",
          "2020-12-16",
          "2020-12-17",
          "2020-12-18",
          "2020-12-19",
          "2020-12-20",
          "2020-12-21",
          "2020-12-22",
          "2020-12-23",
          "2020-12-24",
          "2020-12-25",
          "2020-12-26",
          "2020-12-27",
          "2020-12-28",
          "2020-12-29",
          "2020-12-30",
          "2020-12-31",
          "2021-01-01",
          "2021-01-02",
          "2021-01-03",
          "2021-01-04",
          "2021-01-05",
          "2021-01-06",
          "2021-01-07",
          "2021-01-08",
          "2021-01-09",
          "2021-01-10",
          "2021-01-11",
          "2021-01-12",
          "2021-01-13",
          "2021-01-14",
          "2021-01-15",
          "2021-01-16",
          "2021-01-17",
          "2021-01-18",
          "2021-01-19",
          "2021-01-20",
          "2021-01-21",
          "2021-01-22",
          "2021-01-23",
          "2021-01-24",
          "2021-01-25",
          "2021-01-26",
          "2021-01-27",
          "2021-01-28",
          "2021-01-29",
          "2021-01-30",
          "2021-01-31",
          "2021-02-01",
          "2021-02-02",
          "2021-02-03",
          "2021-02-04",
          "2021-02-07",
          "2021-02-08",
          "2021-02-09",
          "2021-02-10",
          "2021-02-11",
          "2021-02-12",
          "2021-02-13",
          "2021-02-14",
          "2021-02-15",
          "2021-02-16",
          "2021-02-17",
          "2021-02-18",
          "2021-02-19",
          "2021-02-20",
          "2021-02-21",
          "2021-02-22",
          "2021-02-23",
          "2021-02-24",
          "2021-02-25",
          "2021-02-26",
          "2021-02-27",
          "2021-02-28",
          "2021-03-02",
          "2021-03-03",
          "2021-03-04",
          "2021-03-05",
          "2021-03-07",
          "2021-03-08",
          "2021-03-09",
          "2021-03-10",
          "2021-03-11",
          "2021-03-12",
          "2021-03-13",
          "2021-03-14",
          "2021-03-15",
          "2021-03-16",
          "2021-03-17",
          "2021-03-27",
          "2021-03-28",
          "2021-03-29",
          "2021-03-30",
          "2021-03-31",
          "2021-04-01",
          "2021-04-02",
          "2021-04-03",
          "2021-04-04",
          "2021-04-05",
          "2021-04-06",
          "2021-04-07",
          "2021-04-08",
          "2021-04-09",
          "2021-04-14",
          "2021-04-15",
          "2021-04-16",
          "2021-04-17",
          "2021-04-18",
          "2021-04-19",
          "2021-04-20",
          "2021-04-21",
          "2021-04-22",
          "2021-04-23",
          "2021-04-24",
          "2021-04-25",
          "2021-04-26",
          "2021-04-27",
          "2021-04-28",
          "2021-04-29",
          "2021-04-30",
          "2021-05-01",
          "2021-05-02",
          "2021-05-03",
          "2021-05-04",
          "2021-05-05",
          "2021-05-06",
          "2021-05-07",
          "2021-05-08",
          "2021-05-09",
          "2021-05-10",
          "2021-05-11",
          "2021-05-12",
          "2021-05-13",
          "2021-05-14",
          "2021-05-15",
          "2021-05-16",
          "2021-05-17",
          "2021-05-18",
          "2021-05-19",
          "2021-05-20",
          "2021-05-21",
          "2021-05-22",
          "2021-05-23",
          "2021-05-24",
          "2021-05-25",
          "2021-05-26",
          "2021-05-27",
          "2021-05-28",
          "2021-05-29",
          "2021-05-30",
          "2021-05-31",
          "2021-06-01",
          "2021-06-02",
          "2021-06-03",
          "2021-06-04",
          "2021-06-05",
          "2021-06-06",
          "2021-06-07",
          "2021-06-08",
          "2021-06-09",
          "2021-06-10",
          "2021-06-11",
          "2021-06-12",
          "2021-06-13",
          "2021-06-14",
          "2021-06-15",
          "2021-06-16",
          "2021-06-17",
          "2021-06-18",
          "2021-06-19",
          "2021-06-20",
          "2021-06-21",
          "2021-06-22",
          "2021-06-23",
          "2021-06-24",
          "2021-06-25",
          "2021-06-26",
          "2021-06-27",
          "2021-06-28",
          "2021-06-29",
          "2021-06-30",
          "2021-07-01",
          "2021-07-02",
          "2021-07-03",
          "2021-07-04",
          "2021-07-05",
          "2021-07-06",
          "2021-07-07",
          "2021-07-08",
          "2021-07-09",
          "2021-07-10",
          "2021-07-11",
          "2021-07-12",
          "2021-07-13",
          "2021-07-14",
          "2021-07-15",
          "2021-07-16",
          "2021-07-17",
          "2021-07-18",
          "2021-07-19",
          "2021-07-20",
          "2021-07-21",
          "2021-07-22",
          "2021-07-23",
          "2021-07-24",
          "2021-07-25",
          "2021-07-26",
          "2021-07-27",
          "2021-07-28",
          "2021-07-29",
          "2021-07-30",
          "2021-07-31",
          "2021-08-01",
          "2021-08-02",
          "2021-08-03",
          "2021-08-04",
          "2021-08-05",
          "2021-08-06",
          "2021-08-07",
          "2021-08-08",
          "2021-08-09",
          "2021-08-10",
          "2021-08-11",
          "2021-08-12",
          "2021-08-13",
          "2021-08-14",
          "2021-08-15",
          "2021-08-16",
          "2021-08-17",
          "2021-08-18",
          "2021-08-19",
          "2021-08-20",
          "2021-08-21",
          "2021-08-22",
          "2021-08-23",
          "2021-08-24",
          "2021-08-25",
          "2021-08-26",
          "2021-08-27",
          "2021-08-28",
          "2021-08-29",
          "2021-08-30",
          "2021-08-31",
          "2021-09-01",
          "2021-09-02",
          "2021-09-03",
          "2021-09-04",
          "2021-09-05",
          "2021-09-06",
          "2021-09-07",
          "2021-09-08",
          "2021-09-09",
          "2021-09-10",
          "2021-09-11",
          "2021-09-12",
          "2021-09-13",
          "2021-09-14",
          "2021-09-15",
          "2021-09-16",
          "2021-09-17",
          "2021-09-18",
          "2021-09-19",
          "2021-09-20",
          "2021-09-21",
          "2021-09-22",
          "2021-09-23",
          "2021-09-24",
          "2021-09-25",
          "2021-09-26",
          "2021-09-27",
          "2021-09-28",
          "2021-09-29",
          "2021-09-30",
          "2021-10-01",
          "2021-10-02",
          "2021-10-03",
          "2021-10-04",
          "2021-10-05",
          "2021-10-06",
          "2021-10-07",
          "2021-10-08",
          "2021-10-09",
          "2021-10-10",
          "2021-10-11",
          "2021-10-12",
          "2021-10-13",
          "2021-10-14",
          "2021-10-15",
          "2021-10-16",
          "2021-10-17",
          "2021-10-18",
          "2021-10-19",
          "2021-10-20",
          "2021-10-21",
          "2021-10-22",
          "2021-10-23",
          "2021-10-24",
          "2021-10-25",
          "2021-10-26",
          "2021-10-27",
          "2021-10-28",
          "2021-10-29"
         ],
         "y": [
          1,
          1,
          1,
          1,
          1,
          1,
          1,
          1,
          1,
          1,
          1,
          1,
          1,
          2,
          1,
          2,
          1,
          1,
          1,
          1,
          2,
          1,
          1,
          1,
          1,
          1,
          1,
          1,
          1,
          1,
          2,
          1,
          1,
          1,
          1,
          1,
          1,
          3,
          2,
          1,
          1,
          1,
          1,
          1,
          1,
          1,
          1,
          1,
          1,
          1,
          2,
          1,
          1,
          3,
          1,
          1,
          3,
          2,
          1,
          2,
          1,
          1,
          2,
          2,
          1,
          1,
          1,
          1,
          1,
          2,
          1,
          1,
          3,
          1,
          1,
          1,
          3,
          1,
          1,
          1,
          1,
          1,
          1,
          3,
          2,
          2,
          1,
          2,
          1,
          4,
          1,
          4,
          1,
          2,
          1,
          1,
          3,
          4,
          1,
          1,
          3,
          1,
          1,
          1,
          1,
          1,
          2,
          1,
          1,
          2,
          1,
          1,
          2,
          1,
          2,
          1,
          1,
          2,
          1,
          1,
          1,
          2,
          1,
          1,
          5,
          4,
          4,
          4,
          3,
          3,
          1,
          1,
          4,
          1,
          3,
          1,
          4,
          3,
          1,
          1,
          3,
          2,
          3,
          1,
          4,
          1,
          1,
          3,
          3,
          1,
          2,
          6,
          1,
          1,
          1,
          1,
          2,
          2,
          1,
          1,
          1,
          1,
          2,
          3,
          2,
          1,
          1,
          1,
          2,
          2,
          3,
          1,
          1,
          1,
          2,
          1,
          1,
          1,
          1,
          1,
          1,
          2,
          1,
          2,
          1,
          1,
          2,
          1,
          1,
          1,
          2,
          1,
          1,
          1,
          2,
          4,
          2,
          4,
          1,
          1,
          2,
          2,
          4,
          1,
          1,
          2,
          2,
          1,
          2,
          1,
          2,
          2,
          4,
          5,
          2,
          3,
          5,
          3,
          2,
          1,
          2,
          1,
          3,
          2,
          2,
          1,
          2,
          1,
          3,
          1,
          2,
          3,
          1,
          1,
          3,
          1,
          4,
          2,
          1,
          5,
          3,
          2,
          1,
          2,
          2,
          1,
          2,
          2,
          1,
          3,
          2,
          4,
          2,
          2,
          2,
          1,
          3,
          4,
          6,
          7,
          1,
          3,
          2,
          4,
          7,
          3,
          2,
          3,
          3,
          2,
          3,
          3,
          5,
          7,
          3,
          4,
          1,
          5,
          3,
          3,
          3,
          3,
          5,
          2,
          1,
          2,
          2,
          4,
          3,
          3,
          4,
          1,
          1,
          2,
          2,
          4,
          3,
          4,
          4,
          7,
          4,
          2,
          4,
          2,
          4,
          3,
          2,
          7,
          3,
          2,
          7,
          5,
          5,
          7,
          1,
          4,
          3,
          3,
          5,
          3,
          3,
          3,
          5,
          4,
          4,
          4,
          3,
          3,
          3,
          3,
          3,
          2,
          3,
          1,
          4,
          9,
          7,
          4,
          9,
          8,
          4,
          1,
          6,
          4,
          2,
          5,
          6,
          6,
          9,
          15,
          4,
          2,
          2,
          5,
          3,
          2,
          9,
          6,
          3,
          4,
          3,
          2,
          3,
          4,
          3,
          2,
          3,
          4,
          9,
          3,
          2,
          2,
          3,
          1,
          2,
          2,
          3,
          3,
          4,
          5,
          3,
          4,
          3,
          3,
          6,
          4,
          5,
          3,
          4,
          4,
          3,
          11,
          5,
          8,
          2,
          3,
          3,
          10,
          4,
          4,
          5,
          7,
          4,
          3,
          7,
          7,
          5,
          3,
          4,
          1,
          3,
          4,
          3,
          5,
          4,
          3,
          3,
          8,
          1,
          4,
          3,
          4,
          3,
          5,
          6,
          9,
          2,
          5,
          6,
          5,
          2,
          2,
          3,
          4,
          2,
          6,
          1,
          4,
          2,
          2,
          5,
          2,
          1,
          2,
          6,
          1,
          3,
          3,
          5,
          1,
          4,
          2,
          3,
          3,
          2,
          4,
          2,
          1,
          3,
          3,
          3,
          5,
          3,
          4,
          2,
          2,
          3,
          5,
          3,
          1,
          2,
          3,
          1,
          3,
          3,
          2,
          5,
          4,
          4,
          2,
          2,
          1,
          3,
          7,
          4,
          3,
          2,
          5,
          3,
          2,
          2,
          2,
          3,
          3,
          2,
          1,
          1,
          1,
          1,
          1,
          3,
          4,
          3,
          4,
          5,
          4,
          3,
          3,
          7,
          3,
          2,
          3,
          5,
          6,
          7,
          11,
          5,
          2,
          2,
          4,
          4,
          2,
          8,
          11,
          3,
          1,
          3,
          4,
          7,
          3,
          1,
          1,
          4,
          4,
          5,
          3,
          6,
          2,
          1,
          1,
          6,
          5,
          5,
          3,
          8,
          4,
          6,
          7,
          6,
          6,
          4,
          3,
          7,
          2,
          8,
          7,
          6,
          4,
          3,
          9,
          1,
          9,
          5,
          4,
          4,
          4,
          3,
          3,
          3,
          3,
          7,
          4,
          3,
          5,
          6,
          7,
          2,
          6,
          4,
          1,
          4,
          3,
          4,
          9,
          2,
          1,
          2,
          2,
          7,
          5,
          4,
          4,
          5,
          4,
          4,
          2,
          7,
          4,
          1,
          5,
          4,
          4,
          3,
          5,
          4,
          6,
          11,
          4,
          5,
          3,
          8,
          7,
          6,
          10,
          7,
          1,
          7,
          1,
          6,
          3,
          7,
          6,
          4,
          7,
          2,
          4,
          3,
          3,
          5,
          4,
          4,
          5,
          5,
          10,
          6,
          4,
          3,
          6,
          8,
          5,
          4,
          6,
          4,
          4,
          1,
          6,
          7,
          7,
          4,
          7,
          3,
          4,
          2,
          6,
          4,
          9,
          8,
          5,
          17,
          8,
          7,
          16,
          11,
          7,
          9,
          8,
          12,
          6,
          11,
          11,
          9,
          4,
          9,
          12,
          18,
          8,
          13,
          9,
          6,
          18,
          7,
          10,
          13,
          12,
          11,
          6,
          13,
          10,
          12,
          12,
          13,
          10,
          9,
          9,
          11,
          12,
          8,
          14,
          9,
          9,
          9,
          7,
          15,
          10,
          14,
          12,
          8,
          8,
          13,
          10,
          13,
          11,
          16,
          6,
          7,
          10,
          20,
          10,
          10,
          10,
          10,
          6,
          12,
          12,
          11,
          8,
          6,
          4,
          11,
          8,
          8,
          8,
          10,
          5,
          7,
          14,
          9,
          6,
          9,
          9,
          2,
          5,
          4,
          10,
          11,
          11,
          5,
          4,
          5,
          12,
          17,
          10,
          16,
          9,
          9,
          5,
          4,
          9,
          17,
          9,
          12,
          12,
          4,
          11,
          11,
          14,
          13,
          9,
          9,
          10,
          9,
          5,
          6,
          8,
          11,
          14,
          4,
          7,
          9,
          10,
          15,
          6,
          4,
          8,
          10,
          6,
          10,
          7,
          6,
          4,
          9,
          12,
          8,
          9,
          8,
          4,
          5,
          8,
          6,
          5,
          6,
          13,
          7,
          8,
          3,
          7,
          4,
          5,
          3,
          8,
          6,
          8,
          7,
          10,
          4,
          8,
          2,
          6,
          7,
          6,
          11,
          12,
          2,
          6,
          5,
          10,
          8,
          7,
          2,
          12,
          5,
          11,
          6,
          4,
          7,
          10,
          7,
          6,
          8,
          8,
          5,
          9,
          2,
          9,
          4,
          4,
          5,
          8,
          12,
          8,
          8,
          8,
          1,
          4,
          11,
          5,
          16,
          5,
          8,
          11,
          6,
          10,
          9,
          8,
          6,
          8,
          3,
          5,
          6,
          6,
          7,
          5,
          3,
          6,
          6,
          3,
          5,
          4,
          7,
          7,
          1,
          3,
          5,
          10,
          2,
          5,
          8,
          5,
          7,
          1,
          4,
          6,
          5,
          4,
          4,
          4,
          7,
          7,
          6,
          7,
          6,
          5,
          5,
          11,
          6,
          7,
          3,
          5,
          7,
          2,
          11,
          4,
          5,
          8,
          2,
          3,
          4,
          7,
          3,
          10,
          2,
          1,
          2,
          8,
          6,
          5,
          2,
          4,
          10,
          6,
          6,
          12,
          3,
          9,
          6,
          12,
          7,
          6,
          8,
          2,
          5,
          2,
          6,
          2,
          2,
          6,
          9,
          7,
          9,
          4,
          4,
          6,
          5,
          1,
          8,
          9,
          6,
          2,
          6,
          6,
          4,
          6,
          6,
          4,
          10,
          4,
          4,
          7,
          6,
          4,
          7,
          4,
          6,
          4,
          4,
          4,
          7,
          3,
          4,
          7,
          8,
          8,
          6,
          3,
          6,
          5,
          6,
          5,
          8,
          6,
          5,
          7,
          4,
          6,
          6,
          9,
          6,
          3,
          4,
          5,
          6,
          4,
          2,
          5,
          3,
          3,
          2,
          3,
          4,
          5,
          7,
          6,
          5,
          3,
          3,
          8,
          4,
          11,
          6,
          11,
          8,
          6,
          9,
          4,
          4,
          4,
          1,
          7,
          7,
          5,
          7,
          12,
          4,
          5,
          2,
          5,
          4,
          11,
          9,
          3,
          4,
          6,
          7,
          8,
          2,
          7,
          9,
          5,
          3,
          7,
          10,
          7,
          5,
          6,
          7,
          7,
          11,
          2,
          10,
          7,
          6,
          3,
          9,
          9,
          11,
          5,
          1,
          4,
          7,
          5,
          4,
          3,
          4,
          2,
          2,
          2,
          7,
          3,
          3,
          5,
          6,
          6,
          6,
          6,
          2,
          4,
          5,
          8,
          4,
          5,
          3,
          5,
          6,
          12,
          3,
          4,
          9,
          9,
          10,
          7,
          10,
          3,
          3,
          9,
          2,
          10,
          7,
          10,
          10,
          5,
          8,
          11,
          4,
          9,
          10,
          8,
          5,
          6,
          5,
          7,
          11,
          4,
          13,
          2,
          3,
          9,
          7,
          9,
          9,
          7,
          1,
          7,
          5,
          5,
          6,
          8,
          11,
          10,
          6,
          11,
          9,
          3,
          6,
          5,
          7,
          13,
          3,
          5,
          10,
          8,
          4,
          4,
          6,
          3,
          7,
          7,
          8,
          5,
          7,
          7,
          3,
          4,
          5,
          11,
          10,
          8,
          8,
          9,
          7,
          5,
          7,
          7,
          7,
          3,
          3,
          8,
          11,
          6,
          7,
          9,
          8,
          4,
          6,
          4,
          5,
          10,
          10,
          8,
          12,
          5,
          10,
          6,
          6,
          6,
          9,
          6,
          12,
          9,
          9,
          6,
          8,
          6,
          8,
          12,
          12,
          9,
          7,
          1,
          10,
          11,
          11,
          9,
          2,
          10,
          7,
          5,
          12,
          3,
          11,
          8,
          3,
          5,
          1,
          6,
          7,
          11,
          4,
          7,
          8,
          10,
          10,
          7,
          8,
          12,
          8,
          3,
          7,
          9,
          9,
          12,
          5,
          6,
          7,
          6,
          6,
          7,
          11,
          7,
          4,
          6,
          9,
          6,
          7,
          14,
          11,
          15,
          4,
          8,
          14,
          13,
          13,
          6,
          13,
          6,
          7,
          8,
          6,
          6,
          8,
          4,
          6,
          6,
          14,
          9,
          9,
          6,
          6,
          10,
          5,
          9,
          8,
          8,
          7,
          1,
          9,
          5,
          8,
          12,
          12,
          5,
          5,
          4,
          7,
          5,
          6,
          12,
          8,
          5,
          10,
          7,
          15,
          1,
          5,
          7,
          9,
          7,
          7,
          6,
          7,
          6,
          9,
          5,
          7,
          4,
          7,
          15,
          9,
          13,
          10,
          9,
          9,
          11,
          8,
          10,
          6,
          14,
          15,
          8,
          10,
          15,
          15,
          6,
          12,
          10,
          10,
          10,
          13,
          7,
          9,
          8,
          11,
          19,
          7,
          9,
          14,
          6,
          9,
          8,
          17,
          4,
          8,
          10,
          9,
          10,
          9,
          8,
          8,
          8,
          12,
          6,
          11,
          14,
          9,
          8,
          14,
          6,
          6,
          10,
          9,
          13,
          6,
          12,
          6,
          5,
          11,
          7,
          11,
          3,
          8,
          10,
          9,
          9,
          10,
          9,
          7,
          15,
          14,
          14,
          8,
          10,
          11,
          15,
          17,
          8,
          11,
          8,
          13,
          22,
          10,
          6,
          18,
          15,
          7,
          9,
          14,
          15,
          13,
          13,
          14,
          14,
          8,
          16,
          9,
          14,
          10,
          12,
          11,
          18,
          8,
          12,
          16,
          7,
          12,
          7,
          23,
          11,
          20,
          17,
          4,
          25,
          18,
          17,
          11,
          11,
          13,
          16,
          15,
          11,
          7,
          16,
          9,
          18,
          16,
          24,
          9,
          11,
          6,
          17,
          15,
          18,
          6,
          17,
          20,
          15,
          13,
          9,
          12,
          13,
          15,
          18,
          12,
          12,
          14,
          9,
          17,
          14,
          8,
          3,
          7,
          17,
          13,
          18,
          11,
          19,
          13,
          15,
          21,
          12,
          11,
          11,
          11,
          13,
          13,
          13,
          15,
          12,
          16,
          15,
          17,
          15,
          13,
          14,
          8,
          6,
          11,
          17,
          10,
          15,
          14,
          10,
          10,
          8,
          17,
          11,
          12,
          11,
          14,
          14,
          8,
          14,
          13,
          9,
          11,
          9,
          8,
          15,
          11,
          9,
          13,
          7,
          10,
          8,
          9,
          11,
          12,
          5,
          5,
          10,
          14,
          10,
          11,
          12,
          10,
          9,
          10,
          5,
          9,
          7,
          12,
          12,
          12,
          15,
          7,
          6,
          9,
          8,
          9,
          11,
          12,
          5,
          7,
          6,
          12,
          13,
          11,
          10,
          8,
          6,
          10,
          11,
          20,
          10,
          11,
          13,
          9,
          12,
          11,
          11,
          12,
          8,
          22,
          9,
          20,
          19,
          11,
          21,
          15,
          14,
          12,
          14,
          18,
          14,
          12,
          10,
          11,
          10,
          10,
          18,
          11,
          12,
          11,
          6,
          12,
          12,
          19,
          14,
          19,
          15,
          13,
          13,
          13,
          18,
          12,
          18,
          23,
          18,
          14,
          18,
          9,
          15,
          9,
          13,
          9,
          13,
          23,
          19,
          5,
          18,
          19,
          17,
          13,
          15,
          16,
          18,
          20,
          23,
          14,
          9,
          15,
          17,
          27,
          29,
          20,
          15,
          23,
          13,
          33,
          19,
          18,
          32,
          22,
          17,
          15,
          20,
          13,
          26,
          18,
          15,
          14,
          19,
          29,
          30,
          22,
          23,
          11,
          15,
          19,
          20,
          21,
          27,
          19,
          19,
          17,
          17,
          15,
          17,
          21,
          24,
          12,
          15,
          23,
          19,
          25,
          21,
          23,
          16,
          23,
          19,
          25,
          18,
          32,
          11,
          13,
          15,
          17,
          13,
          27,
          24,
          17,
          12,
          15,
          22,
          27,
          18,
          25,
          21,
          21,
          9,
          15,
          31,
          39,
          25,
          17,
          17,
          21,
          14,
          17,
          27,
          32,
          16,
          23,
          23,
          22,
          27,
          24,
          20,
          34,
          16,
          14,
          29,
          29,
          20,
          23,
          16,
          15,
          15,
          21,
          25,
          18,
          25,
          21,
          16,
          17,
          15,
          18,
          8,
          16,
          19,
          28,
          17,
          20,
          23,
          16,
          28,
          16,
          18,
          19,
          17,
          23,
          27,
          19,
          31,
          25,
          17,
          34,
          20,
          27,
          26,
          22,
          27,
          19,
          27,
          25,
          24,
          38,
          46,
          23,
          28,
          24,
          34,
          30,
          25,
          31,
          25,
          18,
          23,
          40,
          29,
          25,
          31,
          29,
          19,
          22,
          26,
          34,
          20,
          32,
          28,
          19,
          33,
          23,
          19,
          18,
          22,
          26,
          22,
          27,
          33,
          25,
          30,
          24,
          22,
          23,
          28,
          20,
          24,
          40,
          23,
          31,
          30,
          22,
          22,
          31,
          23,
          13,
          21,
          17,
          20,
          17,
          15,
          25,
          12,
          13,
          21,
          21,
          17,
          12,
          18,
          13,
          21,
          24,
          18,
          13,
          17,
          18,
          13,
          20,
          14,
          18,
          20,
          17,
          13,
          14,
          14,
          20,
          11,
          26,
          16,
          16,
          25,
          14,
          11,
          17,
          23,
          21,
          34,
          21,
          16,
          23,
          21,
          27,
          21,
          24,
          15,
          19,
          21,
          20,
          20,
          17,
          24,
          22,
          21,
          15,
          12,
          18,
          20,
          22,
          20,
          20,
          22,
          23,
          16,
          21,
          19,
          17,
          22,
          16,
          22,
          19,
          23,
          23,
          20,
          14,
          18,
          23,
          23,
          13,
          19,
          24,
          20,
          24,
          11,
          24,
          24,
          14,
          15,
          18,
          25,
          22,
          26,
          17,
          26,
          29,
          23,
          19,
          20,
          20,
          22,
          34,
          25,
          17,
          14,
          28,
          20,
          21,
          23,
          22,
          18,
          17,
          21,
          32,
          25,
          27,
          15,
          15,
          13,
          23,
          20,
          24,
          26,
          24,
          15,
          19,
          23,
          19,
          23,
          20,
          28,
          23,
          18,
          17,
          26,
          28,
          23,
          23,
          23,
          27,
          38,
          21,
          20,
          23,
          23,
          16,
          18,
          21,
          23,
          23,
          22,
          16,
          19,
          32,
          18,
          12,
          31,
          27,
          25,
          28,
          28,
          22,
          29,
          32,
          26,
          23,
          25,
          16,
          27,
          24,
          28,
          26,
          19,
          30,
          26,
          20,
          29,
          23,
          30,
          28,
          13,
          24,
          26,
          16,
          22,
          30,
          29,
          18,
          25,
          20,
          17,
          23,
          25,
          20,
          13,
          19,
          23,
          24,
          30,
          25,
          27,
          15,
          14,
          23,
          20,
          28,
          18,
          14,
          22,
          21,
          22,
          27,
          20,
          19,
          31,
          26,
          22,
          5,
          23,
          35,
          31,
          23,
          13,
          18,
          19,
          17,
          20,
          27,
          17,
          15,
          26,
          26,
          28,
          17,
          1,
          5,
          10,
          28,
          28,
          35,
          23,
          22,
          40,
          27,
          32,
          32,
          32,
          37,
          30,
          30,
          26,
          36,
          30,
          25,
          32,
          25,
          25,
          22,
          38,
          35,
          32,
          30,
          17,
          23,
          31,
          29,
          34,
          54,
          42,
          28,
          25,
          34,
          30,
          28,
          33,
          43,
          29,
          23,
          33,
          23,
          32,
          28,
          36,
          23,
          31,
          30,
          29,
          36,
          25,
          39,
          27,
          42,
          30,
          39,
          36,
          56,
          37,
          40,
          45,
          34,
          31,
          31,
          43,
          43,
          42,
          48,
          41,
          41,
          41,
          38,
          36,
          50,
          47,
          37,
          44,
          59,
          30,
          28,
          41,
          37,
          37,
          42,
          36,
          57,
          50,
          28,
          1,
          30,
          31,
          36,
          48,
          46,
          34,
          29,
          36,
          15,
          25,
          42,
          43,
          46,
          46,
          55,
          54,
          37,
          40,
          56,
          42,
          6,
          42,
          60,
          45,
          11,
          1,
          29,
          33,
          39,
          45,
          42,
          45,
          40,
          27,
          48,
          17,
          9,
          38,
          36,
          36,
          35,
          40,
          25,
          30,
          29,
          36,
          41,
          25,
          36,
          27,
          38,
          47,
          30,
          30,
          22,
          33,
          40,
          32,
          45,
          48,
          30,
          45,
          33,
          44,
          38,
          34,
          31,
          40,
          27,
          40,
          46,
          36,
          28,
          40,
          17,
          35,
          47,
          28,
          25,
          32,
          41,
          31,
          30,
          41,
          41,
          52,
          39,
          21,
          33,
          18,
          37,
          21,
          36,
          44,
          45,
          31,
          18,
          19,
          34,
          34,
          35,
          34,
          44,
          31,
          40,
          43,
          30,
          26,
          32,
          37,
          33,
          40,
          32,
          27,
          30,
          26,
          26,
          20,
          34,
          41,
          37,
          30,
          43,
          18,
          27,
          32,
          33,
          44,
          28,
          26,
          24,
          33,
          40,
          31,
          32,
          30,
          34,
          35,
          22,
          35,
          41,
          31,
          32,
          32,
          19,
          14,
          23,
          31,
          27,
          34,
          22,
          25,
          32,
          31,
          29,
          34,
          34,
          26,
          33,
          40,
          41,
          23,
          27,
          31,
          37,
          21,
          30,
          30,
          37,
          35,
          38,
          27,
          44,
          31,
          38,
          35,
          28,
          37,
          31,
          31,
          27,
          42,
          27,
          30,
          39,
          37,
          18,
          38,
          50,
          30,
          36,
          32,
          31,
          21,
          23,
          36,
          40,
          31,
          31,
          28,
          23,
          25,
          41,
          32,
          38,
          27,
          26,
          16,
          26,
          21,
          30,
          30,
          24,
          31,
          25,
          31,
          39,
          35,
          37,
          34,
          44,
          33,
          33,
          59,
          40,
          29,
          34,
          30,
          32,
          43,
          42,
          30,
          46,
          29,
          36,
          22,
          24,
          29,
          35,
          42,
          26,
          36,
          24,
          35,
          31,
          42,
          30,
          30,
          12
         ],
         "type": "scatter"
        }
       ],
       "layout": {
        "legend": {
         "bgcolor": "#F5F6F9",
         "font": {
          "color": "#4D5663"
         }
        },
        "paper_bgcolor": "#F5F6F9",
        "plot_bgcolor": "#F5F6F9",
        "template": {
         "data": {
          "barpolar": [
           {
            "marker": {
             "line": {
              "color": "#E5ECF6",
              "width": 0.5
             },
             "pattern": {
              "fillmode": "overlay",
              "size": 10,
              "solidity": 0.2
             }
            },
            "type": "barpolar"
           }
          ],
          "bar": [
           {
            "error_x": {
             "color": "#2a3f5f"
            },
            "error_y": {
             "color": "#2a3f5f"
            },
            "marker": {
             "line": {
              "color": "#E5ECF6",
              "width": 0.5
             },
             "pattern": {
              "fillmode": "overlay",
              "size": 10,
              "solidity": 0.2
             }
            },
            "type": "bar"
           }
          ],
          "carpet": [
           {
            "aaxis": {
             "endlinecolor": "#2a3f5f",
             "gridcolor": "white",
             "linecolor": "white",
             "minorgridcolor": "white",
             "startlinecolor": "#2a3f5f"
            },
            "baxis": {
             "endlinecolor": "#2a3f5f",
             "gridcolor": "white",
             "linecolor": "white",
             "minorgridcolor": "white",
             "startlinecolor": "#2a3f5f"
            },
            "type": "carpet"
           }
          ],
          "choropleth": [
           {
            "colorbar": {
             "outlinewidth": 0,
             "ticks": ""
            },
            "type": "choropleth"
           }
          ],
          "contourcarpet": [
           {
            "colorbar": {
             "outlinewidth": 0,
             "ticks": ""
            },
            "type": "contourcarpet"
           }
          ],
          "contour": [
           {
            "colorbar": {
             "outlinewidth": 0,
             "ticks": ""
            },
            "colorscale": [
             [
              0.0,
              "#0d0887"
             ],
             [
              0.1111111111111111,
              "#46039f"
             ],
             [
              0.2222222222222222,
              "#7201a8"
             ],
             [
              0.3333333333333333,
              "#9c179e"
             ],
             [
              0.4444444444444444,
              "#bd3786"
             ],
             [
              0.5555555555555556,
              "#d8576b"
             ],
             [
              0.6666666666666666,
              "#ed7953"
             ],
             [
              0.7777777777777778,
              "#fb9f3a"
             ],
             [
              0.8888888888888888,
              "#fdca26"
             ],
             [
              1.0,
              "#f0f921"
             ]
            ],
            "type": "contour"
           }
          ],
          "heatmapgl": [
           {
            "colorbar": {
             "outlinewidth": 0,
             "ticks": ""
            },
            "colorscale": [
             [
              0.0,
              "#0d0887"
             ],
             [
              0.1111111111111111,
              "#46039f"
             ],
             [
              0.2222222222222222,
              "#7201a8"
             ],
             [
              0.3333333333333333,
              "#9c179e"
             ],
             [
              0.4444444444444444,
              "#bd3786"
             ],
             [
              0.5555555555555556,
              "#d8576b"
             ],
             [
              0.6666666666666666,
              "#ed7953"
             ],
             [
              0.7777777777777778,
              "#fb9f3a"
             ],
             [
              0.8888888888888888,
              "#fdca26"
             ],
             [
              1.0,
              "#f0f921"
             ]
            ],
            "type": "heatmapgl"
           }
          ],
          "heatmap": [
           {
            "colorbar": {
             "outlinewidth": 0,
             "ticks": ""
            },
            "colorscale": [
             [
              0.0,
              "#0d0887"
             ],
             [
              0.1111111111111111,
              "#46039f"
             ],
             [
              0.2222222222222222,
              "#7201a8"
             ],
             [
              0.3333333333333333,
              "#9c179e"
             ],
             [
              0.4444444444444444,
              "#bd3786"
             ],
             [
              0.5555555555555556,
              "#d8576b"
             ],
             [
              0.6666666666666666,
              "#ed7953"
             ],
             [
              0.7777777777777778,
              "#fb9f3a"
             ],
             [
              0.8888888888888888,
              "#fdca26"
             ],
             [
              1.0,
              "#f0f921"
             ]
            ],
            "type": "heatmap"
           }
          ],
          "histogram2dcontour": [
           {
            "colorbar": {
             "outlinewidth": 0,
             "ticks": ""
            },
            "colorscale": [
             [
              0.0,
              "#0d0887"
             ],
             [
              0.1111111111111111,
              "#46039f"
             ],
             [
              0.2222222222222222,
              "#7201a8"
             ],
             [
              0.3333333333333333,
              "#9c179e"
             ],
             [
              0.4444444444444444,
              "#bd3786"
             ],
             [
              0.5555555555555556,
              "#d8576b"
             ],
             [
              0.6666666666666666,
              "#ed7953"
             ],
             [
              0.7777777777777778,
              "#fb9f3a"
             ],
             [
              0.8888888888888888,
              "#fdca26"
             ],
             [
              1.0,
              "#f0f921"
             ]
            ],
            "type": "histogram2dcontour"
           }
          ],
          "histogram2d": [
           {
            "colorbar": {
             "outlinewidth": 0,
             "ticks": ""
            },
            "colorscale": [
             [
              0.0,
              "#0d0887"
             ],
             [
              0.1111111111111111,
              "#46039f"
             ],
             [
              0.2222222222222222,
              "#7201a8"
             ],
             [
              0.3333333333333333,
              "#9c179e"
             ],
             [
              0.4444444444444444,
              "#bd3786"
             ],
             [
              0.5555555555555556,
              "#d8576b"
             ],
             [
              0.6666666666666666,
              "#ed7953"
             ],
             [
              0.7777777777777778,
              "#fb9f3a"
             ],
             [
              0.8888888888888888,
              "#fdca26"
             ],
             [
              1.0,
              "#f0f921"
             ]
            ],
            "type": "histogram2d"
           }
          ],
          "histogram": [
           {
            "marker": {
             "pattern": {
              "fillmode": "overlay",
              "size": 10,
              "solidity": 0.2
             }
            },
            "type": "histogram"
           }
          ],
          "mesh3d": [
           {
            "colorbar": {
             "outlinewidth": 0,
             "ticks": ""
            },
            "type": "mesh3d"
           }
          ],
          "parcoords": [
           {
            "line": {
             "colorbar": {
              "outlinewidth": 0,
              "ticks": ""
             }
            },
            "type": "parcoords"
           }
          ],
          "pie": [
           {
            "automargin": true,
            "type": "pie"
           }
          ],
          "scatter3d": [
           {
            "line": {
             "colorbar": {
              "outlinewidth": 0,
              "ticks": ""
             }
            },
            "marker": {
             "colorbar": {
              "outlinewidth": 0,
              "ticks": ""
             }
            },
            "type": "scatter3d"
           }
          ],
          "scattercarpet": [
           {
            "marker": {
             "colorbar": {
              "outlinewidth": 0,
              "ticks": ""
             }
            },
            "type": "scattercarpet"
           }
          ],
          "scattergeo": [
           {
            "marker": {
             "colorbar": {
              "outlinewidth": 0,
              "ticks": ""
             }
            },
            "type": "scattergeo"
           }
          ],
          "scattergl": [
           {
            "marker": {
             "colorbar": {
              "outlinewidth": 0,
              "ticks": ""
             }
            },
            "type": "scattergl"
           }
          ],
          "scattermapbox": [
           {
            "marker": {
             "colorbar": {
              "outlinewidth": 0,
              "ticks": ""
             }
            },
            "type": "scattermapbox"
           }
          ],
          "scatterpolargl": [
           {
            "marker": {
             "colorbar": {
              "outlinewidth": 0,
              "ticks": ""
             }
            },
            "type": "scatterpolargl"
           }
          ],
          "scatterpolar": [
           {
            "marker": {
             "colorbar": {
              "outlinewidth": 0,
              "ticks": ""
             }
            },
            "type": "scatterpolar"
           }
          ],
          "scatter": [
           {
            "marker": {
             "colorbar": {
              "outlinewidth": 0,
              "ticks": ""
             }
            },
            "type": "scatter"
           }
          ],
          "scatterternary": [
           {
            "marker": {
             "colorbar": {
              "outlinewidth": 0,
              "ticks": ""
             }
            },
            "type": "scatterternary"
           }
          ],
          "surface": [
           {
            "colorbar": {
             "outlinewidth": 0,
             "ticks": ""
            },
            "colorscale": [
             [
              0.0,
              "#0d0887"
             ],
             [
              0.1111111111111111,
              "#46039f"
             ],
             [
              0.2222222222222222,
              "#7201a8"
             ],
             [
              0.3333333333333333,
              "#9c179e"
             ],
             [
              0.4444444444444444,
              "#bd3786"
             ],
             [
              0.5555555555555556,
              "#d8576b"
             ],
             [
              0.6666666666666666,
              "#ed7953"
             ],
             [
              0.7777777777777778,
              "#fb9f3a"
             ],
             [
              0.8888888888888888,
              "#fdca26"
             ],
             [
              1.0,
              "#f0f921"
             ]
            ],
            "type": "surface"
           }
          ],
          "table": [
           {
            "cells": {
             "fill": {
              "color": "#EBF0F8"
             },
             "line": {
              "color": "white"
             }
            },
            "header": {
             "fill": {
              "color": "#C8D4E3"
             },
             "line": {
              "color": "white"
             }
            },
            "type": "table"
           }
          ]
         },
         "layout": {
          "annotationdefaults": {
           "arrowcolor": "#2a3f5f",
           "arrowhead": 0,
           "arrowwidth": 1
          },
          "autotypenumbers": "strict",
          "coloraxis": {
           "colorbar": {
            "outlinewidth": 0,
            "ticks": ""
           }
          },
          "colorscale": {
           "diverging": [
            [
             0,
             "#8e0152"
            ],
            [
             0.1,
             "#c51b7d"
            ],
            [
             0.2,
             "#de77ae"
            ],
            [
             0.3,
             "#f1b6da"
            ],
            [
             0.4,
             "#fde0ef"
            ],
            [
             0.5,
             "#f7f7f7"
            ],
            [
             0.6,
             "#e6f5d0"
            ],
            [
             0.7,
             "#b8e186"
            ],
            [
             0.8,
             "#7fbc41"
            ],
            [
             0.9,
             "#4d9221"
            ],
            [
             1,
             "#276419"
            ]
           ],
           "sequential": [
            [
             0.0,
             "#0d0887"
            ],
            [
             0.1111111111111111,
             "#46039f"
            ],
            [
             0.2222222222222222,
             "#7201a8"
            ],
            [
             0.3333333333333333,
             "#9c179e"
            ],
            [
             0.4444444444444444,
             "#bd3786"
            ],
            [
             0.5555555555555556,
             "#d8576b"
            ],
            [
             0.6666666666666666,
             "#ed7953"
            ],
            [
             0.7777777777777778,
             "#fb9f3a"
            ],
            [
             0.8888888888888888,
             "#fdca26"
            ],
            [
             1.0,
             "#f0f921"
            ]
           ],
           "sequentialminus": [
            [
             0.0,
             "#0d0887"
            ],
            [
             0.1111111111111111,
             "#46039f"
            ],
            [
             0.2222222222222222,
             "#7201a8"
            ],
            [
             0.3333333333333333,
             "#9c179e"
            ],
            [
             0.4444444444444444,
             "#bd3786"
            ],
            [
             0.5555555555555556,
             "#d8576b"
            ],
            [
             0.6666666666666666,
             "#ed7953"
            ],
            [
             0.7777777777777778,
             "#fb9f3a"
            ],
            [
             0.8888888888888888,
             "#fdca26"
            ],
            [
             1.0,
             "#f0f921"
            ]
           ]
          },
          "colorway": [
           "#636efa",
           "#EF553B",
           "#00cc96",
           "#ab63fa",
           "#FFA15A",
           "#19d3f3",
           "#FF6692",
           "#B6E880",
           "#FF97FF",
           "#FECB52"
          ],
          "font": {
           "color": "#2a3f5f"
          },
          "geo": {
           "bgcolor": "white",
           "lakecolor": "white",
           "landcolor": "#E5ECF6",
           "showlakes": true,
           "showland": true,
           "subunitcolor": "white"
          },
          "hoverlabel": {
           "align": "left"
          },
          "hovermode": "closest",
          "mapbox": {
           "style": "light"
          },
          "paper_bgcolor": "white",
          "plot_bgcolor": "#E5ECF6",
          "polar": {
           "angularaxis": {
            "gridcolor": "white",
            "linecolor": "white",
            "ticks": ""
           },
           "bgcolor": "#E5ECF6",
           "radialaxis": {
            "gridcolor": "white",
            "linecolor": "white",
            "ticks": ""
           }
          },
          "scene": {
           "xaxis": {
            "backgroundcolor": "#E5ECF6",
            "gridcolor": "white",
            "gridwidth": 2,
            "linecolor": "white",
            "showbackground": true,
            "ticks": "",
            "zerolinecolor": "white"
           },
           "yaxis": {
            "backgroundcolor": "#E5ECF6",
            "gridcolor": "white",
            "gridwidth": 2,
            "linecolor": "white",
            "showbackground": true,
            "ticks": "",
            "zerolinecolor": "white"
           },
           "zaxis": {
            "backgroundcolor": "#E5ECF6",
            "gridcolor": "white",
            "gridwidth": 2,
            "linecolor": "white",
            "showbackground": true,
            "ticks": "",
            "zerolinecolor": "white"
           }
          },
          "shapedefaults": {
           "line": {
            "color": "#2a3f5f"
           }
          },
          "ternary": {
           "aaxis": {
            "gridcolor": "white",
            "linecolor": "white",
            "ticks": ""
           },
           "baxis": {
            "gridcolor": "white",
            "linecolor": "white",
            "ticks": ""
           },
           "bgcolor": "#E5ECF6",
           "caxis": {
            "gridcolor": "white",
            "linecolor": "white",
            "ticks": ""
           }
          },
          "title": {
           "x": 0.05
          },
          "xaxis": {
           "automargin": true,
           "gridcolor": "white",
           "linecolor": "white",
           "ticks": "",
           "title": {
            "standoff": 15
           },
           "zerolinecolor": "white",
           "zerolinewidth": 2
          },
          "yaxis": {
           "automargin": true,
           "gridcolor": "white",
           "linecolor": "white",
           "ticks": "",
           "title": {
            "standoff": 15
           },
           "zerolinecolor": "white",
           "zerolinewidth": 2
          }
         }
        },
        "title": {
         "font": {
          "color": "#4D5663"
         }
        },
        "xaxis": {
         "gridcolor": "#E1E5ED",
         "showgrid": true,
         "tickfont": {
          "color": "#4D5663"
         },
         "title": {
          "font": {
           "color": "#4D5663"
          },
          "text": ""
         },
         "zerolinecolor": "#E1E5ED"
        },
        "yaxis": {
         "gridcolor": "#E1E5ED",
         "showgrid": true,
         "tickfont": {
          "color": "#4D5663"
         },
         "title": {
          "font": {
           "color": "#4D5663"
          },
          "text": ""
         },
         "zerolinecolor": "#E1E5ED"
        }
       },
       "config": {
        "showLink": true,
        "linkText": "Export to plot.ly",
        "plotlyServerURL": "https://plot.ly"
       }
      },
      "text/html": "<div>                            <div id=\"c17a9e57-9da0-4b62-a1c0-baacfc817a41\" class=\"plotly-graph-div\" style=\"height:525px; width:100%;\"></div>            <script type=\"text/javascript\">                require([\"plotly\"], function(Plotly) {                    window.PLOTLYENV=window.PLOTLYENV || {};\n                    window.PLOTLYENV.BASE_URL='https://plot.ly';                                    if (document.getElementById(\"c17a9e57-9da0-4b62-a1c0-baacfc817a41\")) {                    Plotly.newPlot(                        \"c17a9e57-9da0-4b62-a1c0-baacfc817a41\",                        [{\"line\":{\"color\":\"rgba(255, 153, 51, 1.0)\",\"dash\":\"solid\",\"shape\":\"linear\",\"width\":1.3},\"mode\":\"lines\",\"name\":\"lemmatized\",\"text\":\"\",\"x\":[\"2014-01-07\",\"2014-01-28\",\"2014-01-30\",\"2014-02-03\",\"2014-02-12\",\"2014-02-14\",\"2014-02-17\",\"2014-03-04\",\"2014-04-03\",\"2014-05-07\",\"2014-05-11\",\"2014-05-21\",\"2014-06-17\",\"2014-07-03\",\"2014-07-20\",\"2014-07-25\",\"2014-07-26\",\"2014-08-07\",\"2014-08-12\",\"2014-08-14\",\"2014-08-20\",\"2014-09-03\",\"2014-09-04\",\"2014-09-07\",\"2014-09-15\",\"2014-09-28\",\"2014-10-03\",\"2014-10-07\",\"2014-10-16\",\"2014-10-21\",\"2014-10-23\",\"2014-10-25\",\"2014-10-27\",\"2014-11-05\",\"2014-11-06\",\"2014-11-09\",\"2014-11-23\",\"2014-12-06\",\"2014-12-18\",\"2014-12-21\",\"2014-12-30\",\"2014-12-31\",\"2015-01-04\",\"2015-01-06\",\"2015-01-07\",\"2015-01-08\",\"2015-01-10\",\"2015-01-12\",\"2015-01-16\",\"2015-01-18\",\"2015-01-20\",\"2015-01-24\",\"2015-01-26\",\"2015-01-30\",\"2015-02-01\",\"2015-02-05\",\"2015-02-06\",\"2015-02-07\",\"2015-02-08\",\"2015-02-09\",\"2015-02-18\",\"2015-02-19\",\"2015-02-21\",\"2015-02-22\",\"2015-02-23\",\"2015-02-25\",\"2015-03-01\",\"2015-03-05\",\"2015-03-07\",\"2015-03-10\",\"2015-03-12\",\"2015-03-13\",\"2015-03-18\",\"2015-03-19\",\"2015-03-21\",\"2015-03-22\",\"2015-03-25\",\"2015-03-26\",\"2015-03-27\",\"2015-03-29\",\"2015-03-31\",\"2015-04-01\",\"2015-04-03\",\"2015-04-04\",\"2015-04-06\",\"2015-04-07\",\"2015-04-08\",\"2015-04-10\",\"2015-04-11\",\"2015-04-12\",\"2015-04-14\",\"2015-04-16\",\"2015-04-20\",\"2015-04-21\",\"2015-04-22\",\"2015-04-24\",\"2015-04-25\",\"2015-04-27\",\"2015-04-30\",\"2015-05-01\",\"2015-05-05\",\"2015-05-06\",\"2015-05-08\",\"2015-05-09\",\"2015-05-10\",\"2015-05-11\",\"2015-05-12\",\"2015-05-13\",\"2015-05-14\",\"2015-05-15\",\"2015-05-16\",\"2015-05-18\",\"2015-05-19\",\"2015-05-24\",\"2015-05-29\",\"2015-05-30\",\"2015-06-02\",\"2015-06-03\",\"2015-06-05\",\"2015-06-06\",\"2015-06-10\",\"2015-06-11\",\"2015-06-15\",\"2015-06-16\",\"2015-06-17\",\"2015-06-18\",\"2015-06-19\",\"2015-06-20\",\"2015-06-21\",\"2015-06-22\",\"2015-06-23\",\"2015-06-24\",\"2015-06-25\",\"2015-06-26\",\"2015-06-27\",\"2015-06-28\",\"2015-06-29\",\"2015-06-30\",\"2015-07-01\",\"2015-07-04\",\"2015-07-07\",\"2015-07-08\",\"2015-07-09\",\"2015-07-10\",\"2015-07-12\",\"2015-07-13\",\"2015-07-16\",\"2015-07-17\",\"2015-07-18\",\"2015-07-19\",\"2015-07-21\",\"2015-07-22\",\"2015-07-23\",\"2015-07-24\",\"2015-07-26\",\"2015-07-27\",\"2015-07-29\",\"2015-07-30\",\"2015-07-31\",\"2015-08-01\",\"2015-08-02\",\"2015-08-05\",\"2015-08-06\",\"2015-08-07\",\"2015-08-08\",\"2015-08-09\",\"2015-08-10\",\"2015-08-11\",\"2015-08-12\",\"2015-08-15\",\"2015-08-17\",\"2015-08-19\",\"2015-08-20\",\"2015-08-21\",\"2015-08-22\",\"2015-08-24\",\"2015-08-25\",\"2015-08-26\",\"2015-08-27\",\"2015-08-28\",\"2015-08-29\",\"2015-08-30\",\"2015-08-31\",\"2015-09-02\",\"2015-09-03\",\"2015-09-04\",\"2015-09-05\",\"2015-09-06\",\"2015-09-07\",\"2015-09-08\",\"2015-09-09\",\"2015-09-10\",\"2015-09-11\",\"2015-09-12\",\"2015-09-13\",\"2015-09-14\",\"2015-09-15\",\"2015-09-16\",\"2015-09-18\",\"2015-09-20\",\"2015-09-21\",\"2015-09-22\",\"2015-09-23\",\"2015-09-25\",\"2015-09-26\",\"2015-09-27\",\"2015-09-29\",\"2015-09-30\",\"2015-10-01\",\"2015-10-02\",\"2015-10-03\",\"2015-10-04\",\"2015-10-05\",\"2015-10-06\",\"2015-10-07\",\"2015-10-08\",\"2015-10-09\",\"2015-10-10\",\"2015-10-11\",\"2015-10-12\",\"2015-10-13\",\"2015-10-14\",\"2015-10-15\",\"2015-10-16\",\"2015-10-17\",\"2015-10-18\",\"2015-10-19\",\"2015-10-20\",\"2015-10-21\",\"2015-10-22\",\"2015-10-23\",\"2015-10-24\",\"2015-10-25\",\"2015-10-26\",\"2015-10-27\",\"2015-10-28\",\"2015-10-29\",\"2015-10-30\",\"2015-10-31\",\"2015-11-02\",\"2015-11-03\",\"2015-11-04\",\"2015-11-05\",\"2015-11-06\",\"2015-11-09\",\"2015-11-10\",\"2015-11-11\",\"2015-11-12\",\"2015-11-13\",\"2015-11-14\",\"2015-11-16\",\"2015-11-17\",\"2015-11-18\",\"2015-11-19\",\"2015-11-20\",\"2015-11-21\",\"2015-11-22\",\"2015-11-23\",\"2015-11-24\",\"2015-11-25\",\"2015-11-26\",\"2015-11-27\",\"2015-11-29\",\"2015-11-30\",\"2015-12-01\",\"2015-12-02\",\"2015-12-03\",\"2015-12-04\",\"2015-12-05\",\"2015-12-06\",\"2015-12-07\",\"2015-12-09\",\"2015-12-10\",\"2015-12-12\",\"2015-12-13\",\"2015-12-14\",\"2015-12-15\",\"2015-12-16\",\"2015-12-17\",\"2015-12-18\",\"2015-12-19\",\"2015-12-20\",\"2015-12-21\",\"2015-12-22\",\"2015-12-23\",\"2015-12-24\",\"2015-12-26\",\"2015-12-27\",\"2015-12-28\",\"2015-12-29\",\"2015-12-30\",\"2015-12-31\",\"2016-01-01\",\"2016-01-02\",\"2016-01-03\",\"2016-01-04\",\"2016-01-05\",\"2016-01-06\",\"2016-01-07\",\"2016-01-08\",\"2016-01-09\",\"2016-01-10\",\"2016-01-11\",\"2016-01-12\",\"2016-01-13\",\"2016-01-14\",\"2016-01-15\",\"2016-01-16\",\"2016-01-17\",\"2016-01-18\",\"2016-01-19\",\"2016-01-20\",\"2016-01-21\",\"2016-01-22\",\"2016-01-23\",\"2016-01-24\",\"2016-01-25\",\"2016-01-26\",\"2016-01-27\",\"2016-01-28\",\"2016-01-29\",\"2016-01-30\",\"2016-01-31\",\"2016-02-01\",\"2016-02-02\",\"2016-02-03\",\"2016-02-04\",\"2016-02-05\",\"2016-02-07\",\"2016-02-08\",\"2016-02-09\",\"2016-02-10\",\"2016-02-11\",\"2016-02-12\",\"2016-02-13\",\"2016-02-14\",\"2016-02-15\",\"2016-02-16\",\"2016-02-17\",\"2016-02-18\",\"2016-02-19\",\"2016-02-20\",\"2016-02-21\",\"2016-02-22\",\"2016-02-23\",\"2016-02-24\",\"2016-02-25\",\"2016-02-26\",\"2016-02-27\",\"2016-02-28\",\"2016-02-29\",\"2016-03-01\",\"2016-03-02\",\"2016-03-03\",\"2016-03-04\",\"2016-03-05\",\"2016-03-06\",\"2016-03-07\",\"2016-03-09\",\"2016-03-10\",\"2016-03-11\",\"2016-03-12\",\"2016-03-13\",\"2016-03-14\",\"2016-03-15\",\"2016-03-16\",\"2016-03-17\",\"2016-03-18\",\"2016-03-19\",\"2016-03-20\",\"2016-03-21\",\"2016-03-23\",\"2016-03-24\",\"2016-03-25\",\"2016-03-26\",\"2016-03-27\",\"2016-03-28\",\"2016-03-29\",\"2016-03-30\",\"2016-03-31\",\"2016-04-01\",\"2016-04-03\",\"2016-04-04\",\"2016-04-05\",\"2016-04-06\",\"2016-04-07\",\"2016-04-08\",\"2016-04-09\",\"2016-04-10\",\"2016-04-11\",\"2016-04-12\",\"2016-04-13\",\"2016-04-14\",\"2016-04-15\",\"2016-04-16\",\"2016-04-17\",\"2016-04-18\",\"2016-04-19\",\"2016-04-20\",\"2016-04-21\",\"2016-04-22\",\"2016-04-23\",\"2016-04-24\",\"2016-04-25\",\"2016-04-26\",\"2016-04-27\",\"2016-04-28\",\"2016-04-29\",\"2016-04-30\",\"2016-05-01\",\"2016-05-02\",\"2016-05-03\",\"2016-05-04\",\"2016-05-05\",\"2016-05-06\",\"2016-05-07\",\"2016-05-08\",\"2016-05-09\",\"2016-05-10\",\"2016-05-11\",\"2016-05-12\",\"2016-05-13\",\"2016-05-14\",\"2016-05-15\",\"2016-05-16\",\"2016-05-17\",\"2016-05-18\",\"2016-05-19\",\"2016-05-20\",\"2016-05-21\",\"2016-05-22\",\"2016-05-23\",\"2016-05-24\",\"2016-05-25\",\"2016-05-26\",\"2016-05-27\",\"2016-05-28\",\"2016-05-29\",\"2016-05-30\",\"2016-05-31\",\"2016-06-01\",\"2016-06-02\",\"2016-06-03\",\"2016-06-05\",\"2016-06-06\",\"2016-06-07\",\"2016-06-08\",\"2016-06-09\",\"2016-06-10\",\"2016-06-11\",\"2016-06-12\",\"2016-06-13\",\"2016-06-14\",\"2016-06-15\",\"2016-06-16\",\"2016-06-17\",\"2016-06-18\",\"2016-06-19\",\"2016-06-20\",\"2016-06-21\",\"2016-06-22\",\"2016-06-23\",\"2016-06-24\",\"2016-06-25\",\"2016-06-26\",\"2016-06-27\",\"2016-06-28\",\"2016-06-29\",\"2016-06-30\",\"2016-07-01\",\"2016-07-02\",\"2016-07-03\",\"2016-07-04\",\"2016-07-05\",\"2016-07-06\",\"2016-07-07\",\"2016-07-08\",\"2016-07-09\",\"2016-07-10\",\"2016-07-12\",\"2016-07-13\",\"2016-07-14\",\"2016-07-15\",\"2016-07-16\",\"2016-07-17\",\"2016-07-19\",\"2016-07-20\",\"2016-07-21\",\"2016-07-22\",\"2016-07-23\",\"2016-07-24\",\"2016-07-25\",\"2016-07-26\",\"2016-07-27\",\"2016-07-28\",\"2016-07-29\",\"2016-07-30\",\"2016-07-31\",\"2016-08-01\",\"2016-08-02\",\"2016-08-03\",\"2016-08-04\",\"2016-08-05\",\"2016-08-06\",\"2016-08-07\",\"2016-08-08\",\"2016-08-09\",\"2016-08-10\",\"2016-08-11\",\"2016-08-12\",\"2016-08-13\",\"2016-08-14\",\"2016-08-15\",\"2016-08-16\",\"2016-08-17\",\"2016-08-18\",\"2016-08-19\",\"2016-08-20\",\"2016-08-21\",\"2016-08-22\",\"2016-08-23\",\"2016-08-24\",\"2016-08-25\",\"2016-08-26\",\"2016-08-27\",\"2016-08-28\",\"2016-08-29\",\"2016-08-30\",\"2016-08-31\",\"2016-09-01\",\"2016-09-02\",\"2016-09-03\",\"2016-09-04\",\"2016-09-05\",\"2016-09-06\",\"2016-09-07\",\"2016-09-08\",\"2016-09-09\",\"2016-09-10\",\"2016-09-11\",\"2016-09-12\",\"2016-09-13\",\"2016-09-14\",\"2016-09-15\",\"2016-09-16\",\"2016-09-17\",\"2016-09-18\",\"2016-09-19\",\"2016-09-20\",\"2016-09-21\",\"2016-09-22\",\"2016-09-23\",\"2016-09-24\",\"2016-09-25\",\"2016-09-26\",\"2016-09-27\",\"2016-09-28\",\"2016-09-29\",\"2016-09-30\",\"2016-10-01\",\"2016-10-02\",\"2016-10-03\",\"2016-10-04\",\"2016-10-05\",\"2016-10-06\",\"2016-10-07\",\"2016-10-08\",\"2016-10-09\",\"2016-10-10\",\"2016-10-11\",\"2016-10-12\",\"2016-10-13\",\"2016-10-14\",\"2016-10-15\",\"2016-10-16\",\"2016-10-17\",\"2016-10-18\",\"2016-10-19\",\"2016-10-20\",\"2016-10-21\",\"2016-10-22\",\"2016-10-23\",\"2016-10-24\",\"2016-10-25\",\"2016-10-26\",\"2016-10-27\",\"2016-10-28\",\"2016-10-29\",\"2016-10-30\",\"2016-10-31\",\"2016-11-01\",\"2016-11-02\",\"2016-11-03\",\"2016-11-04\",\"2016-11-05\",\"2016-11-06\",\"2016-11-07\",\"2016-11-08\",\"2016-11-09\",\"2016-11-10\",\"2016-11-11\",\"2016-11-12\",\"2016-11-13\",\"2016-11-14\",\"2016-11-15\",\"2016-11-16\",\"2016-11-17\",\"2016-11-18\",\"2016-11-19\",\"2016-11-20\",\"2016-11-21\",\"2016-11-22\",\"2016-11-23\",\"2016-11-24\",\"2016-11-25\",\"2016-11-26\",\"2016-11-27\",\"2016-11-28\",\"2016-11-29\",\"2016-11-30\",\"2016-12-01\",\"2016-12-02\",\"2016-12-03\",\"2016-12-04\",\"2016-12-05\",\"2016-12-06\",\"2016-12-07\",\"2016-12-08\",\"2016-12-09\",\"2016-12-10\",\"2016-12-11\",\"2016-12-12\",\"2016-12-13\",\"2016-12-14\",\"2016-12-15\",\"2016-12-16\",\"2016-12-17\",\"2016-12-18\",\"2016-12-19\",\"2016-12-20\",\"2016-12-21\",\"2016-12-22\",\"2016-12-23\",\"2016-12-24\",\"2016-12-25\",\"2016-12-27\",\"2016-12-28\",\"2016-12-29\",\"2016-12-30\",\"2016-12-31\",\"2017-01-01\",\"2017-01-02\",\"2017-01-03\",\"2017-01-04\",\"2017-01-05\",\"2017-01-06\",\"2017-01-07\",\"2017-01-08\",\"2017-01-09\",\"2017-01-10\",\"2017-01-11\",\"2017-01-12\",\"2017-01-13\",\"2017-01-14\",\"2017-01-15\",\"2017-01-16\",\"2017-01-17\",\"2017-01-18\",\"2017-01-19\",\"2017-01-20\",\"2017-01-21\",\"2017-01-22\",\"2017-01-23\",\"2017-01-24\",\"2017-01-25\",\"2017-01-26\",\"2017-01-27\",\"2017-01-28\",\"2017-01-29\",\"2017-01-30\",\"2017-01-31\",\"2017-02-01\",\"2017-02-02\",\"2017-02-03\",\"2017-02-04\",\"2017-02-05\",\"2017-02-06\",\"2017-02-07\",\"2017-02-08\",\"2017-02-09\",\"2017-02-10\",\"2017-02-11\",\"2017-02-12\",\"2017-02-13\",\"2017-02-14\",\"2017-02-15\",\"2017-02-16\",\"2017-02-17\",\"2017-02-18\",\"2017-02-19\",\"2017-02-20\",\"2017-02-21\",\"2017-02-22\",\"2017-02-23\",\"2017-02-24\",\"2017-02-25\",\"2017-02-26\",\"2017-02-27\",\"2017-02-28\",\"2017-03-01\",\"2017-03-02\",\"2017-03-03\",\"2017-03-04\",\"2017-03-05\",\"2017-03-06\",\"2017-03-07\",\"2017-03-08\",\"2017-03-09\",\"2017-03-10\",\"2017-03-11\",\"2017-03-12\",\"2017-03-13\",\"2017-03-14\",\"2017-03-15\",\"2017-03-16\",\"2017-03-17\",\"2017-03-18\",\"2017-03-19\",\"2017-03-20\",\"2017-03-21\",\"2017-03-22\",\"2017-03-23\",\"2017-03-24\",\"2017-03-25\",\"2017-03-26\",\"2017-03-27\",\"2017-03-28\",\"2017-03-29\",\"2017-03-30\",\"2017-03-31\",\"2017-04-01\",\"2017-04-02\",\"2017-04-03\",\"2017-04-04\",\"2017-04-05\",\"2017-04-06\",\"2017-04-07\",\"2017-04-08\",\"2017-04-09\",\"2017-04-10\",\"2017-04-11\",\"2017-04-12\",\"2017-04-13\",\"2017-04-14\",\"2017-04-15\",\"2017-04-16\",\"2017-04-17\",\"2017-04-18\",\"2017-04-19\",\"2017-04-20\",\"2017-04-21\",\"2017-04-22\",\"2017-04-23\",\"2017-04-24\",\"2017-04-25\",\"2017-04-26\",\"2017-04-27\",\"2017-04-28\",\"2017-04-29\",\"2017-04-30\",\"2017-05-01\",\"2017-05-02\",\"2017-05-03\",\"2017-05-04\",\"2017-05-05\",\"2017-05-06\",\"2017-05-07\",\"2017-05-08\",\"2017-05-09\",\"2017-05-10\",\"2017-05-11\",\"2017-05-12\",\"2017-05-13\",\"2017-05-14\",\"2017-05-15\",\"2017-05-16\",\"2017-05-17\",\"2017-05-18\",\"2017-05-19\",\"2017-05-20\",\"2017-05-21\",\"2017-05-22\",\"2017-05-23\",\"2017-05-24\",\"2017-05-25\",\"2017-05-26\",\"2017-05-27\",\"2017-05-28\",\"2017-05-29\",\"2017-05-30\",\"2017-05-31\",\"2017-06-01\",\"2017-06-02\",\"2017-06-03\",\"2017-06-04\",\"2017-06-05\",\"2017-06-06\",\"2017-06-07\",\"2017-06-08\",\"2017-06-09\",\"2017-06-10\",\"2017-06-11\",\"2017-06-12\",\"2017-06-13\",\"2017-06-14\",\"2017-06-15\",\"2017-06-16\",\"2017-06-17\",\"2017-06-18\",\"2017-06-19\",\"2017-06-20\",\"2017-06-22\",\"2017-06-23\",\"2017-06-24\",\"2017-06-25\",\"2017-06-26\",\"2017-06-27\",\"2017-06-28\",\"2017-06-29\",\"2017-06-30\",\"2017-07-01\",\"2017-07-02\",\"2017-07-03\",\"2017-07-04\",\"2017-07-05\",\"2017-07-06\",\"2017-07-07\",\"2017-07-08\",\"2017-07-09\",\"2017-07-10\",\"2017-07-11\",\"2017-07-12\",\"2017-07-13\",\"2017-07-14\",\"2017-07-15\",\"2017-07-16\",\"2017-07-17\",\"2017-07-18\",\"2017-07-19\",\"2017-07-20\",\"2017-07-21\",\"2017-07-22\",\"2017-07-23\",\"2017-07-24\",\"2017-07-25\",\"2017-07-26\",\"2017-07-27\",\"2017-07-28\",\"2017-07-29\",\"2017-07-30\",\"2017-07-31\",\"2017-08-01\",\"2017-08-02\",\"2017-08-03\",\"2017-08-04\",\"2017-08-05\",\"2017-08-06\",\"2017-08-07\",\"2017-08-08\",\"2017-08-09\",\"2017-08-10\",\"2017-08-11\",\"2017-08-12\",\"2017-08-13\",\"2017-08-14\",\"2017-08-15\",\"2017-08-16\",\"2017-08-17\",\"2017-08-18\",\"2017-08-19\",\"2017-08-20\",\"2017-08-21\",\"2017-08-22\",\"2017-08-23\",\"2017-08-24\",\"2017-08-25\",\"2017-08-26\",\"2017-08-27\",\"2017-08-28\",\"2017-08-29\",\"2017-08-30\",\"2017-08-31\",\"2017-09-01\",\"2017-09-02\",\"2017-09-03\",\"2017-09-04\",\"2017-09-05\",\"2017-09-06\",\"2017-09-07\",\"2017-09-08\",\"2017-09-09\",\"2017-09-10\",\"2017-09-11\",\"2017-09-12\",\"2017-09-13\",\"2017-09-14\",\"2017-09-15\",\"2017-09-16\",\"2017-09-17\",\"2017-09-18\",\"2017-09-19\",\"2017-09-20\",\"2017-09-21\",\"2017-09-22\",\"2017-09-23\",\"2017-09-24\",\"2017-09-25\",\"2017-09-26\",\"2017-09-27\",\"2017-09-28\",\"2017-09-29\",\"2017-09-30\",\"2017-10-01\",\"2017-10-02\",\"2017-10-03\",\"2017-10-04\",\"2017-10-05\",\"2017-10-06\",\"2017-10-07\",\"2017-10-08\",\"2017-10-09\",\"2017-10-10\",\"2017-10-11\",\"2017-10-12\",\"2017-10-13\",\"2017-10-14\",\"2017-10-15\",\"2017-10-16\",\"2017-10-17\",\"2017-10-18\",\"2017-10-19\",\"2017-10-20\",\"2017-10-21\",\"2017-10-22\",\"2017-10-23\",\"2017-10-24\",\"2017-10-25\",\"2017-10-26\",\"2017-10-27\",\"2017-10-28\",\"2017-10-29\",\"2017-10-30\",\"2017-10-31\",\"2017-11-01\",\"2017-11-02\",\"2017-11-03\",\"2017-11-04\",\"2017-11-05\",\"2017-11-06\",\"2017-11-07\",\"2017-11-08\",\"2017-11-09\",\"2017-11-10\",\"2017-11-11\",\"2017-11-12\",\"2017-11-13\",\"2017-11-14\",\"2017-11-15\",\"2017-11-16\",\"2017-11-17\",\"2017-11-18\",\"2017-11-19\",\"2017-11-20\",\"2017-11-21\",\"2017-11-22\",\"2017-11-24\",\"2017-11-25\",\"2017-11-26\",\"2017-11-27\",\"2017-11-28\",\"2017-11-29\",\"2017-11-30\",\"2017-12-01\",\"2017-12-02\",\"2017-12-03\",\"2017-12-04\",\"2017-12-05\",\"2017-12-06\",\"2017-12-07\",\"2017-12-08\",\"2017-12-09\",\"2017-12-10\",\"2017-12-11\",\"2017-12-12\",\"2017-12-13\",\"2017-12-14\",\"2017-12-15\",\"2017-12-16\",\"2017-12-17\",\"2017-12-18\",\"2017-12-19\",\"2017-12-20\",\"2017-12-21\",\"2017-12-22\",\"2017-12-23\",\"2017-12-24\",\"2017-12-25\",\"2017-12-26\",\"2017-12-27\",\"2017-12-28\",\"2017-12-29\",\"2017-12-30\",\"2017-12-31\",\"2018-01-01\",\"2018-01-02\",\"2018-01-03\",\"2018-01-04\",\"2018-01-05\",\"2018-01-06\",\"2018-01-07\",\"2018-01-08\",\"2018-01-09\",\"2018-01-10\",\"2018-01-11\",\"2018-01-12\",\"2018-01-13\",\"2018-01-14\",\"2018-01-15\",\"2018-01-16\",\"2018-01-17\",\"2018-01-18\",\"2018-01-19\",\"2018-01-20\",\"2018-01-21\",\"2018-01-22\",\"2018-01-23\",\"2018-01-24\",\"2018-01-25\",\"2018-01-26\",\"2018-01-27\",\"2018-01-28\",\"2018-01-29\",\"2018-01-30\",\"2018-01-31\",\"2018-02-01\",\"2018-02-02\",\"2018-02-03\",\"2018-02-04\",\"2018-02-05\",\"2018-02-06\",\"2018-02-07\",\"2018-02-08\",\"2018-02-09\",\"2018-02-10\",\"2018-02-11\",\"2018-02-12\",\"2018-02-13\",\"2018-02-14\",\"2018-02-15\",\"2018-02-16\",\"2018-02-17\",\"2018-02-18\",\"2018-02-19\",\"2018-02-20\",\"2018-02-21\",\"2018-02-22\",\"2018-02-23\",\"2018-02-24\",\"2018-02-25\",\"2018-02-26\",\"2018-02-27\",\"2018-02-28\",\"2018-03-02\",\"2018-03-03\",\"2018-03-04\",\"2018-03-05\",\"2018-03-06\",\"2018-03-07\",\"2018-03-08\",\"2018-03-09\",\"2018-03-10\",\"2018-03-11\",\"2018-03-12\",\"2018-03-13\",\"2018-03-14\",\"2018-03-15\",\"2018-03-16\",\"2018-03-17\",\"2018-03-18\",\"2018-03-19\",\"2018-03-20\",\"2018-03-21\",\"2018-03-22\",\"2018-03-23\",\"2018-03-24\",\"2018-03-25\",\"2018-03-26\",\"2018-03-27\",\"2018-03-28\",\"2018-03-29\",\"2018-03-30\",\"2018-03-31\",\"2018-04-01\",\"2018-04-02\",\"2018-04-03\",\"2018-04-04\",\"2018-04-05\",\"2018-04-06\",\"2018-04-07\",\"2018-04-08\",\"2018-04-09\",\"2018-04-10\",\"2018-04-11\",\"2018-04-12\",\"2018-04-13\",\"2018-04-14\",\"2018-04-15\",\"2018-04-16\",\"2018-04-17\",\"2018-04-18\",\"2018-04-19\",\"2018-04-20\",\"2018-04-21\",\"2018-04-22\",\"2018-04-23\",\"2018-04-24\",\"2018-04-25\",\"2018-04-26\",\"2018-04-27\",\"2018-04-28\",\"2018-04-29\",\"2018-04-30\",\"2018-05-01\",\"2018-05-02\",\"2018-05-03\",\"2018-05-04\",\"2018-05-05\",\"2018-05-06\",\"2018-05-07\",\"2018-05-08\",\"2018-05-09\",\"2018-05-10\",\"2018-05-11\",\"2018-05-12\",\"2018-05-13\",\"2018-05-14\",\"2018-05-15\",\"2018-05-16\",\"2018-05-17\",\"2018-05-18\",\"2018-05-19\",\"2018-05-20\",\"2018-05-21\",\"2018-05-22\",\"2018-05-23\",\"2018-05-24\",\"2018-05-25\",\"2018-05-26\",\"2018-05-27\",\"2018-05-28\",\"2018-05-29\",\"2018-05-30\",\"2018-05-31\",\"2018-06-01\",\"2018-06-02\",\"2018-06-03\",\"2018-06-04\",\"2018-06-05\",\"2018-06-06\",\"2018-06-07\",\"2018-06-08\",\"2018-06-09\",\"2018-06-10\",\"2018-06-11\",\"2018-06-12\",\"2018-06-13\",\"2018-06-14\",\"2018-06-15\",\"2018-06-16\",\"2018-06-17\",\"2018-06-18\",\"2018-06-19\",\"2018-06-20\",\"2018-06-21\",\"2018-06-22\",\"2018-06-23\",\"2018-06-24\",\"2018-06-25\",\"2018-06-26\",\"2018-06-27\",\"2018-06-28\",\"2018-06-29\",\"2018-06-30\",\"2018-07-01\",\"2018-07-02\",\"2018-07-03\",\"2018-07-04\",\"2018-07-05\",\"2018-07-06\",\"2018-07-07\",\"2018-07-08\",\"2018-07-09\",\"2018-07-10\",\"2018-07-11\",\"2018-07-12\",\"2018-07-13\",\"2018-07-14\",\"2018-07-15\",\"2018-07-16\",\"2018-07-17\",\"2018-07-18\",\"2018-07-19\",\"2018-07-20\",\"2018-07-21\",\"2018-07-22\",\"2018-07-23\",\"2018-07-24\",\"2018-07-25\",\"2018-07-26\",\"2018-07-27\",\"2018-07-28\",\"2018-07-29\",\"2018-07-30\",\"2018-07-31\",\"2018-08-01\",\"2018-08-02\",\"2018-08-03\",\"2018-08-04\",\"2018-08-05\",\"2018-08-06\",\"2018-08-07\",\"2018-08-08\",\"2018-08-09\",\"2018-08-10\",\"2018-08-11\",\"2018-08-12\",\"2018-08-13\",\"2018-08-14\",\"2018-08-15\",\"2018-08-16\",\"2018-08-17\",\"2018-08-18\",\"2018-08-19\",\"2018-08-20\",\"2018-08-21\",\"2018-08-22\",\"2018-08-23\",\"2018-08-24\",\"2018-08-25\",\"2018-08-26\",\"2018-08-27\",\"2018-08-28\",\"2018-08-29\",\"2018-08-30\",\"2018-08-31\",\"2018-09-01\",\"2018-09-02\",\"2018-09-03\",\"2018-09-04\",\"2018-09-05\",\"2018-09-06\",\"2018-09-07\",\"2018-09-08\",\"2018-09-09\",\"2018-09-10\",\"2018-09-11\",\"2018-09-12\",\"2018-09-13\",\"2018-09-14\",\"2018-09-15\",\"2018-09-16\",\"2018-09-17\",\"2018-09-18\",\"2018-09-19\",\"2018-09-20\",\"2018-09-21\",\"2018-09-22\",\"2018-09-23\",\"2018-09-24\",\"2018-09-25\",\"2018-09-26\",\"2018-09-27\",\"2018-09-28\",\"2018-09-29\",\"2018-09-30\",\"2018-10-01\",\"2018-10-02\",\"2018-10-03\",\"2018-10-04\",\"2018-10-05\",\"2018-10-06\",\"2018-10-07\",\"2018-10-08\",\"2018-10-09\",\"2018-10-10\",\"2018-10-11\",\"2018-10-12\",\"2018-10-13\",\"2018-10-14\",\"2018-10-15\",\"2018-10-16\",\"2018-10-17\",\"2018-10-18\",\"2018-10-19\",\"2018-10-20\",\"2018-10-21\",\"2018-10-22\",\"2018-10-23\",\"2018-10-24\",\"2018-10-25\",\"2018-10-26\",\"2018-10-27\",\"2018-10-28\",\"2018-10-29\",\"2018-10-30\",\"2018-10-31\",\"2018-11-01\",\"2018-11-02\",\"2018-11-03\",\"2018-11-04\",\"2018-11-05\",\"2018-11-06\",\"2018-11-07\",\"2018-11-08\",\"2018-11-09\",\"2018-11-10\",\"2018-11-11\",\"2018-11-12\",\"2018-11-13\",\"2018-11-14\",\"2018-11-15\",\"2018-11-16\",\"2018-11-17\",\"2018-11-18\",\"2018-11-19\",\"2018-11-20\",\"2018-11-21\",\"2018-11-22\",\"2018-11-23\",\"2018-11-24\",\"2018-11-25\",\"2018-11-26\",\"2018-11-27\",\"2018-11-28\",\"2018-11-29\",\"2018-11-30\",\"2018-12-01\",\"2018-12-02\",\"2018-12-03\",\"2018-12-04\",\"2018-12-05\",\"2018-12-06\",\"2018-12-07\",\"2018-12-08\",\"2018-12-09\",\"2018-12-10\",\"2018-12-11\",\"2018-12-12\",\"2018-12-13\",\"2018-12-14\",\"2018-12-15\",\"2018-12-16\",\"2018-12-17\",\"2018-12-18\",\"2018-12-19\",\"2018-12-20\",\"2018-12-21\",\"2018-12-22\",\"2018-12-23\",\"2018-12-24\",\"2018-12-25\",\"2018-12-26\",\"2018-12-27\",\"2018-12-28\",\"2018-12-29\",\"2018-12-30\",\"2018-12-31\",\"2019-01-01\",\"2019-01-02\",\"2019-01-03\",\"2019-01-04\",\"2019-01-05\",\"2019-01-06\",\"2019-01-07\",\"2019-01-08\",\"2019-01-09\",\"2019-01-10\",\"2019-01-11\",\"2019-01-12\",\"2019-01-13\",\"2019-01-14\",\"2019-01-15\",\"2019-01-16\",\"2019-01-17\",\"2019-01-18\",\"2019-01-19\",\"2019-01-20\",\"2019-01-21\",\"2019-01-22\",\"2019-01-23\",\"2019-01-24\",\"2019-01-25\",\"2019-01-26\",\"2019-01-27\",\"2019-01-28\",\"2019-01-29\",\"2019-01-30\",\"2019-01-31\",\"2019-02-01\",\"2019-02-02\",\"2019-02-03\",\"2019-02-04\",\"2019-02-05\",\"2019-02-06\",\"2019-02-07\",\"2019-02-08\",\"2019-02-09\",\"2019-02-10\",\"2019-02-11\",\"2019-02-12\",\"2019-02-13\",\"2019-02-14\",\"2019-02-15\",\"2019-02-16\",\"2019-02-17\",\"2019-02-18\",\"2019-02-19\",\"2019-02-20\",\"2019-02-21\",\"2019-02-22\",\"2019-02-23\",\"2019-02-24\",\"2019-02-25\",\"2019-02-26\",\"2019-02-27\",\"2019-02-28\",\"2019-03-01\",\"2019-03-02\",\"2019-03-03\",\"2019-03-04\",\"2019-03-05\",\"2019-03-06\",\"2019-03-07\",\"2019-03-08\",\"2019-03-09\",\"2019-03-10\",\"2019-03-11\",\"2019-03-12\",\"2019-03-13\",\"2019-03-14\",\"2019-03-15\",\"2019-03-16\",\"2019-03-17\",\"2019-03-18\",\"2019-03-19\",\"2019-03-20\",\"2019-03-21\",\"2019-03-22\",\"2019-03-23\",\"2019-03-24\",\"2019-03-25\",\"2019-03-26\",\"2019-03-27\",\"2019-03-28\",\"2019-03-29\",\"2019-03-30\",\"2019-03-31\",\"2019-04-01\",\"2019-04-02\",\"2019-04-03\",\"2019-04-04\",\"2019-04-05\",\"2019-04-06\",\"2019-04-07\",\"2019-04-08\",\"2019-04-09\",\"2019-04-10\",\"2019-04-11\",\"2019-04-12\",\"2019-04-13\",\"2019-04-14\",\"2019-04-15\",\"2019-04-16\",\"2019-04-17\",\"2019-04-18\",\"2019-04-19\",\"2019-04-20\",\"2019-04-21\",\"2019-04-22\",\"2019-04-23\",\"2019-04-24\",\"2019-04-25\",\"2019-04-26\",\"2019-04-27\",\"2019-04-28\",\"2019-04-29\",\"2019-04-30\",\"2019-05-01\",\"2019-05-02\",\"2019-05-03\",\"2019-05-04\",\"2019-05-05\",\"2019-05-06\",\"2019-05-07\",\"2019-05-08\",\"2019-05-09\",\"2019-05-10\",\"2019-05-11\",\"2019-05-12\",\"2019-05-13\",\"2019-05-14\",\"2019-05-15\",\"2019-05-16\",\"2019-05-17\",\"2019-05-18\",\"2019-05-19\",\"2019-05-20\",\"2019-05-21\",\"2019-05-22\",\"2019-05-23\",\"2019-05-24\",\"2019-05-25\",\"2019-05-26\",\"2019-05-27\",\"2019-05-28\",\"2019-05-29\",\"2019-05-30\",\"2019-05-31\",\"2019-06-01\",\"2019-06-02\",\"2019-06-03\",\"2019-06-04\",\"2019-06-05\",\"2019-06-06\",\"2019-06-07\",\"2019-06-08\",\"2019-06-09\",\"2019-06-10\",\"2019-06-11\",\"2019-06-12\",\"2019-06-13\",\"2019-06-14\",\"2019-06-15\",\"2019-06-16\",\"2019-06-17\",\"2019-06-18\",\"2019-06-19\",\"2019-06-20\",\"2019-06-21\",\"2019-06-22\",\"2019-06-23\",\"2019-06-24\",\"2019-06-25\",\"2019-06-26\",\"2019-06-27\",\"2019-06-28\",\"2019-06-29\",\"2019-06-30\",\"2019-07-01\",\"2019-07-02\",\"2019-07-03\",\"2019-07-04\",\"2019-07-05\",\"2019-07-06\",\"2019-07-07\",\"2019-07-08\",\"2019-07-09\",\"2019-07-10\",\"2019-07-11\",\"2019-07-12\",\"2019-07-13\",\"2019-07-14\",\"2019-07-15\",\"2019-07-16\",\"2019-07-17\",\"2019-07-18\",\"2019-07-19\",\"2019-07-20\",\"2019-07-21\",\"2019-07-22\",\"2019-07-23\",\"2019-07-24\",\"2019-07-25\",\"2019-07-26\",\"2019-07-27\",\"2019-07-28\",\"2019-07-29\",\"2019-07-30\",\"2019-07-31\",\"2019-08-01\",\"2019-08-02\",\"2019-08-03\",\"2019-08-04\",\"2019-08-05\",\"2019-08-06\",\"2019-08-07\",\"2019-08-08\",\"2019-08-09\",\"2019-08-10\",\"2019-08-11\",\"2019-08-12\",\"2019-08-13\",\"2019-08-14\",\"2019-08-15\",\"2019-08-16\",\"2019-08-17\",\"2019-08-18\",\"2019-08-19\",\"2019-08-20\",\"2019-08-21\",\"2019-08-22\",\"2019-08-23\",\"2019-08-24\",\"2019-08-25\",\"2019-08-26\",\"2019-08-27\",\"2019-08-28\",\"2019-08-29\",\"2019-08-30\",\"2019-08-31\",\"2019-09-01\",\"2019-09-02\",\"2019-09-03\",\"2019-09-04\",\"2019-09-05\",\"2019-09-06\",\"2019-09-07\",\"2019-09-08\",\"2019-09-09\",\"2019-09-10\",\"2019-09-11\",\"2019-09-12\",\"2019-09-13\",\"2019-09-14\",\"2019-09-15\",\"2019-09-16\",\"2019-09-17\",\"2019-09-18\",\"2019-09-19\",\"2019-09-20\",\"2019-09-21\",\"2019-09-22\",\"2019-09-23\",\"2019-09-24\",\"2019-09-25\",\"2019-09-26\",\"2019-09-27\",\"2019-09-28\",\"2019-09-29\",\"2019-09-30\",\"2019-10-01\",\"2019-10-02\",\"2019-10-03\",\"2019-10-04\",\"2019-10-05\",\"2019-10-06\",\"2019-10-07\",\"2019-10-08\",\"2019-10-09\",\"2019-10-10\",\"2019-10-11\",\"2019-10-12\",\"2019-10-13\",\"2019-10-14\",\"2019-10-15\",\"2019-10-16\",\"2019-10-17\",\"2019-10-18\",\"2019-10-19\",\"2019-10-20\",\"2019-10-21\",\"2019-10-22\",\"2019-10-23\",\"2019-10-24\",\"2019-10-25\",\"2019-10-26\",\"2019-10-27\",\"2019-10-28\",\"2019-10-29\",\"2019-10-30\",\"2019-10-31\",\"2019-11-01\",\"2019-11-02\",\"2019-11-03\",\"2019-11-04\",\"2019-11-05\",\"2019-11-06\",\"2019-11-07\",\"2019-11-08\",\"2019-11-09\",\"2019-11-10\",\"2019-11-11\",\"2019-11-12\",\"2019-11-13\",\"2019-11-14\",\"2019-11-15\",\"2019-11-16\",\"2019-11-17\",\"2019-11-18\",\"2019-11-19\",\"2019-11-20\",\"2019-11-21\",\"2019-11-22\",\"2019-11-23\",\"2019-11-24\",\"2019-11-25\",\"2019-11-26\",\"2019-11-27\",\"2019-11-28\",\"2019-11-29\",\"2019-11-30\",\"2019-12-01\",\"2019-12-02\",\"2019-12-03\",\"2019-12-04\",\"2019-12-05\",\"2019-12-06\",\"2019-12-07\",\"2019-12-08\",\"2019-12-09\",\"2019-12-10\",\"2019-12-11\",\"2019-12-12\",\"2019-12-13\",\"2019-12-14\",\"2019-12-15\",\"2019-12-16\",\"2019-12-17\",\"2019-12-18\",\"2019-12-19\",\"2019-12-20\",\"2019-12-21\",\"2019-12-22\",\"2019-12-23\",\"2019-12-24\",\"2019-12-25\",\"2019-12-26\",\"2019-12-27\",\"2019-12-28\",\"2019-12-29\",\"2019-12-30\",\"2019-12-31\",\"2020-01-01\",\"2020-01-02\",\"2020-01-03\",\"2020-01-04\",\"2020-01-05\",\"2020-01-06\",\"2020-01-07\",\"2020-01-08\",\"2020-01-09\",\"2020-01-10\",\"2020-01-11\",\"2020-01-12\",\"2020-01-13\",\"2020-01-14\",\"2020-01-15\",\"2020-01-16\",\"2020-01-17\",\"2020-01-18\",\"2020-01-19\",\"2020-01-20\",\"2020-01-21\",\"2020-01-22\",\"2020-01-23\",\"2020-01-24\",\"2020-01-25\",\"2020-01-26\",\"2020-01-27\",\"2020-01-28\",\"2020-01-29\",\"2020-01-30\",\"2020-01-31\",\"2020-02-01\",\"2020-02-02\",\"2020-02-03\",\"2020-02-04\",\"2020-02-05\",\"2020-02-06\",\"2020-02-07\",\"2020-02-08\",\"2020-02-09\",\"2020-02-10\",\"2020-02-11\",\"2020-02-12\",\"2020-02-13\",\"2020-02-14\",\"2020-02-15\",\"2020-02-16\",\"2020-02-17\",\"2020-02-18\",\"2020-02-19\",\"2020-02-20\",\"2020-02-21\",\"2020-02-22\",\"2020-02-23\",\"2020-02-24\",\"2020-02-25\",\"2020-02-26\",\"2020-02-27\",\"2020-02-28\",\"2020-02-29\",\"2020-03-01\",\"2020-03-02\",\"2020-03-03\",\"2020-03-04\",\"2020-03-05\",\"2020-03-06\",\"2020-03-07\",\"2020-03-08\",\"2020-03-09\",\"2020-03-10\",\"2020-03-11\",\"2020-03-12\",\"2020-03-13\",\"2020-03-14\",\"2020-03-15\",\"2020-03-16\",\"2020-03-17\",\"2020-03-18\",\"2020-03-19\",\"2020-03-20\",\"2020-03-21\",\"2020-03-22\",\"2020-03-23\",\"2020-03-24\",\"2020-03-25\",\"2020-03-26\",\"2020-03-27\",\"2020-03-28\",\"2020-03-29\",\"2020-03-30\",\"2020-03-31\",\"2020-04-01\",\"2020-04-02\",\"2020-04-03\",\"2020-04-04\",\"2020-04-05\",\"2020-04-06\",\"2020-04-07\",\"2020-04-08\",\"2020-04-09\",\"2020-04-10\",\"2020-04-11\",\"2020-04-12\",\"2020-04-13\",\"2020-04-14\",\"2020-04-15\",\"2020-04-16\",\"2020-04-17\",\"2020-04-18\",\"2020-04-19\",\"2020-04-20\",\"2020-04-21\",\"2020-04-22\",\"2020-04-23\",\"2020-04-24\",\"2020-04-25\",\"2020-04-26\",\"2020-04-27\",\"2020-04-28\",\"2020-04-29\",\"2020-04-30\",\"2020-05-01\",\"2020-05-02\",\"2020-05-03\",\"2020-05-04\",\"2020-05-05\",\"2020-05-06\",\"2020-05-07\",\"2020-05-08\",\"2020-05-09\",\"2020-05-10\",\"2020-05-11\",\"2020-05-12\",\"2020-05-13\",\"2020-05-14\",\"2020-05-15\",\"2020-05-16\",\"2020-05-17\",\"2020-05-18\",\"2020-05-19\",\"2020-05-20\",\"2020-05-21\",\"2020-05-22\",\"2020-05-23\",\"2020-05-24\",\"2020-05-25\",\"2020-05-26\",\"2020-05-27\",\"2020-05-28\",\"2020-05-29\",\"2020-05-30\",\"2020-05-31\",\"2020-06-01\",\"2020-06-02\",\"2020-06-03\",\"2020-06-04\",\"2020-06-05\",\"2020-06-06\",\"2020-06-07\",\"2020-06-08\",\"2020-06-09\",\"2020-06-10\",\"2020-06-11\",\"2020-06-12\",\"2020-06-13\",\"2020-06-14\",\"2020-06-15\",\"2020-06-16\",\"2020-06-17\",\"2020-06-18\",\"2020-06-19\",\"2020-06-20\",\"2020-06-21\",\"2020-06-22\",\"2020-06-23\",\"2020-06-24\",\"2020-06-25\",\"2020-06-26\",\"2020-06-27\",\"2020-06-28\",\"2020-06-29\",\"2020-06-30\",\"2020-07-01\",\"2020-07-02\",\"2020-07-03\",\"2020-07-04\",\"2020-07-05\",\"2020-07-06\",\"2020-07-07\",\"2020-07-08\",\"2020-07-09\",\"2020-07-10\",\"2020-07-11\",\"2020-07-12\",\"2020-07-13\",\"2020-07-14\",\"2020-07-15\",\"2020-07-16\",\"2020-07-17\",\"2020-07-18\",\"2020-07-19\",\"2020-07-20\",\"2020-07-21\",\"2020-07-22\",\"2020-07-23\",\"2020-07-24\",\"2020-07-25\",\"2020-07-26\",\"2020-07-27\",\"2020-07-28\",\"2020-07-29\",\"2020-07-30\",\"2020-07-31\",\"2020-08-01\",\"2020-08-02\",\"2020-08-03\",\"2020-08-04\",\"2020-08-05\",\"2020-08-06\",\"2020-08-07\",\"2020-08-08\",\"2020-08-09\",\"2020-08-10\",\"2020-08-11\",\"2020-08-12\",\"2020-08-13\",\"2020-08-14\",\"2020-08-15\",\"2020-08-16\",\"2020-08-17\",\"2020-08-18\",\"2020-08-19\",\"2020-08-20\",\"2020-08-21\",\"2020-08-22\",\"2020-08-23\",\"2020-08-24\",\"2020-08-25\",\"2020-08-26\",\"2020-08-27\",\"2020-08-28\",\"2020-08-29\",\"2020-08-30\",\"2020-08-31\",\"2020-09-01\",\"2020-09-02\",\"2020-09-03\",\"2020-09-04\",\"2020-09-05\",\"2020-09-06\",\"2020-09-07\",\"2020-09-08\",\"2020-09-09\",\"2020-09-10\",\"2020-09-11\",\"2020-09-12\",\"2020-09-13\",\"2020-09-14\",\"2020-09-15\",\"2020-09-16\",\"2020-09-17\",\"2020-09-18\",\"2020-09-19\",\"2020-09-20\",\"2020-09-21\",\"2020-09-22\",\"2020-09-23\",\"2020-09-24\",\"2020-09-25\",\"2020-09-26\",\"2020-09-27\",\"2020-09-28\",\"2020-09-29\",\"2020-09-30\",\"2020-10-01\",\"2020-10-02\",\"2020-10-03\",\"2020-10-04\",\"2020-10-05\",\"2020-10-06\",\"2020-10-07\",\"2020-10-08\",\"2020-10-09\",\"2020-10-10\",\"2020-10-11\",\"2020-10-12\",\"2020-10-13\",\"2020-10-14\",\"2020-10-15\",\"2020-10-16\",\"2020-10-17\",\"2020-10-18\",\"2020-10-19\",\"2020-10-20\",\"2020-10-21\",\"2020-10-22\",\"2020-10-23\",\"2020-10-24\",\"2020-10-25\",\"2020-10-26\",\"2020-10-27\",\"2020-10-28\",\"2020-10-29\",\"2020-10-30\",\"2020-10-31\",\"2020-11-01\",\"2020-11-02\",\"2020-11-03\",\"2020-11-04\",\"2020-11-05\",\"2020-11-06\",\"2020-11-07\",\"2020-11-08\",\"2020-11-09\",\"2020-11-10\",\"2020-11-11\",\"2020-11-12\",\"2020-11-13\",\"2020-11-14\",\"2020-11-15\",\"2020-11-16\",\"2020-11-17\",\"2020-11-18\",\"2020-11-19\",\"2020-11-20\",\"2020-11-21\",\"2020-11-22\",\"2020-11-23\",\"2020-11-24\",\"2020-11-25\",\"2020-11-26\",\"2020-11-27\",\"2020-11-28\",\"2020-11-29\",\"2020-11-30\",\"2020-12-01\",\"2020-12-02\",\"2020-12-03\",\"2020-12-04\",\"2020-12-05\",\"2020-12-06\",\"2020-12-07\",\"2020-12-08\",\"2020-12-09\",\"2020-12-10\",\"2020-12-11\",\"2020-12-12\",\"2020-12-13\",\"2020-12-14\",\"2020-12-15\",\"2020-12-16\",\"2020-12-17\",\"2020-12-18\",\"2020-12-19\",\"2020-12-20\",\"2020-12-21\",\"2020-12-22\",\"2020-12-23\",\"2020-12-24\",\"2020-12-25\",\"2020-12-26\",\"2020-12-27\",\"2020-12-28\",\"2020-12-29\",\"2020-12-30\",\"2020-12-31\",\"2021-01-01\",\"2021-01-02\",\"2021-01-03\",\"2021-01-04\",\"2021-01-05\",\"2021-01-06\",\"2021-01-07\",\"2021-01-08\",\"2021-01-09\",\"2021-01-10\",\"2021-01-11\",\"2021-01-12\",\"2021-01-13\",\"2021-01-14\",\"2021-01-15\",\"2021-01-16\",\"2021-01-17\",\"2021-01-18\",\"2021-01-19\",\"2021-01-20\",\"2021-01-21\",\"2021-01-22\",\"2021-01-23\",\"2021-01-24\",\"2021-01-25\",\"2021-01-26\",\"2021-01-27\",\"2021-01-28\",\"2021-01-29\",\"2021-01-30\",\"2021-01-31\",\"2021-02-01\",\"2021-02-02\",\"2021-02-03\",\"2021-02-04\",\"2021-02-07\",\"2021-02-08\",\"2021-02-09\",\"2021-02-10\",\"2021-02-11\",\"2021-02-12\",\"2021-02-13\",\"2021-02-14\",\"2021-02-15\",\"2021-02-16\",\"2021-02-17\",\"2021-02-18\",\"2021-02-19\",\"2021-02-20\",\"2021-02-21\",\"2021-02-22\",\"2021-02-23\",\"2021-02-24\",\"2021-02-25\",\"2021-02-26\",\"2021-02-27\",\"2021-02-28\",\"2021-03-02\",\"2021-03-03\",\"2021-03-04\",\"2021-03-05\",\"2021-03-07\",\"2021-03-08\",\"2021-03-09\",\"2021-03-10\",\"2021-03-11\",\"2021-03-12\",\"2021-03-13\",\"2021-03-14\",\"2021-03-15\",\"2021-03-16\",\"2021-03-17\",\"2021-03-27\",\"2021-03-28\",\"2021-03-29\",\"2021-03-30\",\"2021-03-31\",\"2021-04-01\",\"2021-04-02\",\"2021-04-03\",\"2021-04-04\",\"2021-04-05\",\"2021-04-06\",\"2021-04-07\",\"2021-04-08\",\"2021-04-09\",\"2021-04-14\",\"2021-04-15\",\"2021-04-16\",\"2021-04-17\",\"2021-04-18\",\"2021-04-19\",\"2021-04-20\",\"2021-04-21\",\"2021-04-22\",\"2021-04-23\",\"2021-04-24\",\"2021-04-25\",\"2021-04-26\",\"2021-04-27\",\"2021-04-28\",\"2021-04-29\",\"2021-04-30\",\"2021-05-01\",\"2021-05-02\",\"2021-05-03\",\"2021-05-04\",\"2021-05-05\",\"2021-05-06\",\"2021-05-07\",\"2021-05-08\",\"2021-05-09\",\"2021-05-10\",\"2021-05-11\",\"2021-05-12\",\"2021-05-13\",\"2021-05-14\",\"2021-05-15\",\"2021-05-16\",\"2021-05-17\",\"2021-05-18\",\"2021-05-19\",\"2021-05-20\",\"2021-05-21\",\"2021-05-22\",\"2021-05-23\",\"2021-05-24\",\"2021-05-25\",\"2021-05-26\",\"2021-05-27\",\"2021-05-28\",\"2021-05-29\",\"2021-05-30\",\"2021-05-31\",\"2021-06-01\",\"2021-06-02\",\"2021-06-03\",\"2021-06-04\",\"2021-06-05\",\"2021-06-06\",\"2021-06-07\",\"2021-06-08\",\"2021-06-09\",\"2021-06-10\",\"2021-06-11\",\"2021-06-12\",\"2021-06-13\",\"2021-06-14\",\"2021-06-15\",\"2021-06-16\",\"2021-06-17\",\"2021-06-18\",\"2021-06-19\",\"2021-06-20\",\"2021-06-21\",\"2021-06-22\",\"2021-06-23\",\"2021-06-24\",\"2021-06-25\",\"2021-06-26\",\"2021-06-27\",\"2021-06-28\",\"2021-06-29\",\"2021-06-30\",\"2021-07-01\",\"2021-07-02\",\"2021-07-03\",\"2021-07-04\",\"2021-07-05\",\"2021-07-06\",\"2021-07-07\",\"2021-07-08\",\"2021-07-09\",\"2021-07-10\",\"2021-07-11\",\"2021-07-12\",\"2021-07-13\",\"2021-07-14\",\"2021-07-15\",\"2021-07-16\",\"2021-07-17\",\"2021-07-18\",\"2021-07-19\",\"2021-07-20\",\"2021-07-21\",\"2021-07-22\",\"2021-07-23\",\"2021-07-24\",\"2021-07-25\",\"2021-07-26\",\"2021-07-27\",\"2021-07-28\",\"2021-07-29\",\"2021-07-30\",\"2021-07-31\",\"2021-08-01\",\"2021-08-02\",\"2021-08-03\",\"2021-08-04\",\"2021-08-05\",\"2021-08-06\",\"2021-08-07\",\"2021-08-08\",\"2021-08-09\",\"2021-08-10\",\"2021-08-11\",\"2021-08-12\",\"2021-08-13\",\"2021-08-14\",\"2021-08-15\",\"2021-08-16\",\"2021-08-17\",\"2021-08-18\",\"2021-08-19\",\"2021-08-20\",\"2021-08-21\",\"2021-08-22\",\"2021-08-23\",\"2021-08-24\",\"2021-08-25\",\"2021-08-26\",\"2021-08-27\",\"2021-08-28\",\"2021-08-29\",\"2021-08-30\",\"2021-08-31\",\"2021-09-01\",\"2021-09-02\",\"2021-09-03\",\"2021-09-04\",\"2021-09-05\",\"2021-09-06\",\"2021-09-07\",\"2021-09-08\",\"2021-09-09\",\"2021-09-10\",\"2021-09-11\",\"2021-09-12\",\"2021-09-13\",\"2021-09-14\",\"2021-09-15\",\"2021-09-16\",\"2021-09-17\",\"2021-09-18\",\"2021-09-19\",\"2021-09-20\",\"2021-09-21\",\"2021-09-22\",\"2021-09-23\",\"2021-09-24\",\"2021-09-25\",\"2021-09-26\",\"2021-09-27\",\"2021-09-28\",\"2021-09-29\",\"2021-09-30\",\"2021-10-01\",\"2021-10-02\",\"2021-10-03\",\"2021-10-04\",\"2021-10-05\",\"2021-10-06\",\"2021-10-07\",\"2021-10-08\",\"2021-10-09\",\"2021-10-10\",\"2021-10-11\",\"2021-10-12\",\"2021-10-13\",\"2021-10-14\",\"2021-10-15\",\"2021-10-16\",\"2021-10-17\",\"2021-10-18\",\"2021-10-19\",\"2021-10-20\",\"2021-10-21\",\"2021-10-22\",\"2021-10-23\",\"2021-10-24\",\"2021-10-25\",\"2021-10-26\",\"2021-10-27\",\"2021-10-28\",\"2021-10-29\"],\"y\":[1,1,1,1,1,1,1,1,1,1,1,1,1,2,1,2,1,1,1,1,2,1,1,1,1,1,1,1,1,1,2,1,1,1,1,1,1,3,2,1,1,1,1,1,1,1,1,1,1,1,2,1,1,3,1,1,3,2,1,2,1,1,2,2,1,1,1,1,1,2,1,1,3,1,1,1,3,1,1,1,1,1,1,3,2,2,1,2,1,4,1,4,1,2,1,1,3,4,1,1,3,1,1,1,1,1,2,1,1,2,1,1,2,1,2,1,1,2,1,1,1,2,1,1,5,4,4,4,3,3,1,1,4,1,3,1,4,3,1,1,3,2,3,1,4,1,1,3,3,1,2,6,1,1,1,1,2,2,1,1,1,1,2,3,2,1,1,1,2,2,3,1,1,1,2,1,1,1,1,1,1,2,1,2,1,1,2,1,1,1,2,1,1,1,2,4,2,4,1,1,2,2,4,1,1,2,2,1,2,1,2,2,4,5,2,3,5,3,2,1,2,1,3,2,2,1,2,1,3,1,2,3,1,1,3,1,4,2,1,5,3,2,1,2,2,1,2,2,1,3,2,4,2,2,2,1,3,4,6,7,1,3,2,4,7,3,2,3,3,2,3,3,5,7,3,4,1,5,3,3,3,3,5,2,1,2,2,4,3,3,4,1,1,2,2,4,3,4,4,7,4,2,4,2,4,3,2,7,3,2,7,5,5,7,1,4,3,3,5,3,3,3,5,4,4,4,3,3,3,3,3,2,3,1,4,9,7,4,9,8,4,1,6,4,2,5,6,6,9,15,4,2,2,5,3,2,9,6,3,4,3,2,3,4,3,2,3,4,9,3,2,2,3,1,2,2,3,3,4,5,3,4,3,3,6,4,5,3,4,4,3,11,5,8,2,3,3,10,4,4,5,7,4,3,7,7,5,3,4,1,3,4,3,5,4,3,3,8,1,4,3,4,3,5,6,9,2,5,6,5,2,2,3,4,2,6,1,4,2,2,5,2,1,2,6,1,3,3,5,1,4,2,3,3,2,4,2,1,3,3,3,5,3,4,2,2,3,5,3,1,2,3,1,3,3,2,5,4,4,2,2,1,3,7,4,3,2,5,3,2,2,2,3,3,2,1,1,1,1,1,3,4,3,4,5,4,3,3,7,3,2,3,5,6,7,11,5,2,2,4,4,2,8,11,3,1,3,4,7,3,1,1,4,4,5,3,6,2,1,1,6,5,5,3,8,4,6,7,6,6,4,3,7,2,8,7,6,4,3,9,1,9,5,4,4,4,3,3,3,3,7,4,3,5,6,7,2,6,4,1,4,3,4,9,2,1,2,2,7,5,4,4,5,4,4,2,7,4,1,5,4,4,3,5,4,6,11,4,5,3,8,7,6,10,7,1,7,1,6,3,7,6,4,7,2,4,3,3,5,4,4,5,5,10,6,4,3,6,8,5,4,6,4,4,1,6,7,7,4,7,3,4,2,6,4,9,8,5,17,8,7,16,11,7,9,8,12,6,11,11,9,4,9,12,18,8,13,9,6,18,7,10,13,12,11,6,13,10,12,12,13,10,9,9,11,12,8,14,9,9,9,7,15,10,14,12,8,8,13,10,13,11,16,6,7,10,20,10,10,10,10,6,12,12,11,8,6,4,11,8,8,8,10,5,7,14,9,6,9,9,2,5,4,10,11,11,5,4,5,12,17,10,16,9,9,5,4,9,17,9,12,12,4,11,11,14,13,9,9,10,9,5,6,8,11,14,4,7,9,10,15,6,4,8,10,6,10,7,6,4,9,12,8,9,8,4,5,8,6,5,6,13,7,8,3,7,4,5,3,8,6,8,7,10,4,8,2,6,7,6,11,12,2,6,5,10,8,7,2,12,5,11,6,4,7,10,7,6,8,8,5,9,2,9,4,4,5,8,12,8,8,8,1,4,11,5,16,5,8,11,6,10,9,8,6,8,3,5,6,6,7,5,3,6,6,3,5,4,7,7,1,3,5,10,2,5,8,5,7,1,4,6,5,4,4,4,7,7,6,7,6,5,5,11,6,7,3,5,7,2,11,4,5,8,2,3,4,7,3,10,2,1,2,8,6,5,2,4,10,6,6,12,3,9,6,12,7,6,8,2,5,2,6,2,2,6,9,7,9,4,4,6,5,1,8,9,6,2,6,6,4,6,6,4,10,4,4,7,6,4,7,4,6,4,4,4,7,3,4,7,8,8,6,3,6,5,6,5,8,6,5,7,4,6,6,9,6,3,4,5,6,4,2,5,3,3,2,3,4,5,7,6,5,3,3,8,4,11,6,11,8,6,9,4,4,4,1,7,7,5,7,12,4,5,2,5,4,11,9,3,4,6,7,8,2,7,9,5,3,7,10,7,5,6,7,7,11,2,10,7,6,3,9,9,11,5,1,4,7,5,4,3,4,2,2,2,7,3,3,5,6,6,6,6,2,4,5,8,4,5,3,5,6,12,3,4,9,9,10,7,10,3,3,9,2,10,7,10,10,5,8,11,4,9,10,8,5,6,5,7,11,4,13,2,3,9,7,9,9,7,1,7,5,5,6,8,11,10,6,11,9,3,6,5,7,13,3,5,10,8,4,4,6,3,7,7,8,5,7,7,3,4,5,11,10,8,8,9,7,5,7,7,7,3,3,8,11,6,7,9,8,4,6,4,5,10,10,8,12,5,10,6,6,6,9,6,12,9,9,6,8,6,8,12,12,9,7,1,10,11,11,9,2,10,7,5,12,3,11,8,3,5,1,6,7,11,4,7,8,10,10,7,8,12,8,3,7,9,9,12,5,6,7,6,6,7,11,7,4,6,9,6,7,14,11,15,4,8,14,13,13,6,13,6,7,8,6,6,8,4,6,6,14,9,9,6,6,10,5,9,8,8,7,1,9,5,8,12,12,5,5,4,7,5,6,12,8,5,10,7,15,1,5,7,9,7,7,6,7,6,9,5,7,4,7,15,9,13,10,9,9,11,8,10,6,14,15,8,10,15,15,6,12,10,10,10,13,7,9,8,11,19,7,9,14,6,9,8,17,4,8,10,9,10,9,8,8,8,12,6,11,14,9,8,14,6,6,10,9,13,6,12,6,5,11,7,11,3,8,10,9,9,10,9,7,15,14,14,8,10,11,15,17,8,11,8,13,22,10,6,18,15,7,9,14,15,13,13,14,14,8,16,9,14,10,12,11,18,8,12,16,7,12,7,23,11,20,17,4,25,18,17,11,11,13,16,15,11,7,16,9,18,16,24,9,11,6,17,15,18,6,17,20,15,13,9,12,13,15,18,12,12,14,9,17,14,8,3,7,17,13,18,11,19,13,15,21,12,11,11,11,13,13,13,15,12,16,15,17,15,13,14,8,6,11,17,10,15,14,10,10,8,17,11,12,11,14,14,8,14,13,9,11,9,8,15,11,9,13,7,10,8,9,11,12,5,5,10,14,10,11,12,10,9,10,5,9,7,12,12,12,15,7,6,9,8,9,11,12,5,7,6,12,13,11,10,8,6,10,11,20,10,11,13,9,12,11,11,12,8,22,9,20,19,11,21,15,14,12,14,18,14,12,10,11,10,10,18,11,12,11,6,12,12,19,14,19,15,13,13,13,18,12,18,23,18,14,18,9,15,9,13,9,13,23,19,5,18,19,17,13,15,16,18,20,23,14,9,15,17,27,29,20,15,23,13,33,19,18,32,22,17,15,20,13,26,18,15,14,19,29,30,22,23,11,15,19,20,21,27,19,19,17,17,15,17,21,24,12,15,23,19,25,21,23,16,23,19,25,18,32,11,13,15,17,13,27,24,17,12,15,22,27,18,25,21,21,9,15,31,39,25,17,17,21,14,17,27,32,16,23,23,22,27,24,20,34,16,14,29,29,20,23,16,15,15,21,25,18,25,21,16,17,15,18,8,16,19,28,17,20,23,16,28,16,18,19,17,23,27,19,31,25,17,34,20,27,26,22,27,19,27,25,24,38,46,23,28,24,34,30,25,31,25,18,23,40,29,25,31,29,19,22,26,34,20,32,28,19,33,23,19,18,22,26,22,27,33,25,30,24,22,23,28,20,24,40,23,31,30,22,22,31,23,13,21,17,20,17,15,25,12,13,21,21,17,12,18,13,21,24,18,13,17,18,13,20,14,18,20,17,13,14,14,20,11,26,16,16,25,14,11,17,23,21,34,21,16,23,21,27,21,24,15,19,21,20,20,17,24,22,21,15,12,18,20,22,20,20,22,23,16,21,19,17,22,16,22,19,23,23,20,14,18,23,23,13,19,24,20,24,11,24,24,14,15,18,25,22,26,17,26,29,23,19,20,20,22,34,25,17,14,28,20,21,23,22,18,17,21,32,25,27,15,15,13,23,20,24,26,24,15,19,23,19,23,20,28,23,18,17,26,28,23,23,23,27,38,21,20,23,23,16,18,21,23,23,22,16,19,32,18,12,31,27,25,28,28,22,29,32,26,23,25,16,27,24,28,26,19,30,26,20,29,23,30,28,13,24,26,16,22,30,29,18,25,20,17,23,25,20,13,19,23,24,30,25,27,15,14,23,20,28,18,14,22,21,22,27,20,19,31,26,22,5,23,35,31,23,13,18,19,17,20,27,17,15,26,26,28,17,1,5,10,28,28,35,23,22,40,27,32,32,32,37,30,30,26,36,30,25,32,25,25,22,38,35,32,30,17,23,31,29,34,54,42,28,25,34,30,28,33,43,29,23,33,23,32,28,36,23,31,30,29,36,25,39,27,42,30,39,36,56,37,40,45,34,31,31,43,43,42,48,41,41,41,38,36,50,47,37,44,59,30,28,41,37,37,42,36,57,50,28,1,30,31,36,48,46,34,29,36,15,25,42,43,46,46,55,54,37,40,56,42,6,42,60,45,11,1,29,33,39,45,42,45,40,27,48,17,9,38,36,36,35,40,25,30,29,36,41,25,36,27,38,47,30,30,22,33,40,32,45,48,30,45,33,44,38,34,31,40,27,40,46,36,28,40,17,35,47,28,25,32,41,31,30,41,41,52,39,21,33,18,37,21,36,44,45,31,18,19,34,34,35,34,44,31,40,43,30,26,32,37,33,40,32,27,30,26,26,20,34,41,37,30,43,18,27,32,33,44,28,26,24,33,40,31,32,30,34,35,22,35,41,31,32,32,19,14,23,31,27,34,22,25,32,31,29,34,34,26,33,40,41,23,27,31,37,21,30,30,37,35,38,27,44,31,38,35,28,37,31,31,27,42,27,30,39,37,18,38,50,30,36,32,31,21,23,36,40,31,31,28,23,25,41,32,38,27,26,16,26,21,30,30,24,31,25,31,39,35,37,34,44,33,33,59,40,29,34,30,32,43,42,30,46,29,36,22,24,29,35,42,26,36,24,35,31,42,30,30,12],\"type\":\"scatter\"}],                        {\"legend\":{\"bgcolor\":\"#F5F6F9\",\"font\":{\"color\":\"#4D5663\"}},\"paper_bgcolor\":\"#F5F6F9\",\"plot_bgcolor\":\"#F5F6F9\",\"template\":{\"data\":{\"barpolar\":[{\"marker\":{\"line\":{\"color\":\"#E5ECF6\",\"width\":0.5},\"pattern\":{\"fillmode\":\"overlay\",\"size\":10,\"solidity\":0.2}},\"type\":\"barpolar\"}],\"bar\":[{\"error_x\":{\"color\":\"#2a3f5f\"},\"error_y\":{\"color\":\"#2a3f5f\"},\"marker\":{\"line\":{\"color\":\"#E5ECF6\",\"width\":0.5},\"pattern\":{\"fillmode\":\"overlay\",\"size\":10,\"solidity\":0.2}},\"type\":\"bar\"}],\"carpet\":[{\"aaxis\":{\"endlinecolor\":\"#2a3f5f\",\"gridcolor\":\"white\",\"linecolor\":\"white\",\"minorgridcolor\":\"white\",\"startlinecolor\":\"#2a3f5f\"},\"baxis\":{\"endlinecolor\":\"#2a3f5f\",\"gridcolor\":\"white\",\"linecolor\":\"white\",\"minorgridcolor\":\"white\",\"startlinecolor\":\"#2a3f5f\"},\"type\":\"carpet\"}],\"choropleth\":[{\"colorbar\":{\"outlinewidth\":0,\"ticks\":\"\"},\"type\":\"choropleth\"}],\"contourcarpet\":[{\"colorbar\":{\"outlinewidth\":0,\"ticks\":\"\"},\"type\":\"contourcarpet\"}],\"contour\":[{\"colorbar\":{\"outlinewidth\":0,\"ticks\":\"\"},\"colorscale\":[[0.0,\"#0d0887\"],[0.1111111111111111,\"#46039f\"],[0.2222222222222222,\"#7201a8\"],[0.3333333333333333,\"#9c179e\"],[0.4444444444444444,\"#bd3786\"],[0.5555555555555556,\"#d8576b\"],[0.6666666666666666,\"#ed7953\"],[0.7777777777777778,\"#fb9f3a\"],[0.8888888888888888,\"#fdca26\"],[1.0,\"#f0f921\"]],\"type\":\"contour\"}],\"heatmapgl\":[{\"colorbar\":{\"outlinewidth\":0,\"ticks\":\"\"},\"colorscale\":[[0.0,\"#0d0887\"],[0.1111111111111111,\"#46039f\"],[0.2222222222222222,\"#7201a8\"],[0.3333333333333333,\"#9c179e\"],[0.4444444444444444,\"#bd3786\"],[0.5555555555555556,\"#d8576b\"],[0.6666666666666666,\"#ed7953\"],[0.7777777777777778,\"#fb9f3a\"],[0.8888888888888888,\"#fdca26\"],[1.0,\"#f0f921\"]],\"type\":\"heatmapgl\"}],\"heatmap\":[{\"colorbar\":{\"outlinewidth\":0,\"ticks\":\"\"},\"colorscale\":[[0.0,\"#0d0887\"],[0.1111111111111111,\"#46039f\"],[0.2222222222222222,\"#7201a8\"],[0.3333333333333333,\"#9c179e\"],[0.4444444444444444,\"#bd3786\"],[0.5555555555555556,\"#d8576b\"],[0.6666666666666666,\"#ed7953\"],[0.7777777777777778,\"#fb9f3a\"],[0.8888888888888888,\"#fdca26\"],[1.0,\"#f0f921\"]],\"type\":\"heatmap\"}],\"histogram2dcontour\":[{\"colorbar\":{\"outlinewidth\":0,\"ticks\":\"\"},\"colorscale\":[[0.0,\"#0d0887\"],[0.1111111111111111,\"#46039f\"],[0.2222222222222222,\"#7201a8\"],[0.3333333333333333,\"#9c179e\"],[0.4444444444444444,\"#bd3786\"],[0.5555555555555556,\"#d8576b\"],[0.6666666666666666,\"#ed7953\"],[0.7777777777777778,\"#fb9f3a\"],[0.8888888888888888,\"#fdca26\"],[1.0,\"#f0f921\"]],\"type\":\"histogram2dcontour\"}],\"histogram2d\":[{\"colorbar\":{\"outlinewidth\":0,\"ticks\":\"\"},\"colorscale\":[[0.0,\"#0d0887\"],[0.1111111111111111,\"#46039f\"],[0.2222222222222222,\"#7201a8\"],[0.3333333333333333,\"#9c179e\"],[0.4444444444444444,\"#bd3786\"],[0.5555555555555556,\"#d8576b\"],[0.6666666666666666,\"#ed7953\"],[0.7777777777777778,\"#fb9f3a\"],[0.8888888888888888,\"#fdca26\"],[1.0,\"#f0f921\"]],\"type\":\"histogram2d\"}],\"histogram\":[{\"marker\":{\"pattern\":{\"fillmode\":\"overlay\",\"size\":10,\"solidity\":0.2}},\"type\":\"histogram\"}],\"mesh3d\":[{\"colorbar\":{\"outlinewidth\":0,\"ticks\":\"\"},\"type\":\"mesh3d\"}],\"parcoords\":[{\"line\":{\"colorbar\":{\"outlinewidth\":0,\"ticks\":\"\"}},\"type\":\"parcoords\"}],\"pie\":[{\"automargin\":true,\"type\":\"pie\"}],\"scatter3d\":[{\"line\":{\"colorbar\":{\"outlinewidth\":0,\"ticks\":\"\"}},\"marker\":{\"colorbar\":{\"outlinewidth\":0,\"ticks\":\"\"}},\"type\":\"scatter3d\"}],\"scattercarpet\":[{\"marker\":{\"colorbar\":{\"outlinewidth\":0,\"ticks\":\"\"}},\"type\":\"scattercarpet\"}],\"scattergeo\":[{\"marker\":{\"colorbar\":{\"outlinewidth\":0,\"ticks\":\"\"}},\"type\":\"scattergeo\"}],\"scattergl\":[{\"marker\":{\"colorbar\":{\"outlinewidth\":0,\"ticks\":\"\"}},\"type\":\"scattergl\"}],\"scattermapbox\":[{\"marker\":{\"colorbar\":{\"outlinewidth\":0,\"ticks\":\"\"}},\"type\":\"scattermapbox\"}],\"scatterpolargl\":[{\"marker\":{\"colorbar\":{\"outlinewidth\":0,\"ticks\":\"\"}},\"type\":\"scatterpolargl\"}],\"scatterpolar\":[{\"marker\":{\"colorbar\":{\"outlinewidth\":0,\"ticks\":\"\"}},\"type\":\"scatterpolar\"}],\"scatter\":[{\"marker\":{\"colorbar\":{\"outlinewidth\":0,\"ticks\":\"\"}},\"type\":\"scatter\"}],\"scatterternary\":[{\"marker\":{\"colorbar\":{\"outlinewidth\":0,\"ticks\":\"\"}},\"type\":\"scatterternary\"}],\"surface\":[{\"colorbar\":{\"outlinewidth\":0,\"ticks\":\"\"},\"colorscale\":[[0.0,\"#0d0887\"],[0.1111111111111111,\"#46039f\"],[0.2222222222222222,\"#7201a8\"],[0.3333333333333333,\"#9c179e\"],[0.4444444444444444,\"#bd3786\"],[0.5555555555555556,\"#d8576b\"],[0.6666666666666666,\"#ed7953\"],[0.7777777777777778,\"#fb9f3a\"],[0.8888888888888888,\"#fdca26\"],[1.0,\"#f0f921\"]],\"type\":\"surface\"}],\"table\":[{\"cells\":{\"fill\":{\"color\":\"#EBF0F8\"},\"line\":{\"color\":\"white\"}},\"header\":{\"fill\":{\"color\":\"#C8D4E3\"},\"line\":{\"color\":\"white\"}},\"type\":\"table\"}]},\"layout\":{\"annotationdefaults\":{\"arrowcolor\":\"#2a3f5f\",\"arrowhead\":0,\"arrowwidth\":1},\"autotypenumbers\":\"strict\",\"coloraxis\":{\"colorbar\":{\"outlinewidth\":0,\"ticks\":\"\"}},\"colorscale\":{\"diverging\":[[0,\"#8e0152\"],[0.1,\"#c51b7d\"],[0.2,\"#de77ae\"],[0.3,\"#f1b6da\"],[0.4,\"#fde0ef\"],[0.5,\"#f7f7f7\"],[0.6,\"#e6f5d0\"],[0.7,\"#b8e186\"],[0.8,\"#7fbc41\"],[0.9,\"#4d9221\"],[1,\"#276419\"]],\"sequential\":[[0.0,\"#0d0887\"],[0.1111111111111111,\"#46039f\"],[0.2222222222222222,\"#7201a8\"],[0.3333333333333333,\"#9c179e\"],[0.4444444444444444,\"#bd3786\"],[0.5555555555555556,\"#d8576b\"],[0.6666666666666666,\"#ed7953\"],[0.7777777777777778,\"#fb9f3a\"],[0.8888888888888888,\"#fdca26\"],[1.0,\"#f0f921\"]],\"sequentialminus\":[[0.0,\"#0d0887\"],[0.1111111111111111,\"#46039f\"],[0.2222222222222222,\"#7201a8\"],[0.3333333333333333,\"#9c179e\"],[0.4444444444444444,\"#bd3786\"],[0.5555555555555556,\"#d8576b\"],[0.6666666666666666,\"#ed7953\"],[0.7777777777777778,\"#fb9f3a\"],[0.8888888888888888,\"#fdca26\"],[1.0,\"#f0f921\"]]},\"colorway\":[\"#636efa\",\"#EF553B\",\"#00cc96\",\"#ab63fa\",\"#FFA15A\",\"#19d3f3\",\"#FF6692\",\"#B6E880\",\"#FF97FF\",\"#FECB52\"],\"font\":{\"color\":\"#2a3f5f\"},\"geo\":{\"bgcolor\":\"white\",\"lakecolor\":\"white\",\"landcolor\":\"#E5ECF6\",\"showlakes\":true,\"showland\":true,\"subunitcolor\":\"white\"},\"hoverlabel\":{\"align\":\"left\"},\"hovermode\":\"closest\",\"mapbox\":{\"style\":\"light\"},\"paper_bgcolor\":\"white\",\"plot_bgcolor\":\"#E5ECF6\",\"polar\":{\"angularaxis\":{\"gridcolor\":\"white\",\"linecolor\":\"white\",\"ticks\":\"\"},\"bgcolor\":\"#E5ECF6\",\"radialaxis\":{\"gridcolor\":\"white\",\"linecolor\":\"white\",\"ticks\":\"\"}},\"scene\":{\"xaxis\":{\"backgroundcolor\":\"#E5ECF6\",\"gridcolor\":\"white\",\"gridwidth\":2,\"linecolor\":\"white\",\"showbackground\":true,\"ticks\":\"\",\"zerolinecolor\":\"white\"},\"yaxis\":{\"backgroundcolor\":\"#E5ECF6\",\"gridcolor\":\"white\",\"gridwidth\":2,\"linecolor\":\"white\",\"showbackground\":true,\"ticks\":\"\",\"zerolinecolor\":\"white\"},\"zaxis\":{\"backgroundcolor\":\"#E5ECF6\",\"gridcolor\":\"white\",\"gridwidth\":2,\"linecolor\":\"white\",\"showbackground\":true,\"ticks\":\"\",\"zerolinecolor\":\"white\"}},\"shapedefaults\":{\"line\":{\"color\":\"#2a3f5f\"}},\"ternary\":{\"aaxis\":{\"gridcolor\":\"white\",\"linecolor\":\"white\",\"ticks\":\"\"},\"baxis\":{\"gridcolor\":\"white\",\"linecolor\":\"white\",\"ticks\":\"\"},\"bgcolor\":\"#E5ECF6\",\"caxis\":{\"gridcolor\":\"white\",\"linecolor\":\"white\",\"ticks\":\"\"}},\"title\":{\"x\":0.05},\"xaxis\":{\"automargin\":true,\"gridcolor\":\"white\",\"linecolor\":\"white\",\"ticks\":\"\",\"title\":{\"standoff\":15},\"zerolinecolor\":\"white\",\"zerolinewidth\":2},\"yaxis\":{\"automargin\":true,\"gridcolor\":\"white\",\"linecolor\":\"white\",\"ticks\":\"\",\"title\":{\"standoff\":15},\"zerolinecolor\":\"white\",\"zerolinewidth\":2}}},\"title\":{\"font\":{\"color\":\"#4D5663\"}},\"xaxis\":{\"gridcolor\":\"#E1E5ED\",\"showgrid\":true,\"tickfont\":{\"color\":\"#4D5663\"},\"title\":{\"font\":{\"color\":\"#4D5663\"},\"text\":\"\"},\"zerolinecolor\":\"#E1E5ED\"},\"yaxis\":{\"gridcolor\":\"#E1E5ED\",\"showgrid\":true,\"tickfont\":{\"color\":\"#4D5663\"},\"title\":{\"font\":{\"color\":\"#4D5663\"},\"text\":\"\"},\"zerolinecolor\":\"#E1E5ED\"}},                        {\"showLink\": true, \"linkText\": \"Export to plot.ly\", \"plotlyServerURL\": \"https://plot.ly\", \"responsive\": true}                    ).then(function(){\n                            \nvar gd = document.getElementById('c17a9e57-9da0-4b62-a1c0-baacfc817a41');\nvar x = new MutationObserver(function (mutations, observer) {{\n        var display = window.getComputedStyle(gd).display;\n        if (!display || display === 'none') {{\n            console.log([gd, 'removed!']);\n            Plotly.purge(gd);\n            observer.disconnect();\n        }}\n}});\n\n// Listen for the removal of the full notebook cells\nvar notebookContainer = gd.closest('#notebook-container');\nif (notebookContainer) {{\n    x.observe(notebookContainer, {childList: true});\n}}\n\n// Listen for the clearing of the current output cell\nvar outputEl = gd.closest('.output');\nif (outputEl) {{\n    x.observe(outputEl, {childList: true});\n}}\n\n                        })                };                });            </script>        </div>"
     },
     "metadata": {},
     "output_type": "display_data"
    }
   ],
   "source": [
    "time_plot = md_submissions.groupby(md_submissions['created_utc'].dt.date)['lemmatized'].count()\n",
    "time_plot.iplot()"
   ]
  },
  {
   "cell_type": "markdown",
   "metadata": {},
   "source": [
    "**Length of submissions**"
   ]
  },
  {
   "cell_type": "code",
   "execution_count": 18,
   "metadata": {},
   "outputs": [
    {
     "data": {
      "text/plain": "count    30960.000000\nmean       173.525258\nstd        238.256467\nmin          1.000000\n25%         41.000000\n50%        100.000000\n75%        213.000000\nmax       4611.000000\nName: word_count, dtype: float64"
     },
     "metadata": {},
     "output_type": "display_data"
    }
   ],
   "source": [
    "display(md_submissions['word_count'].describe())"
   ]
  },
  {
   "cell_type": "markdown",
   "metadata": {},
   "source": [
    "# LDA"
   ]
  },
  {
   "cell_type": "markdown",
   "metadata": {},
   "source": []
  },
  {
   "cell_type": "code",
   "execution_count": 19,
   "metadata": {},
   "outputs": [
    {
     "name": "stderr",
     "output_type": "stream",
     "text": [
      "[nltk_data] Downloading package stopwords to\n",
      "[nltk_data]     /Users/guneetsingh/nltk_data...\n",
      "[nltk_data]   Package stopwords is already up-to-date!\n"
     ]
    }
   ],
   "source": [
    "import gensim\n",
    "from gensim.utils import simple_preprocess\n",
    "import nltk\n",
    "nltk.download('stopwords')\n",
    "from nltk.corpus import stopwords"
   ]
  },
  {
   "cell_type": "code",
   "execution_count": 20,
   "metadata": {},
   "outputs": [],
   "source": [
    "def remove_stopwords(texts):\n",
    "    return [[word for word in simple_preprocess(str(doc))\n",
    "             if word not in stop_words] for doc in texts]"
   ]
  },
  {
   "cell_type": "code",
   "execution_count": 22,
   "outputs": [],
   "source": [
    "def sent_to_words(sentences):\n",
    "    for sentence in sentences:\n",
    "        yield(gensim.utils.simple_preprocess(str(sentence), deacc=True))"
   ],
   "metadata": {
    "collapsed": false,
    "pycharm": {
     "name": "#%%\n"
    }
   }
  },
  {
   "cell_type": "code",
   "execution_count": 23,
   "metadata": {},
   "outputs": [],
   "source": [
    "data = md_submissions.lemmatized.values.tolist()\n",
    "data_words = list(sent_to_words(data))"
   ]
  },
  {
   "cell_type": "code",
   "execution_count": 53,
   "outputs": [],
   "source": [
    "stop_words = stopwords.words('english')\n",
    "stop_words.extend(['from', 'subject', 're', 'edu', 'use','https','microdosing','wwwredditcom','microdose','would','get','take','go','lsd','much','one','start','try','think','day'])"
   ],
   "metadata": {
    "collapsed": false,
    "pycharm": {
     "name": "#%%\n"
    }
   }
  },
  {
   "cell_type": "code",
   "execution_count": 54,
   "outputs": [
    {
     "name": "stdout",
     "output_type": "stream",
     "text": [
      "['dosage', 'liverty', 'cap', 'probbly', 'common', 'question', 'daily', 'dose', 'libirty', 'cap', 'many']\n"
     ]
    }
   ],
   "source": [
    "data_words = remove_stopwords(data_words)\n",
    "print(data_words[:1][0][:30])"
   ],
   "metadata": {
    "collapsed": false,
    "pycharm": {
     "name": "#%%\n"
    }
   }
  },
  {
   "cell_type": "code",
   "execution_count": 55,
   "metadata": {},
   "outputs": [
    {
     "name": "stdout",
     "output_type": "stream",
     "text": [
      "[(4, 3), (12, 2), (17, 1), (30, 1), (32, 3), (59, 2), (61, 1), (64, 1), (67, 1), (77, 1), (89, 2), (96, 1), (100, 1), (102, 1), (109, 2), (118, 1), (136, 1), (145, 1), (150, 1), (162, 1), (182, 1), (201, 1), (206, 3), (207, 3), (212, 1), (215, 8), (218, 1), (219, 1), (220, 1), (254, 1), (277, 1), (312, 1), (335, 1), (373, 1), (429, 1), (442, 1), (491, 1), (592, 1), (639, 1), (666, 1), (676, 1), (812, 1), (819, 1), (938, 1), (956, 1), (1161, 1), (1169, 1), (1237, 1), (1268, 1), (1269, 1), (1270, 1), (1271, 1), (1272, 2), (1273, 2), (1274, 1), (1275, 1), (1276, 1), (1277, 1), (1278, 1), (1279, 1), (1280, 1), (1281, 1), (1282, 1), (1283, 1), (1284, 2)]\n"
     ]
    }
   ],
   "source": [
    "import gensim.corpora as corpora\n",
    "\n",
    "id2word = corpora.Dictionary(data_words)\n",
    "\n",
    "texts = data_words\n",
    "\n",
    "corpus = [id2word.doc2bow(text) for text in texts]\n",
    "\n",
    "print(corpus[20])"
   ]
  },
  {
   "cell_type": "code",
   "execution_count": 56,
   "metadata": {},
   "outputs": [],
   "source": [
    "from gensim.models import Word2Vec"
   ]
  },
  {
   "cell_type": "code",
   "execution_count": 57,
   "metadata": {},
   "outputs": [
    {
     "name": "stdout",
     "output_type": "stream",
     "text": [
      "[(0,\n",
      "  '0.015*\"like\" + 0.011*\"dose\" + 0.010*\"feel\" + 0.008*\"make\" + 0.008*\"work\" + '\n",
      "  '0.008*\"good\" + 0.007*\"time\" + 0.007*\"know\" + 0.006*\"experience\" + '\n",
      "  '0.006*\"effect\"'),\n",
      " (1,\n",
      "  '0.015*\"dose\" + 0.012*\"feel\" + 0.010*\"like\" + 0.008*\"time\" + 0.007*\"make\" + '\n",
      "  '0.007*\"help\" + 0.006*\"really\" + 0.006*\"good\" + 0.006*\"well\" + '\n",
      "  '0.006*\"effect\"'),\n",
      " (2,\n",
      "  '0.011*\"dose\" + 0.011*\"like\" + 0.010*\"time\" + 0.010*\"feel\" + '\n",
      "  '0.007*\"experience\" + 0.006*\"trip\" + 0.006*\"effect\" + 0.006*\"good\" + '\n",
      "  '0.006*\"find\" + 0.006*\"work\"'),\n",
      " (3,\n",
      "  '0.011*\"dose\" + 0.011*\"feel\" + 0.010*\"like\" + 0.008*\"good\" + 0.007*\"make\" + '\n",
      "  '0.007*\"time\" + 0.007*\"work\" + 0.006*\"experience\" + 0.006*\"really\" + '\n",
      "  '0.006*\"help\"'),\n",
      " (4,\n",
      "  '0.011*\"dose\" + 0.009*\"like\" + 0.009*\"time\" + 0.008*\"help\" + 0.008*\"feel\" + '\n",
      "  '0.008*\"want\" + 0.007*\"know\" + 0.006*\"good\" + 0.006*\"also\" + 0.006*\"make\"')]\n"
     ]
    }
   ],
   "source": [
    "from pprint import pprint\n",
    "\n",
    "num_topics = 5\n",
    "\n",
    "lda_model = gensim.models.LdaMulticore(corpus=corpus,id2word=id2word,num_topics=num_topics)\n",
    "\n",
    "pprint(lda_model.print_topics())\n",
    "doc_lda = lda_model[corpus]"
   ]
  },
  {
   "cell_type": "code",
   "execution_count": 50,
   "metadata": {},
   "outputs": [],
   "source": [
    "import pyLDAvis.gensim_models"
   ]
  },
  {
   "cell_type": "code",
   "execution_count": 58,
   "metadata": {},
   "outputs": [
    {
     "name": "stderr",
     "output_type": "stream",
     "text": [
      "/opt/anaconda3/lib/python3.8/site-packages/pyLDAvis/_prepare.py:246: FutureWarning:\n",
      "\n",
      "In a future version of pandas all arguments of DataFrame.drop except for the argument 'labels' will be keyword-only\n",
      "\n"
     ]
    },
    {
     "data": {
      "text/plain": "PreparedData(topic_coordinates=              x         y  topics  cluster       Freq\ntopic                                                \n4      0.003615 -0.003714       1        1  22.686025\n1     -0.000721  0.004100       2        1  22.163204\n0     -0.002369 -0.003723       3        1  20.370364\n2     -0.004214  0.001176       4        1  18.810691\n3      0.003689  0.002162       5        1  15.969716, topic_info=        Term          Freq         Total Category  logprob  loglift\n31      like  50057.000000  50057.000000  Default  30.0000  30.0000\n87        md  20007.000000  20007.000000  Default  29.0000  29.0000\n25      feel  46445.000000  46445.000000  Default  28.0000  28.0000\n145     good  31165.000000  31165.000000  Default  27.0000  27.0000\n739  shrooms  13681.000000  13681.000000  Default  26.0000  26.0000\n..       ...           ...           ...      ...      ...      ...\n108     trip   3219.361400  21358.121712   Topic5  -5.4271  -0.0578\n209    thing   3196.749889  21738.967345   Topic5  -5.4342  -0.0825\n12      also   3235.906682  24734.561423   Topic5  -5.4220  -0.1994\n47       say   2954.091547  21722.021791   Topic5  -5.5131  -0.1607\n59      want   2963.526652  23999.649908   Topic5  -5.5099  -0.2572\n\n[421 rows x 6 columns], token_table=       Topic      Freq    Term\nterm                          \n385        1  0.191522    able\n385        2  0.189658    able\n385        3  0.215132    able\n385        4  0.242160    able\n385        5  0.161543    able\n...      ...       ...     ...\n7949       1  0.196890  yeeeep\n7949       3  0.590671  yeeeep\n53661      5  0.861616   zomba\n26228      1  0.831472     аnd\n26235      1  0.836295      оf\n\n[801 rows x 3 columns], R=30, lambda_step=0.01, plot_opts={'xlab': 'PC1', 'ylab': 'PC2'}, topic_order=[5, 2, 1, 3, 4])",
      "text/html": "\n<link rel=\"stylesheet\" type=\"text/css\" href=\"https://cdn.jsdelivr.net/gh/bmabey/pyLDAvis@3.3.1/pyLDAvis/js/ldavis.v1.0.0.css\">\n\n\n<div id=\"ldavis_el69731405049769858887513691982\"></div>\n<script type=\"text/javascript\">\n\nvar ldavis_el69731405049769858887513691982_data = {\"mdsDat\": {\"x\": [0.0036147710329453245, -0.0007209533893590992, -0.002369042623288314, -0.00421378370572034, 0.0036890086854224286], \"y\": [-0.0037143090095202976, 0.004099516239027071, -0.00372320251485765, 0.0011763747172589879, 0.002161620568091889], \"topics\": [1, 2, 3, 4, 5], \"cluster\": [1, 1, 1, 1, 1], \"Freq\": [22.686025278537763, 22.16320408823371, 20.37036355317221, 18.81069132877922, 15.969715751277104]}, \"tinfo\": {\"Term\": [\"like\", \"md\", \"feel\", \"good\", \"shrooms\", \"water\", \"mg\", \"make\", \"experience\", \"trip\", \"dose\", \"work\", \"week\", \"mushroom\", \"find\", \"want\", \"first\", \"time\", \"still\", \"effect\", \"help\", \"capsule\", \"could\", \"thanks\", \"tab\", \"year\", \"vodka\", \"high\", \"dry\", \"people\", \"kittums\", \"mistew\", \"fiasco\", \"qn\", \"modadinil\", \"t\\u043e\", \"chocolat\", \"banamine\", \"eratic\", \"setsettingtrip\", \"orleans\", \"mandrake\", \"luna\", \"subraeganosa\", \"hammond\", \"\\u0430nd\", \"vid\\u0435os\", \"imicrodose\", \"astrodose\", \"pulsatile\", \"\\u043ef\", \"cardiology\", \"babesia\", \"microdocesing\", \"scoped\", \"russell\", \"federation\", \"microg\", \"tooken\", \"ataxia\", \"linoleum\", \"poo\", \"torrent\", \"want\", \"tab\", \"thank\", \"help\", \"year\", \"ml\", \"life\", \"anxiety\", \"know\", \"also\", \"time\", \"last\", \"micro\", \"month\", \"first\", \"remove\", \"medicine\", \"therapist\", \"sleep\", \"say\", \"thing\", \"trip\", \"dose\", \"cut\", \"mental\", \"love\", \"back\", \"need\", \"experience\", \"way\", \"something\", \"ug\", \"keep\", \"lot\", \"good\", \"really\", \"work\", \"like\", \"people\", \"make\", \"could\", \"feel\", \"well\", \"even\", \"effect\", \"find\", \"chlorid\", \"mycellim\", \"grayhashplug\", \"buller\", \"enteapreneur\", \"behing\", \"freeworld\", \"hexanicotinate\", \"pitt\", \"sweetdabpie\", \"somadome\", \"approvements\", \"nictonic\", \"bobbcastrol\", \"cyprus\", \"offday\", \"ayaquest\", \"chomsky\", \"depuis\", \"noam\", \"dapoxetine\", \"mcs\", \"indopan\", \"vlog\", \"genital\", \"pescetarianism\", \"lux\", \"mois\", \"iherb\", \"parachuted\", \"icl\", \"truffle\", \"break\", \"dose\", \"mane\", \"week\", \"dry\", \"feel\", \"niacin\", \"lion\", \"people\", \"well\", \"see\", \"really\", \"come\", \"dos\", \"substance\", \"give\", \"every\", \"help\", \"brain\", \"effect\", \"even\", \"micro\", \"little\", \"also\", \"psilocybin\", \"sometimes\", \"say\", \"like\", \"make\", \"time\", \"find\", \"good\", \"work\", \"could\", \"thing\", \"way\", \"know\", \"ug\", \"experience\", \"want\", \"need\", \"first\", \"trip\", \"dosen\", \"nairobi\", \"kenya\", \"micreodosing\", \"malatest\", \"residents\", \"nps\", \"exotics\", \"blisssed\", \"selfie\", \"shud\", \"poz\", \"bcaas\", \"minoxidil\", \"xamax\", \"druk\", \"psylos\", \"yeeeep\", \"methylphenidat\", \"psycholytic\", \"dancer\", \"vlogs\", \"capsuline\", \"deepfakes\", \"televise\", \"svt\", \"pyramids\", \"mislabel\", \"huey\", \"derivatives\", \"survey\", \"victoria\", \"like\", \"muse\", \"dmt\", \"make\", \"work\", \"tolerance\", \"adderall\", \"md\", \"thing\", \"lot\", \"good\", \"capsule\", \"drug\", \"know\", \"ug\", \"mg\", \"feel\", \"bad\", \"true\", \"share\", \"experience\", \"also\", \"effect\", \"say\", \"dose\", \"sure\", \"may\", \"find\", \"way\", \"see\", \"time\", \"mushroom\", \"well\", \"want\", \"really\", \"help\", \"even\", \"trip\", \"year\", \"could\", \"people\", \"need\", \"week\", \"beatboxing\", \"terrorists\", \"unflattering\", \"trenbolone\", \"ology\", \"vfqncz\", \"daveeyboy\", \"ovkcq\", \"buffo\", \"sandiego\", \"shilling\", \"ewot\", \"mezcaline\", \"abnormaly\", \"follicle\", \"celsium\", \"dmy\", \"futur\", \"lumosity\", \"euphorics\", \"dxaed\", \"starseeds\", \"spammy\", \"looklike\", \"micorosing\", \"aclimate\", \"unwighted\", \"dinosaurs\", \"laghing\", \"behemoth\", \"siao\", \"lamotrigin\", \"samsara\", \"uczesieact\", \"serotonin\", \"trip\", \"time\", \"md\", \"experience\", \"thought\", \"find\", \"felt\", \"first\", \"mushroom\", \"need\", \"though\", \"like\", \"effect\", \"maybe\", \"ever\", \"never\", \"long\", \"feel\", \"able\", \"two\", \"dose\", \"week\", \"high\", \"ug\", \"depression\", \"anything\", \"everyone\", \"know\", \"focus\", \"change\", \"well\", \"really\", \"work\", \"good\", \"say\", \"make\", \"also\", \"want\", \"way\", \"even\", \"people\", \"see\", \"thing\", \"help\", \"could\", \"zomba\", \"fg\", \"dpla\", \"bolivia\", \"huidance\", \"impostor\", \"tryp\", \"numers\", \"disapear\", \"dianabol\", \"lyt\", \"aquafina\", \"mpg\", \"benifital\", \"neocortex\", \"nf\", \"fetterman\", \"dmaa\", \"dozer\", \"mindmend\", \"nosoftware\", \"discolouration\", \"abscess\", \"skyy\", \"intercollegiate\", \"ouatih\", \"divvying\", \"skillshare\", \"disslove\", \"alernate\", \"polka\", \"bienvenido\", \"segunda\", \"bioscience\", \"mimosa\", \"halfords\", \"vapour\", \"tea\", \"shrooms\", \"water\", \"stomach\", \"vodka\", \"good\", \"md\", \"mg\", \"feel\", \"stop\", \"still\", \"could\", \"distil\", \"make\", \"work\", \"mushroom\", \"thanks\", \"taste\", \"dose\", \"pretty\", \"like\", \"coffee\", \"alcohol\", \"experience\", \"really\", \"sure\", \"people\", \"first\", \"well\", \"anxiety\", \"effect\", \"something\", \"time\", \"help\", \"week\", \"way\", \"know\", \"find\", \"ug\", \"need\", \"trip\", \"thing\", \"also\", \"say\", \"want\"], \"Freq\": [50057.0, 20007.0, 46445.0, 31165.0, 13681.0, 12146.0, 14640.0, 31139.0, 26398.0, 21358.0, 54622.0, 29442.0, 20636.0, 18196.0, 21844.0, 23999.0, 18826.0, 37082.0, 14361.0, 26017.0, 28160.0, 5977.0, 18474.0, 14403.0, 10144.0, 14981.0, 3900.0, 12315.0, 3970.0, 21316.0, 3.841411198420382, 3.841411198420382, 3.816949136503857, 3.781838178805923, 3.6311745780119065, 8.648789256924822, 7.674316527758983, 2.8219753608822056, 2.7779003110406544, 2.7786057427238746, 2.781516890374347, 2.775989589476144, 2.7718769369567657, 2.7706070653016597, 2.7573772642003536, 3.6784782434177066, 3.6645068164522505, 2.7477321063907434, 2.733196002890127, 3.5870789471655127, 3.5701213819917097, 3.854592504050508, 2.6670467608203223, 2.6429991577599345, 2.5978075292648626, 2.5847322039815115, 4.074469314439838, 2.9864514181215163, 1.9159687744922294, 8.75767649321124, 6.350311625525178, 24.638977180403813, 19.66513971817042, 8076.141364562092, 3407.8260293578123, 3283.189023457079, 8366.781867557524, 4706.671742309045, 2562.3279037906223, 4194.948241995057, 4613.338302835703, 7105.399662149428, 6317.3724379109235, 8973.097006021764, 2936.7725779589828, 3244.434130248441, 3787.4532030436626, 4695.414812675608, 1285.8476776207792, 797.8260459809136, 592.4753163794039, 2018.963516745509, 5192.8010494370965, 5143.345653695688, 5052.905538249499, 11170.11537817483, 1224.079909112453, 1354.3954025535827, 2140.3323309924976, 2723.1014221724745, 4311.825548585529, 5832.193683653145, 4536.23063613419, 3185.8016843191026, 4870.0825362002415, 2715.9204361158013, 3357.7667273203824, 6536.77622205498, 5550.888171842438, 6136.1114044925325, 9306.926135453308, 4699.677281662695, 6276.566976392686, 4165.85609176357, 8208.638357461236, 5019.312554090977, 4076.393175674843, 4945.870475063515, 4044.332606770488, 6.89921933443378, 3.688752236716125, 3.687436057027023, 3.569747175010985, 3.552528447784147, 3.5217885453666313, 3.3137117454247944, 5.221131137554986, 2.5314935606177156, 2.5274303902728343, 2.519641934518184, 2.5176626960884265, 2.5194371697763853, 2.5089858479325637, 3.7930232503581727, 6.3101328967545856, 2.4293000077702835, 2.4096804948348605, 4.0213904797652775, 2.3904862269614124, 3.206439518535569, 1.9219920088477453, 3.0463389127080367, 4.0373362451435515, 2.245354940649739, 2.8951952621097985, 1.829494852303406, 4.4890985722929075, 3.315847446303985, 1.70810922714127, 2.53488673887854, 984.1365857613945, 2030.6111689640657, 15708.995021713168, 1358.9837033319125, 6188.730098163066, 1371.766673432808, 12506.414260070082, 835.6225507862646, 1278.9092446497345, 5717.237542753064, 6255.649915164616, 4798.48338367177, 6507.749032403478, 3329.0603280691876, 2687.45815162125, 1443.907286922538, 3654.454832101381, 3912.6935709849413, 6682.875095641725, 2226.7865521562885, 6223.862942924349, 4477.267788748087, 3150.480239548423, 3084.447890502299, 5800.666630306752, 3488.713683327234, 1523.625338473817, 5043.282544496481, 10202.337295372316, 6737.21653348837, 7684.317602356578, 4883.7891701285325, 6456.070945055597, 6035.217074524082, 4152.949132535992, 4675.807859889808, 4268.88368638666, 5224.924752450647, 4201.108113617957, 4571.573210247234, 4316.264062249065, 3769.218401567129, 3788.612771277827, 3610.83045728446, 6.090598157205434, 5.906734494588944, 3.0467581656661182, 2.8940642477863268, 14.871329726197892, 14.736379148177315, 37.14598352009847, 2.1499132769861635, 2.1538066540112144, 3.16202880508574, 2.0631990254622123, 2.6571766093324043, 3.39820166293574, 2.690845218563767, 1.602551602424776, 1.9595762298512365, 2.3276508556153948, 3.237036373506161, 2.30451936574159, 5.273577374893581, 2.4857210282010644, 1.9533012420888365, 2.9188241204564678, 1.942618192783316, 1.617641438776055, 3.221481558033935, 2.4732878816011254, 2.866542751748698, 2.1880587706182015, 5.057993172263729, 215.27232462869213, 15.736285203964004, 13821.606783657926, 10.83990169587678, 958.7851562989713, 7872.454624201232, 7180.589754742377, 2285.52801937276, 642.8500527841683, 4909.91056087106, 5280.198497446905, 3473.1108333624857, 7043.766352128729, 1633.5113193425111, 2399.034115495196, 6247.4015626803175, 5006.200624274226, 3501.1651644599506, 9552.57271470646, 2897.7889935164008, 726.2025337274473, 1133.9904650080123, 5663.900535752366, 5271.427454182027, 5494.694051619311, 4680.6423111729755, 10192.616127176982, 2879.9858899268825, 2173.4518617093877, 4524.85775928133, 4124.782120816982, 3867.7899441162485, 6854.023045733578, 3801.791780555359, 4815.743871249059, 4648.686427574714, 4881.531046019974, 5142.489376943796, 3654.598605185788, 4027.605034439057, 3167.4476755847477, 3474.0950851920056, 3699.0267539563565, 3310.7747532708067, 3327.857667289598, 3.772767766636642, 3.754170555824603, 3.7541540790214367, 3.7037342767224204, 3.686402249010663, 2.667489294952097, 3.4742669389861356, 2.6630309466286417, 2.663030750476223, 2.6629628817393707, 2.6510022918598763, 2.5929545143044677, 2.431969282033584, 1.9701852965277304, 7.696554065000232, 3.180245644120299, 3.180245644120299, 3.881151393255885, 5.140287506774892, 3.1620442688890926, 2.3458934815299486, 2.2720011000533917, 5.0524626151541705, 1.4732185305272458, 1.450277524404242, 1.449042058395386, 1.448847769424715, 1.448704676235311, 1.4490057701979362, 1.4487267433824091, 2.172221895430572, 2.9001470517776955, 1.8329609874898005, 2.1572378121700333, 861.0298032429522, 5447.419282505701, 8293.019254420777, 4757.366899338236, 5951.104446951283, 1955.9615675183045, 4983.430898457814, 2965.707870256704, 4103.713575829277, 3960.108262275469, 3911.6873253065683, 2194.2557358478116, 9154.892971275967, 5229.092815260598, 2619.8029158374284, 1373.9035127570603, 2392.4222789151104, 3001.9309764880227, 8262.777761273459, 1559.2710508772268, 2195.2955884648654, 9328.26333787517, 4113.615174170072, 2665.6331595371066, 4187.978796924847, 2524.144308611442, 2364.69334446718, 1313.7776556787894, 4933.623223519406, 1398.7435771519135, 2138.422660328683, 4354.217023920737, 4515.500836264849, 4952.5378152216945, 5062.975907751033, 3851.204339011932, 4862.825268846133, 4109.188218079697, 3995.0314020904125, 3502.2051351111577, 3283.918036441088, 3601.9675145641154, 3188.6388538999804, 3442.865444373074, 3720.2013883901714, 3204.6743172629117, 6.062256996242559, 3.1282740105870785, 3.232927917296669, 3.1147732889287076, 3.0544603403123074, 2.6351346399941837, 2.7358508362200826, 2.7588742693856605, 2.623651399622708, 2.243945767839195, 2.231194586690301, 3.3138586420691145, 2.9060989463155815, 2.1830168338096523, 2.1575967361223247, 2.535326518506827, 2.0967169277204856, 1.757824700905912, 3.374953604067542, 1.953779502604937, 3.2428942582011757, 1.8971874456001245, 2.8703627998655152, 1.2433165981633068, 1.2387660662899516, 1.220768101574718, 1.2201780111958396, 1.2199529492099346, 1.2198625247494488, 1.2196715176478337, 5.525920711835547, 2.359484081844927, 2.359484081844927, 3.038510664481004, 13.858798525233025, 4.964856751300506, 10.244236087523367, 656.9030497045914, 3223.6572459048266, 2865.9158641158624, 654.2298268830092, 1015.7269618273106, 6065.561254571282, 3896.6474219495412, 2952.5646734021316, 7915.011616494301, 1625.907784056047, 2830.3542332109273, 3476.5037276404946, 488.6803169663715, 5390.337893436053, 5137.598159857583, 3389.745782858049, 2752.1509766108124, 386.5761735483136, 8222.579318109772, 1701.3480368365529, 7571.47285533902, 909.0005464666945, 1106.933286486336, 4379.7547944871285, 4260.128307692119, 2299.3767920902364, 3598.4762865548764, 3245.283467617498, 4019.7918232541197, 2910.402561793278, 4123.949035562947, 2339.2508098120625, 5277.557271687146, 4248.305864020362, 3311.4025258792453, 3187.1289132376646, 4069.964139233911, 3408.4028369778657, 3265.1120230790857, 2917.01924229741, 3219.361399936575, 3196.749889322484, 3235.906682205374, 2954.0915472033275, 2963.5266518962208], \"Total\": [50057.0, 20007.0, 46445.0, 31165.0, 13681.0, 12146.0, 14640.0, 31139.0, 26398.0, 21358.0, 54622.0, 29442.0, 20636.0, 18196.0, 21844.0, 23999.0, 18826.0, 37082.0, 14361.0, 26017.0, 28160.0, 5977.0, 18474.0, 14403.0, 10144.0, 14981.0, 3900.0, 12315.0, 3970.0, 21316.0, 4.687501148542043, 4.687501148542043, 4.66568043622489, 4.6343915723047475, 4.50038065823389, 10.891257290163454, 9.696410659983712, 3.6677146539652115, 3.6106776104170577, 3.611818006646239, 3.6164429069475776, 3.6098928970033506, 3.60713754513175, 3.605851133147311, 3.5996083461294845, 4.810745278423389, 4.807524862988596, 3.606137006289848, 3.6062201058042587, 4.782463022737549, 4.782999530728417, 5.178525714168797, 3.596608415099943, 3.5842522138227713, 3.57018632095212, 3.5997451122459783, 5.736815307266231, 4.233225858356594, 2.755948612415779, 12.609823143846361, 9.432788644225779, 41.319968669685146, 32.33956598601196, 23999.649908372503, 10144.253703320324, 9769.474657985766, 28160.65359255358, 14981.56365935646, 8359.757454706018, 14655.715558752805, 16752.843704281324, 27581.31334003371, 24734.561422684776, 37082.01418021984, 10564.869792332658, 12033.972708984644, 14449.163558544282, 18826.680619168746, 4193.517115713164, 2427.9458262442445, 1738.623224811077, 7239.863375607889, 21722.02179132181, 21738.96734472796, 21358.12171241529, 54622.56918304993, 4062.7350247908153, 4630.923699158671, 7945.612270213897, 10560.452043414465, 18220.525271027444, 26398.526671091156, 19619.230491686656, 12888.603760150796, 21530.482094096362, 10654.551772081495, 13811.081162805858, 31165.15068156162, 25715.797394222856, 29442.054208838268, 50057.23604109853, 21316.38537949111, 31139.401296364475, 18474.078354394973, 46445.41471000554, 24464.715187679507, 17984.38641790713, 26017.46932043072, 21844.81327161603, 8.285910152478653, 4.54458741838358, 4.546673083434795, 4.42949629580888, 4.414351315689329, 4.387307903402208, 4.204858675376311, 6.8328888715017095, 3.3859712867324907, 3.385903425603391, 3.3823865801735313, 3.3835349048729, 3.3933056119610137, 3.3815311204103162, 5.128066277126481, 8.692225735717633, 3.398933366642372, 3.372904922946202, 5.66475161689522, 3.3701399071836686, 4.540337796787782, 2.7762576538268653, 4.499611425320203, 6.05344648488737, 3.3707209908966296, 4.350621747503565, 2.757209313653575, 6.801312871388632, 5.047782022583074, 2.6436986130919418, 3.9684533482347835, 2395.952189351157, 5759.973242484049, 54622.56918304993, 3752.8813159766732, 20636.990937213784, 3970.500045405709, 46445.41471000554, 2335.860606619464, 3825.0272765412083, 21316.38537949111, 24464.715187679507, 18186.078197262592, 25715.797394222856, 12138.539840268359, 9520.793952767528, 4678.072051394413, 13623.105412762245, 14800.607840853365, 28160.65359255358, 7982.6534448848215, 26017.46932043072, 17984.38641790713, 12033.972708984644, 11749.63343508816, 24734.561422684776, 13601.75394444633, 5185.806489919726, 21722.02179132181, 50057.23604109853, 31139.401296364475, 37082.01418021984, 21844.81327161603, 31165.15068156162, 29442.054208838268, 18474.078354394973, 21738.96734472796, 19619.230491686656, 27581.31334003371, 21530.482094096362, 26398.526671091156, 23999.649908372503, 18220.525271027444, 18826.680619168746, 21358.12171241529, 6.989094620510502, 6.804307337684217, 3.938158427176391, 3.808108748930476, 20.09598350512012, 20.20143592687395, 51.24816980052847, 3.037590953200048, 3.0446516055371315, 4.492716197422209, 3.0474088558614136, 4.0173515389237116, 5.176881668278785, 4.1317676594553845, 2.4925266864667757, 3.0511981985011807, 3.642752944839576, 5.0789676173873595, 3.624599327562649, 8.315167013532168, 3.9284485971796568, 3.1027946387492116, 4.63730647169422, 3.1021541107327435, 2.606242869516901, 5.223897087910767, 4.0354777373658886, 4.680566520903074, 3.6354311579783243, 8.430049534244231, 370.6006437981155, 26.384959250948164, 50057.23604109853, 20.325976862553528, 2819.272103073632, 31139.401296364475, 29442.054208838268, 8167.746971943458, 2025.71270109511, 20007.38805724451, 21738.96734472796, 13811.081162805858, 31165.15068156162, 5977.258171825442, 9258.22978557997, 27581.31334003371, 21530.482094096362, 14640.854382779993, 46445.41471000554, 11862.475254167548, 2432.1465230795043, 4072.3960921327634, 26398.526671091156, 24734.561422684776, 26017.46932043072, 21722.02179132181, 54622.56918304993, 12334.171537335387, 8867.826624218358, 21844.81327161603, 19619.230491686656, 18186.078197262592, 37082.01418021984, 18196.460671885667, 24464.715187679507, 23999.649908372503, 25715.797394222856, 28160.65359255358, 17984.38641790713, 21358.12171241529, 14981.56365935646, 18474.078354394973, 21316.38537949111, 18220.525271027444, 20636.990937213784, 4.624620408338899, 4.602482160239407, 4.602473433307214, 4.557739827032069, 4.542380127667798, 3.5116297254966162, 4.576015374078695, 3.507844821511251, 3.5083705765323576, 3.5103847137989734, 3.5025234825610307, 3.501741840799753, 3.469864943656589, 2.8152387161094237, 11.002960063245318, 4.585355479684701, 4.585355479684701, 5.661244242790952, 7.5385603654022715, 4.661052000896151, 3.47626001622346, 3.4450101420260744, 7.791169284783145, 2.3179877500026542, 2.291693918460335, 2.2909865332278545, 2.2908947766766024, 2.2908101621275905, 2.2913154224308077, 2.2911183442153127, 3.4436530974205875, 4.650834797825361, 2.9234934442084755, 3.475789117711883, 2703.8000841770413, 21358.12171241529, 37082.01418021984, 20007.38805724451, 26398.526671091156, 7473.311646432389, 21844.81327161603, 12450.150184769549, 18826.680619168746, 18196.460671885667, 18220.525271027444, 9317.582183540893, 50057.23604109853, 26017.46932043072, 11630.973606013013, 5453.709845179699, 10531.339691495396, 13814.760649824395, 46445.41471000554, 6437.903008075291, 9740.161216636472, 54622.56918304993, 20636.990937213784, 12315.372991197519, 21530.482094096362, 11793.793889555312, 11010.950864796068, 5442.448863037812, 27581.31334003371, 5940.247761298006, 10017.59064093349, 24464.715187679507, 25715.797394222856, 29442.054208838268, 31165.15068156162, 21722.02179132181, 31139.401296364475, 24734.561422684776, 23999.649908372503, 19619.230491686656, 17984.38641790713, 21316.38537949111, 18186.078197262592, 21738.96734472796, 28160.65359255358, 18474.078354394973, 6.9636552245062875, 4.017832287844479, 4.157530070996246, 4.029928145256977, 3.9544391900307696, 3.5195090397639333, 3.6559662193619906, 3.702553200651799, 3.618893249813877, 3.123221420718657, 3.1216363739492934, 4.672145043176314, 4.097441396531654, 3.129464116354085, 3.1375906000117135, 3.69580780245043, 3.139992221308762, 2.668804470286385, 5.17952109871523, 3.1767659192461775, 5.361544681115754, 3.18046552164153, 4.8664354015561475, 2.121895900642788, 2.119252586917888, 2.099252608951975, 2.098578617804187, 2.098580957063927, 2.0984258258024315, 2.0982757730365895, 9.672664623412494, 4.08875503540637, 4.08875503540637, 5.328071907578657, 26.562990317500343, 9.052437550997633, 19.88459410359277, 2239.043284732271, 13681.890624787047, 12146.979155669746, 2342.2698611226683, 3900.028109046384, 31165.15068156162, 20007.38805724451, 14640.854382779993, 46445.41471000554, 7413.943964080027, 14361.960650025776, 18474.078354394973, 1839.0469603010881, 31139.401296364475, 29442.054208838268, 18196.460671885667, 14403.319633975823, 1408.680427094675, 54622.56918304993, 8233.23378788225, 50057.23604109853, 3907.4078431077496, 5024.800836661659, 26398.526671091156, 25715.797394222856, 12334.171537335387, 21316.38537949111, 18826.680619168746, 24464.715187679507, 16752.843704281324, 26017.46932043072, 12888.603760150796, 37082.01418021984, 28160.65359255358, 20636.990937213784, 19619.230491686656, 27581.31334003371, 21844.81327161603, 21530.482094096362, 18220.525271027444, 21358.12171241529, 21738.96734472796, 24734.561422684776, 21722.02179132181, 23999.649908372503], \"Category\": [\"Default\", \"Default\", \"Default\", \"Default\", \"Default\", \"Default\", \"Default\", \"Default\", \"Default\", \"Default\", \"Default\", \"Default\", \"Default\", \"Default\", \"Default\", \"Default\", \"Default\", \"Default\", \"Default\", \"Default\", \"Default\", \"Default\", \"Default\", \"Default\", \"Default\", \"Default\", \"Default\", \"Default\", \"Default\", \"Default\", \"Topic1\", \"Topic1\", \"Topic1\", \"Topic1\", \"Topic1\", \"Topic1\", \"Topic1\", \"Topic1\", \"Topic1\", \"Topic1\", \"Topic1\", \"Topic1\", \"Topic1\", \"Topic1\", \"Topic1\", \"Topic1\", \"Topic1\", \"Topic1\", \"Topic1\", \"Topic1\", \"Topic1\", \"Topic1\", \"Topic1\", \"Topic1\", \"Topic1\", \"Topic1\", \"Topic1\", \"Topic1\", \"Topic1\", \"Topic1\", \"Topic1\", \"Topic1\", \"Topic1\", \"Topic1\", \"Topic1\", \"Topic1\", \"Topic1\", \"Topic1\", \"Topic1\", \"Topic1\", \"Topic1\", \"Topic1\", \"Topic1\", \"Topic1\", \"Topic1\", \"Topic1\", \"Topic1\", \"Topic1\", \"Topic1\", \"Topic1\", \"Topic1\", \"Topic1\", \"Topic1\", \"Topic1\", \"Topic1\", \"Topic1\", \"Topic1\", \"Topic1\", \"Topic1\", \"Topic1\", \"Topic1\", \"Topic1\", \"Topic1\", \"Topic1\", \"Topic1\", \"Topic1\", \"Topic1\", \"Topic1\", \"Topic1\", \"Topic1\", \"Topic1\", \"Topic1\", \"Topic1\", \"Topic1\", \"Topic1\", \"Topic1\", \"Topic1\", \"Topic1\", \"Topic1\", \"Topic2\", \"Topic2\", \"Topic2\", \"Topic2\", \"Topic2\", \"Topic2\", \"Topic2\", \"Topic2\", \"Topic2\", \"Topic2\", \"Topic2\", \"Topic2\", \"Topic2\", \"Topic2\", \"Topic2\", \"Topic2\", \"Topic2\", \"Topic2\", \"Topic2\", \"Topic2\", \"Topic2\", \"Topic2\", \"Topic2\", \"Topic2\", \"Topic2\", \"Topic2\", \"Topic2\", \"Topic2\", \"Topic2\", \"Topic2\", \"Topic2\", \"Topic2\", \"Topic2\", \"Topic2\", \"Topic2\", \"Topic2\", \"Topic2\", \"Topic2\", \"Topic2\", \"Topic2\", \"Topic2\", \"Topic2\", \"Topic2\", \"Topic2\", \"Topic2\", \"Topic2\", \"Topic2\", \"Topic2\", \"Topic2\", \"Topic2\", \"Topic2\", \"Topic2\", \"Topic2\", \"Topic2\", \"Topic2\", \"Topic2\", \"Topic2\", \"Topic2\", \"Topic2\", \"Topic2\", \"Topic2\", \"Topic2\", \"Topic2\", \"Topic2\", \"Topic2\", \"Topic2\", \"Topic2\", \"Topic2\", \"Topic2\", \"Topic2\", \"Topic2\", \"Topic2\", \"Topic2\", \"Topic2\", \"Topic2\", \"Topic3\", \"Topic3\", \"Topic3\", \"Topic3\", \"Topic3\", \"Topic3\", \"Topic3\", \"Topic3\", \"Topic3\", \"Topic3\", \"Topic3\", \"Topic3\", \"Topic3\", \"Topic3\", \"Topic3\", \"Topic3\", \"Topic3\", \"Topic3\", \"Topic3\", \"Topic3\", \"Topic3\", \"Topic3\", \"Topic3\", \"Topic3\", \"Topic3\", \"Topic3\", \"Topic3\", \"Topic3\", \"Topic3\", \"Topic3\", \"Topic3\", \"Topic3\", \"Topic3\", \"Topic3\", \"Topic3\", \"Topic3\", \"Topic3\", \"Topic3\", \"Topic3\", \"Topic3\", \"Topic3\", \"Topic3\", \"Topic3\", \"Topic3\", \"Topic3\", \"Topic3\", \"Topic3\", \"Topic3\", \"Topic3\", \"Topic3\", \"Topic3\", \"Topic3\", \"Topic3\", \"Topic3\", \"Topic3\", \"Topic3\", \"Topic3\", \"Topic3\", \"Topic3\", \"Topic3\", \"Topic3\", \"Topic3\", \"Topic3\", \"Topic3\", \"Topic3\", \"Topic3\", \"Topic3\", \"Topic3\", \"Topic3\", \"Topic3\", \"Topic3\", \"Topic3\", \"Topic3\", \"Topic3\", \"Topic3\", \"Topic4\", \"Topic4\", \"Topic4\", \"Topic4\", \"Topic4\", \"Topic4\", \"Topic4\", \"Topic4\", \"Topic4\", \"Topic4\", \"Topic4\", \"Topic4\", \"Topic4\", \"Topic4\", \"Topic4\", \"Topic4\", \"Topic4\", \"Topic4\", \"Topic4\", \"Topic4\", \"Topic4\", \"Topic4\", \"Topic4\", \"Topic4\", \"Topic4\", \"Topic4\", \"Topic4\", \"Topic4\", \"Topic4\", \"Topic4\", \"Topic4\", \"Topic4\", \"Topic4\", \"Topic4\", \"Topic4\", \"Topic4\", \"Topic4\", \"Topic4\", \"Topic4\", \"Topic4\", \"Topic4\", \"Topic4\", \"Topic4\", \"Topic4\", \"Topic4\", \"Topic4\", \"Topic4\", \"Topic4\", \"Topic4\", \"Topic4\", \"Topic4\", \"Topic4\", \"Topic4\", \"Topic4\", \"Topic4\", \"Topic4\", \"Topic4\", \"Topic4\", \"Topic4\", \"Topic4\", \"Topic4\", \"Topic4\", \"Topic4\", \"Topic4\", \"Topic4\", \"Topic4\", \"Topic4\", \"Topic4\", \"Topic4\", \"Topic4\", \"Topic4\", \"Topic4\", \"Topic4\", \"Topic4\", \"Topic4\", \"Topic4\", \"Topic4\", \"Topic4\", \"Topic4\", \"Topic4\", \"Topic5\", \"Topic5\", \"Topic5\", \"Topic5\", \"Topic5\", \"Topic5\", \"Topic5\", \"Topic5\", \"Topic5\", \"Topic5\", \"Topic5\", \"Topic5\", \"Topic5\", \"Topic5\", \"Topic5\", \"Topic5\", \"Topic5\", \"Topic5\", \"Topic5\", \"Topic5\", \"Topic5\", \"Topic5\", \"Topic5\", \"Topic5\", \"Topic5\", \"Topic5\", \"Topic5\", \"Topic5\", \"Topic5\", \"Topic5\", \"Topic5\", \"Topic5\", \"Topic5\", \"Topic5\", \"Topic5\", \"Topic5\", \"Topic5\", \"Topic5\", \"Topic5\", \"Topic5\", \"Topic5\", \"Topic5\", \"Topic5\", \"Topic5\", \"Topic5\", \"Topic5\", \"Topic5\", \"Topic5\", \"Topic5\", \"Topic5\", \"Topic5\", \"Topic5\", \"Topic5\", \"Topic5\", \"Topic5\", \"Topic5\", \"Topic5\", \"Topic5\", \"Topic5\", \"Topic5\", \"Topic5\", \"Topic5\", \"Topic5\", \"Topic5\", \"Topic5\", \"Topic5\", \"Topic5\", \"Topic5\", \"Topic5\", \"Topic5\", \"Topic5\", \"Topic5\", \"Topic5\", \"Topic5\", \"Topic5\", \"Topic5\", \"Topic5\", \"Topic5\", \"Topic5\", \"Topic5\", \"Topic5\", \"Topic5\"], \"logprob\": [30.0, 29.0, 28.0, 27.0, 26.0, 25.0, 24.0, 23.0, 22.0, 21.0, 20.0, 19.0, 18.0, 17.0, 16.0, 15.0, 14.0, 13.0, 12.0, 11.0, 10.0, 9.0, 8.0, 7.0, 6.0, 5.0, 4.0, 3.0, 2.0, 1.0, -12.5093, -12.5093, -12.5157, -12.5249, -12.5656, -11.6977, -11.8173, -12.8177, -12.8334, -12.8332, -12.8321, -12.8341, -12.8356, -12.8361, -12.8409, -12.5526, -12.5564, -12.8444, -12.8497, -12.5778, -12.5825, -12.5059, -12.8742, -12.8832, -12.9005, -12.9055, -12.4504, -12.761, -13.2049, -11.6852, -12.0066, -10.6508, -10.8763, -4.8585, -5.7213, -5.7586, -4.8231, -5.3984, -6.0065, -5.5135, -5.4184, -4.9865, -5.1041, -4.7531, -5.8701, -5.7704, -5.6157, -5.4008, -6.696, -7.1732, -7.4708, -6.2448, -5.3001, -5.3097, -5.3274, -4.5341, -6.7452, -6.644, -6.1864, -5.9456, -5.486, -5.184, -5.4353, -5.7887, -5.3643, -5.9482, -5.7361, -5.0699, -5.2334, -5.1332, -4.7166, -5.3999, -5.1106, -5.5205, -4.8422, -5.3341, -5.5422, -5.3488, -5.5501, -11.9004, -12.5265, -12.5269, -12.5593, -12.5642, -12.5728, -12.6337, -12.1791, -12.903, -12.9046, -12.9077, -12.9085, -12.9078, -12.9119, -12.4987, -11.9897, -12.9442, -12.9523, -12.4402, -12.9603, -12.6667, -13.1785, -12.7179, -12.4362, -13.023, -12.7688, -13.2278, -12.3302, -12.6331, -13.2964, -12.9017, -6.9401, -6.2157, -4.1698, -6.6173, -5.1013, -6.608, -4.3978, -7.1036, -6.6781, -5.1806, -5.0906, -5.3558, -5.0511, -5.7214, -5.9355, -6.5567, -5.6281, -5.5598, -5.0245, -6.1235, -5.0957, -5.425, -5.7765, -5.7977, -5.1661, -5.6745, -6.503, -5.306, -4.6014, -5.0164, -4.8849, -5.3381, -5.059, -5.1264, -5.5002, -5.3817, -5.4727, -5.2706, -5.4887, -5.4042, -5.4617, -5.5972, -5.5921, -5.6401, -11.9407, -11.9714, -12.6334, -12.6848, -11.048, -11.0571, -10.1326, -12.982, -12.9802, -12.5962, -13.0232, -12.7702, -12.5242, -12.7576, -13.2759, -13.0747, -12.9026, -12.5728, -12.9126, -12.0848, -12.8369, -13.0779, -12.6763, -13.0834, -13.2665, -12.5776, -12.8419, -12.6944, -12.9644, -12.1265, -8.3756, -10.9915, -4.2135, -11.3642, -6.8818, -4.7763, -4.8683, -6.0131, -7.2816, -5.2485, -5.1757, -5.5947, -4.8876, -6.349, -5.9646, -5.0075, -5.229, -5.5866, -4.5829, -5.7758, -7.1596, -6.714, -5.1056, -5.1774, -5.1359, -5.2963, -4.518, -5.7819, -6.0634, -5.3301, -5.4227, -5.487, -4.9149, -5.5042, -5.2678, -5.3031, -5.2542, -5.2022, -5.5437, -5.4465, -5.6868, -5.5944, -5.5316, -5.6425, -5.6374, -12.34, -12.3449, -12.3449, -12.3585, -12.3632, -12.6867, -12.4224, -12.6883, -12.6883, -12.6884, -12.6929, -12.715, -12.7791, -12.9897, -11.627, -12.5108, -12.5108, -12.3117, -12.0307, -12.5166, -12.8151, -12.8471, -12.0479, -13.2804, -13.2961, -13.2969, -13.297, -13.2971, -13.2969, -13.2971, -12.8921, -12.603, -13.0619, -12.899, -6.9097, -5.0649, -4.6446, -5.2004, -4.9765, -6.0892, -5.1539, -5.6729, -5.3482, -5.3838, -5.3961, -5.9742, -4.5458, -5.1058, -5.797, -6.4424, -5.8877, -5.6608, -4.6483, -6.3158, -5.9737, -4.527, -5.3458, -5.7796, -5.3278, -5.8342, -5.8994, -6.4871, -5.164, -6.4245, -6.0, -5.2889, -5.2525, -5.1602, -5.1381, -5.4117, -5.1784, -5.3468, -5.375, -5.5067, -5.571, -5.4786, -5.6005, -5.5237, -5.4463, -5.5954, -11.702, -12.3636, -12.3307, -12.3679, -12.3875, -12.5351, -12.4976, -12.4893, -12.5395, -12.6958, -12.7015, -12.306, -12.4373, -12.7234, -12.7351, -12.5738, -12.7637, -12.94, -12.2877, -12.8343, -12.3276, -12.8637, -12.4496, -13.2863, -13.29, -13.3046, -13.3051, -13.3053, -13.3053, -13.3055, -11.7946, -12.6456, -12.6456, -12.3927, -10.8752, -11.9017, -11.1774, -7.0165, -5.4258, -5.5434, -7.0206, -6.5807, -4.7937, -5.2362, -5.5136, -4.5276, -6.1103, -5.5559, -5.3503, -7.3124, -4.9117, -4.9597, -5.3756, -5.5839, -7.5467, -4.4894, -6.0649, -4.5719, -6.6917, -6.4947, -5.1193, -5.147, -5.7637, -5.3158, -5.4191, -5.2051, -5.528, -5.1795, -5.7465, -4.9329, -5.1498, -5.3989, -5.4372, -5.1927, -5.3701, -5.413, -5.5258, -5.4271, -5.4342, -5.422, -5.5131, -5.5099], \"loglift\": [30.0, 29.0, 28.0, 27.0, 26.0, 25.0, 24.0, 23.0, 22.0, 21.0, 20.0, 19.0, 18.0, 17.0, 16.0, 15.0, 14.0, 13.0, 12.0, 11.0, 10.0, 9.0, 8.0, 7.0, 6.0, 5.0, 4.0, 3.0, 2.0, 1.0, 1.2844, 1.2844, 1.2826, 1.2801, 1.2688, 1.2529, 1.2495, 1.2213, 1.2212, 1.2212, 1.2209, 1.2208, 1.22, 1.2199, 1.2169, 1.2151, 1.2119, 1.2116, 1.2062, 1.1958, 1.191, 1.1882, 1.1844, 1.1788, 1.1655, 1.1522, 1.1413, 1.1345, 1.1199, 1.1189, 1.0877, 0.9664, 0.986, 0.3943, 0.3926, 0.393, 0.2698, 0.3256, 0.3009, 0.2325, 0.1938, 0.1271, 0.1185, 0.0645, 0.2032, 0.1726, 0.1445, 0.0947, 0.3013, 0.3705, 0.4069, 0.2064, 0.0524, 0.042, 0.042, -0.1038, 0.2838, 0.254, 0.1718, 0.1281, 0.0422, -0.0265, 0.019, 0.0858, -0.0029, 0.1166, 0.0692, -0.0784, -0.0497, -0.0848, -0.199, -0.0286, -0.1182, -0.006, -0.2497, -0.1005, -0.0009, -0.1768, -0.2032, 1.3236, 1.2981, 1.2973, 1.2909, 1.2895, 1.287, 1.2686, 1.2377, 1.2159, 1.2143, 1.2123, 1.2111, 1.209, 1.2083, 1.2052, 1.1865, 1.1709, 1.1705, 1.1641, 1.1633, 1.1589, 1.139, 1.1167, 1.1017, 1.1005, 1.0995, 1.0966, 1.0913, 1.0865, 1.0699, 1.0585, 0.617, 0.4641, 0.2605, 0.491, 0.3024, 0.4439, 0.1947, 0.4788, 0.4112, 0.1907, 0.143, 0.1744, 0.1326, 0.213, 0.2419, 0.3312, 0.1909, 0.1763, 0.0684, 0.23, 0.0764, 0.1162, 0.1666, 0.1693, 0.0565, 0.1461, 0.2819, 0.0465, -0.0838, -0.0241, -0.0672, 0.0087, -0.0675, -0.0781, 0.0142, -0.03, -0.0184, -0.157, -0.1274, -0.2467, -0.2089, -0.0689, -0.0965, -0.2708, 1.4535, 1.4496, 1.3345, 1.3166, 1.29, 1.2757, 1.2693, 1.2455, 1.2449, 1.2398, 1.2011, 1.1777, 1.1701, 1.1622, 1.1494, 1.1483, 1.1432, 1.1406, 1.1382, 1.1357, 1.1334, 1.1283, 1.1281, 1.123, 1.1141, 1.1077, 1.1015, 1.1008, 1.0834, 1.0803, 1.0479, 1.0743, 0.3042, 0.9624, 0.5125, 0.216, 0.18, 0.3175, 0.4433, 0.1862, 0.1759, 0.2107, 0.1039, 0.2939, 0.2406, 0.1061, 0.1323, 0.1604, 0.0096, 0.1817, 0.3824, 0.3126, 0.0519, 0.0452, 0.0361, 0.0562, -0.0877, 0.1365, 0.185, 0.0167, 0.0316, 0.0431, -0.0972, 0.0253, -0.0343, -0.0504, -0.0706, -0.1093, -0.0024, -0.0772, 0.0372, -0.0799, -0.1603, -0.1143, -0.2337, 1.4672, 1.467, 1.467, 1.4633, 1.4619, 1.3958, 1.3953, 1.3952, 1.3951, 1.3945, 1.3922, 1.3703, 1.3153, 1.3138, 1.3134, 1.3048, 1.3048, 1.2932, 1.2878, 1.2827, 1.2775, 1.2545, 1.2376, 1.2175, 1.2132, 1.2127, 1.2126, 1.2125, 1.2125, 1.2124, 1.21, 1.1985, 1.2039, 1.1938, 0.5265, 0.3045, 0.173, 0.2343, 0.181, 0.3303, 0.1929, 0.2361, 0.1474, 0.1458, 0.1322, 0.2247, -0.0281, 0.0662, 0.1802, 0.2921, 0.1887, 0.1443, -0.0558, 0.2528, 0.1808, -0.0967, 0.058, 0.1403, 0.0335, 0.1291, 0.1325, 0.2494, -0.0503, 0.2246, 0.1265, -0.0553, -0.0688, -0.1118, -0.1466, -0.0592, -0.1861, -0.1242, -0.1222, -0.0524, -0.0297, -0.1073, -0.0703, -0.1721, -0.3534, -0.081, 1.6959, 1.5842, 1.5829, 1.5769, 1.5762, 1.5451, 1.5446, 1.5403, 1.5129, 1.5038, 1.4987, 1.491, 1.4909, 1.4743, 1.46, 1.4576, 1.4306, 1.4169, 1.4061, 1.3484, 1.3317, 1.3178, 1.3066, 1.2999, 1.2975, 1.2924, 1.2922, 1.292, 1.292, 1.2919, 1.2746, 1.2847, 1.2847, 1.2729, 1.1839, 1.2338, 1.1712, 0.6082, 0.3889, 0.3903, 0.5591, 0.4891, 0.1978, 0.1985, 0.2333, 0.065, 0.3172, 0.2103, 0.1641, 0.5092, 0.0806, 0.0886, 0.154, 0.1794, 0.5414, -0.0591, 0.2577, -0.0543, 0.3762, 0.3217, 0.0382, 0.0367, 0.1547, 0.0555, 0.0764, 0.0285, 0.0842, -0.0075, 0.128, -0.1152, -0.0569, 0.0048, 0.0171, -0.079, -0.0232, -0.0517, 0.0025, -0.0578, -0.0825, -0.1994, -0.1607, -0.2572]}, \"token.table\": {\"Topic\": [1, 2, 3, 4, 5, 4, 1, 4, 5, 4, 1, 2, 3, 4, 5, 1, 2, 3, 4, 5, 5, 1, 2, 3, 4, 5, 1, 2, 3, 4, 5, 1, 2, 3, 4, 5, 2, 3, 5, 1, 1, 2, 3, 4, 5, 2, 1, 1, 2, 3, 4, 5, 1, 2, 3, 4, 5, 1, 3, 5, 4, 4, 2, 5, 4, 5, 2, 5, 3, 2, 5, 1, 2, 3, 4, 5, 1, 2, 3, 4, 5, 4, 2, 1, 2, 3, 4, 5, 3, 5, 1, 2, 4, 1, 2, 3, 4, 5, 2, 3, 1, 3, 4, 2, 1, 2, 3, 4, 5, 1, 2, 3, 4, 5, 1, 2, 3, 4, 5, 1, 2, 3, 4, 5, 2, 3, 2, 4, 1, 3, 1, 2, 3, 4, 5, 2, 1, 2, 3, 4, 5, 5, 4, 5, 5, 5, 1, 2, 3, 4, 5, 5, 5, 1, 2, 3, 4, 5, 2, 4, 1, 2, 3, 4, 5, 1, 2, 3, 4, 5, 3, 2, 5, 5, 1, 2, 3, 4, 5, 3, 1, 2, 3, 4, 5, 4, 1, 2, 3, 4, 5, 2, 1, 1, 3, 4, 1, 2, 3, 4, 5, 1, 2, 3, 4, 5, 1, 2, 3, 4, 5, 1, 2, 3, 4, 5, 4, 3, 1, 2, 3, 4, 5, 1, 2, 3, 1, 2, 3, 4, 5, 1, 2, 3, 4, 5, 5, 5, 1, 1, 2, 3, 4, 5, 1, 2, 3, 4, 5, 1, 2, 3, 4, 5, 1, 2, 3, 4, 5, 2, 2, 4, 2, 1, 2, 3, 4, 5, 1, 2, 3, 4, 5, 2, 1, 2, 3, 4, 5, 1, 1, 2, 3, 4, 5, 2, 1, 2, 3, 4, 5, 3, 5, 1, 2, 2, 4, 1, 5, 2, 5, 1, 2, 3, 4, 5, 3, 1, 1, 2, 3, 4, 5, 4, 1, 4, 1, 2, 3, 4, 5, 1, 2, 3, 4, 5, 1, 2, 3, 4, 5, 1, 2, 3, 1, 2, 3, 4, 5, 1, 2, 3, 4, 5, 1, 2, 3, 4, 5, 4, 1, 2, 3, 4, 5, 1, 2, 3, 4, 5, 1, 2, 3, 4, 1, 2, 5, 1, 2, 3, 4, 5, 1, 3, 5, 1, 1, 2, 3, 4, 5, 1, 2, 3, 4, 5, 1, 2, 3, 4, 5, 2, 1, 2, 3, 4, 5, 1, 2, 3, 4, 5, 1, 2, 3, 4, 5, 3, 4, 1, 2, 3, 4, 5, 4, 3, 1, 2, 3, 4, 5, 1, 1, 1, 2, 3, 4, 5, 4, 5, 3, 4, 1, 3, 1, 1, 2, 3, 4, 5, 1, 1, 2, 3, 4, 5, 1, 2, 3, 4, 5, 2, 5, 1, 2, 3, 4, 5, 1, 2, 3, 4, 5, 2, 3, 1, 2, 3, 4, 5, 5, 1, 2, 3, 4, 5, 5, 1, 2, 3, 4, 5, 2, 2, 4, 5, 1, 2, 3, 5, 5, 1, 2, 3, 4, 4, 1, 5, 4, 2, 1, 2, 3, 4, 5, 2, 3, 2, 2, 4, 5, 1, 2, 3, 4, 5, 1, 3, 1, 2, 3, 4, 5, 1, 2, 3, 4, 5, 1, 2, 3, 4, 5, 3, 1, 3, 4, 1, 1, 2, 3, 4, 5, 1, 2, 3, 4, 5, 1, 3, 5, 1, 4, 4, 1, 2, 3, 4, 5, 1, 1, 2, 3, 4, 5, 4, 5, 3, 1, 2, 3, 4, 5, 1, 1, 2, 3, 4, 5, 4, 1, 2, 3, 4, 5, 3, 4, 5, 5, 1, 2, 3, 4, 5, 2, 1, 2, 3, 4, 5, 1, 2, 3, 4, 5, 3, 4, 5, 4, 1, 2, 3, 4, 5, 1, 2, 3, 4, 5, 1, 2, 3, 4, 5, 1, 1, 2, 3, 4, 5, 1, 2, 3, 4, 5, 1, 2, 3, 4, 5, 3, 4, 2, 1, 2, 3, 4, 5, 1, 2, 3, 4, 5, 1, 2, 3, 4, 5, 3, 4, 1, 2, 3, 4, 5, 1, 2, 3, 4, 5, 1, 2, 3, 4, 5, 1, 2, 3, 4, 5, 1, 2, 3, 4, 5, 1, 2, 3, 4, 5, 1, 2, 3, 4, 5, 1, 2, 3, 4, 5, 1, 1, 2, 3, 4, 5, 4, 1, 2, 3, 4, 5, 1, 2, 3, 4, 5, 1, 2, 3, 4, 5, 5, 1, 2, 3, 4, 5, 1, 3, 5, 4, 1, 2, 3, 4, 5, 4, 4, 1, 2, 3, 4, 5, 4, 1, 2, 3, 4, 5, 1, 2, 3, 1, 3, 1, 2, 3, 4, 5, 1, 2, 3, 4, 5, 1, 2, 3, 4, 5, 1, 2, 3, 4, 5, 1, 2, 3, 4, 5, 1, 2, 3, 4, 5, 1, 2, 3, 4, 5, 3, 1, 2, 3, 4, 5, 1, 3, 5, 1, 1], \"Freq\": [0.1915219906937716, 0.18965802971378354, 0.2151321631069535, 0.24215959731678013, 0.1615432849322972, 0.7104193291160548, 0.2054892169492743, 0.2054892169492743, 0.616467650847823, 0.43649318121091857, 0.1456277584874309, 0.22559961230086753, 0.31741914816073924, 0.16932312258030102, 0.14167853113861922, 0.25274633588139456, 0.17513131935088758, 0.20975955749526762, 0.1420951841096974, 0.2203072392289006, 0.4765817786442898, 0.2553916316545843, 0.23453013380215978, 0.21310262631808036, 0.16612382689072136, 0.1308290834310962, 0.2753562369128479, 0.18934098926675774, 0.19148987817394666, 0.17006068046059042, 0.173701853331105, 0.19553261352600498, 0.2443930622380304, 0.17727805926742302, 0.2147861732415243, 0.16801455412127692, 0.8866466829348972, 0.2140344511479805, 0.6421033534439415, 0.8318959775005027, 0.7137292805246069, 0.07930325339162299, 0.07930325339162299, 0.07930325339162299, 0.07930325339162299, 0.5884198906716712, 0.8341191627659125, 0.25784881071431714, 0.23341803834402927, 0.16968970576572026, 0.1892911394116489, 0.14980419337129994, 0.233087946719096, 0.21201308716040737, 0.24429977200431832, 0.16531119837835342, 0.14533223151671662, 0.8179480365945762, 0.5794994346466187, 0.19316647821553956, 0.8649358534999732, 0.4364680691963518, 0.9117208292807842, 0.6390870531310188, 0.2445732237173785, 0.489146447434757, 0.18768515465746596, 0.5630554639723979, 0.6568896081123751, 0.8871720806863309, 0.7444301466096485, 0.18991178941526426, 0.2789799175645076, 0.1599718701077127, 0.2014367792742381, 0.16974305716206006, 0.17638970829000578, 0.35260580466240327, 0.19010504978105938, 0.1442715035324752, 0.13663257915771115, 0.8550978109516508, 0.9030372152663808, 0.13216762222581657, 0.2387382239446079, 0.27336948698352437, 0.16345286951218074, 0.1925632065593859, 0.6469272665742022, 0.21564242219140073, 0.7724206117304254, 0.21808559978184336, 0.65425679934553, 0.2027433614327388, 0.24177470280162155, 0.21132826004584346, 0.21342457249788063, 0.13067014284365094, 0.8448076157217339, 0.120686802245962, 0.8250475645607029, 0.10313094557008787, 0.10313094557008787, 0.592960680982676, 0.20729855508396788, 0.17581988560825426, 0.22009476218791652, 0.16430329921470047, 0.2326350451497862, 0.21147518843116875, 0.2742504488848308, 0.19055010161328137, 0.1800875582043377, 0.14359222962038454, 0.2255051602619684, 0.22480147157176064, 0.1880472699832161, 0.17348632708583983, 0.18820965968095635, 0.30127487826086374, 0.22152564578004685, 0.18411242560386115, 0.16639037394145742, 0.12676189730747126, 0.7800211198209016, 0.5091068269127553, 0.6607437891785174, 0.6555922029881729, 0.3223566477694415, 0.644713295538883, 0.23122330486164042, 0.21663936337421755, 0.1995965015197292, 0.21401086229218205, 0.13854744413051723, 0.7061209865000843, 0.23724653003231772, 0.11862326501615886, 0.5931163250807943, 0.11862326501615886, 0.11862326501615886, 0.6403644604678069, 0.43652678713073706, 0.8289827283947357, 0.6288387616186898, 0.47654769956789067, 0.2365355585747424, 0.16204045162131778, 0.19031596666933298, 0.1451838945734626, 0.26589859343229666, 0.4765130033805135, 0.7493992243595812, 0.18621827933090726, 0.1503934294024851, 0.3401587235777906, 0.1287566388516559, 0.19473111495746304, 0.21808559978184336, 0.65425679934553, 0.2369550282457505, 0.28222436209943774, 0.14820192591079517, 0.1716243422666473, 0.160910950032132, 0.204494225867834, 0.2875917452245125, 0.186607846398463, 0.17077190142302198, 0.15054216824630248, 0.8584802933404475, 0.19306804257406115, 0.5792041277221834, 0.7215822733138108, 0.23989467224709507, 0.16374620582016935, 0.25912080986977987, 0.1692548182850959, 0.1679586741757014, 0.6554801982324342, 0.11711371229879583, 0.3455484156428987, 0.15741090362741375, 0.20904168001720547, 0.17075934825501846, 0.5753309564492131, 0.19010303958025843, 0.23922388159068508, 0.21120424635938537, 0.20098034653561894, 0.15850888298200277, 0.9061354010912869, 0.8308689735535485, 0.2145438411345199, 0.2145438411345199, 0.6436315234035597, 0.22664103769153388, 0.24893815646344386, 0.20323184317040144, 0.18260283802232513, 0.1385646383531164, 0.21911690095801656, 0.20591487847351683, 0.19051251890826712, 0.2519385957458701, 0.13257030911518491, 0.20904546848811095, 0.2643810336761403, 0.210667023511936, 0.19012732654348552, 0.1257380791390997, 0.18061722300709296, 0.19127419038696214, 0.247682621173511, 0.24143543339910495, 0.13890805757208777, 0.8567164960723771, 0.6584164987366175, 0.22092142007252938, 0.17319148363710637, 0.21455742854780632, 0.22542924740254155, 0.1659183504659943, 0.6972509634280214, 0.17431274085700535, 0.17431274085700535, 0.17674511146590255, 0.269262317455546, 0.20568230598535353, 0.1779077666028448, 0.17041510016477265, 0.20160399374704088, 0.22232663533538213, 0.20594129082367044, 0.23823005794969054, 0.1319662795722662, 0.6369442530549938, 0.7466712856771495, 0.8573240397999681, 0.18512403606830347, 0.2235770999400579, 0.20714299288058188, 0.2281090681820861, 0.15600957342254654, 0.2493801267983319, 0.20125693300082634, 0.15902962718513436, 0.21798850700327033, 0.1723617702791453, 0.1781070491525788, 0.26833897575539756, 0.20117006024322462, 0.2355120621592228, 0.11683014377305263, 0.09088463415771506, 0.09088463415771506, 0.09088463415771506, 0.7270770732617204, 0.09088463415771506, 0.7134603637377936, 0.17663961438749148, 0.7065584575499659, 0.5933448675821695, 0.235335476226778, 0.26822078294842383, 0.186961777276857, 0.18152982929158515, 0.12787099176139965, 0.20975351817783813, 0.20715446127522152, 0.22602168916088297, 0.16245709997466645, 0.1946404835959563, 0.8797641542721586, 0.11046748396400637, 0.11046748396400637, 0.22093496792801273, 0.11046748396400637, 0.5523374198200318, 0.8334240038157986, 0.2971166834782718, 0.237316935064574, 0.18259519379051914, 0.13209920670959377, 0.15084877153289097, 0.7317549127505591, 0.20965666259929755, 0.2246785381147391, 0.1684074044271662, 0.21647740607657912, 0.1808309014750719, 0.5501410735314837, 0.758641075468569, 0.25198733920982397, 0.7559620176294719, 0.5943204335247476, 0.19810681117491588, 0.8319151476406416, 0.8523916165878697, 0.6667242382571986, 0.4718644706029776, 0.2549145246181855, 0.1974742856394191, 0.18011081470629525, 0.1856483540849672, 0.1818940900994269, 0.7617773777960887, 0.8533331242476865, 0.2576019463760356, 0.18943985500559973, 0.22649392808037924, 0.1788892334158142, 0.1475636765306777, 0.4364305281632161, 0.21501516253976174, 0.6450454876192853, 0.2779968005030688, 0.19441791904436614, 0.18429001381664112, 0.19773078524035095, 0.1455768059835614, 0.2862364504266479, 0.22305290976036043, 0.19958083849772235, 0.17413001704143158, 0.11695095972140036, 0.18592716530250825, 0.20380669822888034, 0.276123915204821, 0.1828906412747892, 0.15124686456487482, 0.6360791306050159, 0.10601318843416932, 0.21202637686833864, 0.14300551615794654, 0.33437670048631374, 0.19947570169746473, 0.22274350962809955, 0.10039144095914346, 0.2189004460615074, 0.26247627358230513, 0.16868611356683813, 0.18213334159083433, 0.167749914147446, 0.21643516495075918, 0.2267140256273504, 0.19095517228765976, 0.21730380106427394, 0.14860916175381558, 0.4314086646915433, 0.24313809761999755, 0.19397467645145128, 0.2514647447987646, 0.15494804315270838, 0.15646856133317888, 0.2693310379644778, 0.2158423972472334, 0.18160966718819696, 0.19155226158034358, 0.14158757836917643, 0.13265132220595255, 0.13265132220595255, 0.13265132220595255, 0.6632566110297626, 0.8316843930858272, 0.7253711171277751, 0.6406896128871438, 0.20157741442295615, 0.2163496958686404, 0.25279869465310034, 0.15616870580513553, 0.17309260215703898, 0.14928356202301074, 0.7464178101150536, 0.09952237468200716, 0.8310495866762042, 0.1476199094390555, 0.3621217634073582, 0.19771475235339206, 0.19824767621418285, 0.0943275233599741, 0.2449303636663564, 0.19474895858738375, 0.24504313086878104, 0.15234849047571247, 0.1629486075036303, 0.2089249002115981, 0.20694742173222908, 0.20436810197653033, 0.22526059199769013, 0.15450125336635465, 0.7203942318693469, 0.15404309603941696, 0.168037926309059, 0.24540934508550855, 0.23776216997388272, 0.19477804843141075, 0.3286729017485596, 0.1985217276225636, 0.17504509178338076, 0.12973930332179986, 0.16804328811204552, 0.2923822735939246, 0.18376463428983, 0.22047437321964328, 0.17858208291150343, 0.12459717272060154, 0.5517851269218477, 0.5763913098855006, 0.1466444473708596, 0.22485026583366086, 0.23912538902905425, 0.18769396431072297, 0.20169587940668302, 0.4363584473234741, 0.78779262825479, 0.26957016427152175, 0.2617589449615578, 0.1732594921412216, 0.18738616536136915, 0.10786130493971492, 0.8369946703054026, 0.7086794091266957, 0.07529272781770927, 0.15058545563541853, 0.15058545563541853, 0.07529272781770927, 0.5270490947239649, 0.31478554776150847, 0.6295710955230169, 0.7260814855197921, 0.2420271618399307, 0.2136493511061261, 0.6409480533183783, 0.8533331242476865, 0.3064682215819258, 0.1912734919240825, 0.2239299417647795, 0.13218086840282126, 0.14617648976311998, 0.8888137034989708, 0.14703043646275146, 0.5881217458510059, 0.14703043646275146, 0.14703043646275146, 0.14703043646275146, 0.26209129578027496, 0.22741800843252802, 0.17585793044036935, 0.18250191364472806, 0.15211953211646276, 0.24405474129452256, 0.7321642238835677, 0.14759438231610353, 0.09839625487740236, 0.541179401825713, 0.09839625487740236, 0.09839625487740236, 0.20498491807052424, 0.1821782850948493, 0.20894173150244857, 0.21762473875583807, 0.1862999657531038, 0.8801679078323728, 0.8817943843850599, 0.23665618503636307, 0.2068546292676374, 0.18171814208149306, 0.21470292111833308, 0.16009417712223356, 0.6374317924054634, 0.2119388477994358, 0.18848504161374557, 0.20899525269111033, 0.22713159674563194, 0.1635119605334357, 0.8117305228943213, 0.14555663083511625, 0.3578980687592858, 0.14127555345761283, 0.18622686592139873, 0.1695306641491354, 0.8840936664900867, 0.5934471728419559, 0.1865134134799184, 0.5595402404397553, 0.1561031356073423, 0.019512891950917786, 0.7219770021839581, 0.07805156780367115, 0.8102516932023769, 0.11504533250797354, 0.6902719950478412, 0.11504533250797354, 0.11504533250797354, 0.8805956101374824, 0.8295444106795314, 0.4763600129568195, 0.8552259728261123, 0.7565158865294773, 0.22048766319086902, 0.26819744052387195, 0.1735284821580903, 0.1689779920879809, 0.16879034301292484, 0.6895566137693844, 0.2298522045897948, 0.8860086946853709, 0.3101523847667125, 0.10338412825557083, 0.620304769533425, 0.6050343406562534, 0.12100686813125068, 0.09680549450500055, 0.09680549450500055, 0.07260412087875041, 0.24892021280963378, 0.7467606384289013, 0.22676387530108372, 0.18012363528200706, 0.19676351258047972, 0.189597434035882, 0.2066016882095037, 0.1888727005717477, 0.25651103631562, 0.21026700024725514, 0.17152199705484136, 0.17284535579765625, 0.12026216651723197, 0.12026216651723197, 0.6013108325861598, 0.12026216651723197, 0.12026216651723197, 0.5490353121073596, 0.8363891118410246, 0.4956042704637684, 0.2478021352318842, 0.8631122203622393, 0.21585953236849859, 0.2530740112870093, 0.18984439506809764, 0.17561189842841643, 0.1656569281012077, 0.30666382526050534, 0.24895570262205877, 0.1812321206827248, 0.15428576589700385, 0.10873927240963487, 0.14850429498474924, 0.7425214749237462, 0.04950143166158308, 0.8333923393059958, 0.684113044262869, 0.8546071854196773, 0.23906614448175634, 0.2321607099213359, 0.21549559451552117, 0.17728552328119462, 0.13599102460988027, 0.8402922789754964, 0.20196767880129693, 0.26382818483218695, 0.21269016651331785, 0.17535391442889622, 0.14615575558231614, 0.2445732237173785, 0.489146447434757, 0.6677474979882578, 0.15681632768683537, 0.16643242325253754, 0.16791182257033788, 0.31844070315652184, 0.19047266216679298, 0.8306066347970993, 0.18956898654612306, 0.19153343200255957, 0.2784601434498751, 0.21191455361308836, 0.1286711773965913, 0.856525306664443, 0.20084943487426624, 0.2036268288062976, 0.17599906811398586, 0.18396580334007576, 0.2356399483386588, 0.6562952641399535, 0.5807785927967215, 0.4765124722179293, 0.4712766539098685, 0.27887266585752063, 0.23425856428645614, 0.14447786453044406, 0.21478305864707506, 0.12762671780700793, 0.8869477006516762, 0.24719512363709473, 0.2175565369360997, 0.17201242595839267, 0.18171091637102194, 0.18147815260111883, 0.20324707488580343, 0.2938790722257727, 0.1766359777944933, 0.19476237726248716, 0.13151281316140223, 0.12835043925346226, 0.6417521962673113, 0.12835043925346226, 0.580549814818183, 0.23067881055599843, 0.20004232500071945, 0.1799893526372641, 0.1921743184831137, 0.19704830482145352, 0.1891327755836241, 0.19724456505560797, 0.16650515231966906, 0.1677859611836665, 0.27921633235144505, 0.2236326586811121, 0.21000968007629164, 0.18235907993779465, 0.16482455302069904, 0.21931646743998087, 0.831981102165329, 0.20884671917543068, 0.30867416836163963, 0.1814850200408809, 0.1378773120451922, 0.16310137843485528, 0.21128293798344458, 0.21306660054508533, 0.23349764443297022, 0.1557461718596305, 0.18639273769145784, 0.18348591978443232, 0.10793289399084253, 0.5801393052007786, 0.051268124645650205, 0.07555302579358977, 0.5742839013698513, 0.19142796712328375, 0.886026452294746, 0.3359537428450281, 0.16679393570827097, 0.1890725583265152, 0.14323379939959677, 0.16492095416071947, 0.1959280435018428, 0.1916687382083245, 0.1753414012498376, 0.16185360115369624, 0.27472519143193175, 0.17194844004368393, 0.19561926425748977, 0.152743809077766, 0.18624025843692518, 0.29342889638623465, 0.7673881906373232, 0.8690962530079491, 0.33604672870678975, 0.1921290617674823, 0.17605859682475733, 0.1705311757616545, 0.12528821076366453, 0.2286278499459375, 0.19564934137493226, 0.19502448542306056, 0.189609067173506, 0.19106706439453994, 0.34049930516965693, 0.16277247189698127, 0.19440669788402712, 0.14206643306909672, 0.16047180091610522, 0.23657977485518686, 0.2150976136929523, 0.24288182213404366, 0.15837918818324098, 0.1470631032883594, 0.2478110688498942, 0.1976907703861001, 0.1794456938575241, 0.23546881119821045, 0.13952117345381657, 0.2007142309816653, 0.21422898920109743, 0.17288185761887437, 0.26173135720009155, 0.15053567323624897, 0.24197714709861542, 0.20721636000287094, 0.1848335413143776, 0.22363941612491003, 0.14233315305767216, 0.1848735036953166, 0.21523683410355404, 0.2798813440049628, 0.195157857543268, 0.12500387236617103, 0.7257029361831467, 0.6184374895028192, 0.09276562342542287, 0.09276562342542287, 0.12368749790056383, 0.09276562342542287, 0.8776279804906589, 0.23658447442326988, 0.16906917418215467, 0.18859336294813597, 0.2550317894683457, 0.150715500330201, 0.18748870418490565, 0.2191479809880586, 0.2985017527154419, 0.17063116718582422, 0.1241701505785998, 0.1193679912608987, 0.41069266923330183, 0.14399285659094424, 0.16402664533403213, 0.1623571629387748, 0.8205765097368803, 0.22669029299316662, 0.19886734489482052, 0.17145506761711424, 0.22535561282608726, 0.17761512992671116, 0.8263508757734003, 0.09181676397482225, 0.09181676397482225, 0.5754089020557734, 0.22619094076557392, 0.19511871502180206, 0.23250756662678912, 0.1945149199027153, 0.15164546644755622, 0.8690979009357817, 0.43651066394707944, 0.10058037843672342, 0.10058037843672342, 0.15087056765508514, 0.10058037843672342, 0.5029018921836171, 0.8543041933544798, 0.18950190343084655, 0.037900380686169306, 0.6064060909787089, 0.037900380686169306, 0.11370114205850793, 0.8320289783199168, 0.6607805999418898, 0.16519514998547244, 0.322290101804197, 0.644580203608394, 0.23871622818319727, 0.16794750747582624, 0.19948574170411115, 0.13358878075558087, 0.26051094289380067, 0.33650490864796373, 0.1798359566276141, 0.19371115902728867, 0.16646076152162148, 0.12350180153944583, 0.2440112856056494, 0.1621802404329046, 0.20935246265019108, 0.14851429123906595, 0.23594343608157595, 0.2312017284226341, 0.2175926319744764, 0.21025289456423404, 0.17849833618519942, 0.16244266060029428, 0.17904742078153302, 0.2998983727244676, 0.16126382039538345, 0.19935076836136045, 0.16044005688975801, 0.20515260290165083, 0.2557152189186546, 0.19685493834914333, 0.17797059833309178, 0.16431828325655237, 0.20840937104714732, 0.20497890389008053, 0.24390281836531372, 0.16822875078170155, 0.17451227973276448, 0.8023986306180956, 0.31418616287494994, 0.15739345061804377, 0.21139315441363216, 0.19290376263195355, 0.12408584592830507, 0.1968904067386836, 0.5906712202160508, 0.8616164652846366, 0.8314720003863741, 0.8362952942608439], \"Term\": [\"able\", \"able\", \"able\", \"able\", \"able\", \"abnormaly\", \"abscess\", \"abscess\", \"abscess\", \"aclimate\", \"adderall\", \"adderall\", \"adderall\", \"adderall\", \"adderall\", \"alcohol\", \"alcohol\", \"alcohol\", \"alcohol\", \"alcohol\", \"alernate\", \"also\", \"also\", \"also\", \"also\", \"also\", \"anxiety\", \"anxiety\", \"anxiety\", \"anxiety\", \"anxiety\", \"anything\", \"anything\", \"anything\", \"anything\", \"anything\", \"approvements\", \"aquafina\", \"aquafina\", \"astrodose\", \"ataxia\", \"ataxia\", \"ataxia\", \"ataxia\", \"ataxia\", \"ayaquest\", \"babesia\", \"back\", \"back\", \"back\", \"back\", \"back\", \"bad\", \"bad\", \"bad\", \"bad\", \"bad\", \"banamine\", \"bcaas\", \"bcaas\", \"beatboxing\", \"behemoth\", \"behing\", \"benifital\", \"bienvenido\", \"bienvenido\", \"bioscience\", \"bioscience\", \"blisssed\", \"bobbcastrol\", \"bolivia\", \"brain\", \"brain\", \"brain\", \"brain\", \"brain\", \"break\", \"break\", \"break\", \"break\", \"break\", \"buffo\", \"buller\", \"capsule\", \"capsule\", \"capsule\", \"capsule\", \"capsule\", \"capsuline\", \"capsuline\", \"cardiology\", \"celsium\", \"celsium\", \"change\", \"change\", \"change\", \"change\", \"change\", \"chlorid\", \"chlorid\", \"chocolat\", \"chocolat\", \"chocolat\", \"chomsky\", \"coffee\", \"coffee\", \"coffee\", \"coffee\", \"coffee\", \"come\", \"come\", \"come\", \"come\", \"come\", \"could\", \"could\", \"could\", \"could\", \"could\", \"cut\", \"cut\", \"cut\", \"cut\", \"cut\", \"cyprus\", \"dancer\", \"dapoxetine\", \"daveeyboy\", \"deepfakes\", \"deepfakes\", \"depression\", \"depression\", \"depression\", \"depression\", \"depression\", \"depuis\", \"derivatives\", \"derivatives\", \"derivatives\", \"derivatives\", \"derivatives\", \"dianabol\", \"dinosaurs\", \"disapear\", \"discolouration\", \"disslove\", \"distil\", \"distil\", \"distil\", \"distil\", \"distil\", \"divvying\", \"dmaa\", \"dmt\", \"dmt\", \"dmt\", \"dmt\", \"dmt\", \"dmy\", \"dmy\", \"dos\", \"dos\", \"dos\", \"dos\", \"dos\", \"dose\", \"dose\", \"dose\", \"dose\", \"dose\", \"dosen\", \"dozer\", \"dozer\", \"dpla\", \"drug\", \"drug\", \"drug\", \"drug\", \"drug\", \"druk\", \"dry\", \"dry\", \"dry\", \"dry\", \"dry\", \"dxaed\", \"effect\", \"effect\", \"effect\", \"effect\", \"effect\", \"enteapreneur\", \"eratic\", \"euphorics\", \"euphorics\", \"euphorics\", \"even\", \"even\", \"even\", \"even\", \"even\", \"ever\", \"ever\", \"ever\", \"ever\", \"ever\", \"every\", \"every\", \"every\", \"every\", \"every\", \"everyone\", \"everyone\", \"everyone\", \"everyone\", \"everyone\", \"ewot\", \"exotics\", \"experience\", \"experience\", \"experience\", \"experience\", \"experience\", \"federation\", \"federation\", \"federation\", \"feel\", \"feel\", \"feel\", \"feel\", \"feel\", \"felt\", \"felt\", \"felt\", \"felt\", \"felt\", \"fetterman\", \"fg\", \"fiasco\", \"find\", \"find\", \"find\", \"find\", \"find\", \"first\", \"first\", \"first\", \"first\", \"first\", \"focus\", \"focus\", \"focus\", \"focus\", \"focus\", \"follicle\", \"follicle\", \"follicle\", \"follicle\", \"follicle\", \"freeworld\", \"futur\", \"futur\", \"genital\", \"give\", \"give\", \"give\", \"give\", \"give\", \"good\", \"good\", \"good\", \"good\", \"good\", \"grayhashplug\", \"halfords\", \"halfords\", \"halfords\", \"halfords\", \"halfords\", \"hammond\", \"help\", \"help\", \"help\", \"help\", \"help\", \"hexanicotinate\", \"high\", \"high\", \"high\", \"high\", \"high\", \"huey\", \"huidance\", \"icl\", \"icl\", \"iherb\", \"iherb\", \"imicrodose\", \"impostor\", \"indopan\", \"intercollegiate\", \"keep\", \"keep\", \"keep\", \"keep\", \"keep\", \"kenya\", \"kittums\", \"know\", \"know\", \"know\", \"know\", \"know\", \"laghing\", \"lamotrigin\", \"lamotrigin\", \"last\", \"last\", \"last\", \"last\", \"last\", \"life\", \"life\", \"life\", \"life\", \"life\", \"like\", \"like\", \"like\", \"like\", \"like\", \"linoleum\", \"linoleum\", \"linoleum\", \"lion\", \"lion\", \"lion\", \"lion\", \"lion\", \"little\", \"little\", \"little\", \"little\", \"little\", \"long\", \"long\", \"long\", \"long\", \"long\", \"looklike\", \"lot\", \"lot\", \"lot\", \"lot\", \"lot\", \"love\", \"love\", \"love\", \"love\", \"love\", \"lumosity\", \"lumosity\", \"lumosity\", \"lumosity\", \"luna\", \"lux\", \"lyt\", \"make\", \"make\", \"make\", \"make\", \"make\", \"malatest\", \"malatest\", \"malatest\", \"mandrake\", \"mane\", \"mane\", \"mane\", \"mane\", \"mane\", \"may\", \"may\", \"may\", \"may\", \"may\", \"maybe\", \"maybe\", \"maybe\", \"maybe\", \"maybe\", \"mcs\", \"md\", \"md\", \"md\", \"md\", \"md\", \"medicine\", \"medicine\", \"medicine\", \"medicine\", \"medicine\", \"mental\", \"mental\", \"mental\", \"mental\", \"mental\", \"methylphenidat\", \"mezcaline\", \"mg\", \"mg\", \"mg\", \"mg\", \"mg\", \"micorosing\", \"micreodosing\", \"micro\", \"micro\", \"micro\", \"micro\", \"micro\", \"microdocesing\", \"microg\", \"mimosa\", \"mimosa\", \"mimosa\", \"mimosa\", \"mimosa\", \"mindmend\", \"mindmend\", \"minoxidil\", \"minoxidil\", \"mislabel\", \"mislabel\", \"mistew\", \"ml\", \"ml\", \"ml\", \"ml\", \"ml\", \"modadinil\", \"mois\", \"mois\", \"mois\", \"mois\", \"mois\", \"month\", \"month\", \"month\", \"month\", \"month\", \"mpg\", \"mpg\", \"muse\", \"muse\", \"muse\", \"muse\", \"muse\", \"mushroom\", \"mushroom\", \"mushroom\", \"mushroom\", \"mushroom\", \"mycellim\", \"nairobi\", \"need\", \"need\", \"need\", \"need\", \"need\", \"neocortex\", \"never\", \"never\", \"never\", \"never\", \"never\", \"nf\", \"niacin\", \"niacin\", \"niacin\", \"niacin\", \"niacin\", \"nictonic\", \"noam\", \"nosoftware\", \"nosoftware\", \"nps\", \"nps\", \"nps\", \"nps\", \"numers\", \"offday\", \"offday\", \"offday\", \"offday\", \"ology\", \"orleans\", \"ouatih\", \"ovkcq\", \"parachuted\", \"people\", \"people\", \"people\", \"people\", \"people\", \"pescetarianism\", \"pescetarianism\", \"pitt\", \"polka\", \"polka\", \"polka\", \"poo\", \"poo\", \"poo\", \"poo\", \"poo\", \"poz\", \"poz\", \"pretty\", \"pretty\", \"pretty\", \"pretty\", \"pretty\", \"psilocybin\", \"psilocybin\", \"psilocybin\", \"psilocybin\", \"psilocybin\", \"psycholytic\", \"psycholytic\", \"psycholytic\", \"psycholytic\", \"psycholytic\", \"psylos\", \"pulsatile\", \"pyramids\", \"pyramids\", \"qn\", \"really\", \"really\", \"really\", \"really\", \"really\", \"remove\", \"remove\", \"remove\", \"remove\", \"remove\", \"residents\", \"residents\", \"residents\", \"russell\", \"samsara\", \"sandiego\", \"say\", \"say\", \"say\", \"say\", \"say\", \"scoped\", \"see\", \"see\", \"see\", \"see\", \"see\", \"segunda\", \"segunda\", \"selfie\", \"serotonin\", \"serotonin\", \"serotonin\", \"serotonin\", \"serotonin\", \"setsettingtrip\", \"share\", \"share\", \"share\", \"share\", \"share\", \"shilling\", \"shrooms\", \"shrooms\", \"shrooms\", \"shrooms\", \"shrooms\", \"shud\", \"siao\", \"skillshare\", \"skyy\", \"sleep\", \"sleep\", \"sleep\", \"sleep\", \"sleep\", \"somadome\", \"something\", \"something\", \"something\", \"something\", \"something\", \"sometimes\", \"sometimes\", \"sometimes\", \"sometimes\", \"sometimes\", \"spammy\", \"spammy\", \"spammy\", \"starseeds\", \"still\", \"still\", \"still\", \"still\", \"still\", \"stomach\", \"stomach\", \"stomach\", \"stomach\", \"stomach\", \"stop\", \"stop\", \"stop\", \"stop\", \"stop\", \"subraeganosa\", \"substance\", \"substance\", \"substance\", \"substance\", \"substance\", \"sure\", \"sure\", \"sure\", \"sure\", \"sure\", \"survey\", \"survey\", \"survey\", \"survey\", \"survey\", \"svt\", \"svt\", \"sweetdabpie\", \"tab\", \"tab\", \"tab\", \"tab\", \"tab\", \"taste\", \"taste\", \"taste\", \"taste\", \"taste\", \"tea\", \"tea\", \"tea\", \"tea\", \"tea\", \"televise\", \"terrorists\", \"thank\", \"thank\", \"thank\", \"thank\", \"thank\", \"thanks\", \"thanks\", \"thanks\", \"thanks\", \"thanks\", \"therapist\", \"therapist\", \"therapist\", \"therapist\", \"therapist\", \"thing\", \"thing\", \"thing\", \"thing\", \"thing\", \"though\", \"though\", \"though\", \"though\", \"though\", \"thought\", \"thought\", \"thought\", \"thought\", \"thought\", \"time\", \"time\", \"time\", \"time\", \"time\", \"tolerance\", \"tolerance\", \"tolerance\", \"tolerance\", \"tolerance\", \"tooken\", \"torrent\", \"torrent\", \"torrent\", \"torrent\", \"torrent\", \"trenbolone\", \"trip\", \"trip\", \"trip\", \"trip\", \"trip\", \"true\", \"true\", \"true\", \"true\", \"true\", \"truffle\", \"truffle\", \"truffle\", \"truffle\", \"truffle\", \"tryp\", \"two\", \"two\", \"two\", \"two\", \"two\", \"t\\u043e\", \"t\\u043e\", \"t\\u043e\", \"uczesieact\", \"ug\", \"ug\", \"ug\", \"ug\", \"ug\", \"unflattering\", \"unwighted\", \"vapour\", \"vapour\", \"vapour\", \"vapour\", \"vapour\", \"vfqncz\", \"victoria\", \"victoria\", \"victoria\", \"victoria\", \"victoria\", \"vid\\u0435os\", \"vlog\", \"vlog\", \"vlogs\", \"vlogs\", \"vodka\", \"vodka\", \"vodka\", \"vodka\", \"vodka\", \"want\", \"want\", \"want\", \"want\", \"want\", \"water\", \"water\", \"water\", \"water\", \"water\", \"way\", \"way\", \"way\", \"way\", \"way\", \"week\", \"week\", \"week\", \"week\", \"week\", \"well\", \"well\", \"well\", \"well\", \"well\", \"work\", \"work\", \"work\", \"work\", \"work\", \"xamax\", \"year\", \"year\", \"year\", \"year\", \"year\", \"yeeeep\", \"yeeeep\", \"zomba\", \"\\u0430nd\", \"\\u043ef\"]}, \"R\": 30, \"lambda.step\": 0.01, \"plot.opts\": {\"xlab\": \"PC1\", \"ylab\": \"PC2\"}, \"topic.order\": [5, 2, 1, 3, 4]};\n\nfunction LDAvis_load_lib(url, callback){\n  var s = document.createElement('script');\n  s.src = url;\n  s.async = true;\n  s.onreadystatechange = s.onload = callback;\n  s.onerror = function(){console.warn(\"failed to load library \" + url);};\n  document.getElementsByTagName(\"head\")[0].appendChild(s);\n}\n\nif(typeof(LDAvis) !== \"undefined\"){\n   // already loaded: just create the visualization\n   !function(LDAvis){\n       new LDAvis(\"#\" + \"ldavis_el69731405049769858887513691982\", ldavis_el69731405049769858887513691982_data);\n   }(LDAvis);\n}else if(typeof define === \"function\" && define.amd){\n   // require.js is available: use it to load d3/LDAvis\n   require.config({paths: {d3: \"https://d3js.org/d3.v5\"}});\n   require([\"d3\"], function(d3){\n      window.d3 = d3;\n      LDAvis_load_lib(\"https://cdn.jsdelivr.net/gh/bmabey/pyLDAvis@3.3.1/pyLDAvis/js/ldavis.v3.0.0.js\", function(){\n        new LDAvis(\"#\" + \"ldavis_el69731405049769858887513691982\", ldavis_el69731405049769858887513691982_data);\n      });\n    });\n}else{\n    // require.js not available: dynamically load d3 & LDAvis\n    LDAvis_load_lib(\"https://d3js.org/d3.v5.js\", function(){\n         LDAvis_load_lib(\"https://cdn.jsdelivr.net/gh/bmabey/pyLDAvis@3.3.1/pyLDAvis/js/ldavis.v3.0.0.js\", function(){\n                 new LDAvis(\"#\" + \"ldavis_el69731405049769858887513691982\", ldavis_el69731405049769858887513691982_data);\n            })\n         });\n}\n</script>"
     },
     "execution_count": 58,
     "metadata": {},
     "output_type": "execute_result"
    }
   ],
   "source": [
    "pyLDAvis.enable_notebook()\n",
    "vis = pyLDAvis.gensim_models.prepare(lda_model, corpus, id2word, mds=\"mmds\", R=30)\n",
    "vis"
   ]
  },
  {
   "cell_type": "code",
   "execution_count": 59,
   "metadata": {},
   "outputs": [
    {
     "name": "stdout",
     "output_type": "stream",
     "text": [
      "\n",
      "Perplexity:  -7.640601571310748\n"
     ]
    }
   ],
   "source": [
    "print('\\nPerplexity: ', lda_model.log_perplexity(corpus))"
   ]
  },
  {
   "cell_type": "code",
   "execution_count": 85,
   "outputs": [
    {
     "ename": "AttributeError",
     "evalue": "'LdaMulticore' object has no attribute 'score'",
     "output_type": "error",
     "traceback": [
      "\u001B[0;31m---------------------------------------------------------------------------\u001B[0m",
      "\u001B[0;31mAttributeError\u001B[0m                            Traceback (most recent call last)",
      "\u001B[0;32m/var/folders/2y/cb61b6kn4q917mgql1yd1w5w0000gn/T/ipykernel_6973/646579981.py\u001B[0m in \u001B[0;36m<module>\u001B[0;34m\u001B[0m\n\u001B[0;32m----> 1\u001B[0;31m \u001B[0mprint\u001B[0m\u001B[0;34m(\u001B[0m\u001B[0;34m\"Log Likelihood: \"\u001B[0m\u001B[0;34m,\u001B[0m \u001B[0mlda_model\u001B[0m\u001B[0;34m.\u001B[0m\u001B[0mscore\u001B[0m\u001B[0;34m(\u001B[0m\u001B[0mlemmatized\u001B[0m\u001B[0;34m)\u001B[0m\u001B[0;34m)\u001B[0m\u001B[0;34m\u001B[0m\u001B[0;34m\u001B[0m\u001B[0m\n\u001B[0m",
      "\u001B[0;31mAttributeError\u001B[0m: 'LdaMulticore' object has no attribute 'score'"
     ]
    }
   ],
   "source": [
    "print(\"Log Likelihood: \", lda_model.score(lemmatized))"
   ],
   "metadata": {
    "collapsed": false,
    "pycharm": {
     "name": "#%%\n"
    }
   }
  },
  {
   "cell_type": "markdown",
   "source": [
    "# LSA"
   ],
   "metadata": {
    "collapsed": false
   }
  },
  {
   "cell_type": "code",
   "execution_count": 66,
   "outputs": [
    {
     "name": "stdout",
     "output_type": "stream",
     "text": [
      "Topic 1:  day microdosing dose\n",
      "Topic 2:  water tab vodka\n",
      "Topic 3:  remove microdosing lsd\n",
      "Topic 4:  day tolerance dose\n",
      "Topic 5:  capsule lion mane\n",
      "Topic 6:  delete trip lsd\n"
     ]
    }
   ],
   "source": [
    "from sklearn.decomposition import TruncatedSVD\n",
    "from sklearn.feature_extraction.text import TfidfVectorizer\n",
    "reindexed_data = md_submissions['lemmatized']\n",
    "tfidf_vectorizer = TfidfVectorizer(stop_words='english', use_idf=True, smooth_idf=True)\n",
    "reindexed_data = reindexed_data.values\n",
    "document_term_matrix = tfidf_vectorizer.fit_transform(reindexed_data)\n",
    "n_topics = 6\n",
    "lsa_model = TruncatedSVD(n_components=n_topics)\n",
    "lsa_topic_matrix = lsa_model.fit_transform(document_term_matrix)\n",
    "\n",
    "def get_keys(topic_matrix):\n",
    "    '''\n",
    "    returns an integer list of predicted topic\n",
    "    categories for a given topic matrix\n",
    "    '''\n",
    "    keys = topic_matrix.argmax(axis=1).tolist()\n",
    "    return keys\n",
    "\n",
    "def keys_to_counts(keys):\n",
    "    '''\n",
    "    returns a tuple of topic categories and their\n",
    "    accompanying magnitudes for a given list of keys\n",
    "    '''\n",
    "    from collections import Counter\n",
    "    count_pairs = Counter(keys).items()\n",
    "    categories = [pair[0] for pair in count_pairs]\n",
    "    counts = [pair[1] for pair in count_pairs]\n",
    "    return (categories, counts)\n",
    "\n",
    "lsa_keys = get_keys(lsa_topic_matrix)\n",
    "lsa_categories, lsa_counts = keys_to_counts(lsa_keys)\n",
    "\n",
    "def get_top_n_words(n, keys, document_term_matrix, tfidf_vectorizer):\n",
    "    '''\n",
    "    returns a list of n_topic strings, where each string contains the n most common\n",
    "    words in a predicted category, in order\n",
    "    '''\n",
    "    top_word_indices = []\n",
    "    for topic in range(n_topics):\n",
    "        temp_vector_sum = 0\n",
    "        for i in range(len(keys)):\n",
    "            if keys[i] == topic:\n",
    "                temp_vector_sum += document_term_matrix[i]\n",
    "        temp_vector_sum = temp_vector_sum.toarray()\n",
    "        top_n_word_indices = np.flip(np.argsort(temp_vector_sum)[0][-n:],0)\n",
    "        top_word_indices.append(top_n_word_indices)\n",
    "    top_words = []\n",
    "    for topic in top_word_indices:\n",
    "        topic_words = []\n",
    "        for index in topic:\n",
    "            temp_word_vector = np.zeros((1,document_term_matrix.shape[1]))\n",
    "            temp_word_vector[:,index] = 1\n",
    "            the_word = tfidf_vectorizer.inverse_transform(temp_word_vector)[0][0]\n",
    "            topic_words.append(the_word.encode('ascii').decode('utf-8'))\n",
    "        top_words.append(\" \".join(topic_words))\n",
    "    return top_words\n",
    "\n",
    "top_n_words_lsa = get_top_n_words(3, lsa_keys, document_term_matrix, tfidf_vectorizer)\n",
    "\n",
    "def get_top_n_words(corpus, n=None):\n",
    "    vec = CountVectorizer().fit(corpus)\n",
    "    bag_of_words = vec.transform(corpus)\n",
    "    sum_words = bag_of_words.sum(axis=0)\n",
    "    words_freq = [(word, sum_words[0, idx]) for word, idx in vec.vocabulary_.items()]\n",
    "    words_freq =sorted(words_freq, key = lambda x: x[1], reverse=True)\n",
    "    return words_freq[:n]\n",
    "\n",
    "\n",
    "\n",
    "for i in range(len(top_n_words_lsa)):\n",
    "    print(\"Topic {}: \".format(i+1), top_n_words_lsa[i])"
   ],
   "metadata": {
    "collapsed": false,
    "pycharm": {
     "name": "#%%\n"
    }
   }
  },
  {
   "cell_type": "markdown",
   "source": [
    "# NMF"
   ],
   "metadata": {
    "collapsed": false
   }
  },
  {
   "cell_type": "code",
   "execution_count": 6,
   "outputs": [
    {
     "data": {
      "text/plain": "                                          lemmatized          created_utc  \\\n0  ['dosage', 'liverty', 'cap', 'probbly', 'commo...  2021-10-29 12:49:15   \n1  ['psilocybin', 'mushroom', 'find', 'micro', 'd...  2021-10-29 12:19:02   \n2  ['truffle', 'change', 'effect', 'get', 'mild',...  2021-10-29 12:17:47   \n3  ['microdosing', 'stop', 'overconsuming', 'cann...  2021-10-29 11:15:55   \n4  ['start', 'microdosing', 'hi', 'everyone', 'cu...  2021-10-29 09:33:24   \n\n                   link_flair_text  \\\n0             Question: Psilocybin   \n1  Getting Started/Newbie Question   \n2             Question: Psilocybin   \n3                    Question: LSD   \n4  Getting Started/Newbie Question   \n\n                                           tokenized  word_count  \n0  ['Dosage', 'liverty', 'caps', 'Probbly', 'a', ...          11  \n1  ['Psilocybin', 'mushroom', 'How', 'do', 'you',...          76  \n2  ['Can', 'Truffles', 'change', 'their', 'effect...          13  \n3  ['Microdosing', 'to', 'stop', 'overconsuming',...          70  \n4  ['How', 'to', 'start', 'microdosing', '?', 'Hi...         246  ",
      "text/html": "<div>\n<style scoped>\n    .dataframe tbody tr th:only-of-type {\n        vertical-align: middle;\n    }\n\n    .dataframe tbody tr th {\n        vertical-align: top;\n    }\n\n    .dataframe thead th {\n        text-align: right;\n    }\n</style>\n<table border=\"1\" class=\"dataframe\">\n  <thead>\n    <tr style=\"text-align: right;\">\n      <th></th>\n      <th>lemmatized</th>\n      <th>created_utc</th>\n      <th>link_flair_text</th>\n      <th>tokenized</th>\n      <th>word_count</th>\n    </tr>\n  </thead>\n  <tbody>\n    <tr>\n      <th>0</th>\n      <td>['dosage', 'liverty', 'cap', 'probbly', 'commo...</td>\n      <td>2021-10-29 12:49:15</td>\n      <td>Question: Psilocybin</td>\n      <td>['Dosage', 'liverty', 'caps', 'Probbly', 'a', ...</td>\n      <td>11</td>\n    </tr>\n    <tr>\n      <th>1</th>\n      <td>['psilocybin', 'mushroom', 'find', 'micro', 'd...</td>\n      <td>2021-10-29 12:19:02</td>\n      <td>Getting Started/Newbie Question</td>\n      <td>['Psilocybin', 'mushroom', 'How', 'do', 'you',...</td>\n      <td>76</td>\n    </tr>\n    <tr>\n      <th>2</th>\n      <td>['truffle', 'change', 'effect', 'get', 'mild',...</td>\n      <td>2021-10-29 12:17:47</td>\n      <td>Question: Psilocybin</td>\n      <td>['Can', 'Truffles', 'change', 'their', 'effect...</td>\n      <td>13</td>\n    </tr>\n    <tr>\n      <th>3</th>\n      <td>['microdosing', 'stop', 'overconsuming', 'cann...</td>\n      <td>2021-10-29 11:15:55</td>\n      <td>Question: LSD</td>\n      <td>['Microdosing', 'to', 'stop', 'overconsuming',...</td>\n      <td>70</td>\n    </tr>\n    <tr>\n      <th>4</th>\n      <td>['start', 'microdosing', 'hi', 'everyone', 'cu...</td>\n      <td>2021-10-29 09:33:24</td>\n      <td>Getting Started/Newbie Question</td>\n      <td>['How', 'to', 'start', 'microdosing', '?', 'Hi...</td>\n      <td>246</td>\n    </tr>\n  </tbody>\n</table>\n</div>"
     },
     "execution_count": 6,
     "metadata": {},
     "output_type": "execute_result"
    }
   ],
   "source": [
    "import pandas as pd\n",
    "from sklearn.decomposition import NMF\n",
    "from sklearn.feature_extraction.text import TfidfVectorizer\n",
    "\n",
    "documents = md_submissions\n",
    "documents.head()"
   ],
   "metadata": {
    "collapsed": false,
    "pycharm": {
     "name": "#%%\n"
    }
   }
  },
  {
   "cell_type": "code",
   "execution_count": 7,
   "outputs": [],
   "source": [
    "# use tfidf by removing tokens that don't appear in at least 50 documents\n",
    "vect = TfidfVectorizer(min_df=50, stop_words='english')\n",
    "\n",
    "# Fit and transform\n",
    "X = vect.fit_transform(documents.lemmatized)"
   ],
   "metadata": {
    "collapsed": false,
    "pycharm": {
     "name": "#%%\n"
    }
   }
  },
  {
   "cell_type": "code",
   "execution_count": 8,
   "outputs": [
    {
     "name": "stderr",
     "output_type": "stream",
     "text": [
      "/opt/anaconda3/lib/python3.8/site-packages/sklearn/decomposition/_nmf.py:289: FutureWarning: The 'init' value, when 'init=None' and n_components is less than n_samples and n_features, will be changed from 'nndsvd' to 'nndsvda' in 1.1 (renaming of 0.26).\n",
      "  warnings.warn(\n"
     ]
    }
   ],
   "source": [
    "# Create an NMF instance: model\n",
    "# the 10 components will be the topics\n",
    "model = NMF(n_components=10, random_state=5)\n",
    "\n",
    "# Fit the model to TF-IDF\n",
    "model.fit(X)\n",
    "\n",
    "# Transform the TF-IDF: nmf_features\n",
    "nmf_features = model.transform(X)"
   ],
   "metadata": {
    "collapsed": false,
    "pycharm": {
     "name": "#%%\n"
    }
   }
  },
  {
   "cell_type": "code",
   "execution_count": 9,
   "outputs": [
    {
     "data": {
      "text/plain": "(30960, 4962)"
     },
     "execution_count": 9,
     "metadata": {},
     "output_type": "execute_result"
    }
   ],
   "source": [
    "X.shape"
   ],
   "metadata": {
    "collapsed": false,
    "pycharm": {
     "name": "#%%\n"
    }
   }
  },
  {
   "cell_type": "code",
   "execution_count": 10,
   "outputs": [
    {
     "data": {
      "text/plain": "(30960, 10)"
     },
     "execution_count": 10,
     "metadata": {},
     "output_type": "execute_result"
    }
   ],
   "source": [
    "nmf_features.shape"
   ],
   "metadata": {
    "collapsed": false,
    "pycharm": {
     "name": "#%%\n"
    }
   }
  },
  {
   "cell_type": "code",
   "execution_count": 11,
   "outputs": [
    {
     "data": {
      "text/plain": "(10, 4962)"
     },
     "execution_count": 11,
     "metadata": {},
     "output_type": "execute_result"
    }
   ],
   "source": [
    "model.components_.shape"
   ],
   "metadata": {
    "collapsed": false,
    "pycharm": {
     "name": "#%%\n"
    }
   }
  },
  {
   "cell_type": "code",
   "execution_count": 13,
   "outputs": [
    {
     "name": "stderr",
     "output_type": "stream",
     "text": [
      "/opt/anaconda3/lib/python3.8/site-packages/sklearn/utils/deprecation.py:87: FutureWarning: Function get_feature_names is deprecated; get_feature_names is deprecated in 1.0 and will be removed in 1.2. Please use get_feature_names_out instead.\n",
      "  warnings.warn(msg, category=FutureWarning)\n"
     ]
    },
    {
     "data": {
      "text/plain": "         00       000       001      001g        01       01g        02  \\\n0  0.000000  0.002864  0.000000  0.000000  0.002172  0.000000  0.007137   \n1  0.000000  0.001208  0.000000  0.000024  0.000000  0.000000  0.000000   \n2  0.000000  0.000296  0.000000  0.000000  0.000000  0.000000  0.000000   \n3  0.000000  0.000000  0.000000  0.000000  0.000000  0.000000  0.000330   \n4  0.310599  0.067037  0.032970  0.031212  0.054114  0.042047  0.021495   \n5  0.000000  0.005375  0.000000  0.000000  0.000000  0.000000  0.000000   \n6  0.001857  0.002884  0.000000  0.000000  0.000000  0.000000  0.002349   \n7  0.000000  0.000000  0.000000  0.000000  0.000000  0.000000  0.000000   \n8  0.000000  0.000000  0.000000  0.000000  0.000000  0.000000  0.000000   \n9  0.000000  0.000000  0.000398  0.000304  0.025968  0.015817  0.024177   \n\n        025       02g        03  ...       yup       zap       zen      zero  \\\n0  0.000342  0.000000  0.001869  ...  0.018938  0.030935  0.013493  0.038495   \n1  0.000000  0.000000  0.000000  ...  0.009762  0.000000  0.000000  0.003924   \n2  0.000000  0.000000  0.000000  ...  0.000000  0.000000  0.000000  0.000000   \n3  0.005666  0.000000  0.005882  ...  0.005774  0.000053  0.000000  0.024245   \n4  0.004778  0.009824  0.027552  ...  0.019241  0.000000  0.000000  0.028145   \n5  0.000000  0.000000  0.000000  ...  0.008315  0.000000  0.000000  0.000000   \n6  0.002809  0.000000  0.002905  ...  0.003127  0.001255  0.000000  0.000000   \n7  0.000000  0.000000  0.000979  ...  0.000000  0.020842  0.000000  0.010849   \n8  0.000000  0.000000  0.000000  ...  0.006311  0.000000  0.002591  0.013513   \n9  0.010209  0.016183  0.018232  ...  0.011121  0.000000  0.000793  0.008198   \n\n     zoloft    zombie      zone      zoom        µg        μg  \n0  0.065978  0.018252  0.030839  0.013585  0.000000  0.000000  \n1  0.000000  0.000000  0.000000  0.000270  0.010863  0.010657  \n2  0.000000  0.000000  0.000000  0.000000  0.000000  0.000000  \n3  0.000990  0.000000  0.000000  0.000000  0.000000  0.000000  \n4  0.000000  0.000000  0.000000  0.000000  0.000000  0.000000  \n5  0.000000  0.000000  0.000869  0.000000  0.025046  0.012456  \n6  0.000000  0.001049  0.000000  0.002456  0.000000  0.000000  \n7  0.089096  0.000000  0.000000  0.000000  0.000000  0.000000  \n8  0.000000  0.000000  0.000000  0.000000  0.000000  0.002067  \n9  0.000000  0.002283  0.028162  0.000000  0.017050  0.013915  \n\n[10 rows x 4962 columns]",
      "text/html": "<div>\n<style scoped>\n    .dataframe tbody tr th:only-of-type {\n        vertical-align: middle;\n    }\n\n    .dataframe tbody tr th {\n        vertical-align: top;\n    }\n\n    .dataframe thead th {\n        text-align: right;\n    }\n</style>\n<table border=\"1\" class=\"dataframe\">\n  <thead>\n    <tr style=\"text-align: right;\">\n      <th></th>\n      <th>00</th>\n      <th>000</th>\n      <th>001</th>\n      <th>001g</th>\n      <th>01</th>\n      <th>01g</th>\n      <th>02</th>\n      <th>025</th>\n      <th>02g</th>\n      <th>03</th>\n      <th>...</th>\n      <th>yup</th>\n      <th>zap</th>\n      <th>zen</th>\n      <th>zero</th>\n      <th>zoloft</th>\n      <th>zombie</th>\n      <th>zone</th>\n      <th>zoom</th>\n      <th>µg</th>\n      <th>μg</th>\n    </tr>\n  </thead>\n  <tbody>\n    <tr>\n      <th>0</th>\n      <td>0.000000</td>\n      <td>0.002864</td>\n      <td>0.000000</td>\n      <td>0.000000</td>\n      <td>0.002172</td>\n      <td>0.000000</td>\n      <td>0.007137</td>\n      <td>0.000342</td>\n      <td>0.000000</td>\n      <td>0.001869</td>\n      <td>...</td>\n      <td>0.018938</td>\n      <td>0.030935</td>\n      <td>0.013493</td>\n      <td>0.038495</td>\n      <td>0.065978</td>\n      <td>0.018252</td>\n      <td>0.030839</td>\n      <td>0.013585</td>\n      <td>0.000000</td>\n      <td>0.000000</td>\n    </tr>\n    <tr>\n      <th>1</th>\n      <td>0.000000</td>\n      <td>0.001208</td>\n      <td>0.000000</td>\n      <td>0.000024</td>\n      <td>0.000000</td>\n      <td>0.000000</td>\n      <td>0.000000</td>\n      <td>0.000000</td>\n      <td>0.000000</td>\n      <td>0.000000</td>\n      <td>...</td>\n      <td>0.009762</td>\n      <td>0.000000</td>\n      <td>0.000000</td>\n      <td>0.003924</td>\n      <td>0.000000</td>\n      <td>0.000000</td>\n      <td>0.000000</td>\n      <td>0.000270</td>\n      <td>0.010863</td>\n      <td>0.010657</td>\n    </tr>\n    <tr>\n      <th>2</th>\n      <td>0.000000</td>\n      <td>0.000296</td>\n      <td>0.000000</td>\n      <td>0.000000</td>\n      <td>0.000000</td>\n      <td>0.000000</td>\n      <td>0.000000</td>\n      <td>0.000000</td>\n      <td>0.000000</td>\n      <td>0.000000</td>\n      <td>...</td>\n      <td>0.000000</td>\n      <td>0.000000</td>\n      <td>0.000000</td>\n      <td>0.000000</td>\n      <td>0.000000</td>\n      <td>0.000000</td>\n      <td>0.000000</td>\n      <td>0.000000</td>\n      <td>0.000000</td>\n      <td>0.000000</td>\n    </tr>\n    <tr>\n      <th>3</th>\n      <td>0.000000</td>\n      <td>0.000000</td>\n      <td>0.000000</td>\n      <td>0.000000</td>\n      <td>0.000000</td>\n      <td>0.000000</td>\n      <td>0.000330</td>\n      <td>0.005666</td>\n      <td>0.000000</td>\n      <td>0.005882</td>\n      <td>...</td>\n      <td>0.005774</td>\n      <td>0.000053</td>\n      <td>0.000000</td>\n      <td>0.024245</td>\n      <td>0.000990</td>\n      <td>0.000000</td>\n      <td>0.000000</td>\n      <td>0.000000</td>\n      <td>0.000000</td>\n      <td>0.000000</td>\n    </tr>\n    <tr>\n      <th>4</th>\n      <td>0.310599</td>\n      <td>0.067037</td>\n      <td>0.032970</td>\n      <td>0.031212</td>\n      <td>0.054114</td>\n      <td>0.042047</td>\n      <td>0.021495</td>\n      <td>0.004778</td>\n      <td>0.009824</td>\n      <td>0.027552</td>\n      <td>...</td>\n      <td>0.019241</td>\n      <td>0.000000</td>\n      <td>0.000000</td>\n      <td>0.028145</td>\n      <td>0.000000</td>\n      <td>0.000000</td>\n      <td>0.000000</td>\n      <td>0.000000</td>\n      <td>0.000000</td>\n      <td>0.000000</td>\n    </tr>\n    <tr>\n      <th>5</th>\n      <td>0.000000</td>\n      <td>0.005375</td>\n      <td>0.000000</td>\n      <td>0.000000</td>\n      <td>0.000000</td>\n      <td>0.000000</td>\n      <td>0.000000</td>\n      <td>0.000000</td>\n      <td>0.000000</td>\n      <td>0.000000</td>\n      <td>...</td>\n      <td>0.008315</td>\n      <td>0.000000</td>\n      <td>0.000000</td>\n      <td>0.000000</td>\n      <td>0.000000</td>\n      <td>0.000000</td>\n      <td>0.000869</td>\n      <td>0.000000</td>\n      <td>0.025046</td>\n      <td>0.012456</td>\n    </tr>\n    <tr>\n      <th>6</th>\n      <td>0.001857</td>\n      <td>0.002884</td>\n      <td>0.000000</td>\n      <td>0.000000</td>\n      <td>0.000000</td>\n      <td>0.000000</td>\n      <td>0.002349</td>\n      <td>0.002809</td>\n      <td>0.000000</td>\n      <td>0.002905</td>\n      <td>...</td>\n      <td>0.003127</td>\n      <td>0.001255</td>\n      <td>0.000000</td>\n      <td>0.000000</td>\n      <td>0.000000</td>\n      <td>0.001049</td>\n      <td>0.000000</td>\n      <td>0.002456</td>\n      <td>0.000000</td>\n      <td>0.000000</td>\n    </tr>\n    <tr>\n      <th>7</th>\n      <td>0.000000</td>\n      <td>0.000000</td>\n      <td>0.000000</td>\n      <td>0.000000</td>\n      <td>0.000000</td>\n      <td>0.000000</td>\n      <td>0.000000</td>\n      <td>0.000000</td>\n      <td>0.000000</td>\n      <td>0.000979</td>\n      <td>...</td>\n      <td>0.000000</td>\n      <td>0.020842</td>\n      <td>0.000000</td>\n      <td>0.010849</td>\n      <td>0.089096</td>\n      <td>0.000000</td>\n      <td>0.000000</td>\n      <td>0.000000</td>\n      <td>0.000000</td>\n      <td>0.000000</td>\n    </tr>\n    <tr>\n      <th>8</th>\n      <td>0.000000</td>\n      <td>0.000000</td>\n      <td>0.000000</td>\n      <td>0.000000</td>\n      <td>0.000000</td>\n      <td>0.000000</td>\n      <td>0.000000</td>\n      <td>0.000000</td>\n      <td>0.000000</td>\n      <td>0.000000</td>\n      <td>...</td>\n      <td>0.006311</td>\n      <td>0.000000</td>\n      <td>0.002591</td>\n      <td>0.013513</td>\n      <td>0.000000</td>\n      <td>0.000000</td>\n      <td>0.000000</td>\n      <td>0.000000</td>\n      <td>0.000000</td>\n      <td>0.002067</td>\n    </tr>\n    <tr>\n      <th>9</th>\n      <td>0.000000</td>\n      <td>0.000000</td>\n      <td>0.000398</td>\n      <td>0.000304</td>\n      <td>0.025968</td>\n      <td>0.015817</td>\n      <td>0.024177</td>\n      <td>0.010209</td>\n      <td>0.016183</td>\n      <td>0.018232</td>\n      <td>...</td>\n      <td>0.011121</td>\n      <td>0.000000</td>\n      <td>0.000793</td>\n      <td>0.008198</td>\n      <td>0.000000</td>\n      <td>0.002283</td>\n      <td>0.028162</td>\n      <td>0.000000</td>\n      <td>0.017050</td>\n      <td>0.013915</td>\n    </tr>\n  </tbody>\n</table>\n<p>10 rows × 4962 columns</p>\n</div>"
     },
     "execution_count": 13,
     "metadata": {},
     "output_type": "execute_result"
    }
   ],
   "source": [
    "components_df = pd.DataFrame(model.components_, columns=vect.get_feature_names())\n",
    "components_df"
   ],
   "metadata": {
    "collapsed": false,
    "pycharm": {
     "name": "#%%\n"
    }
   }
  },
  {
   "cell_type": "code",
   "execution_count": 21,
   "outputs": [
    {
     "data": {
      "text/plain": "0    0.181849\n1    0.000000\n2    0.013458\n3    0.000000\n4    0.000000\n5    0.000000\n6    0.000000\n7    0.021103\n8    0.000000\n9    0.000000\nName: addiction, dtype: float64"
     },
     "execution_count": 21,
     "metadata": {},
     "output_type": "execute_result"
    }
   ],
   "source": [
    "components_df['addiction']"
   ],
   "metadata": {
    "collapsed": false,
    "pycharm": {
     "name": "#%%\n"
    }
   }
  },
  {
   "cell_type": "markdown",
   "source": [],
   "metadata": {
    "collapsed": false,
    "pycharm": {
     "name": "#%% md\n"
    }
   }
  },
  {
   "cell_type": "code",
   "execution_count": 12,
   "outputs": [
    {
     "name": "stdout",
     "output_type": "stream",
     "text": [
      "For topic 1 the words with the highest value are:\n",
      "like       1.268525\n",
      "help       1.193077\n",
      "feel       1.058886\n",
      "think      0.984081\n",
      "thing      0.970276\n",
      "anxiety    0.965591\n",
      "make       0.943754\n",
      "life       0.920369\n",
      "good       0.877746\n",
      "really     0.858888\n",
      "Name: 0, dtype: float64\n",
      "\n",
      "\n",
      "For topic 2 the words with the highest value are:\n",
      "water        2.608152\n",
      "tab          1.730224\n",
      "vodka        1.273954\n",
      "bottle       0.931994\n",
      "distilled    0.902311\n",
      "use          0.822576\n",
      "dissolve     0.810411\n",
      "solution     0.744172\n",
      "distil       0.727417\n",
      "ml           0.714643\n",
      "Name: 1, dtype: float64\n",
      "\n",
      "\n",
      "For topic 3 the words with the highest value are:\n",
      "remove         4.041850\n",
      "microdosing    0.170597\n",
      "question       0.167314\n",
      "microdose      0.110198\n",
      "advice         0.103658\n",
      "micro          0.096647\n",
      "md             0.071435\n",
      "truffle        0.068404\n",
      "mding          0.050017\n",
      "dosing         0.045955\n",
      "Name: 2, dtype: float64\n",
      "\n",
      "\n",
      "For topic 4 the words with the highest value are:\n",
      "day          3.815994\n",
      "week         0.885941\n",
      "md           0.778975\n",
      "tolerance    0.746131\n",
      "schedule     0.550516\n",
      "work         0.377761\n",
      "month        0.344593\n",
      "break        0.328127\n",
      "start        0.313949\n",
      "protocol     0.309073\n",
      "Name: 3, dtype: float64\n",
      "\n",
      "\n",
      "For topic 5 the words with the highest value are:\n",
      "capsule     2.110417\n",
      "mushroom    1.167127\n",
      "dry         0.918439\n",
      "scale       0.877700\n",
      "cap         0.842941\n",
      "powder      0.821176\n",
      "grind       0.731444\n",
      "size        0.719956\n",
      "shrooms     0.704748\n",
      "gram        0.569082\n",
      "Name: 4, dtype: float64\n",
      "\n",
      "\n",
      "For topic 6 the words with the highest value are:\n",
      "lsd          3.712641\n",
      "1p           1.049639\n",
      "test         0.534593\n",
      "shrooms      0.531500\n",
      "microdose    0.409751\n",
      "dmt          0.257075\n",
      "1cp          0.255320\n",
      "drug         0.234623\n",
      "try          0.226090\n",
      "md           0.218522\n",
      "Name: 5, dtype: float64\n",
      "\n",
      "\n",
      "For topic 7 the words with the highest value are:\n",
      "lion          2.392298\n",
      "mane          2.372017\n",
      "niacin        1.643766\n",
      "stack         1.078365\n",
      "stamets       0.832645\n",
      "psilocybin    0.516940\n",
      "flush         0.468878\n",
      "paul          0.346944\n",
      "supplement    0.315221\n",
      "protocol      0.306932\n",
      "Name: 6, dtype: float64\n",
      "\n",
      "\n",
      "For topic 8 the words with the highest value are:\n",
      "microdosing    3.368554\n",
      "psilocybin     0.810768\n",
      "delete         0.642176\n",
      "start          0.511044\n",
      "effect         0.500445\n",
      "experience     0.486179\n",
      "study          0.424590\n",
      "help           0.413764\n",
      "depression     0.390971\n",
      "mushroom       0.365579\n",
      "Name: 7, dtype: float64\n",
      "\n",
      "\n",
      "For topic 9 the words with the highest value are:\n",
      "trip         3.572306\n",
      "tolerance    1.027879\n",
      "microdose    0.910618\n",
      "wait         0.758071\n",
      "week         0.620599\n",
      "shrooms      0.408013\n",
      "want         0.384160\n",
      "weed         0.336521\n",
      "smoke        0.309364\n",
      "time         0.292871\n",
      "Name: 8, dtype: float64\n",
      "\n",
      "\n",
      "For topic 10 the words with the highest value are:\n",
      "dose      2.848762\n",
      "feel      1.339490\n",
      "micro     1.160864\n",
      "effect    0.798259\n",
      "high      0.592438\n",
      "low       0.582113\n",
      "like      0.570665\n",
      "try       0.537215\n",
      "time      0.485031\n",
      "felt      0.473369\n",
      "Name: 9, dtype: float64\n",
      "\n",
      "\n"
     ]
    }
   ],
   "source": [
    "for topic in range(components_df.shape[0]):\n",
    "    tmp = components_df.iloc[topic]\n",
    "    print(f'For topic {topic+1} the words with the highest value are:')\n",
    "    print(tmp.nlargest(10))\n",
    "    print('\\n')"
   ],
   "metadata": {
    "collapsed": false,
    "pycharm": {
     "name": "#%%\n"
    }
   }
  },
  {
   "cell_type": "markdown",
   "source": [
    "***NMF seems to yield the best results as each topic can be easily quantified**"
   ],
   "metadata": {
    "collapsed": false
   }
  },
  {
   "cell_type": "markdown",
   "source": [
    "Topic 1 : Talks about feelings associated with microdosing"
   ],
   "metadata": {
    "collapsed": false
   }
  },
  {
   "cell_type": "markdown",
   "source": [
    "Topic 2 : Includes all topics associated with volumetric dosing of LSD"
   ],
   "metadata": {
    "collapsed": false
   }
  },
  {
   "cell_type": "markdown",
   "source": [
    "Topic 3 : Includes advice related to microdosing"
   ],
   "metadata": {
    "collapsed": false
   }
  },
  {
   "cell_type": "markdown",
   "source": [
    "Topic 4 : Includes topics related to dosing protocol"
   ],
   "metadata": {
    "collapsed": false
   }
  },
  {
   "cell_type": "markdown",
   "source": [
    "Topic 5 : Includes topics related to microdosing psilocybin"
   ],
   "metadata": {
    "collapsed": false
   }
  },
  {
   "cell_type": "markdown",
   "source": [
    "Topic 6 : includes all other substances being microdosed"
   ],
   "metadata": {
    "collapsed": false
   }
  },
  {
   "cell_type": "markdown",
   "source": [
    "Topic 7 : Contains everything related to Stamets Stack"
   ],
   "metadata": {
    "collapsed": false
   }
  },
  {
   "cell_type": "markdown",
   "source": [
    "Topic 8 : Contains insights into anxiety and depression"
   ],
   "metadata": {
    "collapsed": false
   }
  },
  {
   "cell_type": "code",
   "execution_count": 13,
   "outputs": [
    {
     "data": {
      "text/plain": "\"['2g', 'truffle', 'dose', 'anyone', 'take', 'recommend', '1g', 'dose', 'truffle', 'noticed', 'much', 'different', 'two', 'month', 'microdosing', '1g', 'every', 'three', 'day', 'think', 'try', '2g', 'right', 'could', 'take', '2g', 'instead', '0,4g', 'high', 'hawaiian', 'think', 'would', 'give', 'good', 'mood', 'turn', 'tolerance', 'quite', 'low', 'give', 'full', 'trip', 'take', 'time', 'couch', 'go', 'flow', 'process', 'feeling', 'able', 'go', 'day', 'reasonably', 'strong', 'trip', 'take', 'around', '6g', 'give', 'visuals', 'insight', 'try', 'take', 'macro', 'first', 'use', 'microdosing', 'way', 'maintain', 'result', 'would', 'say', '1g', 'daily', 'probably', 'enough', 'eta', 'much', 'good', 'result', '5', 'day', 'on/2', 'day', 'protocol', 'delete']\""
     },
     "execution_count": 13,
     "metadata": {},
     "output_type": "execute_result"
    }
   ],
   "source": [
    "my_document = documents.lemmatized[55]\n",
    "my_document"
   ],
   "metadata": {
    "collapsed": false,
    "pycharm": {
     "name": "#%%\n"
    }
   }
  },
  {
   "cell_type": "code",
   "execution_count": 14,
   "outputs": [
    {
     "data": {
      "text/plain": "0    0.000000\n1    0.000000\n2    0.000139\n3    0.047607\n4    0.018408\n5    0.000000\n6    0.001941\n7    0.018675\n8    0.034240\n9    0.031320\nName: 55, dtype: float64"
     },
     "execution_count": 14,
     "metadata": {},
     "output_type": "execute_result"
    }
   ],
   "source": [
    "pd.DataFrame(nmf_features).loc[55]"
   ],
   "metadata": {
    "collapsed": false,
    "pycharm": {
     "name": "#%%\n"
    }
   }
  },
  {
   "cell_type": "markdown",
   "metadata": {},
   "source": [
    "# HLDA"
   ]
  },
  {
   "cell_type": "code",
   "execution_count": 72,
   "outputs": [
    {
     "data": {
      "text/plain": "\"['experience', 'far', 'microdosing', 'shrooms', 'snri', 'sorry', 'long', 'text…', 'tldr', 'see', 'much', 'difference', '4months', 'put', 'snri', 'last', 'year', 'seek', 'help', 'regain', 'motivation', 'towards', 'work', 'life', 'general', 'suppose', 'start', 'med', 'also', 'change', 'couple', 'small', 'thing', 'life', 'feel', 'everything', 'really', 'change', 'best', '6-7', 'month', 'felt', 'like', 'slowly', 'return', 'place', 'unmotivated', 'easily', 'annoy', 'impatient', 'etc', 'dig', 'around', 'web', 'decide', 'try', 'microdosing', 'shrooms', 'use', 'crush', 'dried', 'shrooms', 'swallow', '0.25g', '0.30g', 'every', '3', 'day', 'first', '2', 'month', 'also', '2', 'macro', 'dos', 'plesant', 'nice', 'introspection', 'lot', 'visuals', 'anyway', 'little', '4', 'month', 'honestly', 'say', 'positive', 'impact', 'know', 'ssri', 'snri', 'know', 'reduce', 'effect', 'psylocibin', 'still', 'regular', 'trip', 'macro', 'dos', 'plan', 'slowly', 'stop', 'med', 'shrooms', 'really', 'fence', 'sure', 'try', 'next', 'go', 'maybe', 'expectation', 'high', 'curious', 'thought', 'suggestion', 'people', '’', 'experience', 'transitionning', 'prescription', 'microdosing', 'boat', 'throw', 'macro', 'deeper', 'mental', 'introspection', 'every', 'month', 'seem', 'hurt', 'either', 'following—i', 'snri', 'notice', 'benefit', 'microdosing', 'also', 'think', 'wean', 'snri', 'increase', 'effect', 'microdosing']\""
     },
     "execution_count": 72,
     "metadata": {},
     "output_type": "execute_result"
    }
   ],
   "source": [
    "all_texts = md_submissions.lemmatized\n",
    "all_texts[111]"
   ],
   "metadata": {
    "collapsed": false,
    "pycharm": {
     "name": "#%%\n"
    }
   }
  },
  {
   "cell_type": "code",
   "execution_count": 77,
   "metadata": {},
   "outputs": [],
   "source": [
    "from nltk.util import ngrams\n",
    "def get_ngrams(text, n ):\n",
    "    n_grams = ngrams(word_tokenize(text), n)\n",
    "    return [' '.join(grams) for grams in n_grams]\n",
    "from collections import Counter\n",
    "bigrams = []\n",
    "for article in all_texts:\n",
    "    bigrams += list(map(lambda x: x[0], list(filter(lambda x: x[1] >= 5, Counter(get_ngrams(article, 2)).most_common()))))\n",
    "\n",
    "bigrams = list(filter(lambda x: 'package' not in x and 'document' not in x, bigrams))\n",
    "bigrams = list(map(lambda x: x[0], (list(filter(lambda x: x[1] >= 5, Counter(bigrams).most_common())))))"
   ]
  },
  {
   "cell_type": "markdown",
   "source": [
    "**Tried installing bigartm - got the error**\n",
    "(base) guneetsingh@Guneets-MacBook-Air Desktop % pip install bigartm-0.9.2-cp38-cp38-manylinux1_x86_64.whl\n",
    "ERROR: bigartm-0.9.2-cp38-cp38-manylinux1_x86_64.whl is not a supported wheel on this platform.\n"
   ],
   "metadata": {
    "collapsed": false
   }
  },
  {
   "cell_type": "markdown",
   "metadata": {},
   "source": [
    "# Biterm Topic Model"
   ]
  },
  {
   "cell_type": "code",
   "execution_count": 15,
   "metadata": {},
   "outputs": [],
   "source": [
    "from sklearn.feature_extraction.text import CountVectorizer\n",
    "\n",
    "texts = md_submissions.lemmatized\n",
    "vec = CountVectorizer(stop_words='english')\n",
    "X = vec.fit_transform(texts).toarray()"
   ]
  },
  {
   "cell_type": "code",
   "execution_count": 16,
   "outputs": [],
   "source": [
    "    from biterm.utility import vec_to_biterms\n",
    "\n",
    "    vocab = np.array(vec.get_feature_names_out())\n",
    "    biterms = vec_to_biterms(X)"
   ],
   "metadata": {
    "collapsed": false,
    "pycharm": {
     "name": "#%%\n"
    }
   }
  },
  {
   "cell_type": "code",
   "execution_count": null,
   "outputs": [
    {
     "name": "stderr",
     "output_type": "stream",
     "text": [
      "/var/folders/2y/cb61b6kn4q917mgql1yd1w5w0000gn/T/ipykernel_11703/655884372.py:1: DeprecationWarning: `np.int` is a deprecated alias for the builtin `int`. To silence this warning, use `int` by itself. Doing this will not modify any behavior and is safe. When replacing `np.int`, you may wish to use e.g. `np.int64` or `np.int32` to specify the precision. If you wish to review your current use, check the release note link for additional information.\n",
      "Deprecated in NumPy 1.20; for more details and guidance: https://numpy.org/devdocs/release/1.20.0-notes.html#deprecations\n",
      "  from biterm.cbtm import oBTM\n",
      "/var/folders/2y/cb61b6kn4q917mgql1yd1w5w0000gn/T/ipykernel_11703/655884372.py:4: DeprecationWarning: `np.int` is a deprecated alias for the builtin `int`. To silence this warning, use `int` by itself. Doing this will not modify any behavior and is safe. When replacing `np.int`, you may wish to use e.g. `np.int64` or `np.int32` to specify the precision. If you wish to review your current use, check the release note link for additional information.\n",
      "Deprecated in NumPy 1.20; for more details and guidance: https://numpy.org/devdocs/release/1.20.0-notes.html#deprecations\n",
      "  topics = btm.fit_transform(biterms, iterations=100)\n",
      "/var/folders/2y/cb61b6kn4q917mgql1yd1w5w0000gn/T/ipykernel_11703/655884372.py:4: DeprecationWarning: `np.int` is a deprecated alias for the builtin `int`. To silence this warning, use `int` by itself. Doing this will not modify any behavior and is safe. When replacing `np.int`, you may wish to use e.g. `np.int64` or `np.int32` to specify the precision. If you wish to review your current use, check the release note link for additional information.\n",
      "Deprecated in NumPy 1.20; for more details and guidance: https://numpy.org/devdocs/release/1.20.0-notes.html#deprecations\n",
      "  topics = btm.fit_transform(biterms, iterations=100)\n",
      "/var/folders/2y/cb61b6kn4q917mgql1yd1w5w0000gn/T/ipykernel_11703/655884372.py:4: DeprecationWarning: `np.int` is a deprecated alias for the builtin `int`. To silence this warning, use `int` by itself. Doing this will not modify any behavior and is safe. When replacing `np.int`, you may wish to use e.g. `np.int64` or `np.int32` to specify the precision. If you wish to review your current use, check the release note link for additional information.\n",
      "Deprecated in NumPy 1.20; for more details and guidance: https://numpy.org/devdocs/release/1.20.0-notes.html#deprecations\n",
      "  topics = btm.fit_transform(biterms, iterations=100)\n"
     ]
    }
   ],
   "source": [
    "from biterm.cbtm import oBTM\n",
    "\n",
    "btm = oBTM(num_topics=20, V=vocab)\n",
    "topics = btm.fit_transform(biterms, iterations=100)"
   ],
   "metadata": {
    "collapsed": false,
    "pycharm": {
     "name": "#%%\n",
     "is_executing": true
    }
   }
  },
  {
   "cell_type": "code",
   "execution_count": null,
   "outputs": [],
   "source": [
    " vis = pyLDAvis.prepare(btm.phi_wz.T, topics, np.count_nonzero(X, axis=1), vocab, np.sum(X, axis=0))"
   ],
   "metadata": {
    "collapsed": false,
    "pycharm": {
     "name": "#%%\n",
     "is_executing": true
    }
   }
  },
  {
   "cell_type": "code",
   "execution_count": null,
   "outputs": [],
   "source": [
    "topic_summuary(btm.phi_wz.T, X, vocab, 10)"
   ],
   "metadata": {
    "collapsed": false,
    "pycharm": {
     "name": "#%%\n",
     "is_executing": true
    }
   }
  },
  {
   "cell_type": "markdown",
   "source": [
    "**BTM** seems to be taking a lot of time to run (ran it for 7 hours)"
   ],
   "metadata": {
    "collapsed": false
   }
  },
  {
   "cell_type": "markdown",
   "source": [
    "# Pending Items"
   ],
   "metadata": {
    "collapsed": false
   }
  },
  {
   "cell_type": "markdown",
   "metadata": {},
   "source": [
    "1. HLDA - yet to try alternative libraries"
   ]
  },
  {
   "cell_type": "markdown",
   "source": [
    "2. Biterm - Perhaps if i have a look at last tutorials codebook i can optimize my process for biterm since it seems to be running for a very long time"
   ],
   "metadata": {
    "collapsed": false
   }
  },
  {
   "cell_type": "markdown",
   "source": [
    "3. Play with multiple iterations with and without lemmatized and stop word removal to see if there are any changes in the results"
   ],
   "metadata": {
    "collapsed": false
   }
  }
 ],
 "metadata": {
  "interpreter": {
   "hash": "40d3a090f54c6569ab1632332b64b2c03c39dcf918b08424e98f38b5ae0af88f"
  },
  "kernelspec": {
   "display_name": "Python 3.8.8 64-bit ('base': conda)",
   "language": "python",
   "name": "python3"
  },
  "language_info": {
   "codemirror_mode": {
    "name": "ipython",
    "version": 3
   },
   "file_extension": ".py",
   "mimetype": "text/x-python",
   "name": "python",
   "nbconvert_exporter": "python",
   "pygments_lexer": "ipython3",
   "version": "3.8.8"
  }
 },
 "nbformat": 4,
 "nbformat_minor": 4
}